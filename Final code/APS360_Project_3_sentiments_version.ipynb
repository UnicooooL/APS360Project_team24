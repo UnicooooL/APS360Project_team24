{
  "cells": [
    {
      "cell_type": "markdown",
      "metadata": {
        "id": "o_Fd3VVj6V02"
      },
      "source": [
        "# APS360 Project"
      ]
    },
    {
      "cell_type": "markdown",
      "metadata": {
        "id": "Eq4S0VWhRSXi"
      },
      "source": [
        "The purpose of our model is to detect emotions (Positive, Neutral, Negative) from the given sentence, mainly from Twitter."
      ]
    },
    {
      "cell_type": "markdown",
      "metadata": {
        "id": "bQPdnhxe4acF"
      },
      "source": [
        "## 1. Data Preprocessing:\n",
        "\n"
      ]
    },
    {
      "cell_type": "markdown",
      "metadata": {
        "id": "hEzs8cL5M-_p"
      },
      "source": [
        "From the searched dataset, choose the most appropriate sets (e.g. no any missing values, or anything that will misleading the model). First, list the dataset you chose at here. Then, combine the records into one csv file, with the appropriate format. After this, split the data into train/val/test sets with appropriate percentages.\n",
        "\n",
        "We choose to divide the emotions into mainly three categories: Positive, Negative, Neutral."
      ]
    },
    {
      "cell_type": "markdown",
      "metadata": {
        "id": "3DsGZi0XCR3c"
      },
      "source": [
        "1.1 Load the data\n",
        "\n",
        "Import needed libraries："
      ]
    },
    {
      "cell_type": "code",
      "execution_count": null,
      "metadata": {
        "id": "KZifwnRN52-n"
      },
      "outputs": [],
      "source": [
        "import pandas as pd\n",
        "import csv\n",
        "import numpy as np\n",
        "import random\n",
        "import torch\n",
        "import torch.utils.data\n",
        "import matplotlib.pyplot as plt"
      ]
    },
    {
      "cell_type": "markdown",
      "metadata": {
        "id": "fbp6YA-kn7c1"
      },
      "source": [
        "Mount at google drive："
      ]
    },
    {
      "cell_type": "code",
      "execution_count": null,
      "metadata": {
        "colab": {
          "base_uri": "https://localhost:8080/"
        },
        "id": "nlLqmctwh5kj",
        "outputId": "d1ab8e67-b258-493b-ae53-7a71137e237a"
      },
      "outputs": [
        {
          "output_type": "stream",
          "name": "stdout",
          "text": [
            "Mounted at /content/drive\n"
          ]
        }
      ],
      "source": [
        "from google.colab import drive\n",
        "drive.mount('/content/drive')"
      ]
    },
    {
      "cell_type": "markdown",
      "metadata": {
        "id": "YcL4VOO3n-yp"
      },
      "source": [
        "get the dataframe："
      ]
    },
    {
      "cell_type": "code",
      "execution_count": null,
      "metadata": {
        "id": "1kX8YXkNiCKP"
      },
      "outputs": [],
      "source": [
        "#csv_path='/content/drive/MyDrive/Untitled Folder 1/Copy of project.csv'  # path 0 (Zhijian)\n",
        "#csv_path = '/content/drive/MyDrive/APS360_project/project.csv'  # path 1 (Lynne)\n",
        "csv_path = '/content/drive/MyDrive/project.csv'  # path 2 (Yixuan)\n",
        "df=pd.read_csv(csv_path)"
      ]
    },
    {
      "cell_type": "code",
      "execution_count": null,
      "metadata": {
        "id": "g8vnZuMQS3kB"
      },
      "outputs": [],
      "source": [
        "# Filter rows based on valid values in the target column\n",
        "valid_values = [-1, 0, 1]\n",
        "df = df[df['label'].isin(valid_values)]"
      ]
    },
    {
      "cell_type": "code",
      "execution_count": null,
      "metadata": {
        "colab": {
          "base_uri": "https://localhost:8080/"
        },
        "id": "G0IWaFoh7089",
        "outputId": "2cbac8e1-5ea9-4937-f019-7e8fd941cc81"
      },
      "outputs": [
        {
          "output_type": "execute_result",
          "data": {
            "text/plain": [
              "1825493"
            ]
          },
          "metadata": {},
          "execution_count": 5
        }
      ],
      "source": [
        "len(df)"
      ]
    },
    {
      "cell_type": "markdown",
      "metadata": {
        "id": "ppUrWhwMoCHA"
      },
      "source": [
        "Visualize part of the data："
      ]
    },
    {
      "cell_type": "code",
      "source": [
        "df = df.reset_index(drop=True)"
      ],
      "metadata": {
        "id": "hMVgYKy9Pza_"
      },
      "execution_count": null,
      "outputs": []
    },
    {
      "cell_type": "code",
      "execution_count": null,
      "metadata": {
        "colab": {
          "base_uri": "https://localhost:8080/",
          "height": 175
        },
        "id": "lcYS9_Q2isp6",
        "outputId": "c5c29fea-31a7-4ec4-f3a0-6f7c32adf99a"
      },
      "outputs": [
        {
          "output_type": "execute_result",
          "data": {
            "text/plain": [
              "         label                                           sentence\n",
              "1825489   -1.0  dear rss terrorist payal gawar what about modi...\n",
              "1825490    0.0  did you cover her interaction forum where she ...\n",
              "1825491    0.0  there big project came into india modi dream p...\n",
              "1825492    1.0  have you ever listen about like gurukul where ..."
            ],
            "text/html": [
              "\n",
              "\n",
              "  <div id=\"df-3b874f8d-d5f3-418c-808a-829936332252\">\n",
              "    <div class=\"colab-df-container\">\n",
              "      <div>\n",
              "<style scoped>\n",
              "    .dataframe tbody tr th:only-of-type {\n",
              "        vertical-align: middle;\n",
              "    }\n",
              "\n",
              "    .dataframe tbody tr th {\n",
              "        vertical-align: top;\n",
              "    }\n",
              "\n",
              "    .dataframe thead th {\n",
              "        text-align: right;\n",
              "    }\n",
              "</style>\n",
              "<table border=\"1\" class=\"dataframe\">\n",
              "  <thead>\n",
              "    <tr style=\"text-align: right;\">\n",
              "      <th></th>\n",
              "      <th>label</th>\n",
              "      <th>sentence</th>\n",
              "    </tr>\n",
              "  </thead>\n",
              "  <tbody>\n",
              "    <tr>\n",
              "      <th>1825489</th>\n",
              "      <td>-1.0</td>\n",
              "      <td>dear rss terrorist payal gawar what about modi...</td>\n",
              "    </tr>\n",
              "    <tr>\n",
              "      <th>1825490</th>\n",
              "      <td>0.0</td>\n",
              "      <td>did you cover her interaction forum where she ...</td>\n",
              "    </tr>\n",
              "    <tr>\n",
              "      <th>1825491</th>\n",
              "      <td>0.0</td>\n",
              "      <td>there big project came into india modi dream p...</td>\n",
              "    </tr>\n",
              "    <tr>\n",
              "      <th>1825492</th>\n",
              "      <td>1.0</td>\n",
              "      <td>have you ever listen about like gurukul where ...</td>\n",
              "    </tr>\n",
              "  </tbody>\n",
              "</table>\n",
              "</div>\n",
              "      <button class=\"colab-df-convert\" onclick=\"convertToInteractive('df-3b874f8d-d5f3-418c-808a-829936332252')\"\n",
              "              title=\"Convert this dataframe to an interactive table.\"\n",
              "              style=\"display:none;\">\n",
              "\n",
              "  <svg xmlns=\"http://www.w3.org/2000/svg\" height=\"24px\"viewBox=\"0 0 24 24\"\n",
              "       width=\"24px\">\n",
              "    <path d=\"M0 0h24v24H0V0z\" fill=\"none\"/>\n",
              "    <path d=\"M18.56 5.44l.94 2.06.94-2.06 2.06-.94-2.06-.94-.94-2.06-.94 2.06-2.06.94zm-11 1L8.5 8.5l.94-2.06 2.06-.94-2.06-.94L8.5 2.5l-.94 2.06-2.06.94zm10 10l.94 2.06.94-2.06 2.06-.94-2.06-.94-.94-2.06-.94 2.06-2.06.94z\"/><path d=\"M17.41 7.96l-1.37-1.37c-.4-.4-.92-.59-1.43-.59-.52 0-1.04.2-1.43.59L10.3 9.45l-7.72 7.72c-.78.78-.78 2.05 0 2.83L4 21.41c.39.39.9.59 1.41.59.51 0 1.02-.2 1.41-.59l7.78-7.78 2.81-2.81c.8-.78.8-2.07 0-2.86zM5.41 20L4 18.59l7.72-7.72 1.47 1.35L5.41 20z\"/>\n",
              "  </svg>\n",
              "      </button>\n",
              "\n",
              "\n",
              "\n",
              "    <div id=\"df-82bc463b-4692-4149-a6d8-ebb392b0fbeb\">\n",
              "      <button class=\"colab-df-quickchart\" onclick=\"quickchart('df-82bc463b-4692-4149-a6d8-ebb392b0fbeb')\"\n",
              "              title=\"Suggest charts.\"\n",
              "              style=\"display:none;\">\n",
              "\n",
              "<svg xmlns=\"http://www.w3.org/2000/svg\" height=\"24px\"viewBox=\"0 0 24 24\"\n",
              "     width=\"24px\">\n",
              "    <g>\n",
              "        <path d=\"M19 3H5c-1.1 0-2 .9-2 2v14c0 1.1.9 2 2 2h14c1.1 0 2-.9 2-2V5c0-1.1-.9-2-2-2zM9 17H7v-7h2v7zm4 0h-2V7h2v10zm4 0h-2v-4h2v4z\"/>\n",
              "    </g>\n",
              "</svg>\n",
              "      </button>\n",
              "    </div>\n",
              "\n",
              "<style>\n",
              "  .colab-df-quickchart {\n",
              "    background-color: #E8F0FE;\n",
              "    border: none;\n",
              "    border-radius: 50%;\n",
              "    cursor: pointer;\n",
              "    display: none;\n",
              "    fill: #1967D2;\n",
              "    height: 32px;\n",
              "    padding: 0 0 0 0;\n",
              "    width: 32px;\n",
              "  }\n",
              "\n",
              "  .colab-df-quickchart:hover {\n",
              "    background-color: #E2EBFA;\n",
              "    box-shadow: 0px 1px 2px rgba(60, 64, 67, 0.3), 0px 1px 3px 1px rgba(60, 64, 67, 0.15);\n",
              "    fill: #174EA6;\n",
              "  }\n",
              "\n",
              "  [theme=dark] .colab-df-quickchart {\n",
              "    background-color: #3B4455;\n",
              "    fill: #D2E3FC;\n",
              "  }\n",
              "\n",
              "  [theme=dark] .colab-df-quickchart:hover {\n",
              "    background-color: #434B5C;\n",
              "    box-shadow: 0px 1px 3px 1px rgba(0, 0, 0, 0.15);\n",
              "    filter: drop-shadow(0px 1px 2px rgba(0, 0, 0, 0.3));\n",
              "    fill: #FFFFFF;\n",
              "  }\n",
              "</style>\n",
              "\n",
              "    <script>\n",
              "      async function quickchart(key) {\n",
              "        const containerElement = document.querySelector('#' + key);\n",
              "        const charts = await google.colab.kernel.invokeFunction(\n",
              "            'suggestCharts', [key], {});\n",
              "      }\n",
              "    </script>\n",
              "\n",
              "      <script>\n",
              "\n",
              "function displayQuickchartButton(domScope) {\n",
              "  let quickchartButtonEl =\n",
              "    domScope.querySelector('#df-82bc463b-4692-4149-a6d8-ebb392b0fbeb button.colab-df-quickchart');\n",
              "  quickchartButtonEl.style.display =\n",
              "    google.colab.kernel.accessAllowed ? 'block' : 'none';\n",
              "}\n",
              "\n",
              "        displayQuickchartButton(document);\n",
              "      </script>\n",
              "      <style>\n",
              "    .colab-df-container {\n",
              "      display:flex;\n",
              "      flex-wrap:wrap;\n",
              "      gap: 12px;\n",
              "    }\n",
              "\n",
              "    .colab-df-convert {\n",
              "      background-color: #E8F0FE;\n",
              "      border: none;\n",
              "      border-radius: 50%;\n",
              "      cursor: pointer;\n",
              "      display: none;\n",
              "      fill: #1967D2;\n",
              "      height: 32px;\n",
              "      padding: 0 0 0 0;\n",
              "      width: 32px;\n",
              "    }\n",
              "\n",
              "    .colab-df-convert:hover {\n",
              "      background-color: #E2EBFA;\n",
              "      box-shadow: 0px 1px 2px rgba(60, 64, 67, 0.3), 0px 1px 3px 1px rgba(60, 64, 67, 0.15);\n",
              "      fill: #174EA6;\n",
              "    }\n",
              "\n",
              "    [theme=dark] .colab-df-convert {\n",
              "      background-color: #3B4455;\n",
              "      fill: #D2E3FC;\n",
              "    }\n",
              "\n",
              "    [theme=dark] .colab-df-convert:hover {\n",
              "      background-color: #434B5C;\n",
              "      box-shadow: 0px 1px 3px 1px rgba(0, 0, 0, 0.15);\n",
              "      filter: drop-shadow(0px 1px 2px rgba(0, 0, 0, 0.3));\n",
              "      fill: #FFFFFF;\n",
              "    }\n",
              "  </style>\n",
              "\n",
              "      <script>\n",
              "        const buttonEl =\n",
              "          document.querySelector('#df-3b874f8d-d5f3-418c-808a-829936332252 button.colab-df-convert');\n",
              "        buttonEl.style.display =\n",
              "          google.colab.kernel.accessAllowed ? 'block' : 'none';\n",
              "\n",
              "        async function convertToInteractive(key) {\n",
              "          const element = document.querySelector('#df-3b874f8d-d5f3-418c-808a-829936332252');\n",
              "          const dataTable =\n",
              "            await google.colab.kernel.invokeFunction('convertToInteractive',\n",
              "                                                     [key], {});\n",
              "          if (!dataTable) return;\n",
              "\n",
              "          const docLinkHtml = 'Like what you see? Visit the ' +\n",
              "            '<a target=\"_blank\" href=https://colab.research.google.com/notebooks/data_table.ipynb>data table notebook</a>'\n",
              "            + ' to learn more about interactive tables.';\n",
              "          element.innerHTML = '';\n",
              "          dataTable['output_type'] = 'display_data';\n",
              "          await google.colab.output.renderOutput(dataTable, element);\n",
              "          const docLink = document.createElement('div');\n",
              "          docLink.innerHTML = docLinkHtml;\n",
              "          element.appendChild(docLink);\n",
              "        }\n",
              "      </script>\n",
              "    </div>\n",
              "  </div>\n"
            ]
          },
          "metadata": {},
          "execution_count": 7
        }
      ],
      "source": [
        "df[1825489:]"
      ]
    },
    {
      "cell_type": "markdown",
      "metadata": {
        "id": "SEYk8hqAoM9q"
      },
      "source": [
        "Have been combine the needed data into one file."
      ]
    },
    {
      "cell_type": "markdown",
      "metadata": {
        "id": "9Wk81KhP63HA"
      },
      "source": [
        "## 2. Data Transformation:"
      ]
    },
    {
      "cell_type": "markdown",
      "metadata": {
        "id": "rLUb_5Fgdsq7"
      },
      "source": [
        "2.1 Preprocessing the sentence"
      ]
    },
    {
      "cell_type": "markdown",
      "metadata": {
        "id": "pSJ4apX89RDk"
      },
      "source": [
        "Load all neeed packages and libraries:"
      ]
    },
    {
      "cell_type": "code",
      "execution_count": null,
      "metadata": {
        "colab": {
          "base_uri": "https://localhost:8080/"
        },
        "id": "pjP9kjdN8t_R",
        "outputId": "0e277ab1-b5ee-4a74-e5b8-3d77c7f26aa5"
      },
      "outputs": [
        {
          "output_type": "stream",
          "name": "stderr",
          "text": [
            "[nltk_data] Downloading package punkt to /root/nltk_data...\n",
            "[nltk_data]   Unzipping tokenizers/punkt.zip.\n"
          ]
        }
      ],
      "source": [
        "# import all needed libraries in section 2.1\n",
        "\n",
        "# packages needed by tokenization\n",
        "import pandas as pd\n",
        "import nltk\n",
        "nltk.download('punkt')\n",
        "from nltk.tokenize import word_tokenize\n",
        "# packages needed by remove punctuations\n",
        "import string\n",
        "# packages needed by co-occurance calc\n",
        "from collections import Counter"
      ]
    },
    {
      "cell_type": "markdown",
      "metadata": {
        "id": "iAbl3ZcF6_oC"
      },
      "source": [
        "Tokenize the sentence by white-space tokenization:"
      ]
    },
    {
      "cell_type": "code",
      "execution_count": null,
      "metadata": {
        "id": "nmAwukpOaPwD"
      },
      "outputs": [],
      "source": [
        "##### SAMPLE CODE #####\n",
        "sentence = \"Tokenizing a sentence is an important step.\"\n",
        "tokens = sentence.split()"
      ]
    },
    {
      "cell_type": "code",
      "execution_count": null,
      "metadata": {
        "colab": {
          "base_uri": "https://localhost:8080/",
          "height": 143
        },
        "id": "wkwOz3575vFm",
        "outputId": "51349d85-5431-4772-9050-cc8270493711"
      },
      "outputs": [
        {
          "output_type": "execute_result",
          "data": {
            "text/plain": [
              "   label                                tokenized_sentences\n",
              "0    1.0  [im, getting, on, borderlands, and, i, will, m...\n",
              "1    1.0  [I, am, coming, to, the, borders, and, I, will...\n",
              "2    1.0  [im, getting, on, borderlands, and, i, will, k..."
            ],
            "text/html": [
              "\n",
              "\n",
              "  <div id=\"df-39b9d32d-db11-49b2-8a49-fdfc00df6e4e\">\n",
              "    <div class=\"colab-df-container\">\n",
              "      <div>\n",
              "<style scoped>\n",
              "    .dataframe tbody tr th:only-of-type {\n",
              "        vertical-align: middle;\n",
              "    }\n",
              "\n",
              "    .dataframe tbody tr th {\n",
              "        vertical-align: top;\n",
              "    }\n",
              "\n",
              "    .dataframe thead th {\n",
              "        text-align: right;\n",
              "    }\n",
              "</style>\n",
              "<table border=\"1\" class=\"dataframe\">\n",
              "  <thead>\n",
              "    <tr style=\"text-align: right;\">\n",
              "      <th></th>\n",
              "      <th>label</th>\n",
              "      <th>tokenized_sentences</th>\n",
              "    </tr>\n",
              "  </thead>\n",
              "  <tbody>\n",
              "    <tr>\n",
              "      <th>0</th>\n",
              "      <td>1.0</td>\n",
              "      <td>[im, getting, on, borderlands, and, i, will, m...</td>\n",
              "    </tr>\n",
              "    <tr>\n",
              "      <th>1</th>\n",
              "      <td>1.0</td>\n",
              "      <td>[I, am, coming, to, the, borders, and, I, will...</td>\n",
              "    </tr>\n",
              "    <tr>\n",
              "      <th>2</th>\n",
              "      <td>1.0</td>\n",
              "      <td>[im, getting, on, borderlands, and, i, will, k...</td>\n",
              "    </tr>\n",
              "  </tbody>\n",
              "</table>\n",
              "</div>\n",
              "      <button class=\"colab-df-convert\" onclick=\"convertToInteractive('df-39b9d32d-db11-49b2-8a49-fdfc00df6e4e')\"\n",
              "              title=\"Convert this dataframe to an interactive table.\"\n",
              "              style=\"display:none;\">\n",
              "\n",
              "  <svg xmlns=\"http://www.w3.org/2000/svg\" height=\"24px\"viewBox=\"0 0 24 24\"\n",
              "       width=\"24px\">\n",
              "    <path d=\"M0 0h24v24H0V0z\" fill=\"none\"/>\n",
              "    <path d=\"M18.56 5.44l.94 2.06.94-2.06 2.06-.94-2.06-.94-.94-2.06-.94 2.06-2.06.94zm-11 1L8.5 8.5l.94-2.06 2.06-.94-2.06-.94L8.5 2.5l-.94 2.06-2.06.94zm10 10l.94 2.06.94-2.06 2.06-.94-2.06-.94-.94-2.06-.94 2.06-2.06.94z\"/><path d=\"M17.41 7.96l-1.37-1.37c-.4-.4-.92-.59-1.43-.59-.52 0-1.04.2-1.43.59L10.3 9.45l-7.72 7.72c-.78.78-.78 2.05 0 2.83L4 21.41c.39.39.9.59 1.41.59.51 0 1.02-.2 1.41-.59l7.78-7.78 2.81-2.81c.8-.78.8-2.07 0-2.86zM5.41 20L4 18.59l7.72-7.72 1.47 1.35L5.41 20z\"/>\n",
              "  </svg>\n",
              "      </button>\n",
              "\n",
              "\n",
              "\n",
              "    <div id=\"df-a72ca9e5-51d0-48dd-ab45-62c5ae15d226\">\n",
              "      <button class=\"colab-df-quickchart\" onclick=\"quickchart('df-a72ca9e5-51d0-48dd-ab45-62c5ae15d226')\"\n",
              "              title=\"Suggest charts.\"\n",
              "              style=\"display:none;\">\n",
              "\n",
              "<svg xmlns=\"http://www.w3.org/2000/svg\" height=\"24px\"viewBox=\"0 0 24 24\"\n",
              "     width=\"24px\">\n",
              "    <g>\n",
              "        <path d=\"M19 3H5c-1.1 0-2 .9-2 2v14c0 1.1.9 2 2 2h14c1.1 0 2-.9 2-2V5c0-1.1-.9-2-2-2zM9 17H7v-7h2v7zm4 0h-2V7h2v10zm4 0h-2v-4h2v4z\"/>\n",
              "    </g>\n",
              "</svg>\n",
              "      </button>\n",
              "    </div>\n",
              "\n",
              "<style>\n",
              "  .colab-df-quickchart {\n",
              "    background-color: #E8F0FE;\n",
              "    border: none;\n",
              "    border-radius: 50%;\n",
              "    cursor: pointer;\n",
              "    display: none;\n",
              "    fill: #1967D2;\n",
              "    height: 32px;\n",
              "    padding: 0 0 0 0;\n",
              "    width: 32px;\n",
              "  }\n",
              "\n",
              "  .colab-df-quickchart:hover {\n",
              "    background-color: #E2EBFA;\n",
              "    box-shadow: 0px 1px 2px rgba(60, 64, 67, 0.3), 0px 1px 3px 1px rgba(60, 64, 67, 0.15);\n",
              "    fill: #174EA6;\n",
              "  }\n",
              "\n",
              "  [theme=dark] .colab-df-quickchart {\n",
              "    background-color: #3B4455;\n",
              "    fill: #D2E3FC;\n",
              "  }\n",
              "\n",
              "  [theme=dark] .colab-df-quickchart:hover {\n",
              "    background-color: #434B5C;\n",
              "    box-shadow: 0px 1px 3px 1px rgba(0, 0, 0, 0.15);\n",
              "    filter: drop-shadow(0px 1px 2px rgba(0, 0, 0, 0.3));\n",
              "    fill: #FFFFFF;\n",
              "  }\n",
              "</style>\n",
              "\n",
              "    <script>\n",
              "      async function quickchart(key) {\n",
              "        const containerElement = document.querySelector('#' + key);\n",
              "        const charts = await google.colab.kernel.invokeFunction(\n",
              "            'suggestCharts', [key], {});\n",
              "      }\n",
              "    </script>\n",
              "\n",
              "      <script>\n",
              "\n",
              "function displayQuickchartButton(domScope) {\n",
              "  let quickchartButtonEl =\n",
              "    domScope.querySelector('#df-a72ca9e5-51d0-48dd-ab45-62c5ae15d226 button.colab-df-quickchart');\n",
              "  quickchartButtonEl.style.display =\n",
              "    google.colab.kernel.accessAllowed ? 'block' : 'none';\n",
              "}\n",
              "\n",
              "        displayQuickchartButton(document);\n",
              "      </script>\n",
              "      <style>\n",
              "    .colab-df-container {\n",
              "      display:flex;\n",
              "      flex-wrap:wrap;\n",
              "      gap: 12px;\n",
              "    }\n",
              "\n",
              "    .colab-df-convert {\n",
              "      background-color: #E8F0FE;\n",
              "      border: none;\n",
              "      border-radius: 50%;\n",
              "      cursor: pointer;\n",
              "      display: none;\n",
              "      fill: #1967D2;\n",
              "      height: 32px;\n",
              "      padding: 0 0 0 0;\n",
              "      width: 32px;\n",
              "    }\n",
              "\n",
              "    .colab-df-convert:hover {\n",
              "      background-color: #E2EBFA;\n",
              "      box-shadow: 0px 1px 2px rgba(60, 64, 67, 0.3), 0px 1px 3px 1px rgba(60, 64, 67, 0.15);\n",
              "      fill: #174EA6;\n",
              "    }\n",
              "\n",
              "    [theme=dark] .colab-df-convert {\n",
              "      background-color: #3B4455;\n",
              "      fill: #D2E3FC;\n",
              "    }\n",
              "\n",
              "    [theme=dark] .colab-df-convert:hover {\n",
              "      background-color: #434B5C;\n",
              "      box-shadow: 0px 1px 3px 1px rgba(0, 0, 0, 0.15);\n",
              "      filter: drop-shadow(0px 1px 2px rgba(0, 0, 0, 0.3));\n",
              "      fill: #FFFFFF;\n",
              "    }\n",
              "  </style>\n",
              "\n",
              "      <script>\n",
              "        const buttonEl =\n",
              "          document.querySelector('#df-39b9d32d-db11-49b2-8a49-fdfc00df6e4e button.colab-df-convert');\n",
              "        buttonEl.style.display =\n",
              "          google.colab.kernel.accessAllowed ? 'block' : 'none';\n",
              "\n",
              "        async function convertToInteractive(key) {\n",
              "          const element = document.querySelector('#df-39b9d32d-db11-49b2-8a49-fdfc00df6e4e');\n",
              "          const dataTable =\n",
              "            await google.colab.kernel.invokeFunction('convertToInteractive',\n",
              "                                                     [key], {});\n",
              "          if (!dataTable) return;\n",
              "\n",
              "          const docLinkHtml = 'Like what you see? Visit the ' +\n",
              "            '<a target=\"_blank\" href=https://colab.research.google.com/notebooks/data_table.ipynb>data table notebook</a>'\n",
              "            + ' to learn more about interactive tables.';\n",
              "          element.innerHTML = '';\n",
              "          dataTable['output_type'] = 'display_data';\n",
              "          await google.colab.output.renderOutput(dataTable, element);\n",
              "          const docLink = document.createElement('div');\n",
              "          docLink.innerHTML = docLinkHtml;\n",
              "          element.appendChild(docLink);\n",
              "        }\n",
              "      </script>\n",
              "    </div>\n",
              "  </div>\n"
            ]
          },
          "metadata": {},
          "execution_count": 9
        }
      ],
      "source": [
        "##### OUR CODE #####\n",
        "df['sentence'] = df['sentence'].astype(str)  # Convert 'sentence' column to string\n",
        "df['tokenized_sentences'] = df['sentence'].apply(lambda x: word_tokenize(x))  # New column 'tokenized_sentences' containing tokenized sentences\n",
        "subdf = df[[\"label\", \"tokenized_sentences\"]]  # extract the labels and tokenized sentences into a new dataframe, subdf\n",
        "subdf[:3]  # visualize first three lines of subdf dataframe"
      ]
    },
    {
      "cell_type": "markdown",
      "metadata": {
        "id": "kVk7V7X-7TV5"
      },
      "source": [
        "Remove the punctuations by manual punctuation removal:"
      ]
    },
    {
      "cell_type": "code",
      "execution_count": null,
      "metadata": {
        "id": "hn80Uj01a-Lo"
      },
      "outputs": [],
      "source": [
        "##### SAMPLE CODE #####\n",
        "tokens = ['Tokenizing', 'a', 'sentence', 'is', 'an', 'important', 'step.']\n",
        "# Remove punctuation from tokens\n",
        "tokens_without_punct = [token.strip(string.punctuation) for token in tokens]"
      ]
    },
    {
      "cell_type": "code",
      "execution_count": null,
      "metadata": {
        "id": "gECvUIFbwUrR"
      },
      "outputs": [],
      "source": [
        "##### OUR CODE #####\n",
        "# Function to remove punctuation from a token\n",
        "def remove_punctuation(token):\n",
        "    translator = str.maketrans('', '', string.punctuation)\n",
        "    return token.translate(translator)\n",
        "\n",
        "# Remove punctuation from the tokens in the 'tokenized_sentences' column\n",
        "# 'perfect_tokens' column contains tokenized sentences with punctuation removed\n",
        "subdf['perfect_tokens'] = subdf['tokenized_sentences'].apply(lambda tokens: [remove_punctuation(token) for token in tokens])\n",
        "# .apply() method is used to apply a function to each element of the 'tokenized_sentences' column\n",
        "# Lambda func iterates over each token in the list of tokens;\n",
        "# For each token, it calls the remove_punctuation() func to remove any punctuation from the token;\n",
        "# Result is a list comprehension that generates a new list of tokens without punctuation"
      ]
    },
    {
      "cell_type": "code",
      "execution_count": null,
      "metadata": {
        "colab": {
          "base_uri": "https://localhost:8080/",
          "height": 81
        },
        "id": "wZQlWFgh4kG-",
        "outputId": "dd62b2a8-1af9-45cc-aff1-a67ce34c3807"
      },
      "outputs": [
        {
          "output_type": "execute_result",
          "data": {
            "text/plain": [
              "    label                                tokenized_sentences  \\\n",
              "13    0.0  [Rock-Hard, La, Varlope, ,, RARE, &, POWERFUL,...   \n",
              "\n",
              "                                       perfect_tokens  \n",
              "13  [RockHard, La, Varlope, , RARE, , POWERFUL, , ...  "
            ],
            "text/html": [
              "\n",
              "\n",
              "  <div id=\"df-173f15a0-5084-48a0-a4e3-5b7034f5199e\">\n",
              "    <div class=\"colab-df-container\">\n",
              "      <div>\n",
              "<style scoped>\n",
              "    .dataframe tbody tr th:only-of-type {\n",
              "        vertical-align: middle;\n",
              "    }\n",
              "\n",
              "    .dataframe tbody tr th {\n",
              "        vertical-align: top;\n",
              "    }\n",
              "\n",
              "    .dataframe thead th {\n",
              "        text-align: right;\n",
              "    }\n",
              "</style>\n",
              "<table border=\"1\" class=\"dataframe\">\n",
              "  <thead>\n",
              "    <tr style=\"text-align: right;\">\n",
              "      <th></th>\n",
              "      <th>label</th>\n",
              "      <th>tokenized_sentences</th>\n",
              "      <th>perfect_tokens</th>\n",
              "    </tr>\n",
              "  </thead>\n",
              "  <tbody>\n",
              "    <tr>\n",
              "      <th>13</th>\n",
              "      <td>0.0</td>\n",
              "      <td>[Rock-Hard, La, Varlope, ,, RARE, &amp;, POWERFUL,...</td>\n",
              "      <td>[RockHard, La, Varlope, , RARE, , POWERFUL, , ...</td>\n",
              "    </tr>\n",
              "  </tbody>\n",
              "</table>\n",
              "</div>\n",
              "      <button class=\"colab-df-convert\" onclick=\"convertToInteractive('df-173f15a0-5084-48a0-a4e3-5b7034f5199e')\"\n",
              "              title=\"Convert this dataframe to an interactive table.\"\n",
              "              style=\"display:none;\">\n",
              "\n",
              "  <svg xmlns=\"http://www.w3.org/2000/svg\" height=\"24px\"viewBox=\"0 0 24 24\"\n",
              "       width=\"24px\">\n",
              "    <path d=\"M0 0h24v24H0V0z\" fill=\"none\"/>\n",
              "    <path d=\"M18.56 5.44l.94 2.06.94-2.06 2.06-.94-2.06-.94-.94-2.06-.94 2.06-2.06.94zm-11 1L8.5 8.5l.94-2.06 2.06-.94-2.06-.94L8.5 2.5l-.94 2.06-2.06.94zm10 10l.94 2.06.94-2.06 2.06-.94-2.06-.94-.94-2.06-.94 2.06-2.06.94z\"/><path d=\"M17.41 7.96l-1.37-1.37c-.4-.4-.92-.59-1.43-.59-.52 0-1.04.2-1.43.59L10.3 9.45l-7.72 7.72c-.78.78-.78 2.05 0 2.83L4 21.41c.39.39.9.59 1.41.59.51 0 1.02-.2 1.41-.59l7.78-7.78 2.81-2.81c.8-.78.8-2.07 0-2.86zM5.41 20L4 18.59l7.72-7.72 1.47 1.35L5.41 20z\"/>\n",
              "  </svg>\n",
              "      </button>\n",
              "\n",
              "\n",
              "\n",
              "    <div id=\"df-51dba951-b7e1-4243-a8ae-b895b9f25e91\">\n",
              "      <button class=\"colab-df-quickchart\" onclick=\"quickchart('df-51dba951-b7e1-4243-a8ae-b895b9f25e91')\"\n",
              "              title=\"Suggest charts.\"\n",
              "              style=\"display:none;\">\n",
              "\n",
              "<svg xmlns=\"http://www.w3.org/2000/svg\" height=\"24px\"viewBox=\"0 0 24 24\"\n",
              "     width=\"24px\">\n",
              "    <g>\n",
              "        <path d=\"M19 3H5c-1.1 0-2 .9-2 2v14c0 1.1.9 2 2 2h14c1.1 0 2-.9 2-2V5c0-1.1-.9-2-2-2zM9 17H7v-7h2v7zm4 0h-2V7h2v10zm4 0h-2v-4h2v4z\"/>\n",
              "    </g>\n",
              "</svg>\n",
              "      </button>\n",
              "    </div>\n",
              "\n",
              "<style>\n",
              "  .colab-df-quickchart {\n",
              "    background-color: #E8F0FE;\n",
              "    border: none;\n",
              "    border-radius: 50%;\n",
              "    cursor: pointer;\n",
              "    display: none;\n",
              "    fill: #1967D2;\n",
              "    height: 32px;\n",
              "    padding: 0 0 0 0;\n",
              "    width: 32px;\n",
              "  }\n",
              "\n",
              "  .colab-df-quickchart:hover {\n",
              "    background-color: #E2EBFA;\n",
              "    box-shadow: 0px 1px 2px rgba(60, 64, 67, 0.3), 0px 1px 3px 1px rgba(60, 64, 67, 0.15);\n",
              "    fill: #174EA6;\n",
              "  }\n",
              "\n",
              "  [theme=dark] .colab-df-quickchart {\n",
              "    background-color: #3B4455;\n",
              "    fill: #D2E3FC;\n",
              "  }\n",
              "\n",
              "  [theme=dark] .colab-df-quickchart:hover {\n",
              "    background-color: #434B5C;\n",
              "    box-shadow: 0px 1px 3px 1px rgba(0, 0, 0, 0.15);\n",
              "    filter: drop-shadow(0px 1px 2px rgba(0, 0, 0, 0.3));\n",
              "    fill: #FFFFFF;\n",
              "  }\n",
              "</style>\n",
              "\n",
              "    <script>\n",
              "      async function quickchart(key) {\n",
              "        const containerElement = document.querySelector('#' + key);\n",
              "        const charts = await google.colab.kernel.invokeFunction(\n",
              "            'suggestCharts', [key], {});\n",
              "      }\n",
              "    </script>\n",
              "\n",
              "      <script>\n",
              "\n",
              "function displayQuickchartButton(domScope) {\n",
              "  let quickchartButtonEl =\n",
              "    domScope.querySelector('#df-51dba951-b7e1-4243-a8ae-b895b9f25e91 button.colab-df-quickchart');\n",
              "  quickchartButtonEl.style.display =\n",
              "    google.colab.kernel.accessAllowed ? 'block' : 'none';\n",
              "}\n",
              "\n",
              "        displayQuickchartButton(document);\n",
              "      </script>\n",
              "      <style>\n",
              "    .colab-df-container {\n",
              "      display:flex;\n",
              "      flex-wrap:wrap;\n",
              "      gap: 12px;\n",
              "    }\n",
              "\n",
              "    .colab-df-convert {\n",
              "      background-color: #E8F0FE;\n",
              "      border: none;\n",
              "      border-radius: 50%;\n",
              "      cursor: pointer;\n",
              "      display: none;\n",
              "      fill: #1967D2;\n",
              "      height: 32px;\n",
              "      padding: 0 0 0 0;\n",
              "      width: 32px;\n",
              "    }\n",
              "\n",
              "    .colab-df-convert:hover {\n",
              "      background-color: #E2EBFA;\n",
              "      box-shadow: 0px 1px 2px rgba(60, 64, 67, 0.3), 0px 1px 3px 1px rgba(60, 64, 67, 0.15);\n",
              "      fill: #174EA6;\n",
              "    }\n",
              "\n",
              "    [theme=dark] .colab-df-convert {\n",
              "      background-color: #3B4455;\n",
              "      fill: #D2E3FC;\n",
              "    }\n",
              "\n",
              "    [theme=dark] .colab-df-convert:hover {\n",
              "      background-color: #434B5C;\n",
              "      box-shadow: 0px 1px 3px 1px rgba(0, 0, 0, 0.15);\n",
              "      filter: drop-shadow(0px 1px 2px rgba(0, 0, 0, 0.3));\n",
              "      fill: #FFFFFF;\n",
              "    }\n",
              "  </style>\n",
              "\n",
              "      <script>\n",
              "        const buttonEl =\n",
              "          document.querySelector('#df-173f15a0-5084-48a0-a4e3-5b7034f5199e button.colab-df-convert');\n",
              "        buttonEl.style.display =\n",
              "          google.colab.kernel.accessAllowed ? 'block' : 'none';\n",
              "\n",
              "        async function convertToInteractive(key) {\n",
              "          const element = document.querySelector('#df-173f15a0-5084-48a0-a4e3-5b7034f5199e');\n",
              "          const dataTable =\n",
              "            await google.colab.kernel.invokeFunction('convertToInteractive',\n",
              "                                                     [key], {});\n",
              "          if (!dataTable) return;\n",
              "\n",
              "          const docLinkHtml = 'Like what you see? Visit the ' +\n",
              "            '<a target=\"_blank\" href=https://colab.research.google.com/notebooks/data_table.ipynb>data table notebook</a>'\n",
              "            + ' to learn more about interactive tables.';\n",
              "          element.innerHTML = '';\n",
              "          dataTable['output_type'] = 'display_data';\n",
              "          await google.colab.output.renderOutput(dataTable, element);\n",
              "          const docLink = document.createElement('div');\n",
              "          docLink.innerHTML = docLinkHtml;\n",
              "          element.appendChild(docLink);\n",
              "        }\n",
              "      </script>\n",
              "    </div>\n",
              "  </div>\n"
            ]
          },
          "metadata": {},
          "execution_count": 11
        }
      ],
      "source": [
        "subdf[13:14]  # print one line to visualize the tokens after remove the punctuations"
      ]
    },
    {
      "cell_type": "markdown",
      "metadata": {
        "id": "VSk8vpY968xs"
      },
      "source": [
        "Remove any empty tokens:"
      ]
    },
    {
      "cell_type": "code",
      "execution_count": null,
      "metadata": {
        "colab": {
          "base_uri": "https://localhost:8080/",
          "height": 81
        },
        "id": "OSdXJq8z67Nv",
        "outputId": "aa4b7704-a657-40b2-d137-c8765cfd2903"
      },
      "outputs": [
        {
          "output_type": "execute_result",
          "data": {
            "text/plain": [
              "    label                                tokenized_sentences  \\\n",
              "13    0.0  [Rock-Hard, La, Varlope, ,, RARE, &, POWERFUL,...   \n",
              "\n",
              "                                       perfect_tokens  \n",
              "13  [RockHard, La, Varlope, RARE, POWERFUL, HANDSO...  "
            ],
            "text/html": [
              "\n",
              "\n",
              "  <div id=\"df-7bc7d948-e3ec-4a35-8ae7-92cfab2b3ec6\">\n",
              "    <div class=\"colab-df-container\">\n",
              "      <div>\n",
              "<style scoped>\n",
              "    .dataframe tbody tr th:only-of-type {\n",
              "        vertical-align: middle;\n",
              "    }\n",
              "\n",
              "    .dataframe tbody tr th {\n",
              "        vertical-align: top;\n",
              "    }\n",
              "\n",
              "    .dataframe thead th {\n",
              "        text-align: right;\n",
              "    }\n",
              "</style>\n",
              "<table border=\"1\" class=\"dataframe\">\n",
              "  <thead>\n",
              "    <tr style=\"text-align: right;\">\n",
              "      <th></th>\n",
              "      <th>label</th>\n",
              "      <th>tokenized_sentences</th>\n",
              "      <th>perfect_tokens</th>\n",
              "    </tr>\n",
              "  </thead>\n",
              "  <tbody>\n",
              "    <tr>\n",
              "      <th>13</th>\n",
              "      <td>0.0</td>\n",
              "      <td>[Rock-Hard, La, Varlope, ,, RARE, &amp;, POWERFUL,...</td>\n",
              "      <td>[RockHard, La, Varlope, RARE, POWERFUL, HANDSO...</td>\n",
              "    </tr>\n",
              "  </tbody>\n",
              "</table>\n",
              "</div>\n",
              "      <button class=\"colab-df-convert\" onclick=\"convertToInteractive('df-7bc7d948-e3ec-4a35-8ae7-92cfab2b3ec6')\"\n",
              "              title=\"Convert this dataframe to an interactive table.\"\n",
              "              style=\"display:none;\">\n",
              "\n",
              "  <svg xmlns=\"http://www.w3.org/2000/svg\" height=\"24px\"viewBox=\"0 0 24 24\"\n",
              "       width=\"24px\">\n",
              "    <path d=\"M0 0h24v24H0V0z\" fill=\"none\"/>\n",
              "    <path d=\"M18.56 5.44l.94 2.06.94-2.06 2.06-.94-2.06-.94-.94-2.06-.94 2.06-2.06.94zm-11 1L8.5 8.5l.94-2.06 2.06-.94-2.06-.94L8.5 2.5l-.94 2.06-2.06.94zm10 10l.94 2.06.94-2.06 2.06-.94-2.06-.94-.94-2.06-.94 2.06-2.06.94z\"/><path d=\"M17.41 7.96l-1.37-1.37c-.4-.4-.92-.59-1.43-.59-.52 0-1.04.2-1.43.59L10.3 9.45l-7.72 7.72c-.78.78-.78 2.05 0 2.83L4 21.41c.39.39.9.59 1.41.59.51 0 1.02-.2 1.41-.59l7.78-7.78 2.81-2.81c.8-.78.8-2.07 0-2.86zM5.41 20L4 18.59l7.72-7.72 1.47 1.35L5.41 20z\"/>\n",
              "  </svg>\n",
              "      </button>\n",
              "\n",
              "\n",
              "\n",
              "    <div id=\"df-9cbb971a-3e61-4f47-84eb-a5ef5dafb542\">\n",
              "      <button class=\"colab-df-quickchart\" onclick=\"quickchart('df-9cbb971a-3e61-4f47-84eb-a5ef5dafb542')\"\n",
              "              title=\"Suggest charts.\"\n",
              "              style=\"display:none;\">\n",
              "\n",
              "<svg xmlns=\"http://www.w3.org/2000/svg\" height=\"24px\"viewBox=\"0 0 24 24\"\n",
              "     width=\"24px\">\n",
              "    <g>\n",
              "        <path d=\"M19 3H5c-1.1 0-2 .9-2 2v14c0 1.1.9 2 2 2h14c1.1 0 2-.9 2-2V5c0-1.1-.9-2-2-2zM9 17H7v-7h2v7zm4 0h-2V7h2v10zm4 0h-2v-4h2v4z\"/>\n",
              "    </g>\n",
              "</svg>\n",
              "      </button>\n",
              "    </div>\n",
              "\n",
              "<style>\n",
              "  .colab-df-quickchart {\n",
              "    background-color: #E8F0FE;\n",
              "    border: none;\n",
              "    border-radius: 50%;\n",
              "    cursor: pointer;\n",
              "    display: none;\n",
              "    fill: #1967D2;\n",
              "    height: 32px;\n",
              "    padding: 0 0 0 0;\n",
              "    width: 32px;\n",
              "  }\n",
              "\n",
              "  .colab-df-quickchart:hover {\n",
              "    background-color: #E2EBFA;\n",
              "    box-shadow: 0px 1px 2px rgba(60, 64, 67, 0.3), 0px 1px 3px 1px rgba(60, 64, 67, 0.15);\n",
              "    fill: #174EA6;\n",
              "  }\n",
              "\n",
              "  [theme=dark] .colab-df-quickchart {\n",
              "    background-color: #3B4455;\n",
              "    fill: #D2E3FC;\n",
              "  }\n",
              "\n",
              "  [theme=dark] .colab-df-quickchart:hover {\n",
              "    background-color: #434B5C;\n",
              "    box-shadow: 0px 1px 3px 1px rgba(0, 0, 0, 0.15);\n",
              "    filter: drop-shadow(0px 1px 2px rgba(0, 0, 0, 0.3));\n",
              "    fill: #FFFFFF;\n",
              "  }\n",
              "</style>\n",
              "\n",
              "    <script>\n",
              "      async function quickchart(key) {\n",
              "        const containerElement = document.querySelector('#' + key);\n",
              "        const charts = await google.colab.kernel.invokeFunction(\n",
              "            'suggestCharts', [key], {});\n",
              "      }\n",
              "    </script>\n",
              "\n",
              "      <script>\n",
              "\n",
              "function displayQuickchartButton(domScope) {\n",
              "  let quickchartButtonEl =\n",
              "    domScope.querySelector('#df-9cbb971a-3e61-4f47-84eb-a5ef5dafb542 button.colab-df-quickchart');\n",
              "  quickchartButtonEl.style.display =\n",
              "    google.colab.kernel.accessAllowed ? 'block' : 'none';\n",
              "}\n",
              "\n",
              "        displayQuickchartButton(document);\n",
              "      </script>\n",
              "      <style>\n",
              "    .colab-df-container {\n",
              "      display:flex;\n",
              "      flex-wrap:wrap;\n",
              "      gap: 12px;\n",
              "    }\n",
              "\n",
              "    .colab-df-convert {\n",
              "      background-color: #E8F0FE;\n",
              "      border: none;\n",
              "      border-radius: 50%;\n",
              "      cursor: pointer;\n",
              "      display: none;\n",
              "      fill: #1967D2;\n",
              "      height: 32px;\n",
              "      padding: 0 0 0 0;\n",
              "      width: 32px;\n",
              "    }\n",
              "\n",
              "    .colab-df-convert:hover {\n",
              "      background-color: #E2EBFA;\n",
              "      box-shadow: 0px 1px 2px rgba(60, 64, 67, 0.3), 0px 1px 3px 1px rgba(60, 64, 67, 0.15);\n",
              "      fill: #174EA6;\n",
              "    }\n",
              "\n",
              "    [theme=dark] .colab-df-convert {\n",
              "      background-color: #3B4455;\n",
              "      fill: #D2E3FC;\n",
              "    }\n",
              "\n",
              "    [theme=dark] .colab-df-convert:hover {\n",
              "      background-color: #434B5C;\n",
              "      box-shadow: 0px 1px 3px 1px rgba(0, 0, 0, 0.15);\n",
              "      filter: drop-shadow(0px 1px 2px rgba(0, 0, 0, 0.3));\n",
              "      fill: #FFFFFF;\n",
              "    }\n",
              "  </style>\n",
              "\n",
              "      <script>\n",
              "        const buttonEl =\n",
              "          document.querySelector('#df-7bc7d948-e3ec-4a35-8ae7-92cfab2b3ec6 button.colab-df-convert');\n",
              "        buttonEl.style.display =\n",
              "          google.colab.kernel.accessAllowed ? 'block' : 'none';\n",
              "\n",
              "        async function convertToInteractive(key) {\n",
              "          const element = document.querySelector('#df-7bc7d948-e3ec-4a35-8ae7-92cfab2b3ec6');\n",
              "          const dataTable =\n",
              "            await google.colab.kernel.invokeFunction('convertToInteractive',\n",
              "                                                     [key], {});\n",
              "          if (!dataTable) return;\n",
              "\n",
              "          const docLinkHtml = 'Like what you see? Visit the ' +\n",
              "            '<a target=\"_blank\" href=https://colab.research.google.com/notebooks/data_table.ipynb>data table notebook</a>'\n",
              "            + ' to learn more about interactive tables.';\n",
              "          element.innerHTML = '';\n",
              "          dataTable['output_type'] = 'display_data';\n",
              "          await google.colab.output.renderOutput(dataTable, element);\n",
              "          const docLink = document.createElement('div');\n",
              "          docLink.innerHTML = docLinkHtml;\n",
              "          element.appendChild(docLink);\n",
              "        }\n",
              "      </script>\n",
              "    </div>\n",
              "  </div>\n"
            ]
          },
          "metadata": {},
          "execution_count": 12
        }
      ],
      "source": [
        "# Remove empty strings from the tokenized sentences\n",
        "subdf['perfect_tokens'] = subdf['perfect_tokens'].apply(lambda tokens: [token for token in tokens if token])\n",
        "# For each token, it checks if the token is truthy\n",
        "# (i.e., not an empty string or None). If the token is truthy, it is included in the resulting list\n",
        "subdf[13:14]  # print one line to visualize the token after convert to lowercases"
      ]
    },
    {
      "cell_type": "markdown",
      "metadata": {
        "id": "yIreZUwi7SY7"
      },
      "source": [
        "Convert tokens in lowercase:"
      ]
    },
    {
      "cell_type": "code",
      "execution_count": null,
      "metadata": {
        "id": "6OH3V5rifQvE"
      },
      "outputs": [],
      "source": [
        "##### SAMPLE CODE #####\n",
        "# Convert tokens to lowercase\n",
        "lowercase_tokens = [token.lower() for token in tokens_without_punct]"
      ]
    },
    {
      "cell_type": "code",
      "execution_count": null,
      "metadata": {
        "colab": {
          "base_uri": "https://localhost:8080/",
          "height": 81
        },
        "id": "dZoCE3iD8WER",
        "outputId": "734ac377-b0a3-4e4f-8e08-8223afd63cbd"
      },
      "outputs": [
        {
          "output_type": "execute_result",
          "data": {
            "text/plain": [
              "    label                                tokenized_sentences  \\\n",
              "13    0.0  [Rock-Hard, La, Varlope, ,, RARE, &, POWERFUL,...   \n",
              "\n",
              "                                       perfect_tokens  \n",
              "13  [rockhard, la, varlope, rare, powerful, handso...  "
            ],
            "text/html": [
              "\n",
              "\n",
              "  <div id=\"df-be9a2497-9156-4bff-8688-def58a035caf\">\n",
              "    <div class=\"colab-df-container\">\n",
              "      <div>\n",
              "<style scoped>\n",
              "    .dataframe tbody tr th:only-of-type {\n",
              "        vertical-align: middle;\n",
              "    }\n",
              "\n",
              "    .dataframe tbody tr th {\n",
              "        vertical-align: top;\n",
              "    }\n",
              "\n",
              "    .dataframe thead th {\n",
              "        text-align: right;\n",
              "    }\n",
              "</style>\n",
              "<table border=\"1\" class=\"dataframe\">\n",
              "  <thead>\n",
              "    <tr style=\"text-align: right;\">\n",
              "      <th></th>\n",
              "      <th>label</th>\n",
              "      <th>tokenized_sentences</th>\n",
              "      <th>perfect_tokens</th>\n",
              "    </tr>\n",
              "  </thead>\n",
              "  <tbody>\n",
              "    <tr>\n",
              "      <th>13</th>\n",
              "      <td>0.0</td>\n",
              "      <td>[Rock-Hard, La, Varlope, ,, RARE, &amp;, POWERFUL,...</td>\n",
              "      <td>[rockhard, la, varlope, rare, powerful, handso...</td>\n",
              "    </tr>\n",
              "  </tbody>\n",
              "</table>\n",
              "</div>\n",
              "      <button class=\"colab-df-convert\" onclick=\"convertToInteractive('df-be9a2497-9156-4bff-8688-def58a035caf')\"\n",
              "              title=\"Convert this dataframe to an interactive table.\"\n",
              "              style=\"display:none;\">\n",
              "\n",
              "  <svg xmlns=\"http://www.w3.org/2000/svg\" height=\"24px\"viewBox=\"0 0 24 24\"\n",
              "       width=\"24px\">\n",
              "    <path d=\"M0 0h24v24H0V0z\" fill=\"none\"/>\n",
              "    <path d=\"M18.56 5.44l.94 2.06.94-2.06 2.06-.94-2.06-.94-.94-2.06-.94 2.06-2.06.94zm-11 1L8.5 8.5l.94-2.06 2.06-.94-2.06-.94L8.5 2.5l-.94 2.06-2.06.94zm10 10l.94 2.06.94-2.06 2.06-.94-2.06-.94-.94-2.06-.94 2.06-2.06.94z\"/><path d=\"M17.41 7.96l-1.37-1.37c-.4-.4-.92-.59-1.43-.59-.52 0-1.04.2-1.43.59L10.3 9.45l-7.72 7.72c-.78.78-.78 2.05 0 2.83L4 21.41c.39.39.9.59 1.41.59.51 0 1.02-.2 1.41-.59l7.78-7.78 2.81-2.81c.8-.78.8-2.07 0-2.86zM5.41 20L4 18.59l7.72-7.72 1.47 1.35L5.41 20z\"/>\n",
              "  </svg>\n",
              "      </button>\n",
              "\n",
              "\n",
              "\n",
              "    <div id=\"df-b42592b3-0ffb-49a1-a566-5d797f3d6da2\">\n",
              "      <button class=\"colab-df-quickchart\" onclick=\"quickchart('df-b42592b3-0ffb-49a1-a566-5d797f3d6da2')\"\n",
              "              title=\"Suggest charts.\"\n",
              "              style=\"display:none;\">\n",
              "\n",
              "<svg xmlns=\"http://www.w3.org/2000/svg\" height=\"24px\"viewBox=\"0 0 24 24\"\n",
              "     width=\"24px\">\n",
              "    <g>\n",
              "        <path d=\"M19 3H5c-1.1 0-2 .9-2 2v14c0 1.1.9 2 2 2h14c1.1 0 2-.9 2-2V5c0-1.1-.9-2-2-2zM9 17H7v-7h2v7zm4 0h-2V7h2v10zm4 0h-2v-4h2v4z\"/>\n",
              "    </g>\n",
              "</svg>\n",
              "      </button>\n",
              "    </div>\n",
              "\n",
              "<style>\n",
              "  .colab-df-quickchart {\n",
              "    background-color: #E8F0FE;\n",
              "    border: none;\n",
              "    border-radius: 50%;\n",
              "    cursor: pointer;\n",
              "    display: none;\n",
              "    fill: #1967D2;\n",
              "    height: 32px;\n",
              "    padding: 0 0 0 0;\n",
              "    width: 32px;\n",
              "  }\n",
              "\n",
              "  .colab-df-quickchart:hover {\n",
              "    background-color: #E2EBFA;\n",
              "    box-shadow: 0px 1px 2px rgba(60, 64, 67, 0.3), 0px 1px 3px 1px rgba(60, 64, 67, 0.15);\n",
              "    fill: #174EA6;\n",
              "  }\n",
              "\n",
              "  [theme=dark] .colab-df-quickchart {\n",
              "    background-color: #3B4455;\n",
              "    fill: #D2E3FC;\n",
              "  }\n",
              "\n",
              "  [theme=dark] .colab-df-quickchart:hover {\n",
              "    background-color: #434B5C;\n",
              "    box-shadow: 0px 1px 3px 1px rgba(0, 0, 0, 0.15);\n",
              "    filter: drop-shadow(0px 1px 2px rgba(0, 0, 0, 0.3));\n",
              "    fill: #FFFFFF;\n",
              "  }\n",
              "</style>\n",
              "\n",
              "    <script>\n",
              "      async function quickchart(key) {\n",
              "        const containerElement = document.querySelector('#' + key);\n",
              "        const charts = await google.colab.kernel.invokeFunction(\n",
              "            'suggestCharts', [key], {});\n",
              "      }\n",
              "    </script>\n",
              "\n",
              "      <script>\n",
              "\n",
              "function displayQuickchartButton(domScope) {\n",
              "  let quickchartButtonEl =\n",
              "    domScope.querySelector('#df-b42592b3-0ffb-49a1-a566-5d797f3d6da2 button.colab-df-quickchart');\n",
              "  quickchartButtonEl.style.display =\n",
              "    google.colab.kernel.accessAllowed ? 'block' : 'none';\n",
              "}\n",
              "\n",
              "        displayQuickchartButton(document);\n",
              "      </script>\n",
              "      <style>\n",
              "    .colab-df-container {\n",
              "      display:flex;\n",
              "      flex-wrap:wrap;\n",
              "      gap: 12px;\n",
              "    }\n",
              "\n",
              "    .colab-df-convert {\n",
              "      background-color: #E8F0FE;\n",
              "      border: none;\n",
              "      border-radius: 50%;\n",
              "      cursor: pointer;\n",
              "      display: none;\n",
              "      fill: #1967D2;\n",
              "      height: 32px;\n",
              "      padding: 0 0 0 0;\n",
              "      width: 32px;\n",
              "    }\n",
              "\n",
              "    .colab-df-convert:hover {\n",
              "      background-color: #E2EBFA;\n",
              "      box-shadow: 0px 1px 2px rgba(60, 64, 67, 0.3), 0px 1px 3px 1px rgba(60, 64, 67, 0.15);\n",
              "      fill: #174EA6;\n",
              "    }\n",
              "\n",
              "    [theme=dark] .colab-df-convert {\n",
              "      background-color: #3B4455;\n",
              "      fill: #D2E3FC;\n",
              "    }\n",
              "\n",
              "    [theme=dark] .colab-df-convert:hover {\n",
              "      background-color: #434B5C;\n",
              "      box-shadow: 0px 1px 3px 1px rgba(0, 0, 0, 0.15);\n",
              "      filter: drop-shadow(0px 1px 2px rgba(0, 0, 0, 0.3));\n",
              "      fill: #FFFFFF;\n",
              "    }\n",
              "  </style>\n",
              "\n",
              "      <script>\n",
              "        const buttonEl =\n",
              "          document.querySelector('#df-be9a2497-9156-4bff-8688-def58a035caf button.colab-df-convert');\n",
              "        buttonEl.style.display =\n",
              "          google.colab.kernel.accessAllowed ? 'block' : 'none';\n",
              "\n",
              "        async function convertToInteractive(key) {\n",
              "          const element = document.querySelector('#df-be9a2497-9156-4bff-8688-def58a035caf');\n",
              "          const dataTable =\n",
              "            await google.colab.kernel.invokeFunction('convertToInteractive',\n",
              "                                                     [key], {});\n",
              "          if (!dataTable) return;\n",
              "\n",
              "          const docLinkHtml = 'Like what you see? Visit the ' +\n",
              "            '<a target=\"_blank\" href=https://colab.research.google.com/notebooks/data_table.ipynb>data table notebook</a>'\n",
              "            + ' to learn more about interactive tables.';\n",
              "          element.innerHTML = '';\n",
              "          dataTable['output_type'] = 'display_data';\n",
              "          await google.colab.output.renderOutput(dataTable, element);\n",
              "          const docLink = document.createElement('div');\n",
              "          docLink.innerHTML = docLinkHtml;\n",
              "          element.appendChild(docLink);\n",
              "        }\n",
              "      </script>\n",
              "    </div>\n",
              "  </div>\n"
            ]
          },
          "metadata": {},
          "execution_count": 13
        }
      ],
      "source": [
        "##### OUR CODE #####\n",
        "subdf['perfect_tokens'] = subdf['perfect_tokens'].apply(lambda tokens: [token.lower() for token in tokens])\n",
        "subdf[13:14]  # print one line to show the lower cases tokens"
      ]
    },
    {
      "cell_type": "markdown",
      "metadata": {
        "id": "eHEEDfjz_HOG"
      },
      "source": [
        "Remove empty lines:"
      ]
    },
    {
      "cell_type": "code",
      "execution_count": null,
      "metadata": {
        "colab": {
          "base_uri": "https://localhost:8080/",
          "height": 269
        },
        "id": "KnBQMzKZ_LQ1",
        "outputId": "5e842c36-fed5-4700-a3ca-5c81d721018f"
      },
      "outputs": [
        {
          "output_type": "execute_result",
          "data": {
            "text/plain": [
              "    label                                tokenized_sentences  \\\n",
              "59   -1.0  [why, does, practically, every, man, in, Franc...   \n",
              "61    0.0                                              [nan]   \n",
              "63    0.0                                           [.., 45]   \n",
              "65    0.0                                         [.., what]   \n",
              "66    1.0  [Going, to, finish, up, Borderlands, 2, today,...   \n",
              "67    1.0  [I, will, finish, Borderlands, 2, today, ., I,...   \n",
              "68    1.0  [I, 'm, going, to, finish, Borderlands, 2, tod...   \n",
              "\n",
              "                                       perfect_tokens  \n",
              "59  [why, does, practically, every, man, in, franc...  \n",
              "61                                              [nan]  \n",
              "63                                               [45]  \n",
              "65                                             [what]  \n",
              "66  [going, to, finish, up, borderlands, 2, today,...  \n",
              "67  [i, will, finish, borderlands, 2, today, i, ha...  \n",
              "68  [i, m, going, to, finish, borderlands, 2, toda...  "
            ],
            "text/html": [
              "\n",
              "\n",
              "  <div id=\"df-e9f3c432-2f6d-462a-b718-e6f3ee8b8cab\">\n",
              "    <div class=\"colab-df-container\">\n",
              "      <div>\n",
              "<style scoped>\n",
              "    .dataframe tbody tr th:only-of-type {\n",
              "        vertical-align: middle;\n",
              "    }\n",
              "\n",
              "    .dataframe tbody tr th {\n",
              "        vertical-align: top;\n",
              "    }\n",
              "\n",
              "    .dataframe thead th {\n",
              "        text-align: right;\n",
              "    }\n",
              "</style>\n",
              "<table border=\"1\" class=\"dataframe\">\n",
              "  <thead>\n",
              "    <tr style=\"text-align: right;\">\n",
              "      <th></th>\n",
              "      <th>label</th>\n",
              "      <th>tokenized_sentences</th>\n",
              "      <th>perfect_tokens</th>\n",
              "    </tr>\n",
              "  </thead>\n",
              "  <tbody>\n",
              "    <tr>\n",
              "      <th>59</th>\n",
              "      <td>-1.0</td>\n",
              "      <td>[why, does, practically, every, man, in, Franc...</td>\n",
              "      <td>[why, does, practically, every, man, in, franc...</td>\n",
              "    </tr>\n",
              "    <tr>\n",
              "      <th>61</th>\n",
              "      <td>0.0</td>\n",
              "      <td>[nan]</td>\n",
              "      <td>[nan]</td>\n",
              "    </tr>\n",
              "    <tr>\n",
              "      <th>63</th>\n",
              "      <td>0.0</td>\n",
              "      <td>[.., 45]</td>\n",
              "      <td>[45]</td>\n",
              "    </tr>\n",
              "    <tr>\n",
              "      <th>65</th>\n",
              "      <td>0.0</td>\n",
              "      <td>[.., what]</td>\n",
              "      <td>[what]</td>\n",
              "    </tr>\n",
              "    <tr>\n",
              "      <th>66</th>\n",
              "      <td>1.0</td>\n",
              "      <td>[Going, to, finish, up, Borderlands, 2, today,...</td>\n",
              "      <td>[going, to, finish, up, borderlands, 2, today,...</td>\n",
              "    </tr>\n",
              "    <tr>\n",
              "      <th>67</th>\n",
              "      <td>1.0</td>\n",
              "      <td>[I, will, finish, Borderlands, 2, today, ., I,...</td>\n",
              "      <td>[i, will, finish, borderlands, 2, today, i, ha...</td>\n",
              "    </tr>\n",
              "    <tr>\n",
              "      <th>68</th>\n",
              "      <td>1.0</td>\n",
              "      <td>[I, 'm, going, to, finish, Borderlands, 2, tod...</td>\n",
              "      <td>[i, m, going, to, finish, borderlands, 2, toda...</td>\n",
              "    </tr>\n",
              "  </tbody>\n",
              "</table>\n",
              "</div>\n",
              "      <button class=\"colab-df-convert\" onclick=\"convertToInteractive('df-e9f3c432-2f6d-462a-b718-e6f3ee8b8cab')\"\n",
              "              title=\"Convert this dataframe to an interactive table.\"\n",
              "              style=\"display:none;\">\n",
              "\n",
              "  <svg xmlns=\"http://www.w3.org/2000/svg\" height=\"24px\"viewBox=\"0 0 24 24\"\n",
              "       width=\"24px\">\n",
              "    <path d=\"M0 0h24v24H0V0z\" fill=\"none\"/>\n",
              "    <path d=\"M18.56 5.44l.94 2.06.94-2.06 2.06-.94-2.06-.94-.94-2.06-.94 2.06-2.06.94zm-11 1L8.5 8.5l.94-2.06 2.06-.94-2.06-.94L8.5 2.5l-.94 2.06-2.06.94zm10 10l.94 2.06.94-2.06 2.06-.94-2.06-.94-.94-2.06-.94 2.06-2.06.94z\"/><path d=\"M17.41 7.96l-1.37-1.37c-.4-.4-.92-.59-1.43-.59-.52 0-1.04.2-1.43.59L10.3 9.45l-7.72 7.72c-.78.78-.78 2.05 0 2.83L4 21.41c.39.39.9.59 1.41.59.51 0 1.02-.2 1.41-.59l7.78-7.78 2.81-2.81c.8-.78.8-2.07 0-2.86zM5.41 20L4 18.59l7.72-7.72 1.47 1.35L5.41 20z\"/>\n",
              "  </svg>\n",
              "      </button>\n",
              "\n",
              "\n",
              "\n",
              "    <div id=\"df-aee10fff-0bdc-4973-a2b0-1fb459b8e020\">\n",
              "      <button class=\"colab-df-quickchart\" onclick=\"quickchart('df-aee10fff-0bdc-4973-a2b0-1fb459b8e020')\"\n",
              "              title=\"Suggest charts.\"\n",
              "              style=\"display:none;\">\n",
              "\n",
              "<svg xmlns=\"http://www.w3.org/2000/svg\" height=\"24px\"viewBox=\"0 0 24 24\"\n",
              "     width=\"24px\">\n",
              "    <g>\n",
              "        <path d=\"M19 3H5c-1.1 0-2 .9-2 2v14c0 1.1.9 2 2 2h14c1.1 0 2-.9 2-2V5c0-1.1-.9-2-2-2zM9 17H7v-7h2v7zm4 0h-2V7h2v10zm4 0h-2v-4h2v4z\"/>\n",
              "    </g>\n",
              "</svg>\n",
              "      </button>\n",
              "    </div>\n",
              "\n",
              "<style>\n",
              "  .colab-df-quickchart {\n",
              "    background-color: #E8F0FE;\n",
              "    border: none;\n",
              "    border-radius: 50%;\n",
              "    cursor: pointer;\n",
              "    display: none;\n",
              "    fill: #1967D2;\n",
              "    height: 32px;\n",
              "    padding: 0 0 0 0;\n",
              "    width: 32px;\n",
              "  }\n",
              "\n",
              "  .colab-df-quickchart:hover {\n",
              "    background-color: #E2EBFA;\n",
              "    box-shadow: 0px 1px 2px rgba(60, 64, 67, 0.3), 0px 1px 3px 1px rgba(60, 64, 67, 0.15);\n",
              "    fill: #174EA6;\n",
              "  }\n",
              "\n",
              "  [theme=dark] .colab-df-quickchart {\n",
              "    background-color: #3B4455;\n",
              "    fill: #D2E3FC;\n",
              "  }\n",
              "\n",
              "  [theme=dark] .colab-df-quickchart:hover {\n",
              "    background-color: #434B5C;\n",
              "    box-shadow: 0px 1px 3px 1px rgba(0, 0, 0, 0.15);\n",
              "    filter: drop-shadow(0px 1px 2px rgba(0, 0, 0, 0.3));\n",
              "    fill: #FFFFFF;\n",
              "  }\n",
              "</style>\n",
              "\n",
              "    <script>\n",
              "      async function quickchart(key) {\n",
              "        const containerElement = document.querySelector('#' + key);\n",
              "        const charts = await google.colab.kernel.invokeFunction(\n",
              "            'suggestCharts', [key], {});\n",
              "      }\n",
              "    </script>\n",
              "\n",
              "      <script>\n",
              "\n",
              "function displayQuickchartButton(domScope) {\n",
              "  let quickchartButtonEl =\n",
              "    domScope.querySelector('#df-aee10fff-0bdc-4973-a2b0-1fb459b8e020 button.colab-df-quickchart');\n",
              "  quickchartButtonEl.style.display =\n",
              "    google.colab.kernel.accessAllowed ? 'block' : 'none';\n",
              "}\n",
              "\n",
              "        displayQuickchartButton(document);\n",
              "      </script>\n",
              "      <style>\n",
              "    .colab-df-container {\n",
              "      display:flex;\n",
              "      flex-wrap:wrap;\n",
              "      gap: 12px;\n",
              "    }\n",
              "\n",
              "    .colab-df-convert {\n",
              "      background-color: #E8F0FE;\n",
              "      border: none;\n",
              "      border-radius: 50%;\n",
              "      cursor: pointer;\n",
              "      display: none;\n",
              "      fill: #1967D2;\n",
              "      height: 32px;\n",
              "      padding: 0 0 0 0;\n",
              "      width: 32px;\n",
              "    }\n",
              "\n",
              "    .colab-df-convert:hover {\n",
              "      background-color: #E2EBFA;\n",
              "      box-shadow: 0px 1px 2px rgba(60, 64, 67, 0.3), 0px 1px 3px 1px rgba(60, 64, 67, 0.15);\n",
              "      fill: #174EA6;\n",
              "    }\n",
              "\n",
              "    [theme=dark] .colab-df-convert {\n",
              "      background-color: #3B4455;\n",
              "      fill: #D2E3FC;\n",
              "    }\n",
              "\n",
              "    [theme=dark] .colab-df-convert:hover {\n",
              "      background-color: #434B5C;\n",
              "      box-shadow: 0px 1px 3px 1px rgba(0, 0, 0, 0.15);\n",
              "      filter: drop-shadow(0px 1px 2px rgba(0, 0, 0, 0.3));\n",
              "      fill: #FFFFFF;\n",
              "    }\n",
              "  </style>\n",
              "\n",
              "      <script>\n",
              "        const buttonEl =\n",
              "          document.querySelector('#df-e9f3c432-2f6d-462a-b718-e6f3ee8b8cab button.colab-df-convert');\n",
              "        buttonEl.style.display =\n",
              "          google.colab.kernel.accessAllowed ? 'block' : 'none';\n",
              "\n",
              "        async function convertToInteractive(key) {\n",
              "          const element = document.querySelector('#df-e9f3c432-2f6d-462a-b718-e6f3ee8b8cab');\n",
              "          const dataTable =\n",
              "            await google.colab.kernel.invokeFunction('convertToInteractive',\n",
              "                                                     [key], {});\n",
              "          if (!dataTable) return;\n",
              "\n",
              "          const docLinkHtml = 'Like what you see? Visit the ' +\n",
              "            '<a target=\"_blank\" href=https://colab.research.google.com/notebooks/data_table.ipynb>data table notebook</a>'\n",
              "            + ' to learn more about interactive tables.';\n",
              "          element.innerHTML = '';\n",
              "          dataTable['output_type'] = 'display_data';\n",
              "          await google.colab.output.renderOutput(dataTable, element);\n",
              "          const docLink = document.createElement('div');\n",
              "          docLink.innerHTML = docLinkHtml;\n",
              "          element.appendChild(docLink);\n",
              "        }\n",
              "      </script>\n",
              "    </div>\n",
              "  </div>\n"
            ]
          },
          "metadata": {},
          "execution_count": 14
        }
      ],
      "source": [
        "# Remove rows where 'Column1' is empty\n",
        "subdf = subdf.dropna(subset = ['perfect_tokens'])\n",
        "subdf = subdf[subdf['perfect_tokens'].apply(lambda x: len(x) > 0)]\n",
        "subdf[59:66]"
      ]
    },
    {
      "cell_type": "markdown",
      "metadata": {
        "id": "dHqYSGT7FyAb"
      },
      "source": [
        "Co-occurance calculation:"
      ]
    },
    {
      "cell_type": "code",
      "execution_count": null,
      "metadata": {
        "colab": {
          "base_uri": "https://localhost:8080/",
          "height": 143
        },
        "id": "rGzFl_JjAbSb",
        "outputId": "7fd6e5d2-aee8-4903-8073-0255652adf49"
      },
      "outputs": [
        {
          "output_type": "execute_result",
          "data": {
            "text/plain": [
              "   label                                tokenized_sentences  \\\n",
              "0    1.0  [im, getting, on, borderlands, and, i, will, m...   \n",
              "1    1.0  [I, am, coming, to, the, borders, and, I, will...   \n",
              "2    1.0  [im, getting, on, borderlands, and, i, will, k...   \n",
              "\n",
              "                                      perfect_tokens  \\\n",
              "0  [im, getting, on, borderlands, and, i, will, m...   \n",
              "1  [i, am, coming, to, the, borders, and, i, will...   \n",
              "2  [im, getting, on, borderlands, and, i, will, k...   \n",
              "\n",
              "                                           frequency  \n",
              "0  {'im': 1, 'getting': 1, 'on': 1, 'borderlands'...  \n",
              "1  {'i': 2, 'am': 1, 'coming': 1, 'to': 1, 'the':...  \n",
              "2  {'im': 1, 'getting': 1, 'on': 1, 'borderlands'...  "
            ],
            "text/html": [
              "\n",
              "\n",
              "  <div id=\"df-7593164d-8577-4830-bdd0-938270eaaff9\">\n",
              "    <div class=\"colab-df-container\">\n",
              "      <div>\n",
              "<style scoped>\n",
              "    .dataframe tbody tr th:only-of-type {\n",
              "        vertical-align: middle;\n",
              "    }\n",
              "\n",
              "    .dataframe tbody tr th {\n",
              "        vertical-align: top;\n",
              "    }\n",
              "\n",
              "    .dataframe thead th {\n",
              "        text-align: right;\n",
              "    }\n",
              "</style>\n",
              "<table border=\"1\" class=\"dataframe\">\n",
              "  <thead>\n",
              "    <tr style=\"text-align: right;\">\n",
              "      <th></th>\n",
              "      <th>label</th>\n",
              "      <th>tokenized_sentences</th>\n",
              "      <th>perfect_tokens</th>\n",
              "      <th>frequency</th>\n",
              "    </tr>\n",
              "  </thead>\n",
              "  <tbody>\n",
              "    <tr>\n",
              "      <th>0</th>\n",
              "      <td>1.0</td>\n",
              "      <td>[im, getting, on, borderlands, and, i, will, m...</td>\n",
              "      <td>[im, getting, on, borderlands, and, i, will, m...</td>\n",
              "      <td>{'im': 1, 'getting': 1, 'on': 1, 'borderlands'...</td>\n",
              "    </tr>\n",
              "    <tr>\n",
              "      <th>1</th>\n",
              "      <td>1.0</td>\n",
              "      <td>[I, am, coming, to, the, borders, and, I, will...</td>\n",
              "      <td>[i, am, coming, to, the, borders, and, i, will...</td>\n",
              "      <td>{'i': 2, 'am': 1, 'coming': 1, 'to': 1, 'the':...</td>\n",
              "    </tr>\n",
              "    <tr>\n",
              "      <th>2</th>\n",
              "      <td>1.0</td>\n",
              "      <td>[im, getting, on, borderlands, and, i, will, k...</td>\n",
              "      <td>[im, getting, on, borderlands, and, i, will, k...</td>\n",
              "      <td>{'im': 1, 'getting': 1, 'on': 1, 'borderlands'...</td>\n",
              "    </tr>\n",
              "  </tbody>\n",
              "</table>\n",
              "</div>\n",
              "      <button class=\"colab-df-convert\" onclick=\"convertToInteractive('df-7593164d-8577-4830-bdd0-938270eaaff9')\"\n",
              "              title=\"Convert this dataframe to an interactive table.\"\n",
              "              style=\"display:none;\">\n",
              "\n",
              "  <svg xmlns=\"http://www.w3.org/2000/svg\" height=\"24px\"viewBox=\"0 0 24 24\"\n",
              "       width=\"24px\">\n",
              "    <path d=\"M0 0h24v24H0V0z\" fill=\"none\"/>\n",
              "    <path d=\"M18.56 5.44l.94 2.06.94-2.06 2.06-.94-2.06-.94-.94-2.06-.94 2.06-2.06.94zm-11 1L8.5 8.5l.94-2.06 2.06-.94-2.06-.94L8.5 2.5l-.94 2.06-2.06.94zm10 10l.94 2.06.94-2.06 2.06-.94-2.06-.94-.94-2.06-.94 2.06-2.06.94z\"/><path d=\"M17.41 7.96l-1.37-1.37c-.4-.4-.92-.59-1.43-.59-.52 0-1.04.2-1.43.59L10.3 9.45l-7.72 7.72c-.78.78-.78 2.05 0 2.83L4 21.41c.39.39.9.59 1.41.59.51 0 1.02-.2 1.41-.59l7.78-7.78 2.81-2.81c.8-.78.8-2.07 0-2.86zM5.41 20L4 18.59l7.72-7.72 1.47 1.35L5.41 20z\"/>\n",
              "  </svg>\n",
              "      </button>\n",
              "\n",
              "\n",
              "\n",
              "    <div id=\"df-b000d74d-a567-456d-b4b0-947c233b0d32\">\n",
              "      <button class=\"colab-df-quickchart\" onclick=\"quickchart('df-b000d74d-a567-456d-b4b0-947c233b0d32')\"\n",
              "              title=\"Suggest charts.\"\n",
              "              style=\"display:none;\">\n",
              "\n",
              "<svg xmlns=\"http://www.w3.org/2000/svg\" height=\"24px\"viewBox=\"0 0 24 24\"\n",
              "     width=\"24px\">\n",
              "    <g>\n",
              "        <path d=\"M19 3H5c-1.1 0-2 .9-2 2v14c0 1.1.9 2 2 2h14c1.1 0 2-.9 2-2V5c0-1.1-.9-2-2-2zM9 17H7v-7h2v7zm4 0h-2V7h2v10zm4 0h-2v-4h2v4z\"/>\n",
              "    </g>\n",
              "</svg>\n",
              "      </button>\n",
              "    </div>\n",
              "\n",
              "<style>\n",
              "  .colab-df-quickchart {\n",
              "    background-color: #E8F0FE;\n",
              "    border: none;\n",
              "    border-radius: 50%;\n",
              "    cursor: pointer;\n",
              "    display: none;\n",
              "    fill: #1967D2;\n",
              "    height: 32px;\n",
              "    padding: 0 0 0 0;\n",
              "    width: 32px;\n",
              "  }\n",
              "\n",
              "  .colab-df-quickchart:hover {\n",
              "    background-color: #E2EBFA;\n",
              "    box-shadow: 0px 1px 2px rgba(60, 64, 67, 0.3), 0px 1px 3px 1px rgba(60, 64, 67, 0.15);\n",
              "    fill: #174EA6;\n",
              "  }\n",
              "\n",
              "  [theme=dark] .colab-df-quickchart {\n",
              "    background-color: #3B4455;\n",
              "    fill: #D2E3FC;\n",
              "  }\n",
              "\n",
              "  [theme=dark] .colab-df-quickchart:hover {\n",
              "    background-color: #434B5C;\n",
              "    box-shadow: 0px 1px 3px 1px rgba(0, 0, 0, 0.15);\n",
              "    filter: drop-shadow(0px 1px 2px rgba(0, 0, 0, 0.3));\n",
              "    fill: #FFFFFF;\n",
              "  }\n",
              "</style>\n",
              "\n",
              "    <script>\n",
              "      async function quickchart(key) {\n",
              "        const containerElement = document.querySelector('#' + key);\n",
              "        const charts = await google.colab.kernel.invokeFunction(\n",
              "            'suggestCharts', [key], {});\n",
              "      }\n",
              "    </script>\n",
              "\n",
              "      <script>\n",
              "\n",
              "function displayQuickchartButton(domScope) {\n",
              "  let quickchartButtonEl =\n",
              "    domScope.querySelector('#df-b000d74d-a567-456d-b4b0-947c233b0d32 button.colab-df-quickchart');\n",
              "  quickchartButtonEl.style.display =\n",
              "    google.colab.kernel.accessAllowed ? 'block' : 'none';\n",
              "}\n",
              "\n",
              "        displayQuickchartButton(document);\n",
              "      </script>\n",
              "      <style>\n",
              "    .colab-df-container {\n",
              "      display:flex;\n",
              "      flex-wrap:wrap;\n",
              "      gap: 12px;\n",
              "    }\n",
              "\n",
              "    .colab-df-convert {\n",
              "      background-color: #E8F0FE;\n",
              "      border: none;\n",
              "      border-radius: 50%;\n",
              "      cursor: pointer;\n",
              "      display: none;\n",
              "      fill: #1967D2;\n",
              "      height: 32px;\n",
              "      padding: 0 0 0 0;\n",
              "      width: 32px;\n",
              "    }\n",
              "\n",
              "    .colab-df-convert:hover {\n",
              "      background-color: #E2EBFA;\n",
              "      box-shadow: 0px 1px 2px rgba(60, 64, 67, 0.3), 0px 1px 3px 1px rgba(60, 64, 67, 0.15);\n",
              "      fill: #174EA6;\n",
              "    }\n",
              "\n",
              "    [theme=dark] .colab-df-convert {\n",
              "      background-color: #3B4455;\n",
              "      fill: #D2E3FC;\n",
              "    }\n",
              "\n",
              "    [theme=dark] .colab-df-convert:hover {\n",
              "      background-color: #434B5C;\n",
              "      box-shadow: 0px 1px 3px 1px rgba(0, 0, 0, 0.15);\n",
              "      filter: drop-shadow(0px 1px 2px rgba(0, 0, 0, 0.3));\n",
              "      fill: #FFFFFF;\n",
              "    }\n",
              "  </style>\n",
              "\n",
              "      <script>\n",
              "        const buttonEl =\n",
              "          document.querySelector('#df-7593164d-8577-4830-bdd0-938270eaaff9 button.colab-df-convert');\n",
              "        buttonEl.style.display =\n",
              "          google.colab.kernel.accessAllowed ? 'block' : 'none';\n",
              "\n",
              "        async function convertToInteractive(key) {\n",
              "          const element = document.querySelector('#df-7593164d-8577-4830-bdd0-938270eaaff9');\n",
              "          const dataTable =\n",
              "            await google.colab.kernel.invokeFunction('convertToInteractive',\n",
              "                                                     [key], {});\n",
              "          if (!dataTable) return;\n",
              "\n",
              "          const docLinkHtml = 'Like what you see? Visit the ' +\n",
              "            '<a target=\"_blank\" href=https://colab.research.google.com/notebooks/data_table.ipynb>data table notebook</a>'\n",
              "            + ' to learn more about interactive tables.';\n",
              "          element.innerHTML = '';\n",
              "          dataTable['output_type'] = 'display_data';\n",
              "          await google.colab.output.renderOutput(dataTable, element);\n",
              "          const docLink = document.createElement('div');\n",
              "          docLink.innerHTML = docLinkHtml;\n",
              "          element.appendChild(docLink);\n",
              "        }\n",
              "      </script>\n",
              "    </div>\n",
              "  </div>\n"
            ]
          },
          "metadata": {},
          "execution_count": 15
        }
      ],
      "source": [
        "# In order to create a loop up table\n",
        "# Create an empty list to store the frequency dictionaries\n",
        "frequency_list = []\n",
        "\n",
        "# Iterate over each row in the DataFrame\n",
        "for index, row in subdf.iterrows():\n",
        "    # Get the tokenized sentence from 'perfect_tokens' column\n",
        "    tokens = row['perfect_tokens']\n",
        "    # Count the occurrences of each token in the sentence\n",
        "    token_counts = Counter(tokens)\n",
        "    # Add the frequency dictionary\n",
        "    frequency_list.append(token_counts)\n",
        "\n",
        "# Assign the frequency dictionary to the 'frequency' column\n",
        "subdf['frequency'] = frequency_list\n",
        "subdf[:3]"
      ]
    },
    {
      "cell_type": "code",
      "execution_count": null,
      "metadata": {
        "colab": {
          "base_uri": "https://localhost:8080/",
          "height": 143
        },
        "id": "0lLPS3u8q1bv",
        "outputId": "bf9f249b-af0a-4119-8f9e-7972594dbbae"
      },
      "outputs": [
        {
          "output_type": "execute_result",
          "data": {
            "text/plain": [
              "   label                                     perfect_tokens  \\\n",
              "0    1.0  [im, getting, on, borderlands, and, i, will, m...   \n",
              "1    1.0  [i, am, coming, to, the, borders, and, i, will...   \n",
              "2    1.0  [im, getting, on, borderlands, and, i, will, k...   \n",
              "\n",
              "                                           frequency  \\\n",
              "0  {'im': 1, 'getting': 1, 'on': 1, 'borderlands'...   \n",
              "1  {'i': 2, 'am': 1, 'coming': 1, 'to': 1, 'the':...   \n",
              "2  {'im': 1, 'getting': 1, 'on': 1, 'borderlands'...   \n",
              "\n",
              "                                         index_token  \n",
              "0  {0: 'im', 1: 'getting', 2: 'on', 3: 'borderlan...  \n",
              "1  {0: 'i', 1: 'am', 2: 'coming', 3: 'to', 4: 'th...  \n",
              "2  {0: 'im', 1: 'getting', 2: 'on', 3: 'borderlan...  "
            ],
            "text/html": [
              "\n",
              "\n",
              "  <div id=\"df-63a019eb-2f59-453e-b5f7-3379dc57d3f0\">\n",
              "    <div class=\"colab-df-container\">\n",
              "      <div>\n",
              "<style scoped>\n",
              "    .dataframe tbody tr th:only-of-type {\n",
              "        vertical-align: middle;\n",
              "    }\n",
              "\n",
              "    .dataframe tbody tr th {\n",
              "        vertical-align: top;\n",
              "    }\n",
              "\n",
              "    .dataframe thead th {\n",
              "        text-align: right;\n",
              "    }\n",
              "</style>\n",
              "<table border=\"1\" class=\"dataframe\">\n",
              "  <thead>\n",
              "    <tr style=\"text-align: right;\">\n",
              "      <th></th>\n",
              "      <th>label</th>\n",
              "      <th>perfect_tokens</th>\n",
              "      <th>frequency</th>\n",
              "      <th>index_token</th>\n",
              "    </tr>\n",
              "  </thead>\n",
              "  <tbody>\n",
              "    <tr>\n",
              "      <th>0</th>\n",
              "      <td>1.0</td>\n",
              "      <td>[im, getting, on, borderlands, and, i, will, m...</td>\n",
              "      <td>{'im': 1, 'getting': 1, 'on': 1, 'borderlands'...</td>\n",
              "      <td>{0: 'im', 1: 'getting', 2: 'on', 3: 'borderlan...</td>\n",
              "    </tr>\n",
              "    <tr>\n",
              "      <th>1</th>\n",
              "      <td>1.0</td>\n",
              "      <td>[i, am, coming, to, the, borders, and, i, will...</td>\n",
              "      <td>{'i': 2, 'am': 1, 'coming': 1, 'to': 1, 'the':...</td>\n",
              "      <td>{0: 'i', 1: 'am', 2: 'coming', 3: 'to', 4: 'th...</td>\n",
              "    </tr>\n",
              "    <tr>\n",
              "      <th>2</th>\n",
              "      <td>1.0</td>\n",
              "      <td>[im, getting, on, borderlands, and, i, will, k...</td>\n",
              "      <td>{'im': 1, 'getting': 1, 'on': 1, 'borderlands'...</td>\n",
              "      <td>{0: 'im', 1: 'getting', 2: 'on', 3: 'borderlan...</td>\n",
              "    </tr>\n",
              "  </tbody>\n",
              "</table>\n",
              "</div>\n",
              "      <button class=\"colab-df-convert\" onclick=\"convertToInteractive('df-63a019eb-2f59-453e-b5f7-3379dc57d3f0')\"\n",
              "              title=\"Convert this dataframe to an interactive table.\"\n",
              "              style=\"display:none;\">\n",
              "\n",
              "  <svg xmlns=\"http://www.w3.org/2000/svg\" height=\"24px\"viewBox=\"0 0 24 24\"\n",
              "       width=\"24px\">\n",
              "    <path d=\"M0 0h24v24H0V0z\" fill=\"none\"/>\n",
              "    <path d=\"M18.56 5.44l.94 2.06.94-2.06 2.06-.94-2.06-.94-.94-2.06-.94 2.06-2.06.94zm-11 1L8.5 8.5l.94-2.06 2.06-.94-2.06-.94L8.5 2.5l-.94 2.06-2.06.94zm10 10l.94 2.06.94-2.06 2.06-.94-2.06-.94-.94-2.06-.94 2.06-2.06.94z\"/><path d=\"M17.41 7.96l-1.37-1.37c-.4-.4-.92-.59-1.43-.59-.52 0-1.04.2-1.43.59L10.3 9.45l-7.72 7.72c-.78.78-.78 2.05 0 2.83L4 21.41c.39.39.9.59 1.41.59.51 0 1.02-.2 1.41-.59l7.78-7.78 2.81-2.81c.8-.78.8-2.07 0-2.86zM5.41 20L4 18.59l7.72-7.72 1.47 1.35L5.41 20z\"/>\n",
              "  </svg>\n",
              "      </button>\n",
              "\n",
              "\n",
              "\n",
              "    <div id=\"df-313ac7c2-8f27-4282-b305-68e5e9343c09\">\n",
              "      <button class=\"colab-df-quickchart\" onclick=\"quickchart('df-313ac7c2-8f27-4282-b305-68e5e9343c09')\"\n",
              "              title=\"Suggest charts.\"\n",
              "              style=\"display:none;\">\n",
              "\n",
              "<svg xmlns=\"http://www.w3.org/2000/svg\" height=\"24px\"viewBox=\"0 0 24 24\"\n",
              "     width=\"24px\">\n",
              "    <g>\n",
              "        <path d=\"M19 3H5c-1.1 0-2 .9-2 2v14c0 1.1.9 2 2 2h14c1.1 0 2-.9 2-2V5c0-1.1-.9-2-2-2zM9 17H7v-7h2v7zm4 0h-2V7h2v10zm4 0h-2v-4h2v4z\"/>\n",
              "    </g>\n",
              "</svg>\n",
              "      </button>\n",
              "    </div>\n",
              "\n",
              "<style>\n",
              "  .colab-df-quickchart {\n",
              "    background-color: #E8F0FE;\n",
              "    border: none;\n",
              "    border-radius: 50%;\n",
              "    cursor: pointer;\n",
              "    display: none;\n",
              "    fill: #1967D2;\n",
              "    height: 32px;\n",
              "    padding: 0 0 0 0;\n",
              "    width: 32px;\n",
              "  }\n",
              "\n",
              "  .colab-df-quickchart:hover {\n",
              "    background-color: #E2EBFA;\n",
              "    box-shadow: 0px 1px 2px rgba(60, 64, 67, 0.3), 0px 1px 3px 1px rgba(60, 64, 67, 0.15);\n",
              "    fill: #174EA6;\n",
              "  }\n",
              "\n",
              "  [theme=dark] .colab-df-quickchart {\n",
              "    background-color: #3B4455;\n",
              "    fill: #D2E3FC;\n",
              "  }\n",
              "\n",
              "  [theme=dark] .colab-df-quickchart:hover {\n",
              "    background-color: #434B5C;\n",
              "    box-shadow: 0px 1px 3px 1px rgba(0, 0, 0, 0.15);\n",
              "    filter: drop-shadow(0px 1px 2px rgba(0, 0, 0, 0.3));\n",
              "    fill: #FFFFFF;\n",
              "  }\n",
              "</style>\n",
              "\n",
              "    <script>\n",
              "      async function quickchart(key) {\n",
              "        const containerElement = document.querySelector('#' + key);\n",
              "        const charts = await google.colab.kernel.invokeFunction(\n",
              "            'suggestCharts', [key], {});\n",
              "      }\n",
              "    </script>\n",
              "\n",
              "      <script>\n",
              "\n",
              "function displayQuickchartButton(domScope) {\n",
              "  let quickchartButtonEl =\n",
              "    domScope.querySelector('#df-313ac7c2-8f27-4282-b305-68e5e9343c09 button.colab-df-quickchart');\n",
              "  quickchartButtonEl.style.display =\n",
              "    google.colab.kernel.accessAllowed ? 'block' : 'none';\n",
              "}\n",
              "\n",
              "        displayQuickchartButton(document);\n",
              "      </script>\n",
              "      <style>\n",
              "    .colab-df-container {\n",
              "      display:flex;\n",
              "      flex-wrap:wrap;\n",
              "      gap: 12px;\n",
              "    }\n",
              "\n",
              "    .colab-df-convert {\n",
              "      background-color: #E8F0FE;\n",
              "      border: none;\n",
              "      border-radius: 50%;\n",
              "      cursor: pointer;\n",
              "      display: none;\n",
              "      fill: #1967D2;\n",
              "      height: 32px;\n",
              "      padding: 0 0 0 0;\n",
              "      width: 32px;\n",
              "    }\n",
              "\n",
              "    .colab-df-convert:hover {\n",
              "      background-color: #E2EBFA;\n",
              "      box-shadow: 0px 1px 2px rgba(60, 64, 67, 0.3), 0px 1px 3px 1px rgba(60, 64, 67, 0.15);\n",
              "      fill: #174EA6;\n",
              "    }\n",
              "\n",
              "    [theme=dark] .colab-df-convert {\n",
              "      background-color: #3B4455;\n",
              "      fill: #D2E3FC;\n",
              "    }\n",
              "\n",
              "    [theme=dark] .colab-df-convert:hover {\n",
              "      background-color: #434B5C;\n",
              "      box-shadow: 0px 1px 3px 1px rgba(0, 0, 0, 0.15);\n",
              "      filter: drop-shadow(0px 1px 2px rgba(0, 0, 0, 0.3));\n",
              "      fill: #FFFFFF;\n",
              "    }\n",
              "  </style>\n",
              "\n",
              "      <script>\n",
              "        const buttonEl =\n",
              "          document.querySelector('#df-63a019eb-2f59-453e-b5f7-3379dc57d3f0 button.colab-df-convert');\n",
              "        buttonEl.style.display =\n",
              "          google.colab.kernel.accessAllowed ? 'block' : 'none';\n",
              "\n",
              "        async function convertToInteractive(key) {\n",
              "          const element = document.querySelector('#df-63a019eb-2f59-453e-b5f7-3379dc57d3f0');\n",
              "          const dataTable =\n",
              "            await google.colab.kernel.invokeFunction('convertToInteractive',\n",
              "                                                     [key], {});\n",
              "          if (!dataTable) return;\n",
              "\n",
              "          const docLinkHtml = 'Like what you see? Visit the ' +\n",
              "            '<a target=\"_blank\" href=https://colab.research.google.com/notebooks/data_table.ipynb>data table notebook</a>'\n",
              "            + ' to learn more about interactive tables.';\n",
              "          element.innerHTML = '';\n",
              "          dataTable['output_type'] = 'display_data';\n",
              "          await google.colab.output.renderOutput(dataTable, element);\n",
              "          const docLink = document.createElement('div');\n",
              "          docLink.innerHTML = docLinkHtml;\n",
              "          element.appendChild(docLink);\n",
              "        }\n",
              "      </script>\n",
              "    </div>\n",
              "  </div>\n"
            ]
          },
          "metadata": {},
          "execution_count": 16
        }
      ],
      "source": [
        "subdf['index_token'] = subdf['perfect_tokens'].apply(lambda tokens: {i: token for i, token in enumerate(tokens)})\n",
        "subdf = subdf[['label', 'perfect_tokens', 'frequency', 'index_token']]\n",
        "subdf[:3]"
      ]
    },
    {
      "cell_type": "markdown",
      "metadata": {
        "id": "WsR_yG46Mjz5"
      },
      "source": [
        "Shuffle the subdf dataframe (randomlize it):"
      ]
    },
    {
      "cell_type": "code",
      "execution_count": null,
      "metadata": {
        "colab": {
          "base_uri": "https://localhost:8080/",
          "height": 423
        },
        "id": "RV35fAXBMVO1",
        "outputId": "e2878cc7-c426-4af6-f720-ab8a61556443"
      },
      "outputs": [
        {
          "output_type": "execute_result",
          "data": {
            "text/plain": [
              "         label                                     perfect_tokens  \\\n",
              "745148    -1.0                   [divinestorm, unfortunately, no]   \n",
              "635474    -1.0  [waiting, for, fedex, to, deliver, my, clothes...   \n",
              "1823721    1.0  [didnt, find, the, account, insta, twitter, th...   \n",
              "1262849    1.0  [leahhhx, they, re, jessicaveronica, and, lisa...   \n",
              "1349312    1.0        [houston, texas, nice, and, not, too, warm]   \n",
              "...        ...                                                ...   \n",
              "259407    -1.0  [now, it, s, time, to, go, high, school, feels...   \n",
              "1414643    1.0  [nims197, true, i, forgot, about, that, oh, we...   \n",
              "132161    -1.0                               [not, exactly, sure]   \n",
              "671384    -1.0                      [i, need, my, mac, like, now]   \n",
              "122187    -1.0  [no, walk, for, hunger, for, me, today, foot, ...   \n",
              "\n",
              "                                                 frequency  \\\n",
              "745148     {'divinestorm': 1, 'unfortunately': 1, 'no': 1}   \n",
              "635474   {'waiting': 1, 'for': 1, 'fedex': 2, 'to': 1, ...   \n",
              "1823721  {'didnt': 1, 'find': 1, 'the': 2, 'account': 1...   \n",
              "1262849  {'leahhhx': 1, 'they': 1, 're': 1, 'jessicaver...   \n",
              "1349312  {'houston': 1, 'texas': 1, 'nice': 1, 'and': 1...   \n",
              "...                                                    ...   \n",
              "259407   {'now': 1, 'it': 1, 's': 2, 'time': 1, 'to': 2...   \n",
              "1414643  {'nims197': 1, 'true': 1, 'i': 1, 'forgot': 1,...   \n",
              "132161                 {'not': 1, 'exactly': 1, 'sure': 1}   \n",
              "671384   {'i': 1, 'need': 1, 'my': 1, 'mac': 1, 'like':...   \n",
              "122187   {'no': 1, 'walk': 1, 'for': 2, 'hunger': 1, 'm...   \n",
              "\n",
              "                                               index_token  \n",
              "745148     {0: 'divinestorm', 1: 'unfortunately', 2: 'no'}  \n",
              "635474   {0: 'waiting', 1: 'for', 2: 'fedex', 3: 'to', ...  \n",
              "1823721  {0: 'didnt', 1: 'find', 2: 'the', 3: 'account'...  \n",
              "1262849  {0: 'leahhhx', 1: 'they', 2: 're', 3: 'jessica...  \n",
              "1349312  {0: 'houston', 1: 'texas', 2: 'nice', 3: 'and'...  \n",
              "...                                                    ...  \n",
              "259407   {0: 'now', 1: 'it', 2: 's', 3: 'time', 4: 'to'...  \n",
              "1414643  {0: 'nims197', 1: 'true', 2: 'i', 3: 'forgot',...  \n",
              "132161                 {0: 'not', 1: 'exactly', 2: 'sure'}  \n",
              "671384   {0: 'i', 1: 'need', 2: 'my', 3: 'mac', 4: 'lik...  \n",
              "122187   {0: 'no', 1: 'walk', 2: 'for', 3: 'hunger', 4:...  \n",
              "\n",
              "[1565858 rows x 4 columns]"
            ],
            "text/html": [
              "\n",
              "\n",
              "  <div id=\"df-429ff521-9633-4d62-93f9-b732c455ff96\">\n",
              "    <div class=\"colab-df-container\">\n",
              "      <div>\n",
              "<style scoped>\n",
              "    .dataframe tbody tr th:only-of-type {\n",
              "        vertical-align: middle;\n",
              "    }\n",
              "\n",
              "    .dataframe tbody tr th {\n",
              "        vertical-align: top;\n",
              "    }\n",
              "\n",
              "    .dataframe thead th {\n",
              "        text-align: right;\n",
              "    }\n",
              "</style>\n",
              "<table border=\"1\" class=\"dataframe\">\n",
              "  <thead>\n",
              "    <tr style=\"text-align: right;\">\n",
              "      <th></th>\n",
              "      <th>label</th>\n",
              "      <th>perfect_tokens</th>\n",
              "      <th>frequency</th>\n",
              "      <th>index_token</th>\n",
              "    </tr>\n",
              "  </thead>\n",
              "  <tbody>\n",
              "    <tr>\n",
              "      <th>745148</th>\n",
              "      <td>-1.0</td>\n",
              "      <td>[divinestorm, unfortunately, no]</td>\n",
              "      <td>{'divinestorm': 1, 'unfortunately': 1, 'no': 1}</td>\n",
              "      <td>{0: 'divinestorm', 1: 'unfortunately', 2: 'no'}</td>\n",
              "    </tr>\n",
              "    <tr>\n",
              "      <th>635474</th>\n",
              "      <td>-1.0</td>\n",
              "      <td>[waiting, for, fedex, to, deliver, my, clothes...</td>\n",
              "      <td>{'waiting': 1, 'for': 1, 'fedex': 2, 'to': 1, ...</td>\n",
              "      <td>{0: 'waiting', 1: 'for', 2: 'fedex', 3: 'to', ...</td>\n",
              "    </tr>\n",
              "    <tr>\n",
              "      <th>1823721</th>\n",
              "      <td>1.0</td>\n",
              "      <td>[didnt, find, the, account, insta, twitter, th...</td>\n",
              "      <td>{'didnt': 1, 'find': 1, 'the': 2, 'account': 1...</td>\n",
              "      <td>{0: 'didnt', 1: 'find', 2: 'the', 3: 'account'...</td>\n",
              "    </tr>\n",
              "    <tr>\n",
              "      <th>1262849</th>\n",
              "      <td>1.0</td>\n",
              "      <td>[leahhhx, they, re, jessicaveronica, and, lisa...</td>\n",
              "      <td>{'leahhhx': 1, 'they': 1, 're': 1, 'jessicaver...</td>\n",
              "      <td>{0: 'leahhhx', 1: 'they', 2: 're', 3: 'jessica...</td>\n",
              "    </tr>\n",
              "    <tr>\n",
              "      <th>1349312</th>\n",
              "      <td>1.0</td>\n",
              "      <td>[houston, texas, nice, and, not, too, warm]</td>\n",
              "      <td>{'houston': 1, 'texas': 1, 'nice': 1, 'and': 1...</td>\n",
              "      <td>{0: 'houston', 1: 'texas', 2: 'nice', 3: 'and'...</td>\n",
              "    </tr>\n",
              "    <tr>\n",
              "      <th>...</th>\n",
              "      <td>...</td>\n",
              "      <td>...</td>\n",
              "      <td>...</td>\n",
              "      <td>...</td>\n",
              "    </tr>\n",
              "    <tr>\n",
              "      <th>259407</th>\n",
              "      <td>-1.0</td>\n",
              "      <td>[now, it, s, time, to, go, high, school, feels...</td>\n",
              "      <td>{'now': 1, 'it': 1, 's': 2, 'time': 1, 'to': 2...</td>\n",
              "      <td>{0: 'now', 1: 'it', 2: 's', 3: 'time', 4: 'to'...</td>\n",
              "    </tr>\n",
              "    <tr>\n",
              "      <th>1414643</th>\n",
              "      <td>1.0</td>\n",
              "      <td>[nims197, true, i, forgot, about, that, oh, we...</td>\n",
              "      <td>{'nims197': 1, 'true': 1, 'i': 1, 'forgot': 1,...</td>\n",
              "      <td>{0: 'nims197', 1: 'true', 2: 'i', 3: 'forgot',...</td>\n",
              "    </tr>\n",
              "    <tr>\n",
              "      <th>132161</th>\n",
              "      <td>-1.0</td>\n",
              "      <td>[not, exactly, sure]</td>\n",
              "      <td>{'not': 1, 'exactly': 1, 'sure': 1}</td>\n",
              "      <td>{0: 'not', 1: 'exactly', 2: 'sure'}</td>\n",
              "    </tr>\n",
              "    <tr>\n",
              "      <th>671384</th>\n",
              "      <td>-1.0</td>\n",
              "      <td>[i, need, my, mac, like, now]</td>\n",
              "      <td>{'i': 1, 'need': 1, 'my': 1, 'mac': 1, 'like':...</td>\n",
              "      <td>{0: 'i', 1: 'need', 2: 'my', 3: 'mac', 4: 'lik...</td>\n",
              "    </tr>\n",
              "    <tr>\n",
              "      <th>122187</th>\n",
              "      <td>-1.0</td>\n",
              "      <td>[no, walk, for, hunger, for, me, today, foot, ...</td>\n",
              "      <td>{'no': 1, 'walk': 1, 'for': 2, 'hunger': 1, 'm...</td>\n",
              "      <td>{0: 'no', 1: 'walk', 2: 'for', 3: 'hunger', 4:...</td>\n",
              "    </tr>\n",
              "  </tbody>\n",
              "</table>\n",
              "<p>1565858 rows × 4 columns</p>\n",
              "</div>\n",
              "      <button class=\"colab-df-convert\" onclick=\"convertToInteractive('df-429ff521-9633-4d62-93f9-b732c455ff96')\"\n",
              "              title=\"Convert this dataframe to an interactive table.\"\n",
              "              style=\"display:none;\">\n",
              "\n",
              "  <svg xmlns=\"http://www.w3.org/2000/svg\" height=\"24px\"viewBox=\"0 0 24 24\"\n",
              "       width=\"24px\">\n",
              "    <path d=\"M0 0h24v24H0V0z\" fill=\"none\"/>\n",
              "    <path d=\"M18.56 5.44l.94 2.06.94-2.06 2.06-.94-2.06-.94-.94-2.06-.94 2.06-2.06.94zm-11 1L8.5 8.5l.94-2.06 2.06-.94-2.06-.94L8.5 2.5l-.94 2.06-2.06.94zm10 10l.94 2.06.94-2.06 2.06-.94-2.06-.94-.94-2.06-.94 2.06-2.06.94z\"/><path d=\"M17.41 7.96l-1.37-1.37c-.4-.4-.92-.59-1.43-.59-.52 0-1.04.2-1.43.59L10.3 9.45l-7.72 7.72c-.78.78-.78 2.05 0 2.83L4 21.41c.39.39.9.59 1.41.59.51 0 1.02-.2 1.41-.59l7.78-7.78 2.81-2.81c.8-.78.8-2.07 0-2.86zM5.41 20L4 18.59l7.72-7.72 1.47 1.35L5.41 20z\"/>\n",
              "  </svg>\n",
              "      </button>\n",
              "\n",
              "\n",
              "\n",
              "    <div id=\"df-beedc4b9-3e51-485c-ae9d-a41d750ca243\">\n",
              "      <button class=\"colab-df-quickchart\" onclick=\"quickchart('df-beedc4b9-3e51-485c-ae9d-a41d750ca243')\"\n",
              "              title=\"Suggest charts.\"\n",
              "              style=\"display:none;\">\n",
              "\n",
              "<svg xmlns=\"http://www.w3.org/2000/svg\" height=\"24px\"viewBox=\"0 0 24 24\"\n",
              "     width=\"24px\">\n",
              "    <g>\n",
              "        <path d=\"M19 3H5c-1.1 0-2 .9-2 2v14c0 1.1.9 2 2 2h14c1.1 0 2-.9 2-2V5c0-1.1-.9-2-2-2zM9 17H7v-7h2v7zm4 0h-2V7h2v10zm4 0h-2v-4h2v4z\"/>\n",
              "    </g>\n",
              "</svg>\n",
              "      </button>\n",
              "    </div>\n",
              "\n",
              "<style>\n",
              "  .colab-df-quickchart {\n",
              "    background-color: #E8F0FE;\n",
              "    border: none;\n",
              "    border-radius: 50%;\n",
              "    cursor: pointer;\n",
              "    display: none;\n",
              "    fill: #1967D2;\n",
              "    height: 32px;\n",
              "    padding: 0 0 0 0;\n",
              "    width: 32px;\n",
              "  }\n",
              "\n",
              "  .colab-df-quickchart:hover {\n",
              "    background-color: #E2EBFA;\n",
              "    box-shadow: 0px 1px 2px rgba(60, 64, 67, 0.3), 0px 1px 3px 1px rgba(60, 64, 67, 0.15);\n",
              "    fill: #174EA6;\n",
              "  }\n",
              "\n",
              "  [theme=dark] .colab-df-quickchart {\n",
              "    background-color: #3B4455;\n",
              "    fill: #D2E3FC;\n",
              "  }\n",
              "\n",
              "  [theme=dark] .colab-df-quickchart:hover {\n",
              "    background-color: #434B5C;\n",
              "    box-shadow: 0px 1px 3px 1px rgba(0, 0, 0, 0.15);\n",
              "    filter: drop-shadow(0px 1px 2px rgba(0, 0, 0, 0.3));\n",
              "    fill: #FFFFFF;\n",
              "  }\n",
              "</style>\n",
              "\n",
              "    <script>\n",
              "      async function quickchart(key) {\n",
              "        const containerElement = document.querySelector('#' + key);\n",
              "        const charts = await google.colab.kernel.invokeFunction(\n",
              "            'suggestCharts', [key], {});\n",
              "      }\n",
              "    </script>\n",
              "\n",
              "      <script>\n",
              "\n",
              "function displayQuickchartButton(domScope) {\n",
              "  let quickchartButtonEl =\n",
              "    domScope.querySelector('#df-beedc4b9-3e51-485c-ae9d-a41d750ca243 button.colab-df-quickchart');\n",
              "  quickchartButtonEl.style.display =\n",
              "    google.colab.kernel.accessAllowed ? 'block' : 'none';\n",
              "}\n",
              "\n",
              "        displayQuickchartButton(document);\n",
              "      </script>\n",
              "      <style>\n",
              "    .colab-df-container {\n",
              "      display:flex;\n",
              "      flex-wrap:wrap;\n",
              "      gap: 12px;\n",
              "    }\n",
              "\n",
              "    .colab-df-convert {\n",
              "      background-color: #E8F0FE;\n",
              "      border: none;\n",
              "      border-radius: 50%;\n",
              "      cursor: pointer;\n",
              "      display: none;\n",
              "      fill: #1967D2;\n",
              "      height: 32px;\n",
              "      padding: 0 0 0 0;\n",
              "      width: 32px;\n",
              "    }\n",
              "\n",
              "    .colab-df-convert:hover {\n",
              "      background-color: #E2EBFA;\n",
              "      box-shadow: 0px 1px 2px rgba(60, 64, 67, 0.3), 0px 1px 3px 1px rgba(60, 64, 67, 0.15);\n",
              "      fill: #174EA6;\n",
              "    }\n",
              "\n",
              "    [theme=dark] .colab-df-convert {\n",
              "      background-color: #3B4455;\n",
              "      fill: #D2E3FC;\n",
              "    }\n",
              "\n",
              "    [theme=dark] .colab-df-convert:hover {\n",
              "      background-color: #434B5C;\n",
              "      box-shadow: 0px 1px 3px 1px rgba(0, 0, 0, 0.15);\n",
              "      filter: drop-shadow(0px 1px 2px rgba(0, 0, 0, 0.3));\n",
              "      fill: #FFFFFF;\n",
              "    }\n",
              "  </style>\n",
              "\n",
              "      <script>\n",
              "        const buttonEl =\n",
              "          document.querySelector('#df-429ff521-9633-4d62-93f9-b732c455ff96 button.colab-df-convert');\n",
              "        buttonEl.style.display =\n",
              "          google.colab.kernel.accessAllowed ? 'block' : 'none';\n",
              "\n",
              "        async function convertToInteractive(key) {\n",
              "          const element = document.querySelector('#df-429ff521-9633-4d62-93f9-b732c455ff96');\n",
              "          const dataTable =\n",
              "            await google.colab.kernel.invokeFunction('convertToInteractive',\n",
              "                                                     [key], {});\n",
              "          if (!dataTable) return;\n",
              "\n",
              "          const docLinkHtml = 'Like what you see? Visit the ' +\n",
              "            '<a target=\"_blank\" href=https://colab.research.google.com/notebooks/data_table.ipynb>data table notebook</a>'\n",
              "            + ' to learn more about interactive tables.';\n",
              "          element.innerHTML = '';\n",
              "          dataTable['output_type'] = 'display_data';\n",
              "          await google.colab.output.renderOutput(dataTable, element);\n",
              "          const docLink = document.createElement('div');\n",
              "          docLink.innerHTML = docLinkHtml;\n",
              "          element.appendChild(docLink);\n",
              "        }\n",
              "      </script>\n",
              "    </div>\n",
              "  </div>\n"
            ]
          },
          "metadata": {},
          "execution_count": 17
        }
      ],
      "source": [
        "subdf = subdf.sample(frac=1, random_state=42)\n",
        "subdf[259405:]"
      ]
    },
    {
      "cell_type": "markdown",
      "metadata": {
        "id": "CUyGc_EXK7mG"
      },
      "source": [
        "Summary:\n",
        "\n",
        "Section 2.1 take in the combined csv file, convert the sentence column from a sentence into word tokens, the final output is the tokens without punctuations and also no empty tokens. Output variable type is a list of strings for the whole column named **perfect_tokens** inside the combined csv file **project.csv**."
      ]
    },
    {
      "cell_type": "markdown",
      "metadata": {
        "id": "OPbPi834hFqi"
      },
      "source": [
        "2.2 Encode words using GloVe 跑模型，存数据"
      ]
    },
    {
      "cell_type": "markdown",
      "metadata": {
        "id": "c7R1a-oLXuCv"
      },
      "source": [
        "Load a pre-trained GloVe Model 将找到的模型存入，以便使用"
      ]
    },
    {
      "cell_type": "code",
      "execution_count": null,
      "metadata": {
        "colab": {
          "background_save": true,
          "base_uri": "https://localhost:8080/"
        },
        "id": "hpINBqF2OECq",
        "outputId": "ff82eef5-51f8-4178-ea45-e7b5165f83a5"
      },
      "outputs": [
        {
          "name": "stdout",
          "output_type": "stream",
          "text": [
            "--2023-08-03 16:49:58--  http://nlp.stanford.edu/data/glove.6B.zip\n",
            "Resolving nlp.stanford.edu (nlp.stanford.edu)... 171.64.67.140\n",
            "Connecting to nlp.stanford.edu (nlp.stanford.edu)|171.64.67.140|:80... connected.\n",
            "HTTP request sent, awaiting response... 302 Found\n",
            "Location: https://nlp.stanford.edu/data/glove.6B.zip [following]\n",
            "--2023-08-03 16:49:58--  https://nlp.stanford.edu/data/glove.6B.zip\n",
            "Connecting to nlp.stanford.edu (nlp.stanford.edu)|171.64.67.140|:443... connected.\n",
            "HTTP request sent, awaiting response... 301 Moved Permanently\n",
            "Location: https://downloads.cs.stanford.edu/nlp/data/glove.6B.zip [following]\n",
            "--2023-08-03 16:49:58--  https://downloads.cs.stanford.edu/nlp/data/glove.6B.zip\n",
            "Resolving downloads.cs.stanford.edu (downloads.cs.stanford.edu)... 171.64.64.22\n",
            "Connecting to downloads.cs.stanford.edu (downloads.cs.stanford.edu)|171.64.64.22|:443... connected.\n",
            "Unable to establish SSL connection.\n"
          ]
        }
      ],
      "source": [
        "!wget --no-check-certificate \\\n",
        "     http://nlp.stanford.edu/data/glove.6B.zip \\\n",
        "     -O /tmp/glove.6B.zip"
      ]
    },
    {
      "cell_type": "code",
      "execution_count": null,
      "metadata": {
        "id": "XyzCpM1BsAf-"
      },
      "outputs": [],
      "source": [
        "# Downloading the GloVe word embeddings\n",
        "# Extract word embeddings into a temporary folder\n",
        "import os\n",
        "import zipfile\n",
        "import numpy as np\n",
        "with zipfile.ZipFile('/tmp/glove.6B.zip', 'r') as zip_ref:\n",
        "    zip_ref.extractall('/tmp/glove')\n",
        "\n",
        "# Create that dictionary with those embeddings\n",
        "def embedding_for_vocab(word_index, max_length):\n",
        "\n",
        "  embeddings_index = {}\n",
        "  f = open('/tmp/glove/glove.6B.100d.txt')\n",
        "  for line in f:\n",
        "    values = line.split()\n",
        "    word = values[0]\n",
        "    coefs = np.asarray(values[1:], dtype='float32')\n",
        "    embeddings_index[word] = coefs\n",
        "  f.close()\n",
        "\n",
        "  print('Found %s word vectors.' % len(embeddings_index))\n",
        "\n",
        "  # Create a word embedding matrix for each word in the word index\n",
        "  #word_index = subdf['index_token']\n",
        "  #max_length = 100\n",
        "  embedding_matrix = np.zeros((len(word_index) + 1, max_length))\n",
        "  for word, i in word_index.items():\n",
        "      embedding_vector = embeddings_index.get(word)\n",
        "      if embedding_vector is not None:\n",
        "          # words not found in embedding index will be all-zeros.\n",
        "          embedding_matrix[i] = embedding_vector\n",
        "\n",
        "  return embedding_matrix"
      ]
    },
    {
      "cell_type": "code",
      "execution_count": null,
      "metadata": {
        "colab": {
          "base_uri": "https://localhost:8080/"
        },
        "id": "xdeoj0ul4uq_",
        "outputId": "7ada4f46-bef3-4d3b-d1fc-67fdd7170680"
      },
      "outputs": [
        {
          "name": "stdout",
          "output_type": "stream",
          "text": [
            "Found 400000 word vectors.\n",
            "Dense vector for first word is =>  [-0.046539    0.61966002  0.56647003 -0.46584001 -1.18900001  0.44599\n",
            "  0.066035    0.31909999  0.14679    -0.22119001  0.79238999  0.29905\n",
            "  0.16073     0.025324    0.18678001 -0.31000999 -0.28108001  0.60514998\n",
            " -1.0654      0.52476001  0.064152    1.03579998 -0.40779001 -0.38011\n",
            "  0.30801001  0.59964001 -0.26991001 -0.76034999  0.94221997 -0.46919\n",
            " -0.18278     0.90652001  0.79671001  0.24824999  0.25713     0.6232\n",
            " -0.44768     0.65357     0.76902002 -0.51229    -0.44332999 -0.21867\n",
            "  0.38370001 -1.14830005 -0.94397998 -0.15062     0.30012    -0.57805997\n",
            "  0.20175    -1.65910006 -0.079195    0.026423    0.22051001  0.99713999\n",
            " -0.57538998 -2.72659993  0.31448001  0.70521998  1.43809998  0.99125999\n",
            "  0.13976     1.34739995 -1.1753      0.0039503   1.02980006  0.064637\n",
            "  0.90886998  0.82871997 -0.47003001 -0.10575     0.5916     -0.42210001\n",
            "  0.57331002 -0.54114002  0.10768     0.39783999 -0.048744    0.064596\n",
            " -0.61436999 -0.28600001  0.50669998 -0.49757999 -0.81569999  0.16407999\n",
            " -1.96300006 -0.26693001 -0.37593001 -0.95846999 -0.85839999 -0.71577001\n",
            " -0.32343    -0.43121001  0.41391999  0.28374001 -0.70931     0.15003\n",
            " -0.2154     -0.37616    -0.032502    0.80620003]\n",
            "Dense vector for second word is =>  [-0.038194   -0.24487001  0.72812003 -0.39961001  0.083172    0.043953\n",
            " -0.39140999  0.3344     -0.57545     0.087459    0.28786999 -0.06731\n",
            "  0.30906001 -0.26383999 -0.13231    -0.20757     0.33395001 -0.33848\n",
            " -0.31742999 -0.48335999  0.1464     -0.37303999  0.34577     0.052041\n",
            "  0.44946    -0.46970999  0.02628    -0.54154998 -0.15518001 -0.14106999\n",
            " -0.039722    0.28277001  0.14393     0.23464    -0.31020999  0.086173\n",
            "  0.20397     0.52623999  0.17163999 -0.082378   -0.71787    -0.41531\n",
            "  0.20334999 -0.12763     0.41367     0.55186999  0.57907999 -0.33476999\n",
            " -0.36559001 -0.54856998 -0.062892    0.26583999  0.30204999  0.99774998\n",
            " -0.80480999 -3.0243001   0.01254    -0.36941999  2.21670008  0.72201002\n",
            " -0.24978     0.92136002  0.034514    0.46744999  1.10790002 -0.19358\n",
            " -0.074575    0.23353    -0.052062   -0.22044     0.057162   -0.15806\n",
            " -0.30798    -0.41624999  0.37972     0.15006    -0.53211999 -0.20550001\n",
            " -1.25259995  0.071624    0.70564997  0.49744001 -0.42063001  0.26148\n",
            " -1.53799999 -0.30223    -0.073438   -0.28312001  0.37103999 -0.25217\n",
            "  0.016215   -0.017099   -0.38984001  0.87423998 -0.72569001 -0.51058\n",
            " -0.52028    -0.1459      0.82779998  0.27061999]\n",
            "Dense vector for second word is =>  [0. 0. 0. 0. 0. 0. 0. 0. 0. 0. 0. 0. 0. 0. 0. 0. 0. 0. 0. 0. 0. 0. 0. 0.\n",
            " 0. 0. 0. 0. 0. 0. 0. 0. 0. 0. 0. 0. 0. 0. 0. 0. 0. 0. 0. 0. 0. 0. 0. 0.\n",
            " 0. 0. 0. 0. 0. 0. 0. 0. 0. 0. 0. 0. 0. 0. 0. 0. 0. 0. 0. 0. 0. 0. 0. 0.\n",
            " 0. 0. 0. 0. 0. 0. 0. 0. 0. 0. 0. 0. 0. 0. 0. 0. 0. 0. 0. 0. 0. 0. 0. 0.\n",
            " 0. 0. 0. 0.]\n"
          ]
        }
      ],
      "source": [
        "from tensorflow.keras.preprocessing.text import Tokenizer\n",
        "from tensorflow.keras.preprocessing.sequence import pad_sequences\n",
        "tokenizer = Tokenizer()\n",
        "tokenizer.fit_on_texts(subdf['perfect_tokens'])\n",
        "\n",
        "embedding_matrix=embedding_for_vocab(tokenizer.word_index,100)\n",
        "print(\"Dense vector for first word is => \",embedding_matrix[1])\n",
        "print(\"Dense vector for second word is => \",embedding_matrix[2])\n",
        "print(\"Dense vector for second word is => \",embedding_matrix[0])"
      ]
    },
    {
      "cell_type": "markdown",
      "metadata": {
        "id": "95zxe59iVeoo"
      },
      "source": [
        "Split each sentence and sequences the vectors:"
      ]
    },
    {
      "cell_type": "code",
      "execution_count": null,
      "metadata": {
        "colab": {
          "base_uri": "https://localhost:8080/"
        },
        "id": "lovBgvqGVvR1",
        "outputId": "c8e4f1be-75cd-4ba6-9f97-7e8d7e7f0188"
      },
      "outputs": [
        {
          "output_type": "stream",
          "name": "stdout",
          "text": [
            "Maximum length: 166\n"
          ]
        }
      ],
      "source": [
        "# find the length of each list of tokens and the maximum length of them\n",
        "import pandas as pd\n",
        "\n",
        "# Calculate the maximum length of the lists and store the lengths in a new column\n",
        "subdf['list_lengths'] = subdf['perfect_tokens'].apply(len)\n",
        "\n",
        "# Find the maximum length among all lists\n",
        "max_length = subdf['list_lengths'].max()\n",
        "\n",
        "# Print the maximum length and the lengths of each list\n",
        "print(\"Maximum length:\", max_length)\n",
        "#print(\"Lengths of each list:\\n\", subdf['list_lengths'])"
      ]
    },
    {
      "cell_type": "code",
      "execution_count": null,
      "metadata": {
        "id": "8hy4qb_Fg6Wv"
      },
      "outputs": [],
      "source": [
        "# split the sentence and feed them into the dataframe corresponding position\n",
        "del embedding_matrix[0]  # clear the useless zero vector\n",
        "cnt = 0\n",
        "# iterate through each length\n",
        "for num in subdf['list_lengths']:\n",
        "  temp_list = []  # temporary store the vector list\n",
        "  for i in range(num):\n",
        "    temp_list.append(embedding_matrix[i])\n",
        "  del embedding_matrix[:num]  # delete the sorted vectors\n"
      ]
    },
    {
      "cell_type": "markdown",
      "metadata": {
        "id": "vdCHV4sdpnsx"
      },
      "source": [
        "2.3 Dataset Splitting:"
      ]
    },
    {
      "cell_type": "code",
      "execution_count": null,
      "metadata": {
        "colab": {
          "base_uri": "https://localhost:8080/"
        },
        "id": "gy6BmBcSfAEs",
        "outputId": "c8ce4def-ea5b-4948-fbaa-2768306c4ff1"
      },
      "outputs": [
        {
          "output_type": "stream",
          "name": "stderr",
          "text": [
            ".vector_cache/glove.6B.zip: 862MB [02:39, 5.40MB/s]                           \n",
            "100%|█████████▉| 399999/400000 [00:15<00:00, 25481.94it/s]\n"
          ]
        }
      ],
      "source": [
        "# Import needed libraries and packages\n",
        "import torch\n",
        "from torch import nn\n",
        "from torchtext.vocab import GloVe\n",
        "\n",
        "glove = GloVe(name='6B', dim = 50)"
      ]
    },
    {
      "cell_type": "code",
      "execution_count": null,
      "metadata": {
        "id": "RYsNPGLOfAoI"
      },
      "outputs": [],
      "source": [
        "vectors = glove.vectors\n",
        "vocab = glove.stoi\n",
        "itos = glove.itos"
      ]
    },
    {
      "cell_type": "code",
      "execution_count": null,
      "metadata": {
        "colab": {
          "base_uri": "https://localhost:8080/"
        },
        "id": "20piVf7SpmVA",
        "outputId": "ef743baf-725f-4c30-a4b0-51038635acfd"
      },
      "outputs": [
        {
          "output_type": "stream",
          "name": "stdout",
          "text": [
            "39\n",
            "39\n",
            "39\n"
          ]
        }
      ],
      "source": [
        "# Import library\n",
        "from torch.utils.data.dataset import TensorDataset\n",
        "from torch.utils.data import Dataset\n",
        "\n",
        "# Choose the training and validation data\n",
        "train_file = subdf[0:100000]\n",
        "val_file = subdf[100000:1150000]\n",
        "test_file=subdf[115000:130000]\n",
        "train_dic = []\n",
        "val_dic = []\n",
        "test_dic=[]\n",
        "\n",
        "length_number = 39\n",
        "\n",
        "for i in range(length_number):\n",
        "  specific_length_sentence = train_file[train_file['list_lengths'] == i + 2]\n",
        "  if(len(specific_length_sentence) != 0 & len(specific_length_sentence) != 1 ):\n",
        "    train_dic.append(specific_length_sentence)\n",
        "\n",
        "print(len(train_dic))\n",
        "\n",
        "\n",
        "for i in range(length_number):\n",
        "  specific_length_sentence = val_file[val_file['list_lengths'] == i + 2]\n",
        "  if(len(specific_length_sentence) != 0 & len(specific_length_sentence) != 1):\n",
        "    val_dic.append(specific_length_sentence)\n",
        "\n",
        "print(len(val_dic))\n",
        "\n",
        "for i in range(length_number):\n",
        "  specific_length_sentence = test_file[test_file['list_lengths'] == i + 2]\n",
        "  if(len(specific_length_sentence) != 0 & len(specific_length_sentence) != 1):\n",
        "    test_dic.append(specific_length_sentence)\n",
        "\n",
        "print(len(val_dic))\n",
        "\n",
        "train_data = []\n",
        "val_data = []\n",
        "test_data= []\n",
        "train_label = []\n",
        "val_label = []\n",
        "test_label=[]\n",
        "\n",
        "for i in range(length_number):\n",
        "  train_data.append(train_dic[i]['perfect_tokens'])\n",
        "  train_label.append(train_dic[i]['label'])\n",
        "  val_data.append(val_dic[i]['perfect_tokens'])\n",
        "  val_label.append(val_dic[i]['label'])\n",
        "  test_data.append(test_dic[i]['perfect_tokens'])\n",
        "  test_label.append(test_dic[i]['label'])\n",
        "\n",
        "default_index = 0\n",
        "for i in range(length_number):\n",
        "  train_data[i] = [torch.tensor([vocab.get(token, default_index) for token in sentence], dtype=torch.long) for sentence in train_data[i]]\n",
        "  val_data[i] = [torch.tensor([vocab.get(token, default_index) for token in sentence], dtype=torch.long) for sentence in val_data[i]]\n",
        "  test_data[i] = [torch.tensor([vocab.get(token, default_index) for token in sentence], dtype=torch.long) for sentence in test_data[i]]\n",
        "  train_label[i] = torch.tensor(train_label[i].values, dtype=torch.long)\n",
        "  val_label[i] = torch.tensor(val_label[i].values, dtype=torch.long)\n",
        "  test_label[i]=  torch.tensor(test_label[i].values, dtype=torch.long)\n",
        "\n",
        "############# NEWLY CREATED CLASS #############\n",
        "class SentenceLabelDataset(Dataset):\n",
        "    def __init__(self, sentences, labels):\n",
        "        self.sentences = sentences\n",
        "        self.labels = labels\n",
        "\n",
        "    def __len__(self):\n",
        "        return len(self.sentences)\n",
        "\n",
        "    def __getitem__(self, index):\n",
        "        sentence = self.sentences[index]\n",
        "        label = self.labels[index]\n",
        "        return sentence, label\n",
        "####################################################\n",
        "\n",
        "train_dataset = []\n",
        "val_dataset = []\n",
        "test_dataset =[]\n",
        "for i in range(length_number):\n",
        "  train_dataset.append(SentenceLabelDataset(train_data[i], train_label[i]))\n",
        "  val_dataset.append(SentenceLabelDataset(val_data[i], val_label[i]))\n",
        "  test_dataset.append(SentenceLabelDataset(val_data[i], val_label[i]))\n",
        "batch_size = 64\n",
        "train_loaders = []\n",
        "val_loaders = []\n",
        "test_loaders=[]\n",
        "\n",
        "for i in range(length_number):\n",
        "  train_loader = torch.utils.data.DataLoader(train_dataset[i], batch_size=batch_size, shuffle=True)\n",
        "  val_loader = torch.utils.data.DataLoader(val_dataset[i], batch_size=batch_size, shuffle=True)\n",
        "  test_loader = torch.utils.data.DataLoader(test_dataset[i], batch_size=batch_size, shuffle=True)\n",
        "  train_loaders.append(train_loader)\n",
        "  val_loaders.append(val_loader)\n",
        "  test_loaders.append(test_loader)\n"
      ]
    },
    {
      "cell_type": "markdown",
      "metadata": {
        "id": "DvE60r137aZL"
      },
      "source": [
        "## 3. Architecture:"
      ]
    },
    {
      "cell_type": "markdown",
      "metadata": {
        "id": "Gd_XcK3w73sE"
      },
      "source": [
        "3.1 **Recurrent Neural Network(RNN)**:"
      ]
    },
    {
      "cell_type": "code",
      "execution_count": null,
      "metadata": {
        "id": "FygWxIcS8Xgb"
      },
      "outputs": [],
      "source": [
        "# Import needed librar\n",
        "import torch.nn.functional as F\n",
        "class RNN(nn.Module):\n",
        "    def __init__(self, input_size, hidden_size, num_class, name, vectors):\n",
        "        super(RNN, self).__init__()\n",
        "        self.emb = nn.Embedding.from_pretrained(vectors, freeze=True)\n",
        "        self.hidden_size = hidden_size\n",
        "        self.rnn = nn.RNN(input_size, hidden_size, batch_first=True)\n",
        "        self.fc = nn.Linear(hidden_size, num_class)\n",
        "        self.name = name\n",
        "    def forward(self, x):\n",
        "        # Convert list of strings to tensor of indices\n",
        "        x_emb = self.emb(x)\n",
        "        h0 = torch.zeros(1, x_emb.size(0), self.hidden_size)\n",
        "        out, _ = self.rnn(x_emb, h0)\n",
        "        out = self.fc(out[:, -1, :])\n",
        "        return out"
      ]
    },
    {
      "cell_type": "markdown",
      "metadata": {
        "id": "4yK3eWFX8fco"
      },
      "source": [
        "3.2 **Long-Short Term Memory(LSTM):**"
      ]
    },
    {
      "cell_type": "code",
      "execution_count": null,
      "metadata": {
        "id": "N5QMURN89HRd"
      },
      "outputs": [],
      "source": [
        "class LSTM(nn.Module):\n",
        "  def __init__(self, input_size, hidden_size, num_class, name, vectors):\n",
        "    super(LSTM, self).__init__()\n",
        "    self.emb = nn.Embedding.from_pretrained(vectors, freeze=True)\n",
        "    self.hidden_size = hidden_size\n",
        "    self.rnn = nn.LSTM(input_size, hidden_size, batch_first=True)\n",
        "    self.fc = nn.Linear(hidden_size, num_class)\n",
        "    self.name = 'LSTM'\n",
        "  def forward(self, x):\n",
        "    x = self.emb(x)\n",
        "    h0 = torch.zeros(1, x.size(0), self.hidden_size)\n",
        "    c0 = torch.zeros(1, x.size(0), self.hidden_size)\n",
        "    out, __ = self.rnn(x, (h0,c0))\n",
        "    return self.fc(out[:,-1,:])\n",
        "\n"
      ]
    },
    {
      "cell_type": "markdown",
      "metadata": {
        "id": "Rf86ZRv79H43"
      },
      "source": [
        "3.3 **Deep LSTM (Based on LSTM):**"
      ]
    },
    {
      "cell_type": "code",
      "execution_count": null,
      "metadata": {
        "id": "2gksQcQY9h56"
      },
      "outputs": [],
      "source": [
        "class Deep_LSTM(nn.Module):\n",
        "  def __init__(self, input_size, hidden_size, num_class, num_layers, name, vectors):\n",
        "    super(Deep_LSTM, self).__init__()\n",
        "    self.emb = nn.Embedding.from_pretrained(vectors, freeze=True)\n",
        "    self.hidden_size = hidden_size\n",
        "    self.num_layers = num_layers\n",
        "    self.name = 'Deep_LSTM'\n",
        "    #define the deep LSTM layers\n",
        "\n",
        "    self.layers = nn.ModuleList()\n",
        "\n",
        "    #the first lstm layer witch takes in input\n",
        "    self.layers.append(nn.LSTM(input_size, hidden_size, batch_first = True, bidirectional = False))\n",
        "\n",
        "    #deeper lstm layers with input hidden_size*2 due to bidirectional\n",
        "    for i in range(num_layers - 1):\n",
        "      self.layers.append(nn.LSTM(hidden_size, hidden_size, batch_first = True, bidirectional = False))\n",
        "\n",
        "    #fully connected network for classification\n",
        "    self.fc = nn.Linear(hidden_size, num_class)\n",
        "\n",
        "  def forward(self, x):\n",
        "\n",
        "    #word embedding\n",
        "    x = self.emb(x)\n",
        "\n",
        "    #initialize hidden and cell states for each lstm layer with torch.zeros\n",
        "    hidden_states = []\n",
        "    cell_states = []\n",
        "    for i in range(self.num_layers):\n",
        "      hidden_states.append(torch.zeros(1, x.size(0), self.hidden_size))\n",
        "      cell_states.append(torch.zeros(1, x.size(0), self.hidden_size))\n",
        "\n",
        "    #pass the input into lstm layers\n",
        "    for i, lstm_layer in enumerate(self.layers):\n",
        "      x,__ = lstm_layer(x, (hidden_states[i], cell_states[i]))\n",
        "\n",
        "    #extract the output from the last lstm layer\n",
        "    output = x[:, -1, :]\n",
        "\n",
        "    #concatenate outputs from forward direction and backward direction\n",
        "    output = torch.cat((output[:, :self.hidden_size], output[:, self.hidden_size:]), dim=-1)\n",
        "\n",
        "    #pass the input into fully connected network\n",
        "    output = self.fc(output)\n",
        "\n",
        "    return output\n"
      ]
    },
    {
      "cell_type": "markdown",
      "metadata": {
        "id": "dypD6sJu9oK9"
      },
      "source": [
        "3.4 **Training Dataset:** hyperparameter selection, loss function, gradient"
      ]
    },
    {
      "cell_type": "code",
      "execution_count": null,
      "metadata": {
        "colab": {
          "base_uri": "https://localhost:8080/"
        },
        "id": "MfFc055F6qXZ",
        "outputId": "8d594b10-5ede-4ca1-efda-db025afc31d4"
      },
      "outputs": [
        {
          "output_type": "stream",
          "name": "stdout",
          "text": [
            "tensor([[1., 0., 0.],\n",
            "        [0., 1., 0.],\n",
            "        [0., 0., 1.]])\n"
          ]
        }
      ],
      "source": [
        "def one_hot_encode(tensor, num_classes):\n",
        "    # Create an identity matrix of size (num_classes, num_classes)\n",
        "    identity_matrix = torch.eye(num_classes)\n",
        "\n",
        "    # Apply one-hot encoding to the tensor\n",
        "    one_hot_tensor = identity_matrix[tensor]\n",
        "\n",
        "    return one_hot_tensor\n",
        "\n",
        "# Example tensor\n",
        "tensor = torch.tensor([0, 1, -1])\n",
        "\n",
        "# Perform one-hot encoding\n",
        "one_hot_encoded_tensor = one_hot_encode(tensor, num_classes=3)\n",
        "\n",
        "print(one_hot_encoded_tensor)"
      ]
    },
    {
      "cell_type": "code",
      "execution_count": null,
      "metadata": {
        "id": "F3PH9UGfG6Xv"
      },
      "outputs": [],
      "source": [
        "def get_accuracy(model, data_loaders):\n",
        "    correct, total = 0, 0\n",
        "    for data_loader in data_loaders:\n",
        "      for sentences, labels in data_loader:\n",
        "          output = model(sentences)\n",
        "          labels = one_hot_encode(labels, 3)\n",
        "          for i in range(len(output)):\n",
        "            output_index = torch.argmax(output[i])\n",
        "            labels_index = torch.argmax(labels[i])\n",
        "            if output_index == labels_index:\n",
        "              correct += 1\n",
        "            total += 1\n",
        "    return correct / total"
      ]
    },
    {
      "cell_type": "code",
      "execution_count": null,
      "metadata": {
        "id": "VnhO9icDK6Nt"
      },
      "outputs": [],
      "source": [
        "def get_model_name(name, batch_size, learning_rate, epoch):\n",
        "    \"\"\" Generate a name for the model consisting of all the hyperparameter values\n",
        "\n",
        "    Args:\n",
        "        config: Configuration object containing the hyperparameters\n",
        "    Returns:\n",
        "        path: A string with the hyperparameter name and value concatenated\n",
        "    \"\"\"\n",
        "    path = \"model_{0}_bs{1}_lr{2}_epoch{3}\".format(name, batch_size, learning_rate, epoch)\n",
        "    return path"
      ]
    },
    {
      "cell_type": "code",
      "execution_count": null,
      "metadata": {
        "id": "PYgpCjhl-HTx"
      },
      "outputs": [],
      "source": [
        "import torch.optim as optim\n",
        "def train(model, train_loader, valid_loader, batch_size=64 ,num_epochs=5, learning_rate=1e-4):\n",
        "    torch.manual_seed(10)\n",
        "    criterion = nn.CrossEntropyLoss()\n",
        "    optimizer = optim.SGD(model.parameters(), lr=learning_rate, momentum=0.9)\n",
        "    iters,train_losses, vaild_losses, train_acc, val_acc = [], [], [], [], []\n",
        "    n = 0\n",
        "    for epoch in range(num_epochs):\n",
        "      for train_loader in train_loaders:\n",
        "        for sentences, labels in train_loader:\n",
        "            output = model(sentences)\n",
        "            train_loss = criterion(output, one_hot_encode(labels, 3))\n",
        "            train_loss.backward()\n",
        "            optimizer.step()\n",
        "            optimizer.zero_grad()\n",
        "        for val_loader in val_loaders:\n",
        "          for sentences,labels in val_loader:\n",
        "              output = model(sentences)\n",
        "              vaild_loss = criterion(output, one_hot_encode(labels, 3))\n",
        "              break\n",
        "          break\n",
        "      iters.append(n)\n",
        "      train_losses.append(float(train_loss)/batch_size)\n",
        "      vaild_losses.append(float(vaild_loss)/batch_size)             # compute *average* loss\n",
        "      train_acc.append(get_accuracy(model, train_loaders)) # compute training accuracy\n",
        "      val_acc.append(get_accuracy(model, val_loaders))  # compute validation accuracy\n",
        "      n += 1\n",
        "\n",
        "      print(\"Epoch Number:\", epoch)\n",
        "\n",
        "    # plotting\n",
        "    model_path = get_model_name(model.name, batch_size, learning_rate,epoch)\n",
        "    torch.save(model.state_dict(), model_path)\n",
        "    plt.title(\"Training Curve\")\n",
        "    plt.plot(iters, train_losses, label=\"Train\")\n",
        "    plt.plot(iters, vaild_losses, label= \"Validation\" )\n",
        "    plt.xlabel(\"Epoch\")\n",
        "    plt.ylabel(\"Loss\")\n",
        "    plt.legend(loc='best')\n",
        "    plt.show()\n",
        "\n",
        "    plt.title(\"Training Curve\")\n",
        "    plt.plot(iters, train_acc, label=\"Train\")\n",
        "    plt.plot(iters, val_acc, label=\"Validation\")\n",
        "    plt.xlabel(\"Epoch\")\n",
        "    plt.ylabel(\"Training Accuracy\")\n",
        "    plt.legend(loc='best')\n",
        "    plt.show()\n",
        "\n",
        "    print(\"Final Training Accuracy: {}\".format(train_acc[-1]))\n",
        "    print(\"Final Validation Accuracy: {}\".format(val_acc[-1]))"
      ]
    },
    {
      "cell_type": "markdown",
      "metadata": {
        "id": "uDycPpgW-XyN"
      },
      "source": [
        "3.5 **Visualize** the training result (Training dataset and Validation dataset)"
      ]
    },
    {
      "cell_type": "code",
      "execution_count": null,
      "metadata": {
        "colab": {
          "base_uri": "https://localhost:8080/",
          "height": 1000
        },
        "id": "YFYcfnevALAH",
        "outputId": "ff913702-59c9-42c0-f25e-2edebb454470"
      },
      "outputs": [
        {
          "output_type": "stream",
          "name": "stdout",
          "text": [
            "Epoch Number: 0\n",
            "Epoch Number: 1\n",
            "Epoch Number: 2\n",
            "Epoch Number: 3\n",
            "Epoch Number: 4\n",
            "Epoch Number: 5\n",
            "Epoch Number: 6\n",
            "Epoch Number: 7\n",
            "Epoch Number: 8\n",
            "Epoch Number: 9\n",
            "Epoch Number: 10\n",
            "Epoch Number: 11\n",
            "Epoch Number: 12\n",
            "Epoch Number: 13\n",
            "Epoch Number: 14\n",
            "Epoch Number: 15\n",
            "Epoch Number: 16\n",
            "Epoch Number: 17\n",
            "Epoch Number: 18\n",
            "Epoch Number: 19\n",
            "Epoch Number: 20\n",
            "Epoch Number: 21\n",
            "Epoch Number: 22\n",
            "Epoch Number: 23\n",
            "Epoch Number: 24\n",
            "Epoch Number: 25\n",
            "Epoch Number: 26\n",
            "Epoch Number: 27\n",
            "Epoch Number: 28\n",
            "Epoch Number: 29\n",
            "Epoch Number: 30\n",
            "Epoch Number: 31\n",
            "Epoch Number: 32\n",
            "Epoch Number: 33\n",
            "Epoch Number: 34\n",
            "Epoch Number: 35\n",
            "Epoch Number: 36\n",
            "Epoch Number: 37\n",
            "Epoch Number: 38\n",
            "Epoch Number: 39\n",
            "Epoch Number: 40\n",
            "Epoch Number: 41\n",
            "Epoch Number: 42\n",
            "Epoch Number: 43\n",
            "Epoch Number: 44\n",
            "Epoch Number: 45\n",
            "Epoch Number: 46\n",
            "Epoch Number: 47\n",
            "Epoch Number: 48\n",
            "Epoch Number: 49\n",
            "Epoch Number: 50\n",
            "Epoch Number: 51\n",
            "Epoch Number: 52\n",
            "Epoch Number: 53\n",
            "Epoch Number: 54\n",
            "Epoch Number: 55\n",
            "Epoch Number: 56\n",
            "Epoch Number: 57\n",
            "Epoch Number: 58\n",
            "Epoch Number: 59\n",
            "Epoch Number: 60\n",
            "Epoch Number: 61\n",
            "Epoch Number: 62\n",
            "Epoch Number: 63\n",
            "Epoch Number: 64\n",
            "Epoch Number: 65\n",
            "Epoch Number: 66\n",
            "Epoch Number: 67\n",
            "Epoch Number: 68\n",
            "Epoch Number: 69\n",
            "Epoch Number: 70\n",
            "Epoch Number: 71\n",
            "Epoch Number: 72\n",
            "Epoch Number: 73\n",
            "Epoch Number: 74\n",
            "Epoch Number: 75\n",
            "Epoch Number: 76\n",
            "Epoch Number: 77\n",
            "Epoch Number: 78\n",
            "Epoch Number: 79\n",
            "Epoch Number: 80\n",
            "Epoch Number: 81\n",
            "Epoch Number: 82\n",
            "Epoch Number: 83\n",
            "Epoch Number: 84\n",
            "Epoch Number: 85\n",
            "Epoch Number: 86\n",
            "Epoch Number: 87\n",
            "Epoch Number: 88\n",
            "Epoch Number: 89\n",
            "Epoch Number: 90\n",
            "Epoch Number: 91\n",
            "Epoch Number: 92\n",
            "Epoch Number: 93\n",
            "Epoch Number: 94\n",
            "Epoch Number: 95\n",
            "Epoch Number: 96\n",
            "Epoch Number: 97\n",
            "Epoch Number: 98\n",
            "Epoch Number: 99\n"
          ]
        },
        {
          "output_type": "display_data",
          "data": {
            "text/plain": [
              "<Figure size 640x480 with 1 Axes>"
            ],
            "image/png": "[encoded data removed]"
          },
          "metadata": {}
        },
        {
          "output_type": "display_data",
          "data": {
            "text/plain": [
              "<Figure size 640x480 with 1 Axes>"
            ],
            "image/png": "[encoded data removed]"
          },
          "metadata": {}
        },
        {
          "output_type": "stream",
          "name": "stdout",
          "text": [
            "Final Training Accuracy: 0.7271991829222664\n",
            "Final Validation Accuracy: 0.7114531379383389\n"
          ]
        }
      ],
      "source": [
        "model = RNN(50, 128, 3, 'RNN', vectors)\n",
        "train(model, train_loaders, val_loaders, batch_size = batch_size, num_epochs = 100, learning_rate = 0.0005)"
      ]
    },
    {
      "cell_type": "code",
      "execution_count": null,
      "metadata": {
        "colab": {
          "base_uri": "https://localhost:8080/",
          "height": 1000
        },
        "id": "rJOnNM4KQZoW",
        "outputId": "9eb06831-473c-4c1b-d6ff-2b745852b09a"
      },
      "outputs": [
        {
          "name": "stdout",
          "output_type": "stream",
          "text": [
            "Epoch Number: 0\n",
            "Epoch Number: 1\n",
            "Epoch Number: 2\n",
            "Epoch Number: 3\n",
            "Epoch Number: 4\n",
            "Epoch Number: 5\n",
            "Epoch Number: 6\n",
            "Epoch Number: 7\n",
            "Epoch Number: 8\n",
            "Epoch Number: 9\n",
            "Epoch Number: 10\n",
            "Epoch Number: 11\n",
            "Epoch Number: 12\n",
            "Epoch Number: 13\n",
            "Epoch Number: 14\n",
            "Epoch Number: 15\n",
            "Epoch Number: 16\n",
            "Epoch Number: 17\n",
            "Epoch Number: 18\n",
            "Epoch Number: 19\n",
            "Epoch Number: 20\n",
            "Epoch Number: 21\n",
            "Epoch Number: 22\n",
            "Epoch Number: 23\n",
            "Epoch Number: 24\n",
            "Epoch Number: 25\n",
            "Epoch Number: 26\n",
            "Epoch Number: 27\n",
            "Epoch Number: 28\n",
            "Epoch Number: 29\n",
            "Epoch Number: 30\n",
            "Epoch Number: 31\n",
            "Epoch Number: 32\n",
            "Epoch Number: 33\n",
            "Epoch Number: 34\n",
            "Epoch Number: 35\n",
            "Epoch Number: 36\n",
            "Epoch Number: 37\n",
            "Epoch Number: 38\n",
            "Epoch Number: 39\n",
            "Epoch Number: 40\n",
            "Epoch Number: 41\n",
            "Epoch Number: 42\n",
            "Epoch Number: 43\n",
            "Epoch Number: 44\n",
            "Epoch Number: 45\n",
            "Epoch Number: 46\n",
            "Epoch Number: 47\n",
            "Epoch Number: 48\n",
            "Epoch Number: 49\n"
          ]
        },
        {
          "data": {
            "image/png": "[encoded data removed]",
            "text/plain": [
              "<Figure size 640x480 with 1 Axes>"
            ]
          },
          "metadata": {},
          "output_type": "display_data"
        },
        {
          "data": {
            "image/png": "[encoded data removed]",
            "text/plain": [
              "<Figure size 640x480 with 1 Axes>"
            ]
          },
          "metadata": {},
          "output_type": "display_data"
        },
        {
          "name": "stdout",
          "output_type": "stream",
          "text": [
            "Final Training Accuracy: 0.7178250361516447\n",
            "Final Validation Accuracy: 0.7126981070307535\n"
          ]
        }
      ],
      "source": [
        "model2 = RNN(300, 128, 3, 'RNN', vectors)\n",
        "train(model2, train_loaders, val_loaders, batch_size = batch_size, num_epochs = 50, learning_rate = 0.0005)"
      ]
    },
    {
      "cell_type": "code",
      "execution_count": null,
      "metadata": {
        "colab": {
          "base_uri": "https://localhost:8080/"
        },
        "id": "OkueXNt1_CyG",
        "outputId": "7490c807-acd7-4ab4-9f4c-31dce673f9a7"
      },
      "outputs": [
        {
          "output_type": "stream",
          "name": "stdout",
          "text": [
            "Epoch Number: 0\n",
            "Epoch Number: 1\n",
            "Epoch Number: 2\n",
            "Epoch Number: 3\n",
            "Epoch Number: 4\n",
            "Epoch Number: 5\n",
            "Epoch Number: 6\n",
            "Epoch Number: 7\n",
            "Epoch Number: 8\n",
            "Epoch Number: 9\n",
            "Epoch Number: 10\n",
            "Epoch Number: 11\n",
            "Epoch Number: 12\n",
            "Epoch Number: 13\n"
          ]
        }
      ],
      "source": [
        "##### Deep LSTM #####\n",
        "deep_lstm = Deep_LSTM(input_size = 50, hidden_size = 256, num_class = 3, num_layers = 2, name = 'Deep_LSTM', vectors = vectors)\n",
        "train(deep_lstm, train_loaders, val_loaders, batch_size = batch_size, num_epochs = 100, learning_rate = 0.01)"
      ]
    },
    {
      "cell_type": "code",
      "execution_count": null,
      "metadata": {
        "colab": {
          "base_uri": "https://localhost:8080/",
          "height": 1000
        },
        "id": "JP_7AWs1wm2y",
        "outputId": "1761d753-1ed8-480e-9782-6a0b7fc96994"
      },
      "outputs": [
        {
          "name": "stdout",
          "output_type": "stream",
          "text": [
            "Epoch Number: 0\n",
            "Epoch Number: 1\n",
            "Epoch Number: 2\n",
            "Epoch Number: 3\n",
            "Epoch Number: 4\n",
            "Epoch Number: 5\n",
            "Epoch Number: 6\n",
            "Epoch Number: 7\n",
            "Epoch Number: 8\n",
            "Epoch Number: 9\n",
            "Epoch Number: 10\n",
            "Epoch Number: 11\n",
            "Epoch Number: 12\n",
            "Epoch Number: 13\n",
            "Epoch Number: 14\n",
            "Epoch Number: 15\n",
            "Epoch Number: 16\n",
            "Epoch Number: 17\n",
            "Epoch Number: 18\n",
            "Epoch Number: 19\n",
            "Epoch Number: 20\n",
            "Epoch Number: 21\n",
            "Epoch Number: 22\n",
            "Epoch Number: 23\n",
            "Epoch Number: 24\n",
            "Epoch Number: 25\n",
            "Epoch Number: 26\n",
            "Epoch Number: 27\n",
            "Epoch Number: 28\n",
            "Epoch Number: 29\n",
            "Epoch Number: 30\n",
            "Epoch Number: 31\n",
            "Epoch Number: 32\n",
            "Epoch Number: 33\n",
            "Epoch Number: 34\n",
            "Epoch Number: 35\n",
            "Epoch Number: 36\n",
            "Epoch Number: 37\n",
            "Epoch Number: 38\n",
            "Epoch Number: 39\n",
            "Epoch Number: 40\n",
            "Epoch Number: 41\n",
            "Epoch Number: 42\n",
            "Epoch Number: 43\n",
            "Epoch Number: 44\n",
            "Epoch Number: 45\n",
            "Epoch Number: 46\n",
            "Epoch Number: 47\n",
            "Epoch Number: 48\n",
            "Epoch Number: 49\n",
            "Epoch Number: 50\n",
            "Epoch Number: 51\n",
            "Epoch Number: 52\n",
            "Epoch Number: 53\n",
            "Epoch Number: 54\n",
            "Epoch Number: 55\n",
            "Epoch Number: 56\n",
            "Epoch Number: 57\n",
            "Epoch Number: 58\n",
            "Epoch Number: 59\n",
            "Epoch Number: 60\n",
            "Epoch Number: 61\n",
            "Epoch Number: 62\n",
            "Epoch Number: 63\n",
            "Epoch Number: 64\n",
            "Epoch Number: 65\n",
            "Epoch Number: 66\n",
            "Epoch Number: 67\n",
            "Epoch Number: 68\n",
            "Epoch Number: 69\n",
            "Epoch Number: 70\n",
            "Epoch Number: 71\n",
            "Epoch Number: 72\n",
            "Epoch Number: 73\n",
            "Epoch Number: 74\n",
            "Epoch Number: 75\n",
            "Epoch Number: 76\n",
            "Epoch Number: 77\n",
            "Epoch Number: 78\n",
            "Epoch Number: 79\n",
            "Epoch Number: 80\n",
            "Epoch Number: 81\n",
            "Epoch Number: 82\n",
            "Epoch Number: 83\n",
            "Epoch Number: 84\n",
            "Epoch Number: 85\n",
            "Epoch Number: 86\n",
            "Epoch Number: 87\n",
            "Epoch Number: 88\n",
            "Epoch Number: 89\n",
            "Epoch Number: 90\n",
            "Epoch Number: 91\n",
            "Epoch Number: 92\n",
            "Epoch Number: 93\n",
            "Epoch Number: 94\n",
            "Epoch Number: 95\n",
            "Epoch Number: 96\n",
            "Epoch Number: 97\n",
            "Epoch Number: 98\n",
            "Epoch Number: 99\n",
            "Epoch Number: 100\n",
            "Epoch Number: 101\n",
            "Epoch Number: 102\n",
            "Epoch Number: 103\n",
            "Epoch Number: 104\n",
            "Epoch Number: 105\n",
            "Epoch Number: 106\n",
            "Epoch Number: 107\n",
            "Epoch Number: 108\n",
            "Epoch Number: 109\n",
            "Epoch Number: 110\n",
            "Epoch Number: 111\n",
            "Epoch Number: 112\n",
            "Epoch Number: 113\n",
            "Epoch Number: 114\n",
            "Epoch Number: 115\n",
            "Epoch Number: 116\n",
            "Epoch Number: 117\n",
            "Epoch Number: 118\n",
            "Epoch Number: 119\n"
          ]
        },
        {
          "data": {
            "image/png": "[encoded data removed]",
            "text/plain": [
              "<Figure size 640x480 with 1 Axes>"
            ]
          },
          "metadata": {},
          "output_type": "display_data"
        },
        {
          "data": {
            "image/png": "[encoded data removed]",
            "text/plain": [
              "<Figure size 640x480 with 1 Axes>"
            ]
          },
          "metadata": {},
          "output_type": "display_data"
        },
        {
          "name": "stdout",
          "output_type": "stream",
          "text": [
            "Final Training Accuracy: 0.7659800382246762\n",
            "Final Validation Accuracy: 0.7449700552677695\n"
          ]
        }
      ],
      "source": [
        "##### Deep LSTM #####\n",
        "deep_lstm2 = Deep_LSTM(input_size = 50, hidden_size = 64, num_class = 3, num_layers = 2, name = 'Deep_LSTM', vectors = vectors)\n",
        "train(deep_lstm2, train_loaders, val_loaders, batch_size = batch_size, num_epochs = 120, learning_rate = 0.001)"
      ]
    },
    {
      "cell_type": "code",
      "source": [],
      "metadata": {
        "id": "3-ZeDlBXXqGH"
      },
      "execution_count": null,
      "outputs": []
    },
    {
      "cell_type": "code",
      "execution_count": null,
      "metadata": {
        "colab": {
          "background_save": true,
          "base_uri": "https://localhost:8080/"
        },
        "id": "ALZECiKLLerR",
        "outputId": "6cfed743-2063-4479-e48e-b4825c8b2cd1"
      },
      "outputs": [
        {
          "name": "stdout",
          "output_type": "stream",
          "text": [
            "Epoch Number: 0\n",
            "Epoch Number: 1\n",
            "Epoch Number: 2\n",
            "Epoch Number: 3\n",
            "Epoch Number: 4\n",
            "Epoch Number: 5\n",
            "Epoch Number: 6\n",
            "Epoch Number: 7\n",
            "Epoch Number: 8\n",
            "Epoch Number: 9\n",
            "Epoch Number: 10\n",
            "Epoch Number: 11\n",
            "Epoch Number: 12\n",
            "Epoch Number: 13\n",
            "Epoch Number: 14\n",
            "Epoch Number: 15\n",
            "Epoch Number: 16\n",
            "Epoch Number: 17\n",
            "Epoch Number: 18\n",
            "Epoch Number: 19\n",
            "Epoch Number: 20\n",
            "Epoch Number: 21\n",
            "Epoch Number: 22\n",
            "Epoch Number: 23\n",
            "Epoch Number: 24\n",
            "Epoch Number: 25\n",
            "Epoch Number: 26\n",
            "Epoch Number: 27\n",
            "Epoch Number: 28\n",
            "Epoch Number: 29\n",
            "Epoch Number: 30\n",
            "Epoch Number: 31\n",
            "Epoch Number: 32\n",
            "Epoch Number: 33\n",
            "Epoch Number: 34\n",
            "Epoch Number: 35\n",
            "Epoch Number: 36\n",
            "Epoch Number: 37\n",
            "Epoch Number: 38\n",
            "Epoch Number: 39\n",
            "Epoch Number: 40\n",
            "Epoch Number: 41\n",
            "Epoch Number: 42\n",
            "Epoch Number: 43\n",
            "Epoch Number: 44\n",
            "Epoch Number: 45\n",
            "Epoch Number: 46\n",
            "Epoch Number: 47\n",
            "Epoch Number: 48\n",
            "Epoch Number: 49\n",
            "Epoch Number: 50\n",
            "Epoch Number: 51\n",
            "Epoch Number: 52\n",
            "Epoch Number: 53\n",
            "Epoch Number: 54\n",
            "Epoch Number: 55\n",
            "Epoch Number: 56\n",
            "Epoch Number: 57\n",
            "Epoch Number: 58\n",
            "Epoch Number: 59\n",
            "Epoch Number: 60\n",
            "Epoch Number: 61\n",
            "Epoch Number: 62\n",
            "Epoch Number: 63\n",
            "Epoch Number: 64\n",
            "Epoch Number: 65\n",
            "Epoch Number: 66\n",
            "Epoch Number: 67\n",
            "Epoch Number: 68\n",
            "Epoch Number: 69\n",
            "Epoch Number: 70\n",
            "Epoch Number: 71\n"
          ]
        }
      ],
      "source": [
        "deep_lstm = Deep_LSTM(input_size = 50, hidden_size = 64, num_class = 3, num_layers = 3, name = 'Deep_LSTM', vectors = vectors)\n",
        "train(deep_lstm, train_loaders, val_loaders, batch_size = batch_size, num_epochs = 120, learning_rate = 0.001)"
      ]
    },
    {
      "cell_type": "markdown",
      "metadata": {
        "id": "vC53Q-vO_DxJ"
      },
      "source": [
        "## Baseline Model:"
      ]
    },
    {
      "cell_type": "markdown",
      "metadata": {
        "id": "pfPRgHX-_ZCX"
      },
      "source": [
        "**Support Vector Machine (SVM):** (`Pandas` library)"
      ]
    },
    {
      "cell_type": "code",
      "execution_count": null,
      "metadata": {
        "id": "Qsoj49-y_2Ox"
      },
      "outputs": [],
      "source": [
        "import matplotlib.pyplot as plt\n",
        "from sklearn import svm\n",
        "from sklearn.metrics import accuracy_score\n",
        "\n",
        "def train_svm_model(train_data, train_label, val_data, val_label, num_epochs, dataset):\n",
        "  #create an SVM model\n",
        "  svm_model = svm.SVC(kernel = 'linear', C = 0.001)\n",
        "\n",
        "  # decide whether the dataset is train/val\n",
        "  if(dataset == 'val'):\n",
        "    train_data = val_data\n",
        "    train_label = val_label\n",
        "\n",
        "  # Lists to store training curve data\n",
        "  epochs = []\n",
        "  train_accuracy = []\n",
        "\n",
        "  # Train the model and track the training curve\n",
        "  for epoch in range(num_epochs):\n",
        "    #train the bsaeline model (x_train, y_train)\n",
        "    svm_model.fit(train_data, train_label)\n",
        "\n",
        "    # Make predictions on the training data\n",
        "    train_predictions = svm_model.predict(train_data)\n",
        "\n",
        "    # Calculate accuracy on the training data\n",
        "    train_acc = accuracy_score(train_label, train_predictions)\n",
        "\n",
        "    # Append epoch number and accuracy to the lists\n",
        "    epochs.append(epoch + 1)\n",
        "    train_accuracy.append(train_acc)\n",
        "\n",
        "    # Print training progress\n",
        "    print(f\"Epoch [{epoch+1}/{num_epochs}], Train Accuracy: {train_acc:.4f}\")\n",
        "\n",
        "  # Plot the training curve\n",
        "  plt.plot(epochs, train_accuracy)\n",
        "  plt.title('Validation Curve')\n",
        "  plt.xlabel('Epochs')\n",
        "  plt.ylabel('Accuracy')\n",
        "  plt.show()\n",
        "\n",
        "  return svm_model"
      ]
    },
    {
      "cell_type": "code",
      "execution_count": null,
      "metadata": {
        "id": "oFlGRE8cBe1e",
        "colab": {
          "base_uri": "https://localhost:8080/"
        },
        "outputId": "a6dc3b65-a410-45e2-9a70-e55ae4c5cf97"
      },
      "outputs": [
        {
          "output_type": "stream",
          "name": "stdout",
          "text": [
            "98889\n",
            "1038580\n",
            "98889\n",
            "1038580\n"
          ]
        }
      ],
      "source": [
        "train_embedding_list = []\n",
        "val_embedding_list = []\n",
        "train_label_list = []\n",
        "val_label_list = []\n",
        "\n",
        "for group in train_data:  # list of tensors\n",
        "  for tensor in group:  # each tensor within the group\n",
        "    zero_tensor = torch.zeros(1, 50)\n",
        "    for i in range(len(tensor)):  # iterate through each page number\n",
        "      word_embedding = vectors[tensor[i]]  # get corresponding word embedding\n",
        "      zero_tensor += word_embedding  # get the combined word embedding\n",
        "    zero_tensor = zero_tensor / len(tensor)\n",
        "    train_embedding_list.append(zero_tensor)\n",
        "print(len(train_embedding_list))\n",
        "\n",
        "for group in val_data:  # list of tensors\n",
        "  for tensor in group:  # each tensor within the group\n",
        "    zero_tensor = torch.zeros(1, 50)\n",
        "    for i in range(len(tensor)):  # iterate through each page number\n",
        "      word_embedding = vectors[tensor[i]]  # get corresponding word embedding\n",
        "      zero_tensor += word_embedding  # get the combined word embedding\n",
        "    zero_tensor = zero_tensor / len(tensor)\n",
        "    val_embedding_list.append(zero_tensor)\n",
        "print(len(val_embedding_list))\n",
        "\n",
        "for group in train_label:  # iterate through every group of label\n",
        "  for label in group:  # iterate every label\n",
        "    train_label_list.append(label)\n",
        "print(len(train_label_list))\n",
        "\n",
        "for group in val_label:  # iterate through every group of label\n",
        "  for label in group:  # iterate every label\n",
        "    val_label_list.append(label)\n",
        "print(len(val_label_list))\n",
        "\n",
        "train_label_array = np.vstack(train_label_list)\n",
        "val_label_array = np.vstack(val_label_list)\n",
        "print(len(train_label_array))\n",
        "\n",
        "train_embedding_array = np.vstack(train_embedding_list)\n",
        "val_embedding_array = np.vstack(val_embedding_list)\n",
        "print(len(train_embedding_array))"
      ]
    },
    {
      "cell_type": "code",
      "execution_count": null,
      "metadata": {
        "id": "kHIp9I8Kouae"
      },
      "outputs": [],
      "source": [
        "svm_model = train_svm_model(train_embedding_array, train_label_array, val_embedding_array, val_label_array, num_epochs = 20, dataset='train')"
      ]
    },
    {
      "cell_type": "code",
      "execution_count": null,
      "metadata": {
        "id": "8Fv5JM0drmG0"
      },
      "outputs": [],
      "source": [
        "svm_model = train_svm_model(train_embedding_array, train_label_array, val_embedding_array, val_label_array, num_epochs = 20, dataset='val')"
      ]
    },
    {
      "cell_type": "code",
      "execution_count": null,
      "metadata": {
        "id": "TLzqdZN8u_7u"
      },
      "outputs": [],
      "source": []
    },
    {
      "cell_type": "markdown",
      "metadata": {
        "id": "JcQMF6O0AOJZ"
      },
      "source": [
        "## Final Testing:"
      ]
    },
    {
      "cell_type": "markdown",
      "metadata": {
        "id": "9D7YJwKjAc7w"
      },
      "source": [
        "Test with Baseline model (SVM):"
      ]
    },
    {
      "cell_type": "code",
      "execution_count": null,
      "metadata": {
        "id": "ZIdMA4dYAcX_"
      },
      "outputs": [],
      "source": [
        "a=get_accuracy(svm_model,test_loader)\n",
        "print(a)"
      ]
    },
    {
      "cell_type": "markdown",
      "metadata": {
        "id": "cb15X6kHASoW"
      },
      "source": [
        "Test with Deep learning model and get accuracy:"
      ]
    },
    {
      "cell_type": "code",
      "execution_count": null,
      "metadata": {
        "colab": {
          "base_uri": "https://localhost:8080/"
        },
        "id": "UT9jM1WeAZRf",
        "outputId": "ef51adc1-7691-48d4-86f9-633527000395"
      },
      "outputs": [
        {
          "output_type": "stream",
          "name": "stdout",
          "text": [
            "0.45025708178474455\n"
          ]
        }
      ],
      "source": [
        "b=get_accuracy(model,test_loaders)\n",
        "print(b)"
      ]
    },
    {
      "cell_type": "code",
      "source": [
        "deep_lstm_path=get_model_name(\"Deep_LSTM\", batch_size=256, learning_rate=0.01, epoch=99)\n",
        "loaded_model = torch.load(deep_lstm_path)\n",
        "c=get_accuracy(loaded_model,test_loaders)\n",
        "print(c)"
      ],
      "metadata": {
        "colab": {
          "base_uri": "https://localhost:8080/",
          "height": 377
        },
        "id": "uBBRF-twXbdb",
        "outputId": "db48ed6f-e94e-4fa1-a2b8-ee4893bf9ea3"
      },
      "execution_count": null,
      "outputs": [
        {
          "output_type": "error",
          "ename": "FileNotFoundError",
          "evalue": "ignored",
          "traceback": [
            "\u001b[0;31m---------------------------------------------------------------------------\u001b[0m",
            "\u001b[0;31mFileNotFoundError\u001b[0m                         Traceback (most recent call last)",
            "\u001b[0;32m<ipython-input-36-5b1939dcaf86>\u001b[0m in \u001b[0;36m<cell line: 2>\u001b[0;34m()\u001b[0m\n\u001b[1;32m      1\u001b[0m \u001b[0mdeep_lstm_path\u001b[0m\u001b[0;34m=\u001b[0m\u001b[0mget_model_name\u001b[0m\u001b[0;34m(\u001b[0m\u001b[0;34m\"Deep_LSTM\"\u001b[0m\u001b[0;34m,\u001b[0m \u001b[0mbatch_size\u001b[0m\u001b[0;34m=\u001b[0m\u001b[0;36m256\u001b[0m\u001b[0;34m,\u001b[0m \u001b[0mlearning_rate\u001b[0m\u001b[0;34m=\u001b[0m\u001b[0;36m0.01\u001b[0m\u001b[0;34m,\u001b[0m \u001b[0mepoch\u001b[0m\u001b[0;34m=\u001b[0m\u001b[0;36m99\u001b[0m\u001b[0;34m)\u001b[0m\u001b[0;34m\u001b[0m\u001b[0;34m\u001b[0m\u001b[0m\n\u001b[0;32m----> 2\u001b[0;31m \u001b[0mloaded_model\u001b[0m \u001b[0;34m=\u001b[0m \u001b[0mtorch\u001b[0m\u001b[0;34m.\u001b[0m\u001b[0mload\u001b[0m\u001b[0;34m(\u001b[0m\u001b[0mdeep_lstm_path\u001b[0m\u001b[0;34m)\u001b[0m\u001b[0;34m\u001b[0m\u001b[0;34m\u001b[0m\u001b[0m\n\u001b[0m\u001b[1;32m      3\u001b[0m \u001b[0mc\u001b[0m\u001b[0;34m=\u001b[0m\u001b[0mget_accuracy\u001b[0m\u001b[0;34m(\u001b[0m\u001b[0mloaded_model\u001b[0m\u001b[0;34m,\u001b[0m\u001b[0mtest_loaders\u001b[0m\u001b[0;34m)\u001b[0m\u001b[0;34m\u001b[0m\u001b[0;34m\u001b[0m\u001b[0m\n\u001b[1;32m      4\u001b[0m \u001b[0mprint\u001b[0m\u001b[0;34m(\u001b[0m\u001b[0mc\u001b[0m\u001b[0;34m)\u001b[0m\u001b[0;34m\u001b[0m\u001b[0;34m\u001b[0m\u001b[0m\n",
            "\u001b[0;32m/usr/local/lib/python3.10/dist-packages/torch/serialization.py\u001b[0m in \u001b[0;36mload\u001b[0;34m(f, map_location, pickle_module, weights_only, **pickle_load_args)\u001b[0m\n\u001b[1;32m    789\u001b[0m         \u001b[0mpickle_load_args\u001b[0m\u001b[0;34m[\u001b[0m\u001b[0;34m'encoding'\u001b[0m\u001b[0;34m]\u001b[0m \u001b[0;34m=\u001b[0m \u001b[0;34m'utf-8'\u001b[0m\u001b[0;34m\u001b[0m\u001b[0;34m\u001b[0m\u001b[0m\n\u001b[1;32m    790\u001b[0m \u001b[0;34m\u001b[0m\u001b[0m\n\u001b[0;32m--> 791\u001b[0;31m     \u001b[0;32mwith\u001b[0m \u001b[0m_open_file_like\u001b[0m\u001b[0;34m(\u001b[0m\u001b[0mf\u001b[0m\u001b[0;34m,\u001b[0m \u001b[0;34m'rb'\u001b[0m\u001b[0;34m)\u001b[0m \u001b[0;32mas\u001b[0m \u001b[0mopened_file\u001b[0m\u001b[0;34m:\u001b[0m\u001b[0;34m\u001b[0m\u001b[0;34m\u001b[0m\u001b[0m\n\u001b[0m\u001b[1;32m    792\u001b[0m         \u001b[0;32mif\u001b[0m \u001b[0m_is_zipfile\u001b[0m\u001b[0;34m(\u001b[0m\u001b[0mopened_file\u001b[0m\u001b[0;34m)\u001b[0m\u001b[0;34m:\u001b[0m\u001b[0;34m\u001b[0m\u001b[0;34m\u001b[0m\u001b[0m\n\u001b[1;32m    793\u001b[0m             \u001b[0;31m# The zipfile reader is going to advance the current file position.\u001b[0m\u001b[0;34m\u001b[0m\u001b[0;34m\u001b[0m\u001b[0m\n",
            "\u001b[0;32m/usr/local/lib/python3.10/dist-packages/torch/serialization.py\u001b[0m in \u001b[0;36m_open_file_like\u001b[0;34m(name_or_buffer, mode)\u001b[0m\n\u001b[1;32m    269\u001b[0m \u001b[0;32mdef\u001b[0m \u001b[0m_open_file_like\u001b[0m\u001b[0;34m(\u001b[0m\u001b[0mname_or_buffer\u001b[0m\u001b[0;34m,\u001b[0m \u001b[0mmode\u001b[0m\u001b[0;34m)\u001b[0m\u001b[0;34m:\u001b[0m\u001b[0;34m\u001b[0m\u001b[0;34m\u001b[0m\u001b[0m\n\u001b[1;32m    270\u001b[0m     \u001b[0;32mif\u001b[0m \u001b[0m_is_path\u001b[0m\u001b[0;34m(\u001b[0m\u001b[0mname_or_buffer\u001b[0m\u001b[0;34m)\u001b[0m\u001b[0;34m:\u001b[0m\u001b[0;34m\u001b[0m\u001b[0;34m\u001b[0m\u001b[0m\n\u001b[0;32m--> 271\u001b[0;31m         \u001b[0;32mreturn\u001b[0m \u001b[0m_open_file\u001b[0m\u001b[0;34m(\u001b[0m\u001b[0mname_or_buffer\u001b[0m\u001b[0;34m,\u001b[0m \u001b[0mmode\u001b[0m\u001b[0;34m)\u001b[0m\u001b[0;34m\u001b[0m\u001b[0;34m\u001b[0m\u001b[0m\n\u001b[0m\u001b[1;32m    272\u001b[0m     \u001b[0;32melse\u001b[0m\u001b[0;34m:\u001b[0m\u001b[0;34m\u001b[0m\u001b[0;34m\u001b[0m\u001b[0m\n\u001b[1;32m    273\u001b[0m         \u001b[0;32mif\u001b[0m \u001b[0;34m'w'\u001b[0m \u001b[0;32min\u001b[0m \u001b[0mmode\u001b[0m\u001b[0;34m:\u001b[0m\u001b[0;34m\u001b[0m\u001b[0;34m\u001b[0m\u001b[0m\n",
            "\u001b[0;32m/usr/local/lib/python3.10/dist-packages/torch/serialization.py\u001b[0m in \u001b[0;36m__init__\u001b[0;34m(self, name, mode)\u001b[0m\n\u001b[1;32m    250\u001b[0m \u001b[0;32mclass\u001b[0m \u001b[0m_open_file\u001b[0m\u001b[0;34m(\u001b[0m\u001b[0m_opener\u001b[0m\u001b[0;34m)\u001b[0m\u001b[0;34m:\u001b[0m\u001b[0;34m\u001b[0m\u001b[0;34m\u001b[0m\u001b[0m\n\u001b[1;32m    251\u001b[0m     \u001b[0;32mdef\u001b[0m \u001b[0m__init__\u001b[0m\u001b[0;34m(\u001b[0m\u001b[0mself\u001b[0m\u001b[0;34m,\u001b[0m \u001b[0mname\u001b[0m\u001b[0;34m,\u001b[0m \u001b[0mmode\u001b[0m\u001b[0;34m)\u001b[0m\u001b[0;34m:\u001b[0m\u001b[0;34m\u001b[0m\u001b[0;34m\u001b[0m\u001b[0m\n\u001b[0;32m--> 252\u001b[0;31m         \u001b[0msuper\u001b[0m\u001b[0;34m(\u001b[0m\u001b[0;34m)\u001b[0m\u001b[0;34m.\u001b[0m\u001b[0m__init__\u001b[0m\u001b[0;34m(\u001b[0m\u001b[0mopen\u001b[0m\u001b[0;34m(\u001b[0m\u001b[0mname\u001b[0m\u001b[0;34m,\u001b[0m \u001b[0mmode\u001b[0m\u001b[0;34m)\u001b[0m\u001b[0;34m)\u001b[0m\u001b[0;34m\u001b[0m\u001b[0;34m\u001b[0m\u001b[0m\n\u001b[0m\u001b[1;32m    253\u001b[0m \u001b[0;34m\u001b[0m\u001b[0m\n\u001b[1;32m    254\u001b[0m     \u001b[0;32mdef\u001b[0m \u001b[0m__exit__\u001b[0m\u001b[0;34m(\u001b[0m\u001b[0mself\u001b[0m\u001b[0;34m,\u001b[0m \u001b[0;34m*\u001b[0m\u001b[0margs\u001b[0m\u001b[0;34m)\u001b[0m\u001b[0;34m:\u001b[0m\u001b[0;34m\u001b[0m\u001b[0;34m\u001b[0m\u001b[0m\n",
            "\u001b[0;31mFileNotFoundError\u001b[0m: [Errno 2] No such file or directory: 'model_Deep_LSTM_bs256_lr0.01_epoch99'"
          ]
        }
      ]
    },
    {
      "cell_type": "code",
      "source": [
        "d=get_accuracy(deep_lstm2,test_loaders)\n",
        "print(d)"
      ],
      "metadata": {
        "id": "VWiWJ06RXmQB"
      },
      "execution_count": null,
      "outputs": []
    },
    {
      "cell_type": "code",
      "source": [
        "import torch\n",
        "import torch.nn as nn\n",
        "\n",
        "# Load the trained model\n",
        "loaded_model = model  # Load your trained model here\n",
        "\n",
        "# Define the loss function (use the same one you used during training)\n",
        "loss_function = nn.MSELoss()  # Example loss function (change as needed)\n",
        "\n",
        "# Load the testing dataloader\n",
        "testing_dataloader = test_loaders  # Load your testing dataloader here\n",
        "\n",
        "total_loss = 0.0\n",
        "num_batches = 0\n",
        "\n",
        "# Set the model to evaluation mode\n",
        "loaded_model.eval()\n",
        "\n",
        "# Iterate through the testing dataloader\n",
        "with torch.no_grad():\n",
        "    for inputs, targets in testing_dataloader:\n",
        "        # Forward pass to get predictions\n",
        "        predictions = loaded_model(inputs)\n",
        "\n",
        "        # Calculate the batch loss\n",
        "        batch_loss = loss_function(predictions, targets)\n",
        "\n",
        "        total_loss += batch_loss.item()\n",
        "        num_batches += 1\n",
        "\n",
        "# Calculate the average test loss\n",
        "average_test_loss = total_loss / num_batches\n",
        "\n",
        "print(f\"Average Test Loss: {average_test_loss}\")"
      ],
      "metadata": {
        "id": "GfrV9emJjgSP"
      },
      "execution_count": null,
      "outputs": []
    },
    {
      "cell_type": "markdown",
      "metadata": {
        "id": "kH4JK3kkK9sQ"
      },
      "source": [
        "## Promote user input:\n",
        "### Define functions\n",
        "\n",
        "data cleaning for one-line statement"
      ]
    },
    {
      "cell_type": "code",
      "execution_count": null,
      "metadata": {
        "id": "BjLDzTsvsZjQ"
      },
      "outputs": [],
      "source": [
        "# Combine convertion for one line statement\n",
        "def convert(msg):\n",
        "  # put into a dataframe\n",
        "  df_sentence = pd.DataFrame([msg], columns=[\"sentence\"])\n",
        "\n",
        "  # Tokenize\n",
        "  df_sentence['sentence'] = df_sentence['sentence'].astype(str)  # Convert 'sentence' column to string\n",
        "  df_sentence['tokenized_sentences'] = df_sentence['sentence'].apply(lambda x: word_tokenize(x))  # New column 'tokenized_sentences' containing tokenized sentences\n",
        "  subdf_sentence = df_sentence[[\"tokenized_sentences\"]]  # extract the labels and tokenized sentences into a new dataframe, subdf\n",
        "\n",
        "  # Remove punctuations\n",
        "  subdf_sentence['perfect_tokens'] = subdf_sentence['tokenized_sentences'].apply(lambda tokens: [remove_punctuation(token) for token in tokens])\n",
        "\n",
        "  # Remove empty strings from the tokenized sentences\n",
        "  subdf_sentence['perfect_tokens'] = subdf_sentence['perfect_tokens'].apply(lambda tokens: [token for token in tokens if token])\n",
        "\n",
        "  # convert to lowercase\n",
        "  subdf_sentence['perfect_tokens'] = subdf_sentence['perfect_tokens'].apply(lambda tokens: [token.lower() for token in tokens])\n",
        "\n",
        "  return subdf_sentence"
      ]
    },
    {
      "cell_type": "markdown",
      "metadata": {
        "id": "rZVP8_besy8F"
      },
      "source": [
        "Further step; predict the sentiment\n",
        "\n",
        "To modify the model_path and model to use different neural networks"
      ]
    },
    {
      "cell_type": "code",
      "execution_count": null,
      "metadata": {
        "id": "6Z0O7rYvsehL"
      },
      "outputs": [],
      "source": [
        "def process_step(dataframe):\n",
        "   print(\"Processing the next step...\")\n",
        "\n",
        "   # match the keys\n",
        "   model_path = get_model_name(\"Deep_LSTM\", batch_size = 256, learning_rate = 0.01, epoch = 99)\n",
        "   state = torch.load(model_path)\n",
        "   deep_lstm.load_state_dict(state)\n",
        "\n",
        "   # create the list\n",
        "   tokens_ = []\n",
        "   tokens = []\n",
        "\n",
        "   # Extract the first row from the DataFrame as a list of tokens\n",
        "   first_row_tokens = dataframe['perfect_tokens'].iloc[0]\n",
        "\n",
        "   cnt = 0\n",
        "   # Append each token from the first row to the result_list one by one from the start\n",
        "   for token in first_row_tokens:\n",
        "      tokens_.append(token)\n",
        "      cnt += 1\n",
        "\n",
        "   # pair the tokens with the vocab list and return the number\n",
        "   for idx in range(cnt):\n",
        "    tokens.append(vocab[tokens_[idx]])\n",
        "\n",
        "   # convert into tensor\n",
        "   tokens_tensor = torch.LongTensor([tokens])  # create a tensor\n",
        "   with torch.no_grad():  # since not training, we ensure there is no gradient computed\n",
        "       pred = deep_lstm(tokens_tensor)  # contains the output of the model\n",
        "\n",
        "   # calc the prediction\n",
        "   sentiment = torch.argmax(pred)  # applying the softmax function along the tensor's dimension 1\n",
        "   if(sentiment.item() == 1):\n",
        "    result = \"Positive\"\n",
        "   elif(sentiment.item() == 2):\n",
        "    result = \"Negative\"\n",
        "   else:\n",
        "    result = \"Neutral\"\n",
        "   print(\"the sentiment predicted for this message is: \", result)"
      ]
    },
    {
      "cell_type": "markdown",
      "metadata": {
        "id": "zjiIpm1Ts4Bg"
      },
      "source": [
        "To let user choose whether it want to continue or not"
      ]
    },
    {
      "cell_type": "code",
      "execution_count": null,
      "metadata": {
        "id": "iwLFxXDbshRC"
      },
      "outputs": [],
      "source": [
        "# Choose to proceed\n",
        "def choose(dataframe):\n",
        "  user_choice = input(\"Do you want to proceed? (Yes/No): \").lower()\n",
        "\n",
        "  if user_choice == 'yes':\n",
        "    print(\"You chose 'Yes'.\")\n",
        "    process_step(dataframe)  # Call the function for the next step\n",
        "  elif user_choice == 'no':\n",
        "    print(\"You chose 'No'. Exiting.\")\n",
        "  else:\n",
        "    print(\"Invalid choice. Please enter 'Yes' or 'No'.\")\n",
        "    choose(dataframe)  # promote again"
      ]
    },
    {
      "cell_type": "markdown",
      "metadata": {
        "id": "C3Z0fiOysl73"
      },
      "source": [
        "### Main function"
      ]
    },
    {
      "cell_type": "code",
      "execution_count": null,
      "metadata": {
        "colab": {
          "base_uri": "https://localhost:8080/",
          "height": 515
        },
        "id": "hSDC9I81sjQB",
        "outputId": "c52a82d9-7a28-4518-d066-d33d397af3f0"
      },
      "outputs": [
        {
          "name": "stdout",
          "output_type": "stream",
          "text": [
            "Enter a string-type sentence: This course is boring\n",
            "Your entered sentence is:  This course is boring\n",
            "Do you want to proceed? (Yes/No): Yes\n",
            "You chose 'Yes'.\n",
            "Processing the next step...\n",
            "the sentiment predicted for this message is:  Negative\n",
            "Do you want to Stop? (Yes/No): This course is fantastic\n"
          ]
        },
        {
          "ename": "KeyboardInterrupt",
          "evalue": "ignored",
          "output_type": "error",
          "traceback": [
            "\u001b[0;31m---------------------------------------------------------------------------\u001b[0m",
            "\u001b[0;31mKeyboardInterrupt\u001b[0m                         Traceback (most recent call last)",
            "\u001b[0;32m<ipython-input-64-8d34cd25a0d2>\u001b[0m in \u001b[0;36m<cell line: 2>\u001b[0;34m()\u001b[0m\n\u001b[1;32m      2\u001b[0m \u001b[0;32mwhile\u001b[0m \u001b[0muser_input\u001b[0m \u001b[0;34m!=\u001b[0m \u001b[0;34m\"No\"\u001b[0m\u001b[0;34m:\u001b[0m\u001b[0;34m\u001b[0m\u001b[0;34m\u001b[0m\u001b[0m\n\u001b[1;32m      3\u001b[0m   \u001b[0;31m# get the user input\u001b[0m\u001b[0;34m\u001b[0m\u001b[0;34m\u001b[0m\u001b[0m\n\u001b[0;32m----> 4\u001b[0;31m   \u001b[0muser_input\u001b[0m \u001b[0;34m=\u001b[0m \u001b[0minput\u001b[0m\u001b[0;34m(\u001b[0m\u001b[0;34m\"Enter a string-type sentence: \"\u001b[0m\u001b[0;34m)\u001b[0m\u001b[0;34m\u001b[0m\u001b[0;34m\u001b[0m\u001b[0m\n\u001b[0m\u001b[1;32m      5\u001b[0m \u001b[0;34m\u001b[0m\u001b[0m\n\u001b[1;32m      6\u001b[0m   \u001b[0;31m# convert to suitable type store back into a dataframe\u001b[0m\u001b[0;34m\u001b[0m\u001b[0;34m\u001b[0m\u001b[0m\n",
            "\u001b[0;32m/usr/local/lib/python3.10/dist-packages/ipykernel/kernelbase.py\u001b[0m in \u001b[0;36mraw_input\u001b[0;34m(self, prompt)\u001b[0m\n\u001b[1;32m    849\u001b[0m                 \u001b[0;34m\"raw_input was called, but this frontend does not support input requests.\"\u001b[0m\u001b[0;34m\u001b[0m\u001b[0;34m\u001b[0m\u001b[0m\n\u001b[1;32m    850\u001b[0m             )\n\u001b[0;32m--> 851\u001b[0;31m         return self._input_request(str(prompt),\n\u001b[0m\u001b[1;32m    852\u001b[0m             \u001b[0mself\u001b[0m\u001b[0;34m.\u001b[0m\u001b[0m_parent_ident\u001b[0m\u001b[0;34m,\u001b[0m\u001b[0;34m\u001b[0m\u001b[0;34m\u001b[0m\u001b[0m\n\u001b[1;32m    853\u001b[0m             \u001b[0mself\u001b[0m\u001b[0;34m.\u001b[0m\u001b[0m_parent_header\u001b[0m\u001b[0;34m,\u001b[0m\u001b[0;34m\u001b[0m\u001b[0;34m\u001b[0m\u001b[0m\n",
            "\u001b[0;32m/usr/local/lib/python3.10/dist-packages/ipykernel/kernelbase.py\u001b[0m in \u001b[0;36m_input_request\u001b[0;34m(self, prompt, ident, parent, password)\u001b[0m\n\u001b[1;32m    893\u001b[0m             \u001b[0;32mexcept\u001b[0m \u001b[0mKeyboardInterrupt\u001b[0m\u001b[0;34m:\u001b[0m\u001b[0;34m\u001b[0m\u001b[0;34m\u001b[0m\u001b[0m\n\u001b[1;32m    894\u001b[0m                 \u001b[0;31m# re-raise KeyboardInterrupt, to truncate traceback\u001b[0m\u001b[0;34m\u001b[0m\u001b[0;34m\u001b[0m\u001b[0m\n\u001b[0;32m--> 895\u001b[0;31m                 \u001b[0;32mraise\u001b[0m \u001b[0mKeyboardInterrupt\u001b[0m\u001b[0;34m(\u001b[0m\u001b[0;34m\"Interrupted by user\"\u001b[0m\u001b[0;34m)\u001b[0m \u001b[0;32mfrom\u001b[0m \u001b[0;32mNone\u001b[0m\u001b[0;34m\u001b[0m\u001b[0;34m\u001b[0m\u001b[0m\n\u001b[0m\u001b[1;32m    896\u001b[0m             \u001b[0;32mexcept\u001b[0m \u001b[0mException\u001b[0m \u001b[0;32mas\u001b[0m \u001b[0me\u001b[0m\u001b[0;34m:\u001b[0m\u001b[0;34m\u001b[0m\u001b[0;34m\u001b[0m\u001b[0m\n\u001b[1;32m    897\u001b[0m                 \u001b[0mself\u001b[0m\u001b[0;34m.\u001b[0m\u001b[0mlog\u001b[0m\u001b[0;34m.\u001b[0m\u001b[0mwarning\u001b[0m\u001b[0;34m(\u001b[0m\u001b[0;34m\"Invalid Message:\"\u001b[0m\u001b[0;34m,\u001b[0m \u001b[0mexc_info\u001b[0m\u001b[0;34m=\u001b[0m\u001b[0;32mTrue\u001b[0m\u001b[0;34m)\u001b[0m\u001b[0;34m\u001b[0m\u001b[0;34m\u001b[0m\u001b[0m\n",
            "\u001b[0;31mKeyboardInterrupt\u001b[0m: Interrupted by user"
          ]
        }
      ],
      "source": [
        "user_input=\"\"\n",
        "while user_input != \"No\":\n",
        "  # get the user input\n",
        "  user_input = input(\"Enter a string-type sentence: \")\n",
        "\n",
        "  # convert to suitable type store back into a dataframe\n",
        "  dataframe = convert(user_input)\n",
        "\n",
        "  #print(dataframe)  # testing\n",
        "  print(\"Your entered sentence is: \", user_input)\n",
        "\n",
        "  # choose to proceed or not\n",
        "  choose(dataframe)\n",
        "\n",
        "  user_input = input(\"Do you want to Stop? (Yes/No): \")"
      ]
    }
  ],
  "metadata": {
    "colab": {
      "provenance": []
    },
    "kernelspec": {
      "display_name": "Python 3",
      "name": "python3"
    },
    "language_info": {
      "name": "python"
    }
  },
  "nbformat": 4,
  "nbformat_minor": 0
}