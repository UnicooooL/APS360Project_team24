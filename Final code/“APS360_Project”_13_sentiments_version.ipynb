{
  "cells": [
    {
      "cell_type": "markdown",
      "metadata": {
        "id": "o_Fd3VVj6V02"
      },
      "source": [
        "# APS360 Project"
      ]
    },
    {
      "cell_type": "markdown",
      "metadata": {
        "id": "Eq4S0VWhRSXi"
      },
      "source": [
        "The purpose of our model is to detect emotions (Positive, Neutral, Negative) from the given sentence, mainly from Twitter."
      ]
    },
    {
      "cell_type": "markdown",
      "metadata": {
        "id": "bQPdnhxe4acF"
      },
      "source": [
        "## 1. Data Preprocessing:\n",
        "\n"
      ]
    },
    {
      "cell_type": "markdown",
      "metadata": {
        "id": "hEzs8cL5M-_p"
      },
      "source": [
        "From the searched dataset, choose the most appropriate sets (e.g. no any missing values, or anything that will misleading the model). First, list the dataset you chose at here. Then, combine the records into one csv file, with the appropriate format. After this, split the data into train/val/test sets with appropriate percentages.\n",
        "\n",
        "We choose to divide the emotions into mainly three categories: Positive, Negative, Neutral."
      ]
    },
    {
      "cell_type": "markdown",
      "metadata": {
        "id": "3DsGZi0XCR3c"
      },
      "source": [
        "1.1 Load the data\n",
        "\n",
        "Import needed libraries："
      ]
    },
    {
      "cell_type": "code",
      "execution_count": null,
      "metadata": {
        "id": "KZifwnRN52-n"
      },
      "outputs": [],
      "source": [
        "import pandas as pd\n",
        "import csv\n",
        "import numpy as np\n",
        "import random\n",
        "import torch\n",
        "import torch.utils.data\n",
        "import matplotlib.pyplot as plt"
      ]
    },
    {
      "cell_type": "markdown",
      "metadata": {
        "id": "fbp6YA-kn7c1"
      },
      "source": [
        "Mount at google drive："
      ]
    },
    {
      "cell_type": "code",
      "execution_count": null,
      "metadata": {
        "colab": {
          "base_uri": "https://localhost:8080/"
        },
        "id": "nlLqmctwh5kj",
        "outputId": "aa8e99de-e68a-4857-8d42-1876c9c78c34"
      },
      "outputs": [
        {
          "output_type": "stream",
          "name": "stdout",
          "text": [
            "Mounted at /content/drive\n"
          ]
        }
      ],
      "source": [
        "from google.colab import drive\n",
        "drive.mount('/content/drive')"
      ]
    },
    {
      "cell_type": "markdown",
      "metadata": {
        "id": "YcL4VOO3n-yp"
      },
      "source": [
        "get the dataframe："
      ]
    },
    {
      "cell_type": "code",
      "execution_count": null,
      "metadata": {
        "id": "1kX8YXkNiCKP"
      },
      "outputs": [],
      "source": [
        "#csv_path='/content/drive/MyDrive/Untitled Folder 1/Copy of project.csv'  # path 0 (Zhijian)\n",
        "csv_path = '/content/drive/MyDrive/APS360_project/tweet_emotions.csv'  # path 1 (Lynne)\n",
        "txt_path = '/content/drive/MyDrive/APS360_project/text.txt'\n",
        "#csv_path = '/content/drive/MyDrive/project.csv'  # path 2 (Yixuan)\n",
        "df=pd.read_csv(csv_path)"
      ]
    },
    {
      "cell_type": "code",
      "execution_count": null,
      "metadata": {
        "id": "jmZNDxNIt2nn"
      },
      "outputs": [],
      "source": [
        "# Lists to store the data for each column\n",
        "column1_data = []\n",
        "column2_data = []\n",
        "\n",
        "# Read the text file and split it into lines\n",
        "with open(txt_path, 'r') as file:\n",
        "    lines = file.readlines()\n",
        "\n",
        "# Split each line into two columns and store the data\n",
        "for line in lines:\n",
        "    column1, column2 = line.strip().split('\\t')  # Assuming columns are tab-separated\n",
        "    column1_data.append(column1)\n",
        "    column2_data.append(column2)\n",
        "\n",
        "# Create a dictionary with the column names and data\n",
        "data = {'column1_name': column1_data, 'column2_name': column2_data}\n",
        "\n",
        "# Convert the dictionary into a DataFrame\n",
        "df1 = pd.DataFrame(data)"
      ]
    },
    {
      "cell_type": "code",
      "source": [],
      "metadata": {
        "id": "KGgGAShUOYyI"
      },
      "execution_count": null,
      "outputs": []
    },
    {
      "cell_type": "code",
      "execution_count": null,
      "metadata": {
        "colab": {
          "base_uri": "https://localhost:8080/"
        },
        "id": "G0IWaFoh7089",
        "outputId": "2b283fca-4b19-478b-e0a6-7598b5a56507"
      },
      "outputs": [
        {
          "output_type": "execute_result",
          "data": {
            "text/plain": [
              "40000"
            ]
          },
          "metadata": {},
          "execution_count": 6
        }
      ],
      "source": [
        "len(df)"
      ]
    },
    {
      "cell_type": "markdown",
      "metadata": {
        "id": "W_6wvAygtLDZ"
      },
      "source": [
        "Clear the labels:"
      ]
    },
    {
      "cell_type": "code",
      "execution_count": null,
      "metadata": {
        "colab": {
          "base_uri": "https://localhost:8080/"
        },
        "id": "nli7rQwetKXI",
        "outputId": "0bbb9e0f-68f5-48ac-d339-acfa72028ec6"
      },
      "outputs": [
        {
          "output_type": "stream",
          "name": "stdout",
          "text": [
            "Unique Sentiments:\n",
            "empty\n",
            "sadness\n",
            "enthusiasm\n",
            "neutral\n",
            "worry\n",
            "surprise\n",
            "love\n",
            "fun\n",
            "hate\n",
            "happiness\n",
            "boredom\n",
            "relief\n",
            "anger\n"
          ]
        }
      ],
      "source": [
        "sentiment_column = 'sentiment'\n",
        "\n",
        "# Get the unique values in the sentiment column\n",
        "unique_sentiments = df[sentiment_column].unique()\n",
        "\n",
        "# Print the unique sentiments\n",
        "print(\"Unique Sentiments:\")\n",
        "for sentiment in unique_sentiments:\n",
        "    print(sentiment)"
      ]
    },
    {
      "cell_type": "code",
      "execution_count": null,
      "metadata": {
        "id": "LD9RQMcdvUJh"
      },
      "outputs": [],
      "source": [
        "# Dictionary of replacements\n",
        "replacement_dict = {\n",
        "    'empty': 0,\n",
        "    'sadness': 1,\n",
        "    'enthusiasm': 2,\n",
        "    'neutral': 3,\n",
        "    'worry': 4,\n",
        "    'surprise': 5,\n",
        "    'love': 6,\n",
        "    'fun': 7,\n",
        "    'hate': 8,\n",
        "    'happiness': 9,\n",
        "    'boredom': 10,\n",
        "    'relief': 11,\n",
        "    'anger': 12\n",
        "}\n",
        "\n",
        "df['sentiment'] = df['sentiment'].replace(replacement_dict)"
      ]
    },
    {
      "cell_type": "code",
      "execution_count": null,
      "metadata": {
        "id": "H7gD80uev5Wb"
      },
      "outputs": [],
      "source": [
        "# Dictionary of new column names\n",
        "new_column_names = {\n",
        "    'sentiment': 'label',\n",
        "    'content': 'sentence',\n",
        "}\n",
        "\n",
        "# Rename the columns\n",
        "df.rename(columns=new_column_names, inplace=True)"
      ]
    },
    {
      "cell_type": "markdown",
      "metadata": {
        "id": "ppUrWhwMoCHA"
      },
      "source": [
        "Visualize part of the data："
      ]
    },
    {
      "cell_type": "code",
      "execution_count": null,
      "metadata": {
        "colab": {
          "base_uri": "https://localhost:8080/",
          "height": 206
        },
        "id": "lcYS9_Q2isp6",
        "outputId": "bff0f902-0bd1-4ed3-acd2-9e8cd6ca063d"
      },
      "outputs": [
        {
          "output_type": "execute_result",
          "data": {
            "text/plain": [
              "     tweet_id  label                                           sentence\n",
              "0  1956967341      0  @tiffanylue i know  i was listenin to bad habi...\n",
              "1  1956967666      1  Layin n bed with a headache  ughhhh...waitin o...\n",
              "2  1956967696      1                Funeral ceremony...gloomy friday...\n",
              "3  1956967789      2               wants to hang out with friends SOON!\n",
              "4  1956968416      3  @dannycastillo We want to trade with someone w..."
            ],
            "text/html": [
              "\n",
              "\n",
              "  <div id=\"df-29f8c17b-f004-4aa7-95ca-83bc83ed2a2b\">\n",
              "    <div class=\"colab-df-container\">\n",
              "      <div>\n",
              "<style scoped>\n",
              "    .dataframe tbody tr th:only-of-type {\n",
              "        vertical-align: middle;\n",
              "    }\n",
              "\n",
              "    .dataframe tbody tr th {\n",
              "        vertical-align: top;\n",
              "    }\n",
              "\n",
              "    .dataframe thead th {\n",
              "        text-align: right;\n",
              "    }\n",
              "</style>\n",
              "<table border=\"1\" class=\"dataframe\">\n",
              "  <thead>\n",
              "    <tr style=\"text-align: right;\">\n",
              "      <th></th>\n",
              "      <th>tweet_id</th>\n",
              "      <th>label</th>\n",
              "      <th>sentence</th>\n",
              "    </tr>\n",
              "  </thead>\n",
              "  <tbody>\n",
              "    <tr>\n",
              "      <th>0</th>\n",
              "      <td>1956967341</td>\n",
              "      <td>0</td>\n",
              "      <td>@tiffanylue i know  i was listenin to bad habi...</td>\n",
              "    </tr>\n",
              "    <tr>\n",
              "      <th>1</th>\n",
              "      <td>1956967666</td>\n",
              "      <td>1</td>\n",
              "      <td>Layin n bed with a headache  ughhhh...waitin o...</td>\n",
              "    </tr>\n",
              "    <tr>\n",
              "      <th>2</th>\n",
              "      <td>1956967696</td>\n",
              "      <td>1</td>\n",
              "      <td>Funeral ceremony...gloomy friday...</td>\n",
              "    </tr>\n",
              "    <tr>\n",
              "      <th>3</th>\n",
              "      <td>1956967789</td>\n",
              "      <td>2</td>\n",
              "      <td>wants to hang out with friends SOON!</td>\n",
              "    </tr>\n",
              "    <tr>\n",
              "      <th>4</th>\n",
              "      <td>1956968416</td>\n",
              "      <td>3</td>\n",
              "      <td>@dannycastillo We want to trade with someone w...</td>\n",
              "    </tr>\n",
              "  </tbody>\n",
              "</table>\n",
              "</div>\n",
              "      <button class=\"colab-df-convert\" onclick=\"convertToInteractive('df-29f8c17b-f004-4aa7-95ca-83bc83ed2a2b')\"\n",
              "              title=\"Convert this dataframe to an interactive table.\"\n",
              "              style=\"display:none;\">\n",
              "\n",
              "  <svg xmlns=\"http://www.w3.org/2000/svg\" height=\"24px\"viewBox=\"0 0 24 24\"\n",
              "       width=\"24px\">\n",
              "    <path d=\"M0 0h24v24H0V0z\" fill=\"none\"/>\n",
              "    <path d=\"M18.56 5.44l.94 2.06.94-2.06 2.06-.94-2.06-.94-.94-2.06-.94 2.06-2.06.94zm-11 1L8.5 8.5l.94-2.06 2.06-.94-2.06-.94L8.5 2.5l-.94 2.06-2.06.94zm10 10l.94 2.06.94-2.06 2.06-.94-2.06-.94-.94-2.06-.94 2.06-2.06.94z\"/><path d=\"M17.41 7.96l-1.37-1.37c-.4-.4-.92-.59-1.43-.59-.52 0-1.04.2-1.43.59L10.3 9.45l-7.72 7.72c-.78.78-.78 2.05 0 2.83L4 21.41c.39.39.9.59 1.41.59.51 0 1.02-.2 1.41-.59l7.78-7.78 2.81-2.81c.8-.78.8-2.07 0-2.86zM5.41 20L4 18.59l7.72-7.72 1.47 1.35L5.41 20z\"/>\n",
              "  </svg>\n",
              "      </button>\n",
              "\n",
              "\n",
              "\n",
              "    <div id=\"df-128fb989-2a77-4a5e-9e73-178ea6bc82b8\">\n",
              "      <button class=\"colab-df-quickchart\" onclick=\"quickchart('df-128fb989-2a77-4a5e-9e73-178ea6bc82b8')\"\n",
              "              title=\"Suggest charts.\"\n",
              "              style=\"display:none;\">\n",
              "\n",
              "<svg xmlns=\"http://www.w3.org/2000/svg\" height=\"24px\"viewBox=\"0 0 24 24\"\n",
              "     width=\"24px\">\n",
              "    <g>\n",
              "        <path d=\"M19 3H5c-1.1 0-2 .9-2 2v14c0 1.1.9 2 2 2h14c1.1 0 2-.9 2-2V5c0-1.1-.9-2-2-2zM9 17H7v-7h2v7zm4 0h-2V7h2v10zm4 0h-2v-4h2v4z\"/>\n",
              "    </g>\n",
              "</svg>\n",
              "      </button>\n",
              "    </div>\n",
              "\n",
              "<style>\n",
              "  .colab-df-quickchart {\n",
              "    background-color: #E8F0FE;\n",
              "    border: none;\n",
              "    border-radius: 50%;\n",
              "    cursor: pointer;\n",
              "    display: none;\n",
              "    fill: #1967D2;\n",
              "    height: 32px;\n",
              "    padding: 0 0 0 0;\n",
              "    width: 32px;\n",
              "  }\n",
              "\n",
              "  .colab-df-quickchart:hover {\n",
              "    background-color: #E2EBFA;\n",
              "    box-shadow: 0px 1px 2px rgba(60, 64, 67, 0.3), 0px 1px 3px 1px rgba(60, 64, 67, 0.15);\n",
              "    fill: #174EA6;\n",
              "  }\n",
              "\n",
              "  [theme=dark] .colab-df-quickchart {\n",
              "    background-color: #3B4455;\n",
              "    fill: #D2E3FC;\n",
              "  }\n",
              "\n",
              "  [theme=dark] .colab-df-quickchart:hover {\n",
              "    background-color: #434B5C;\n",
              "    box-shadow: 0px 1px 3px 1px rgba(0, 0, 0, 0.15);\n",
              "    filter: drop-shadow(0px 1px 2px rgba(0, 0, 0, 0.3));\n",
              "    fill: #FFFFFF;\n",
              "  }\n",
              "</style>\n",
              "\n",
              "    <script>\n",
              "      async function quickchart(key) {\n",
              "        const containerElement = document.querySelector('#' + key);\n",
              "        const charts = await google.colab.kernel.invokeFunction(\n",
              "            'suggestCharts', [key], {});\n",
              "      }\n",
              "    </script>\n",
              "\n",
              "      <script>\n",
              "\n",
              "function displayQuickchartButton(domScope) {\n",
              "  let quickchartButtonEl =\n",
              "    domScope.querySelector('#df-128fb989-2a77-4a5e-9e73-178ea6bc82b8 button.colab-df-quickchart');\n",
              "  quickchartButtonEl.style.display =\n",
              "    google.colab.kernel.accessAllowed ? 'block' : 'none';\n",
              "}\n",
              "\n",
              "        displayQuickchartButton(document);\n",
              "      </script>\n",
              "      <style>\n",
              "    .colab-df-container {\n",
              "      display:flex;\n",
              "      flex-wrap:wrap;\n",
              "      gap: 12px;\n",
              "    }\n",
              "\n",
              "    .colab-df-convert {\n",
              "      background-color: #E8F0FE;\n",
              "      border: none;\n",
              "      border-radius: 50%;\n",
              "      cursor: pointer;\n",
              "      display: none;\n",
              "      fill: #1967D2;\n",
              "      height: 32px;\n",
              "      padding: 0 0 0 0;\n",
              "      width: 32px;\n",
              "    }\n",
              "\n",
              "    .colab-df-convert:hover {\n",
              "      background-color: #E2EBFA;\n",
              "      box-shadow: 0px 1px 2px rgba(60, 64, 67, 0.3), 0px 1px 3px 1px rgba(60, 64, 67, 0.15);\n",
              "      fill: #174EA6;\n",
              "    }\n",
              "\n",
              "    [theme=dark] .colab-df-convert {\n",
              "      background-color: #3B4455;\n",
              "      fill: #D2E3FC;\n",
              "    }\n",
              "\n",
              "    [theme=dark] .colab-df-convert:hover {\n",
              "      background-color: #434B5C;\n",
              "      box-shadow: 0px 1px 3px 1px rgba(0, 0, 0, 0.15);\n",
              "      filter: drop-shadow(0px 1px 2px rgba(0, 0, 0, 0.3));\n",
              "      fill: #FFFFFF;\n",
              "    }\n",
              "  </style>\n",
              "\n",
              "      <script>\n",
              "        const buttonEl =\n",
              "          document.querySelector('#df-29f8c17b-f004-4aa7-95ca-83bc83ed2a2b button.colab-df-convert');\n",
              "        buttonEl.style.display =\n",
              "          google.colab.kernel.accessAllowed ? 'block' : 'none';\n",
              "\n",
              "        async function convertToInteractive(key) {\n",
              "          const element = document.querySelector('#df-29f8c17b-f004-4aa7-95ca-83bc83ed2a2b');\n",
              "          const dataTable =\n",
              "            await google.colab.kernel.invokeFunction('convertToInteractive',\n",
              "                                                     [key], {});\n",
              "          if (!dataTable) return;\n",
              "\n",
              "          const docLinkHtml = 'Like what you see? Visit the ' +\n",
              "            '<a target=\"_blank\" href=https://colab.research.google.com/notebooks/data_table.ipynb>data table notebook</a>'\n",
              "            + ' to learn more about interactive tables.';\n",
              "          element.innerHTML = '';\n",
              "          dataTable['output_type'] = 'display_data';\n",
              "          await google.colab.output.renderOutput(dataTable, element);\n",
              "          const docLink = document.createElement('div');\n",
              "          docLink.innerHTML = docLinkHtml;\n",
              "          element.appendChild(docLink);\n",
              "        }\n",
              "      </script>\n",
              "    </div>\n",
              "  </div>\n"
            ]
          },
          "metadata": {},
          "execution_count": 10
        }
      ],
      "source": [
        "df.head()"
      ]
    },
    {
      "cell_type": "markdown",
      "metadata": {
        "id": "SEYk8hqAoM9q"
      },
      "source": [
        "Have been combine the needed data into one file."
      ]
    },
    {
      "cell_type": "markdown",
      "metadata": {
        "id": "9Wk81KhP63HA"
      },
      "source": [
        "## 2. Data Transformation:"
      ]
    },
    {
      "cell_type": "markdown",
      "metadata": {
        "id": "rLUb_5Fgdsq7"
      },
      "source": [
        "2.1 Preprocessing the sentence"
      ]
    },
    {
      "cell_type": "markdown",
      "metadata": {
        "id": "pSJ4apX89RDk"
      },
      "source": [
        "Load all neeed packages and libraries:"
      ]
    },
    {
      "cell_type": "code",
      "execution_count": null,
      "metadata": {
        "colab": {
          "base_uri": "https://localhost:8080/"
        },
        "id": "pjP9kjdN8t_R",
        "outputId": "b6334de6-a990-444e-f7b7-03b2602c701e"
      },
      "outputs": [
        {
          "output_type": "stream",
          "name": "stderr",
          "text": [
            "[nltk_data] Downloading package punkt to /root/nltk_data...\n",
            "[nltk_data]   Unzipping tokenizers/punkt.zip.\n"
          ]
        }
      ],
      "source": [
        "# import all needed libraries in section 2.1\n",
        "\n",
        "# packages needed by tokenization\n",
        "import pandas as pd\n",
        "import nltk\n",
        "nltk.download('punkt')\n",
        "from nltk.tokenize import word_tokenize\n",
        "# packages needed by remove punctuations\n",
        "import string\n",
        "# packages needed by co-occurance calc\n",
        "from collections import Counter"
      ]
    },
    {
      "cell_type": "markdown",
      "metadata": {
        "id": "iAbl3ZcF6_oC"
      },
      "source": [
        "Tokenize the sentence by white-space tokenization:"
      ]
    },
    {
      "cell_type": "code",
      "execution_count": null,
      "metadata": {
        "colab": {
          "base_uri": "https://localhost:8080/",
          "height": 143
        },
        "id": "wkwOz3575vFm",
        "outputId": "9e6a9f5b-af57-45a8-c768-2da79aa50525"
      },
      "outputs": [
        {
          "output_type": "execute_result",
          "data": {
            "text/plain": [
              "   label                                tokenized_sentences\n",
              "0      0  [@, tiffanylue, i, know, i, was, listenin, to,...\n",
              "1      1  [Layin, n, bed, with, a, headache, ughhhh, ......\n",
              "2      1      [Funeral, ceremony, ..., gloomy, friday, ...]"
            ],
            "text/html": [
              "\n",
              "\n",
              "  <div id=\"df-74090f24-75e1-49ab-b71e-ed3bde1d771f\">\n",
              "    <div class=\"colab-df-container\">\n",
              "      <div>\n",
              "<style scoped>\n",
              "    .dataframe tbody tr th:only-of-type {\n",
              "        vertical-align: middle;\n",
              "    }\n",
              "\n",
              "    .dataframe tbody tr th {\n",
              "        vertical-align: top;\n",
              "    }\n",
              "\n",
              "    .dataframe thead th {\n",
              "        text-align: right;\n",
              "    }\n",
              "</style>\n",
              "<table border=\"1\" class=\"dataframe\">\n",
              "  <thead>\n",
              "    <tr style=\"text-align: right;\">\n",
              "      <th></th>\n",
              "      <th>label</th>\n",
              "      <th>tokenized_sentences</th>\n",
              "    </tr>\n",
              "  </thead>\n",
              "  <tbody>\n",
              "    <tr>\n",
              "      <th>0</th>\n",
              "      <td>0</td>\n",
              "      <td>[@, tiffanylue, i, know, i, was, listenin, to,...</td>\n",
              "    </tr>\n",
              "    <tr>\n",
              "      <th>1</th>\n",
              "      <td>1</td>\n",
              "      <td>[Layin, n, bed, with, a, headache, ughhhh, ......</td>\n",
              "    </tr>\n",
              "    <tr>\n",
              "      <th>2</th>\n",
              "      <td>1</td>\n",
              "      <td>[Funeral, ceremony, ..., gloomy, friday, ...]</td>\n",
              "    </tr>\n",
              "  </tbody>\n",
              "</table>\n",
              "</div>\n",
              "      <button class=\"colab-df-convert\" onclick=\"convertToInteractive('df-74090f24-75e1-49ab-b71e-ed3bde1d771f')\"\n",
              "              title=\"Convert this dataframe to an interactive table.\"\n",
              "              style=\"display:none;\">\n",
              "\n",
              "  <svg xmlns=\"http://www.w3.org/2000/svg\" height=\"24px\"viewBox=\"0 0 24 24\"\n",
              "       width=\"24px\">\n",
              "    <path d=\"M0 0h24v24H0V0z\" fill=\"none\"/>\n",
              "    <path d=\"M18.56 5.44l.94 2.06.94-2.06 2.06-.94-2.06-.94-.94-2.06-.94 2.06-2.06.94zm-11 1L8.5 8.5l.94-2.06 2.06-.94-2.06-.94L8.5 2.5l-.94 2.06-2.06.94zm10 10l.94 2.06.94-2.06 2.06-.94-2.06-.94-.94-2.06-.94 2.06-2.06.94z\"/><path d=\"M17.41 7.96l-1.37-1.37c-.4-.4-.92-.59-1.43-.59-.52 0-1.04.2-1.43.59L10.3 9.45l-7.72 7.72c-.78.78-.78 2.05 0 2.83L4 21.41c.39.39.9.59 1.41.59.51 0 1.02-.2 1.41-.59l7.78-7.78 2.81-2.81c.8-.78.8-2.07 0-2.86zM5.41 20L4 18.59l7.72-7.72 1.47 1.35L5.41 20z\"/>\n",
              "  </svg>\n",
              "      </button>\n",
              "\n",
              "\n",
              "\n",
              "    <div id=\"df-c1a9a95f-1981-4531-aa13-d3eddd020326\">\n",
              "      <button class=\"colab-df-quickchart\" onclick=\"quickchart('df-c1a9a95f-1981-4531-aa13-d3eddd020326')\"\n",
              "              title=\"Suggest charts.\"\n",
              "              style=\"display:none;\">\n",
              "\n",
              "<svg xmlns=\"http://www.w3.org/2000/svg\" height=\"24px\"viewBox=\"0 0 24 24\"\n",
              "     width=\"24px\">\n",
              "    <g>\n",
              "        <path d=\"M19 3H5c-1.1 0-2 .9-2 2v14c0 1.1.9 2 2 2h14c1.1 0 2-.9 2-2V5c0-1.1-.9-2-2-2zM9 17H7v-7h2v7zm4 0h-2V7h2v10zm4 0h-2v-4h2v4z\"/>\n",
              "    </g>\n",
              "</svg>\n",
              "      </button>\n",
              "    </div>\n",
              "\n",
              "<style>\n",
              "  .colab-df-quickchart {\n",
              "    background-color: #E8F0FE;\n",
              "    border: none;\n",
              "    border-radius: 50%;\n",
              "    cursor: pointer;\n",
              "    display: none;\n",
              "    fill: #1967D2;\n",
              "    height: 32px;\n",
              "    padding: 0 0 0 0;\n",
              "    width: 32px;\n",
              "  }\n",
              "\n",
              "  .colab-df-quickchart:hover {\n",
              "    background-color: #E2EBFA;\n",
              "    box-shadow: 0px 1px 2px rgba(60, 64, 67, 0.3), 0px 1px 3px 1px rgba(60, 64, 67, 0.15);\n",
              "    fill: #174EA6;\n",
              "  }\n",
              "\n",
              "  [theme=dark] .colab-df-quickchart {\n",
              "    background-color: #3B4455;\n",
              "    fill: #D2E3FC;\n",
              "  }\n",
              "\n",
              "  [theme=dark] .colab-df-quickchart:hover {\n",
              "    background-color: #434B5C;\n",
              "    box-shadow: 0px 1px 3px 1px rgba(0, 0, 0, 0.15);\n",
              "    filter: drop-shadow(0px 1px 2px rgba(0, 0, 0, 0.3));\n",
              "    fill: #FFFFFF;\n",
              "  }\n",
              "</style>\n",
              "\n",
              "    <script>\n",
              "      async function quickchart(key) {\n",
              "        const containerElement = document.querySelector('#' + key);\n",
              "        const charts = await google.colab.kernel.invokeFunction(\n",
              "            'suggestCharts', [key], {});\n",
              "      }\n",
              "    </script>\n",
              "\n",
              "      <script>\n",
              "\n",
              "function displayQuickchartButton(domScope) {\n",
              "  let quickchartButtonEl =\n",
              "    domScope.querySelector('#df-c1a9a95f-1981-4531-aa13-d3eddd020326 button.colab-df-quickchart');\n",
              "  quickchartButtonEl.style.display =\n",
              "    google.colab.kernel.accessAllowed ? 'block' : 'none';\n",
              "}\n",
              "\n",
              "        displayQuickchartButton(document);\n",
              "      </script>\n",
              "      <style>\n",
              "    .colab-df-container {\n",
              "      display:flex;\n",
              "      flex-wrap:wrap;\n",
              "      gap: 12px;\n",
              "    }\n",
              "\n",
              "    .colab-df-convert {\n",
              "      background-color: #E8F0FE;\n",
              "      border: none;\n",
              "      border-radius: 50%;\n",
              "      cursor: pointer;\n",
              "      display: none;\n",
              "      fill: #1967D2;\n",
              "      height: 32px;\n",
              "      padding: 0 0 0 0;\n",
              "      width: 32px;\n",
              "    }\n",
              "\n",
              "    .colab-df-convert:hover {\n",
              "      background-color: #E2EBFA;\n",
              "      box-shadow: 0px 1px 2px rgba(60, 64, 67, 0.3), 0px 1px 3px 1px rgba(60, 64, 67, 0.15);\n",
              "      fill: #174EA6;\n",
              "    }\n",
              "\n",
              "    [theme=dark] .colab-df-convert {\n",
              "      background-color: #3B4455;\n",
              "      fill: #D2E3FC;\n",
              "    }\n",
              "\n",
              "    [theme=dark] .colab-df-convert:hover {\n",
              "      background-color: #434B5C;\n",
              "      box-shadow: 0px 1px 3px 1px rgba(0, 0, 0, 0.15);\n",
              "      filter: drop-shadow(0px 1px 2px rgba(0, 0, 0, 0.3));\n",
              "      fill: #FFFFFF;\n",
              "    }\n",
              "  </style>\n",
              "\n",
              "      <script>\n",
              "        const buttonEl =\n",
              "          document.querySelector('#df-74090f24-75e1-49ab-b71e-ed3bde1d771f button.colab-df-convert');\n",
              "        buttonEl.style.display =\n",
              "          google.colab.kernel.accessAllowed ? 'block' : 'none';\n",
              "\n",
              "        async function convertToInteractive(key) {\n",
              "          const element = document.querySelector('#df-74090f24-75e1-49ab-b71e-ed3bde1d771f');\n",
              "          const dataTable =\n",
              "            await google.colab.kernel.invokeFunction('convertToInteractive',\n",
              "                                                     [key], {});\n",
              "          if (!dataTable) return;\n",
              "\n",
              "          const docLinkHtml = 'Like what you see? Visit the ' +\n",
              "            '<a target=\"_blank\" href=https://colab.research.google.com/notebooks/data_table.ipynb>data table notebook</a>'\n",
              "            + ' to learn more about interactive tables.';\n",
              "          element.innerHTML = '';\n",
              "          dataTable['output_type'] = 'display_data';\n",
              "          await google.colab.output.renderOutput(dataTable, element);\n",
              "          const docLink = document.createElement('div');\n",
              "          docLink.innerHTML = docLinkHtml;\n",
              "          element.appendChild(docLink);\n",
              "        }\n",
              "      </script>\n",
              "    </div>\n",
              "  </div>\n"
            ]
          },
          "metadata": {},
          "execution_count": 12
        }
      ],
      "source": [
        "##### OUR CODE #####\n",
        "df['sentence'] = df['sentence'].astype(str)  # Convert 'sentence' column to string\n",
        "df['tokenized_sentences'] = df['sentence'].apply(lambda x: word_tokenize(x))  # New column 'tokenized_sentences' containing tokenized sentences\n",
        "subdf = df[[\"label\", \"tokenized_sentences\"]]  # extract the labels and tokenized sentences into a new dataframe, subdf\n",
        "subdf[:3]  # visualize first three lines of subdf dataframe"
      ]
    },
    {
      "cell_type": "markdown",
      "metadata": {
        "id": "kVk7V7X-7TV5"
      },
      "source": [
        "Remove the punctuations by manual punctuation removal:"
      ]
    },
    {
      "cell_type": "code",
      "execution_count": null,
      "metadata": {
        "colab": {
          "base_uri": "https://localhost:8080/"
        },
        "id": "gECvUIFbwUrR",
        "outputId": "9f007e54-6865-4754-bbdc-2c5f4c4fa9ea"
      },
      "outputs": [
        {
          "output_type": "stream",
          "name": "stderr",
          "text": [
            "<ipython-input-13-48fb075ceac4>:9: SettingWithCopyWarning: \n",
            "A value is trying to be set on a copy of a slice from a DataFrame.\n",
            "Try using .loc[row_indexer,col_indexer] = value instead\n",
            "\n",
            "See the caveats in the documentation: https://pandas.pydata.org/pandas-docs/stable/user_guide/indexing.html#returning-a-view-versus-a-copy\n",
            "  subdf['perfect_tokens'] = subdf['tokenized_sentences'].apply(lambda tokens: [remove_punctuation(token) for token in tokens])\n"
          ]
        }
      ],
      "source": [
        "##### OUR CODE #####\n",
        "# Function to remove punctuation from a token\n",
        "def remove_punctuation(token):\n",
        "    translator = str.maketrans('', '', string.punctuation)\n",
        "    return token.translate(translator)\n",
        "\n",
        "# Remove punctuation from the tokens in the 'tokenized_sentences' column\n",
        "# 'perfect_tokens' column contains tokenized sentences with punctuation removed\n",
        "subdf['perfect_tokens'] = subdf['tokenized_sentences'].apply(lambda tokens: [remove_punctuation(token) for token in tokens])\n",
        "# .apply() method is used to apply a function to each element of the 'tokenized_sentences' column\n",
        "# Lambda func iterates over each token in the list of tokens;\n",
        "# For each token, it calls the remove_punctuation() func to remove any punctuation from the token;\n",
        "# Result is a list comprehension that generates a new list of tokens without punctuation"
      ]
    },
    {
      "cell_type": "code",
      "execution_count": null,
      "metadata": {
        "colab": {
          "base_uri": "https://localhost:8080/",
          "height": 81
        },
        "id": "wZQlWFgh4kG-",
        "outputId": "3f1bb57a-2ff2-4516-d056-5eba9eb07f84"
      },
      "outputs": [
        {
          "output_type": "execute_result",
          "data": {
            "text/plain": [
              "    label                                tokenized_sentences  \\\n",
              "13      1  [@, BrodyJenner, if, u, watch, the, hills, in,...   \n",
              "\n",
              "                                       perfect_tokens  \n",
              "13  [, BrodyJenner, if, u, watch, the, hills, in, ...  "
            ],
            "text/html": [
              "\n",
              "\n",
              "  <div id=\"df-bf2fd9a4-80fe-4103-baf7-62e766e83f9c\">\n",
              "    <div class=\"colab-df-container\">\n",
              "      <div>\n",
              "<style scoped>\n",
              "    .dataframe tbody tr th:only-of-type {\n",
              "        vertical-align: middle;\n",
              "    }\n",
              "\n",
              "    .dataframe tbody tr th {\n",
              "        vertical-align: top;\n",
              "    }\n",
              "\n",
              "    .dataframe thead th {\n",
              "        text-align: right;\n",
              "    }\n",
              "</style>\n",
              "<table border=\"1\" class=\"dataframe\">\n",
              "  <thead>\n",
              "    <tr style=\"text-align: right;\">\n",
              "      <th></th>\n",
              "      <th>label</th>\n",
              "      <th>tokenized_sentences</th>\n",
              "      <th>perfect_tokens</th>\n",
              "    </tr>\n",
              "  </thead>\n",
              "  <tbody>\n",
              "    <tr>\n",
              "      <th>13</th>\n",
              "      <td>1</td>\n",
              "      <td>[@, BrodyJenner, if, u, watch, the, hills, in,...</td>\n",
              "      <td>[, BrodyJenner, if, u, watch, the, hills, in, ...</td>\n",
              "    </tr>\n",
              "  </tbody>\n",
              "</table>\n",
              "</div>\n",
              "      <button class=\"colab-df-convert\" onclick=\"convertToInteractive('df-bf2fd9a4-80fe-4103-baf7-62e766e83f9c')\"\n",
              "              title=\"Convert this dataframe to an interactive table.\"\n",
              "              style=\"display:none;\">\n",
              "\n",
              "  <svg xmlns=\"http://www.w3.org/2000/svg\" height=\"24px\"viewBox=\"0 0 24 24\"\n",
              "       width=\"24px\">\n",
              "    <path d=\"M0 0h24v24H0V0z\" fill=\"none\"/>\n",
              "    <path d=\"M18.56 5.44l.94 2.06.94-2.06 2.06-.94-2.06-.94-.94-2.06-.94 2.06-2.06.94zm-11 1L8.5 8.5l.94-2.06 2.06-.94-2.06-.94L8.5 2.5l-.94 2.06-2.06.94zm10 10l.94 2.06.94-2.06 2.06-.94-2.06-.94-.94-2.06-.94 2.06-2.06.94z\"/><path d=\"M17.41 7.96l-1.37-1.37c-.4-.4-.92-.59-1.43-.59-.52 0-1.04.2-1.43.59L10.3 9.45l-7.72 7.72c-.78.78-.78 2.05 0 2.83L4 21.41c.39.39.9.59 1.41.59.51 0 1.02-.2 1.41-.59l7.78-7.78 2.81-2.81c.8-.78.8-2.07 0-2.86zM5.41 20L4 18.59l7.72-7.72 1.47 1.35L5.41 20z\"/>\n",
              "  </svg>\n",
              "      </button>\n",
              "\n",
              "\n",
              "\n",
              "    <div id=\"df-12e68947-1eca-4dd2-85a1-028f6dbf7e9e\">\n",
              "      <button class=\"colab-df-quickchart\" onclick=\"quickchart('df-12e68947-1eca-4dd2-85a1-028f6dbf7e9e')\"\n",
              "              title=\"Suggest charts.\"\n",
              "              style=\"display:none;\">\n",
              "\n",
              "<svg xmlns=\"http://www.w3.org/2000/svg\" height=\"24px\"viewBox=\"0 0 24 24\"\n",
              "     width=\"24px\">\n",
              "    <g>\n",
              "        <path d=\"M19 3H5c-1.1 0-2 .9-2 2v14c0 1.1.9 2 2 2h14c1.1 0 2-.9 2-2V5c0-1.1-.9-2-2-2zM9 17H7v-7h2v7zm4 0h-2V7h2v10zm4 0h-2v-4h2v4z\"/>\n",
              "    </g>\n",
              "</svg>\n",
              "      </button>\n",
              "    </div>\n",
              "\n",
              "<style>\n",
              "  .colab-df-quickchart {\n",
              "    background-color: #E8F0FE;\n",
              "    border: none;\n",
              "    border-radius: 50%;\n",
              "    cursor: pointer;\n",
              "    display: none;\n",
              "    fill: #1967D2;\n",
              "    height: 32px;\n",
              "    padding: 0 0 0 0;\n",
              "    width: 32px;\n",
              "  }\n",
              "\n",
              "  .colab-df-quickchart:hover {\n",
              "    background-color: #E2EBFA;\n",
              "    box-shadow: 0px 1px 2px rgba(60, 64, 67, 0.3), 0px 1px 3px 1px rgba(60, 64, 67, 0.15);\n",
              "    fill: #174EA6;\n",
              "  }\n",
              "\n",
              "  [theme=dark] .colab-df-quickchart {\n",
              "    background-color: #3B4455;\n",
              "    fill: #D2E3FC;\n",
              "  }\n",
              "\n",
              "  [theme=dark] .colab-df-quickchart:hover {\n",
              "    background-color: #434B5C;\n",
              "    box-shadow: 0px 1px 3px 1px rgba(0, 0, 0, 0.15);\n",
              "    filter: drop-shadow(0px 1px 2px rgba(0, 0, 0, 0.3));\n",
              "    fill: #FFFFFF;\n",
              "  }\n",
              "</style>\n",
              "\n",
              "    <script>\n",
              "      async function quickchart(key) {\n",
              "        const containerElement = document.querySelector('#' + key);\n",
              "        const charts = await google.colab.kernel.invokeFunction(\n",
              "            'suggestCharts', [key], {});\n",
              "      }\n",
              "    </script>\n",
              "\n",
              "      <script>\n",
              "\n",
              "function displayQuickchartButton(domScope) {\n",
              "  let quickchartButtonEl =\n",
              "    domScope.querySelector('#df-12e68947-1eca-4dd2-85a1-028f6dbf7e9e button.colab-df-quickchart');\n",
              "  quickchartButtonEl.style.display =\n",
              "    google.colab.kernel.accessAllowed ? 'block' : 'none';\n",
              "}\n",
              "\n",
              "        displayQuickchartButton(document);\n",
              "      </script>\n",
              "      <style>\n",
              "    .colab-df-container {\n",
              "      display:flex;\n",
              "      flex-wrap:wrap;\n",
              "      gap: 12px;\n",
              "    }\n",
              "\n",
              "    .colab-df-convert {\n",
              "      background-color: #E8F0FE;\n",
              "      border: none;\n",
              "      border-radius: 50%;\n",
              "      cursor: pointer;\n",
              "      display: none;\n",
              "      fill: #1967D2;\n",
              "      height: 32px;\n",
              "      padding: 0 0 0 0;\n",
              "      width: 32px;\n",
              "    }\n",
              "\n",
              "    .colab-df-convert:hover {\n",
              "      background-color: #E2EBFA;\n",
              "      box-shadow: 0px 1px 2px rgba(60, 64, 67, 0.3), 0px 1px 3px 1px rgba(60, 64, 67, 0.15);\n",
              "      fill: #174EA6;\n",
              "    }\n",
              "\n",
              "    [theme=dark] .colab-df-convert {\n",
              "      background-color: #3B4455;\n",
              "      fill: #D2E3FC;\n",
              "    }\n",
              "\n",
              "    [theme=dark] .colab-df-convert:hover {\n",
              "      background-color: #434B5C;\n",
              "      box-shadow: 0px 1px 3px 1px rgba(0, 0, 0, 0.15);\n",
              "      filter: drop-shadow(0px 1px 2px rgba(0, 0, 0, 0.3));\n",
              "      fill: #FFFFFF;\n",
              "    }\n",
              "  </style>\n",
              "\n",
              "      <script>\n",
              "        const buttonEl =\n",
              "          document.querySelector('#df-bf2fd9a4-80fe-4103-baf7-62e766e83f9c button.colab-df-convert');\n",
              "        buttonEl.style.display =\n",
              "          google.colab.kernel.accessAllowed ? 'block' : 'none';\n",
              "\n",
              "        async function convertToInteractive(key) {\n",
              "          const element = document.querySelector('#df-bf2fd9a4-80fe-4103-baf7-62e766e83f9c');\n",
              "          const dataTable =\n",
              "            await google.colab.kernel.invokeFunction('convertToInteractive',\n",
              "                                                     [key], {});\n",
              "          if (!dataTable) return;\n",
              "\n",
              "          const docLinkHtml = 'Like what you see? Visit the ' +\n",
              "            '<a target=\"_blank\" href=https://colab.research.google.com/notebooks/data_table.ipynb>data table notebook</a>'\n",
              "            + ' to learn more about interactive tables.';\n",
              "          element.innerHTML = '';\n",
              "          dataTable['output_type'] = 'display_data';\n",
              "          await google.colab.output.renderOutput(dataTable, element);\n",
              "          const docLink = document.createElement('div');\n",
              "          docLink.innerHTML = docLinkHtml;\n",
              "          element.appendChild(docLink);\n",
              "        }\n",
              "      </script>\n",
              "    </div>\n",
              "  </div>\n"
            ]
          },
          "metadata": {},
          "execution_count": 14
        }
      ],
      "source": [
        "subdf[13:14]  # print one line to visualize the tokens after remove the punctuations"
      ]
    },
    {
      "cell_type": "markdown",
      "metadata": {
        "id": "VSk8vpY968xs"
      },
      "source": [
        "Remove any empty tokens:"
      ]
    },
    {
      "cell_type": "code",
      "execution_count": null,
      "metadata": {
        "colab": {
          "base_uri": "https://localhost:8080/",
          "height": 189
        },
        "id": "OSdXJq8z67Nv",
        "outputId": "4d04dff4-e80c-4947-82d3-8a8622ede063"
      },
      "outputs": [
        {
          "output_type": "stream",
          "name": "stderr",
          "text": [
            "<ipython-input-15-68563aa987d3>:2: SettingWithCopyWarning: \n",
            "A value is trying to be set on a copy of a slice from a DataFrame.\n",
            "Try using .loc[row_indexer,col_indexer] = value instead\n",
            "\n",
            "See the caveats in the documentation: https://pandas.pydata.org/pandas-docs/stable/user_guide/indexing.html#returning-a-view-versus-a-copy\n",
            "  subdf['perfect_tokens'] = subdf['perfect_tokens'].apply(lambda tokens: [token for token in tokens if token])\n"
          ]
        },
        {
          "output_type": "execute_result",
          "data": {
            "text/plain": [
              "    label                                tokenized_sentences  \\\n",
              "13      1  [@, BrodyJenner, if, u, watch, the, hills, in,...   \n",
              "\n",
              "                                       perfect_tokens  \n",
              "13  [BrodyJenner, if, u, watch, the, hills, in, lo...  "
            ],
            "text/html": [
              "\n",
              "\n",
              "  <div id=\"df-5e38affc-c5af-43b3-ba20-6b042ab66f7c\">\n",
              "    <div class=\"colab-df-container\">\n",
              "      <div>\n",
              "<style scoped>\n",
              "    .dataframe tbody tr th:only-of-type {\n",
              "        vertical-align: middle;\n",
              "    }\n",
              "\n",
              "    .dataframe tbody tr th {\n",
              "        vertical-align: top;\n",
              "    }\n",
              "\n",
              "    .dataframe thead th {\n",
              "        text-align: right;\n",
              "    }\n",
              "</style>\n",
              "<table border=\"1\" class=\"dataframe\">\n",
              "  <thead>\n",
              "    <tr style=\"text-align: right;\">\n",
              "      <th></th>\n",
              "      <th>label</th>\n",
              "      <th>tokenized_sentences</th>\n",
              "      <th>perfect_tokens</th>\n",
              "    </tr>\n",
              "  </thead>\n",
              "  <tbody>\n",
              "    <tr>\n",
              "      <th>13</th>\n",
              "      <td>1</td>\n",
              "      <td>[@, BrodyJenner, if, u, watch, the, hills, in,...</td>\n",
              "      <td>[BrodyJenner, if, u, watch, the, hills, in, lo...</td>\n",
              "    </tr>\n",
              "  </tbody>\n",
              "</table>\n",
              "</div>\n",
              "      <button class=\"colab-df-convert\" onclick=\"convertToInteractive('df-5e38affc-c5af-43b3-ba20-6b042ab66f7c')\"\n",
              "              title=\"Convert this dataframe to an interactive table.\"\n",
              "              style=\"display:none;\">\n",
              "\n",
              "  <svg xmlns=\"http://www.w3.org/2000/svg\" height=\"24px\"viewBox=\"0 0 24 24\"\n",
              "       width=\"24px\">\n",
              "    <path d=\"M0 0h24v24H0V0z\" fill=\"none\"/>\n",
              "    <path d=\"M18.56 5.44l.94 2.06.94-2.06 2.06-.94-2.06-.94-.94-2.06-.94 2.06-2.06.94zm-11 1L8.5 8.5l.94-2.06 2.06-.94-2.06-.94L8.5 2.5l-.94 2.06-2.06.94zm10 10l.94 2.06.94-2.06 2.06-.94-2.06-.94-.94-2.06-.94 2.06-2.06.94z\"/><path d=\"M17.41 7.96l-1.37-1.37c-.4-.4-.92-.59-1.43-.59-.52 0-1.04.2-1.43.59L10.3 9.45l-7.72 7.72c-.78.78-.78 2.05 0 2.83L4 21.41c.39.39.9.59 1.41.59.51 0 1.02-.2 1.41-.59l7.78-7.78 2.81-2.81c.8-.78.8-2.07 0-2.86zM5.41 20L4 18.59l7.72-7.72 1.47 1.35L5.41 20z\"/>\n",
              "  </svg>\n",
              "      </button>\n",
              "\n",
              "\n",
              "\n",
              "    <div id=\"df-c3dcda7c-7fbf-4fab-9501-86893206ecab\">\n",
              "      <button class=\"colab-df-quickchart\" onclick=\"quickchart('df-c3dcda7c-7fbf-4fab-9501-86893206ecab')\"\n",
              "              title=\"Suggest charts.\"\n",
              "              style=\"display:none;\">\n",
              "\n",
              "<svg xmlns=\"http://www.w3.org/2000/svg\" height=\"24px\"viewBox=\"0 0 24 24\"\n",
              "     width=\"24px\">\n",
              "    <g>\n",
              "        <path d=\"M19 3H5c-1.1 0-2 .9-2 2v14c0 1.1.9 2 2 2h14c1.1 0 2-.9 2-2V5c0-1.1-.9-2-2-2zM9 17H7v-7h2v7zm4 0h-2V7h2v10zm4 0h-2v-4h2v4z\"/>\n",
              "    </g>\n",
              "</svg>\n",
              "      </button>\n",
              "    </div>\n",
              "\n",
              "<style>\n",
              "  .colab-df-quickchart {\n",
              "    background-color: #E8F0FE;\n",
              "    border: none;\n",
              "    border-radius: 50%;\n",
              "    cursor: pointer;\n",
              "    display: none;\n",
              "    fill: #1967D2;\n",
              "    height: 32px;\n",
              "    padding: 0 0 0 0;\n",
              "    width: 32px;\n",
              "  }\n",
              "\n",
              "  .colab-df-quickchart:hover {\n",
              "    background-color: #E2EBFA;\n",
              "    box-shadow: 0px 1px 2px rgba(60, 64, 67, 0.3), 0px 1px 3px 1px rgba(60, 64, 67, 0.15);\n",
              "    fill: #174EA6;\n",
              "  }\n",
              "\n",
              "  [theme=dark] .colab-df-quickchart {\n",
              "    background-color: #3B4455;\n",
              "    fill: #D2E3FC;\n",
              "  }\n",
              "\n",
              "  [theme=dark] .colab-df-quickchart:hover {\n",
              "    background-color: #434B5C;\n",
              "    box-shadow: 0px 1px 3px 1px rgba(0, 0, 0, 0.15);\n",
              "    filter: drop-shadow(0px 1px 2px rgba(0, 0, 0, 0.3));\n",
              "    fill: #FFFFFF;\n",
              "  }\n",
              "</style>\n",
              "\n",
              "    <script>\n",
              "      async function quickchart(key) {\n",
              "        const containerElement = document.querySelector('#' + key);\n",
              "        const charts = await google.colab.kernel.invokeFunction(\n",
              "            'suggestCharts', [key], {});\n",
              "      }\n",
              "    </script>\n",
              "\n",
              "      <script>\n",
              "\n",
              "function displayQuickchartButton(domScope) {\n",
              "  let quickchartButtonEl =\n",
              "    domScope.querySelector('#df-c3dcda7c-7fbf-4fab-9501-86893206ecab button.colab-df-quickchart');\n",
              "  quickchartButtonEl.style.display =\n",
              "    google.colab.kernel.accessAllowed ? 'block' : 'none';\n",
              "}\n",
              "\n",
              "        displayQuickchartButton(document);\n",
              "      </script>\n",
              "      <style>\n",
              "    .colab-df-container {\n",
              "      display:flex;\n",
              "      flex-wrap:wrap;\n",
              "      gap: 12px;\n",
              "    }\n",
              "\n",
              "    .colab-df-convert {\n",
              "      background-color: #E8F0FE;\n",
              "      border: none;\n",
              "      border-radius: 50%;\n",
              "      cursor: pointer;\n",
              "      display: none;\n",
              "      fill: #1967D2;\n",
              "      height: 32px;\n",
              "      padding: 0 0 0 0;\n",
              "      width: 32px;\n",
              "    }\n",
              "\n",
              "    .colab-df-convert:hover {\n",
              "      background-color: #E2EBFA;\n",
              "      box-shadow: 0px 1px 2px rgba(60, 64, 67, 0.3), 0px 1px 3px 1px rgba(60, 64, 67, 0.15);\n",
              "      fill: #174EA6;\n",
              "    }\n",
              "\n",
              "    [theme=dark] .colab-df-convert {\n",
              "      background-color: #3B4455;\n",
              "      fill: #D2E3FC;\n",
              "    }\n",
              "\n",
              "    [theme=dark] .colab-df-convert:hover {\n",
              "      background-color: #434B5C;\n",
              "      box-shadow: 0px 1px 3px 1px rgba(0, 0, 0, 0.15);\n",
              "      filter: drop-shadow(0px 1px 2px rgba(0, 0, 0, 0.3));\n",
              "      fill: #FFFFFF;\n",
              "    }\n",
              "  </style>\n",
              "\n",
              "      <script>\n",
              "        const buttonEl =\n",
              "          document.querySelector('#df-5e38affc-c5af-43b3-ba20-6b042ab66f7c button.colab-df-convert');\n",
              "        buttonEl.style.display =\n",
              "          google.colab.kernel.accessAllowed ? 'block' : 'none';\n",
              "\n",
              "        async function convertToInteractive(key) {\n",
              "          const element = document.querySelector('#df-5e38affc-c5af-43b3-ba20-6b042ab66f7c');\n",
              "          const dataTable =\n",
              "            await google.colab.kernel.invokeFunction('convertToInteractive',\n",
              "                                                     [key], {});\n",
              "          if (!dataTable) return;\n",
              "\n",
              "          const docLinkHtml = 'Like what you see? Visit the ' +\n",
              "            '<a target=\"_blank\" href=https://colab.research.google.com/notebooks/data_table.ipynb>data table notebook</a>'\n",
              "            + ' to learn more about interactive tables.';\n",
              "          element.innerHTML = '';\n",
              "          dataTable['output_type'] = 'display_data';\n",
              "          await google.colab.output.renderOutput(dataTable, element);\n",
              "          const docLink = document.createElement('div');\n",
              "          docLink.innerHTML = docLinkHtml;\n",
              "          element.appendChild(docLink);\n",
              "        }\n",
              "      </script>\n",
              "    </div>\n",
              "  </div>\n"
            ]
          },
          "metadata": {},
          "execution_count": 15
        }
      ],
      "source": [
        "# Remove empty strings from the tokenized sentences\n",
        "subdf['perfect_tokens'] = subdf['perfect_tokens'].apply(lambda tokens: [token for token in tokens if token])\n",
        "# For each token, it checks if the token is truthy\n",
        "# (i.e., not an empty string or None). If the token is truthy, it is included in the resulting list\n",
        "subdf[13:14]  # print one line to visualize the token after convert to lowercases"
      ]
    },
    {
      "cell_type": "markdown",
      "metadata": {
        "id": "yIreZUwi7SY7"
      },
      "source": [
        "Convert tokens in lowercase:"
      ]
    },
    {
      "cell_type": "code",
      "execution_count": null,
      "metadata": {
        "colab": {
          "base_uri": "https://localhost:8080/",
          "height": 189
        },
        "id": "dZoCE3iD8WER",
        "outputId": "6eb1d595-c66d-4e88-bc7f-961f933d722e"
      },
      "outputs": [
        {
          "output_type": "stream",
          "name": "stderr",
          "text": [
            "<ipython-input-16-448ab87c2a76>:2: SettingWithCopyWarning: \n",
            "A value is trying to be set on a copy of a slice from a DataFrame.\n",
            "Try using .loc[row_indexer,col_indexer] = value instead\n",
            "\n",
            "See the caveats in the documentation: https://pandas.pydata.org/pandas-docs/stable/user_guide/indexing.html#returning-a-view-versus-a-copy\n",
            "  subdf['perfect_tokens'] = subdf['perfect_tokens'].apply(lambda tokens: [token.lower() for token in tokens])\n"
          ]
        },
        {
          "output_type": "execute_result",
          "data": {
            "text/plain": [
              "    label                                tokenized_sentences  \\\n",
              "13      1  [@, BrodyJenner, if, u, watch, the, hills, in,...   \n",
              "\n",
              "                                       perfect_tokens  \n",
              "13  [brodyjenner, if, u, watch, the, hills, in, lo...  "
            ],
            "text/html": [
              "\n",
              "\n",
              "  <div id=\"df-96276349-f4cd-487d-ba67-bc83d8f60a1b\">\n",
              "    <div class=\"colab-df-container\">\n",
              "      <div>\n",
              "<style scoped>\n",
              "    .dataframe tbody tr th:only-of-type {\n",
              "        vertical-align: middle;\n",
              "    }\n",
              "\n",
              "    .dataframe tbody tr th {\n",
              "        vertical-align: top;\n",
              "    }\n",
              "\n",
              "    .dataframe thead th {\n",
              "        text-align: right;\n",
              "    }\n",
              "</style>\n",
              "<table border=\"1\" class=\"dataframe\">\n",
              "  <thead>\n",
              "    <tr style=\"text-align: right;\">\n",
              "      <th></th>\n",
              "      <th>label</th>\n",
              "      <th>tokenized_sentences</th>\n",
              "      <th>perfect_tokens</th>\n",
              "    </tr>\n",
              "  </thead>\n",
              "  <tbody>\n",
              "    <tr>\n",
              "      <th>13</th>\n",
              "      <td>1</td>\n",
              "      <td>[@, BrodyJenner, if, u, watch, the, hills, in,...</td>\n",
              "      <td>[brodyjenner, if, u, watch, the, hills, in, lo...</td>\n",
              "    </tr>\n",
              "  </tbody>\n",
              "</table>\n",
              "</div>\n",
              "      <button class=\"colab-df-convert\" onclick=\"convertToInteractive('df-96276349-f4cd-487d-ba67-bc83d8f60a1b')\"\n",
              "              title=\"Convert this dataframe to an interactive table.\"\n",
              "              style=\"display:none;\">\n",
              "\n",
              "  <svg xmlns=\"http://www.w3.org/2000/svg\" height=\"24px\"viewBox=\"0 0 24 24\"\n",
              "       width=\"24px\">\n",
              "    <path d=\"M0 0h24v24H0V0z\" fill=\"none\"/>\n",
              "    <path d=\"M18.56 5.44l.94 2.06.94-2.06 2.06-.94-2.06-.94-.94-2.06-.94 2.06-2.06.94zm-11 1L8.5 8.5l.94-2.06 2.06-.94-2.06-.94L8.5 2.5l-.94 2.06-2.06.94zm10 10l.94 2.06.94-2.06 2.06-.94-2.06-.94-.94-2.06-.94 2.06-2.06.94z\"/><path d=\"M17.41 7.96l-1.37-1.37c-.4-.4-.92-.59-1.43-.59-.52 0-1.04.2-1.43.59L10.3 9.45l-7.72 7.72c-.78.78-.78 2.05 0 2.83L4 21.41c.39.39.9.59 1.41.59.51 0 1.02-.2 1.41-.59l7.78-7.78 2.81-2.81c.8-.78.8-2.07 0-2.86zM5.41 20L4 18.59l7.72-7.72 1.47 1.35L5.41 20z\"/>\n",
              "  </svg>\n",
              "      </button>\n",
              "\n",
              "\n",
              "\n",
              "    <div id=\"df-fb697b05-24fa-4b8e-b879-0347a782fd72\">\n",
              "      <button class=\"colab-df-quickchart\" onclick=\"quickchart('df-fb697b05-24fa-4b8e-b879-0347a782fd72')\"\n",
              "              title=\"Suggest charts.\"\n",
              "              style=\"display:none;\">\n",
              "\n",
              "<svg xmlns=\"http://www.w3.org/2000/svg\" height=\"24px\"viewBox=\"0 0 24 24\"\n",
              "     width=\"24px\">\n",
              "    <g>\n",
              "        <path d=\"M19 3H5c-1.1 0-2 .9-2 2v14c0 1.1.9 2 2 2h14c1.1 0 2-.9 2-2V5c0-1.1-.9-2-2-2zM9 17H7v-7h2v7zm4 0h-2V7h2v10zm4 0h-2v-4h2v4z\"/>\n",
              "    </g>\n",
              "</svg>\n",
              "      </button>\n",
              "    </div>\n",
              "\n",
              "<style>\n",
              "  .colab-df-quickchart {\n",
              "    background-color: #E8F0FE;\n",
              "    border: none;\n",
              "    border-radius: 50%;\n",
              "    cursor: pointer;\n",
              "    display: none;\n",
              "    fill: #1967D2;\n",
              "    height: 32px;\n",
              "    padding: 0 0 0 0;\n",
              "    width: 32px;\n",
              "  }\n",
              "\n",
              "  .colab-df-quickchart:hover {\n",
              "    background-color: #E2EBFA;\n",
              "    box-shadow: 0px 1px 2px rgba(60, 64, 67, 0.3), 0px 1px 3px 1px rgba(60, 64, 67, 0.15);\n",
              "    fill: #174EA6;\n",
              "  }\n",
              "\n",
              "  [theme=dark] .colab-df-quickchart {\n",
              "    background-color: #3B4455;\n",
              "    fill: #D2E3FC;\n",
              "  }\n",
              "\n",
              "  [theme=dark] .colab-df-quickchart:hover {\n",
              "    background-color: #434B5C;\n",
              "    box-shadow: 0px 1px 3px 1px rgba(0, 0, 0, 0.15);\n",
              "    filter: drop-shadow(0px 1px 2px rgba(0, 0, 0, 0.3));\n",
              "    fill: #FFFFFF;\n",
              "  }\n",
              "</style>\n",
              "\n",
              "    <script>\n",
              "      async function quickchart(key) {\n",
              "        const containerElement = document.querySelector('#' + key);\n",
              "        const charts = await google.colab.kernel.invokeFunction(\n",
              "            'suggestCharts', [key], {});\n",
              "      }\n",
              "    </script>\n",
              "\n",
              "      <script>\n",
              "\n",
              "function displayQuickchartButton(domScope) {\n",
              "  let quickchartButtonEl =\n",
              "    domScope.querySelector('#df-fb697b05-24fa-4b8e-b879-0347a782fd72 button.colab-df-quickchart');\n",
              "  quickchartButtonEl.style.display =\n",
              "    google.colab.kernel.accessAllowed ? 'block' : 'none';\n",
              "}\n",
              "\n",
              "        displayQuickchartButton(document);\n",
              "      </script>\n",
              "      <style>\n",
              "    .colab-df-container {\n",
              "      display:flex;\n",
              "      flex-wrap:wrap;\n",
              "      gap: 12px;\n",
              "    }\n",
              "\n",
              "    .colab-df-convert {\n",
              "      background-color: #E8F0FE;\n",
              "      border: none;\n",
              "      border-radius: 50%;\n",
              "      cursor: pointer;\n",
              "      display: none;\n",
              "      fill: #1967D2;\n",
              "      height: 32px;\n",
              "      padding: 0 0 0 0;\n",
              "      width: 32px;\n",
              "    }\n",
              "\n",
              "    .colab-df-convert:hover {\n",
              "      background-color: #E2EBFA;\n",
              "      box-shadow: 0px 1px 2px rgba(60, 64, 67, 0.3), 0px 1px 3px 1px rgba(60, 64, 67, 0.15);\n",
              "      fill: #174EA6;\n",
              "    }\n",
              "\n",
              "    [theme=dark] .colab-df-convert {\n",
              "      background-color: #3B4455;\n",
              "      fill: #D2E3FC;\n",
              "    }\n",
              "\n",
              "    [theme=dark] .colab-df-convert:hover {\n",
              "      background-color: #434B5C;\n",
              "      box-shadow: 0px 1px 3px 1px rgba(0, 0, 0, 0.15);\n",
              "      filter: drop-shadow(0px 1px 2px rgba(0, 0, 0, 0.3));\n",
              "      fill: #FFFFFF;\n",
              "    }\n",
              "  </style>\n",
              "\n",
              "      <script>\n",
              "        const buttonEl =\n",
              "          document.querySelector('#df-96276349-f4cd-487d-ba67-bc83d8f60a1b button.colab-df-convert');\n",
              "        buttonEl.style.display =\n",
              "          google.colab.kernel.accessAllowed ? 'block' : 'none';\n",
              "\n",
              "        async function convertToInteractive(key) {\n",
              "          const element = document.querySelector('#df-96276349-f4cd-487d-ba67-bc83d8f60a1b');\n",
              "          const dataTable =\n",
              "            await google.colab.kernel.invokeFunction('convertToInteractive',\n",
              "                                                     [key], {});\n",
              "          if (!dataTable) return;\n",
              "\n",
              "          const docLinkHtml = 'Like what you see? Visit the ' +\n",
              "            '<a target=\"_blank\" href=https://colab.research.google.com/notebooks/data_table.ipynb>data table notebook</a>'\n",
              "            + ' to learn more about interactive tables.';\n",
              "          element.innerHTML = '';\n",
              "          dataTable['output_type'] = 'display_data';\n",
              "          await google.colab.output.renderOutput(dataTable, element);\n",
              "          const docLink = document.createElement('div');\n",
              "          docLink.innerHTML = docLinkHtml;\n",
              "          element.appendChild(docLink);\n",
              "        }\n",
              "      </script>\n",
              "    </div>\n",
              "  </div>\n"
            ]
          },
          "metadata": {},
          "execution_count": 16
        }
      ],
      "source": [
        "##### OUR CODE #####\n",
        "subdf['perfect_tokens'] = subdf['perfect_tokens'].apply(lambda tokens: [token.lower() for token in tokens])\n",
        "subdf[13:14]  # print one line to show the lower cases tokens"
      ]
    },
    {
      "cell_type": "markdown",
      "metadata": {
        "id": "eHEEDfjz_HOG"
      },
      "source": [
        "Remove empty lines:"
      ]
    },
    {
      "cell_type": "code",
      "execution_count": null,
      "metadata": {
        "colab": {
          "base_uri": "https://localhost:8080/",
          "height": 269
        },
        "id": "KnBQMzKZ_LQ1",
        "outputId": "0b75ab8a-7fc0-446f-b0a3-3ec172b74142"
      },
      "outputs": [
        {
          "output_type": "execute_result",
          "data": {
            "text/plain": [
              "    label                                tokenized_sentences  \\\n",
              "59      1  [@, maternitytees, Aww, Onward, and, upwards, ...   \n",
              "60      4  [@, itsgabbith, at, once, haha, ., poor, aby, ...   \n",
              "61      1  [diesel, yaris, ..., 70mpg, so, sad, its, not,...   \n",
              "62      1  [I, want, to, buy, this, great, album, but, un...   \n",
              "63      1  [@, Pokinatcha, in, all, honesty, ..., pain, b...   \n",
              "64      1  [Ok, ..., the, passengers, ..., no, one, is, a...   \n",
              "65      3         [At, home, alone, with, not, much, to, do]   \n",
              "\n",
              "                                       perfect_tokens  \n",
              "59  [maternitytees, aww, onward, and, upwards, now...  \n",
              "60  [itsgabbith, at, once, haha, poor, aby, still,...  \n",
              "61  [diesel, yaris, 70mpg, so, sad, its, not, avai...  \n",
              "62  [i, want, to, buy, this, great, album, but, un...  \n",
              "63        [pokinatcha, in, all, honesty, pain, blech]  \n",
              "64  [ok, the, passengers, no, one, is, alive, they...  \n",
              "65         [at, home, alone, with, not, much, to, do]  "
            ],
            "text/html": [
              "\n",
              "\n",
              "  <div id=\"df-29697562-0491-41c5-8625-36cd34d864e2\">\n",
              "    <div class=\"colab-df-container\">\n",
              "      <div>\n",
              "<style scoped>\n",
              "    .dataframe tbody tr th:only-of-type {\n",
              "        vertical-align: middle;\n",
              "    }\n",
              "\n",
              "    .dataframe tbody tr th {\n",
              "        vertical-align: top;\n",
              "    }\n",
              "\n",
              "    .dataframe thead th {\n",
              "        text-align: right;\n",
              "    }\n",
              "</style>\n",
              "<table border=\"1\" class=\"dataframe\">\n",
              "  <thead>\n",
              "    <tr style=\"text-align: right;\">\n",
              "      <th></th>\n",
              "      <th>label</th>\n",
              "      <th>tokenized_sentences</th>\n",
              "      <th>perfect_tokens</th>\n",
              "    </tr>\n",
              "  </thead>\n",
              "  <tbody>\n",
              "    <tr>\n",
              "      <th>59</th>\n",
              "      <td>1</td>\n",
              "      <td>[@, maternitytees, Aww, Onward, and, upwards, ...</td>\n",
              "      <td>[maternitytees, aww, onward, and, upwards, now...</td>\n",
              "    </tr>\n",
              "    <tr>\n",
              "      <th>60</th>\n",
              "      <td>4</td>\n",
              "      <td>[@, itsgabbith, at, once, haha, ., poor, aby, ...</td>\n",
              "      <td>[itsgabbith, at, once, haha, poor, aby, still,...</td>\n",
              "    </tr>\n",
              "    <tr>\n",
              "      <th>61</th>\n",
              "      <td>1</td>\n",
              "      <td>[diesel, yaris, ..., 70mpg, so, sad, its, not,...</td>\n",
              "      <td>[diesel, yaris, 70mpg, so, sad, its, not, avai...</td>\n",
              "    </tr>\n",
              "    <tr>\n",
              "      <th>62</th>\n",
              "      <td>1</td>\n",
              "      <td>[I, want, to, buy, this, great, album, but, un...</td>\n",
              "      <td>[i, want, to, buy, this, great, album, but, un...</td>\n",
              "    </tr>\n",
              "    <tr>\n",
              "      <th>63</th>\n",
              "      <td>1</td>\n",
              "      <td>[@, Pokinatcha, in, all, honesty, ..., pain, b...</td>\n",
              "      <td>[pokinatcha, in, all, honesty, pain, blech]</td>\n",
              "    </tr>\n",
              "    <tr>\n",
              "      <th>64</th>\n",
              "      <td>1</td>\n",
              "      <td>[Ok, ..., the, passengers, ..., no, one, is, a...</td>\n",
              "      <td>[ok, the, passengers, no, one, is, alive, they...</td>\n",
              "    </tr>\n",
              "    <tr>\n",
              "      <th>65</th>\n",
              "      <td>3</td>\n",
              "      <td>[At, home, alone, with, not, much, to, do]</td>\n",
              "      <td>[at, home, alone, with, not, much, to, do]</td>\n",
              "    </tr>\n",
              "  </tbody>\n",
              "</table>\n",
              "</div>\n",
              "      <button class=\"colab-df-convert\" onclick=\"convertToInteractive('df-29697562-0491-41c5-8625-36cd34d864e2')\"\n",
              "              title=\"Convert this dataframe to an interactive table.\"\n",
              "              style=\"display:none;\">\n",
              "\n",
              "  <svg xmlns=\"http://www.w3.org/2000/svg\" height=\"24px\"viewBox=\"0 0 24 24\"\n",
              "       width=\"24px\">\n",
              "    <path d=\"M0 0h24v24H0V0z\" fill=\"none\"/>\n",
              "    <path d=\"M18.56 5.44l.94 2.06.94-2.06 2.06-.94-2.06-.94-.94-2.06-.94 2.06-2.06.94zm-11 1L8.5 8.5l.94-2.06 2.06-.94-2.06-.94L8.5 2.5l-.94 2.06-2.06.94zm10 10l.94 2.06.94-2.06 2.06-.94-2.06-.94-.94-2.06-.94 2.06-2.06.94z\"/><path d=\"M17.41 7.96l-1.37-1.37c-.4-.4-.92-.59-1.43-.59-.52 0-1.04.2-1.43.59L10.3 9.45l-7.72 7.72c-.78.78-.78 2.05 0 2.83L4 21.41c.39.39.9.59 1.41.59.51 0 1.02-.2 1.41-.59l7.78-7.78 2.81-2.81c.8-.78.8-2.07 0-2.86zM5.41 20L4 18.59l7.72-7.72 1.47 1.35L5.41 20z\"/>\n",
              "  </svg>\n",
              "      </button>\n",
              "\n",
              "\n",
              "\n",
              "    <div id=\"df-571346e3-1290-4e8c-a2be-c7c920bc711f\">\n",
              "      <button class=\"colab-df-quickchart\" onclick=\"quickchart('df-571346e3-1290-4e8c-a2be-c7c920bc711f')\"\n",
              "              title=\"Suggest charts.\"\n",
              "              style=\"display:none;\">\n",
              "\n",
              "<svg xmlns=\"http://www.w3.org/2000/svg\" height=\"24px\"viewBox=\"0 0 24 24\"\n",
              "     width=\"24px\">\n",
              "    <g>\n",
              "        <path d=\"M19 3H5c-1.1 0-2 .9-2 2v14c0 1.1.9 2 2 2h14c1.1 0 2-.9 2-2V5c0-1.1-.9-2-2-2zM9 17H7v-7h2v7zm4 0h-2V7h2v10zm4 0h-2v-4h2v4z\"/>\n",
              "    </g>\n",
              "</svg>\n",
              "      </button>\n",
              "    </div>\n",
              "\n",
              "<style>\n",
              "  .colab-df-quickchart {\n",
              "    background-color: #E8F0FE;\n",
              "    border: none;\n",
              "    border-radius: 50%;\n",
              "    cursor: pointer;\n",
              "    display: none;\n",
              "    fill: #1967D2;\n",
              "    height: 32px;\n",
              "    padding: 0 0 0 0;\n",
              "    width: 32px;\n",
              "  }\n",
              "\n",
              "  .colab-df-quickchart:hover {\n",
              "    background-color: #E2EBFA;\n",
              "    box-shadow: 0px 1px 2px rgba(60, 64, 67, 0.3), 0px 1px 3px 1px rgba(60, 64, 67, 0.15);\n",
              "    fill: #174EA6;\n",
              "  }\n",
              "\n",
              "  [theme=dark] .colab-df-quickchart {\n",
              "    background-color: #3B4455;\n",
              "    fill: #D2E3FC;\n",
              "  }\n",
              "\n",
              "  [theme=dark] .colab-df-quickchart:hover {\n",
              "    background-color: #434B5C;\n",
              "    box-shadow: 0px 1px 3px 1px rgba(0, 0, 0, 0.15);\n",
              "    filter: drop-shadow(0px 1px 2px rgba(0, 0, 0, 0.3));\n",
              "    fill: #FFFFFF;\n",
              "  }\n",
              "</style>\n",
              "\n",
              "    <script>\n",
              "      async function quickchart(key) {\n",
              "        const containerElement = document.querySelector('#' + key);\n",
              "        const charts = await google.colab.kernel.invokeFunction(\n",
              "            'suggestCharts', [key], {});\n",
              "      }\n",
              "    </script>\n",
              "\n",
              "      <script>\n",
              "\n",
              "function displayQuickchartButton(domScope) {\n",
              "  let quickchartButtonEl =\n",
              "    domScope.querySelector('#df-571346e3-1290-4e8c-a2be-c7c920bc711f button.colab-df-quickchart');\n",
              "  quickchartButtonEl.style.display =\n",
              "    google.colab.kernel.accessAllowed ? 'block' : 'none';\n",
              "}\n",
              "\n",
              "        displayQuickchartButton(document);\n",
              "      </script>\n",
              "      <style>\n",
              "    .colab-df-container {\n",
              "      display:flex;\n",
              "      flex-wrap:wrap;\n",
              "      gap: 12px;\n",
              "    }\n",
              "\n",
              "    .colab-df-convert {\n",
              "      background-color: #E8F0FE;\n",
              "      border: none;\n",
              "      border-radius: 50%;\n",
              "      cursor: pointer;\n",
              "      display: none;\n",
              "      fill: #1967D2;\n",
              "      height: 32px;\n",
              "      padding: 0 0 0 0;\n",
              "      width: 32px;\n",
              "    }\n",
              "\n",
              "    .colab-df-convert:hover {\n",
              "      background-color: #E2EBFA;\n",
              "      box-shadow: 0px 1px 2px rgba(60, 64, 67, 0.3), 0px 1px 3px 1px rgba(60, 64, 67, 0.15);\n",
              "      fill: #174EA6;\n",
              "    }\n",
              "\n",
              "    [theme=dark] .colab-df-convert {\n",
              "      background-color: #3B4455;\n",
              "      fill: #D2E3FC;\n",
              "    }\n",
              "\n",
              "    [theme=dark] .colab-df-convert:hover {\n",
              "      background-color: #434B5C;\n",
              "      box-shadow: 0px 1px 3px 1px rgba(0, 0, 0, 0.15);\n",
              "      filter: drop-shadow(0px 1px 2px rgba(0, 0, 0, 0.3));\n",
              "      fill: #FFFFFF;\n",
              "    }\n",
              "  </style>\n",
              "\n",
              "      <script>\n",
              "        const buttonEl =\n",
              "          document.querySelector('#df-29697562-0491-41c5-8625-36cd34d864e2 button.colab-df-convert');\n",
              "        buttonEl.style.display =\n",
              "          google.colab.kernel.accessAllowed ? 'block' : 'none';\n",
              "\n",
              "        async function convertToInteractive(key) {\n",
              "          const element = document.querySelector('#df-29697562-0491-41c5-8625-36cd34d864e2');\n",
              "          const dataTable =\n",
              "            await google.colab.kernel.invokeFunction('convertToInteractive',\n",
              "                                                     [key], {});\n",
              "          if (!dataTable) return;\n",
              "\n",
              "          const docLinkHtml = 'Like what you see? Visit the ' +\n",
              "            '<a target=\"_blank\" href=https://colab.research.google.com/notebooks/data_table.ipynb>data table notebook</a>'\n",
              "            + ' to learn more about interactive tables.';\n",
              "          element.innerHTML = '';\n",
              "          dataTable['output_type'] = 'display_data';\n",
              "          await google.colab.output.renderOutput(dataTable, element);\n",
              "          const docLink = document.createElement('div');\n",
              "          docLink.innerHTML = docLinkHtml;\n",
              "          element.appendChild(docLink);\n",
              "        }\n",
              "      </script>\n",
              "    </div>\n",
              "  </div>\n"
            ]
          },
          "metadata": {},
          "execution_count": 17
        }
      ],
      "source": [
        "# Remove rows where 'Column1' is empty\n",
        "subdf = subdf.dropna(subset = ['perfect_tokens'])\n",
        "subdf = subdf[subdf['perfect_tokens'].apply(lambda x: len(x) > 0)]\n",
        "subdf[59:66]"
      ]
    },
    {
      "cell_type": "markdown",
      "metadata": {
        "id": "dHqYSGT7FyAb"
      },
      "source": [
        "Co-occurance calculation:"
      ]
    },
    {
      "cell_type": "code",
      "execution_count": null,
      "metadata": {
        "colab": {
          "base_uri": "https://localhost:8080/",
          "height": 143
        },
        "id": "rGzFl_JjAbSb",
        "outputId": "09c5bede-7519-4352-c865-e663814629fc"
      },
      "outputs": [
        {
          "data": {
            "text/html": [
              "\n",
              "\n",
              "  <div id=\"df-9181ee82-9e7a-4627-8378-ba5209dbcb75\">\n",
              "    <div class=\"colab-df-container\">\n",
              "      <div>\n",
              "<style scoped>\n",
              "    .dataframe tbody tr th:only-of-type {\n",
              "        vertical-align: middle;\n",
              "    }\n",
              "\n",
              "    .dataframe tbody tr th {\n",
              "        vertical-align: top;\n",
              "    }\n",
              "\n",
              "    .dataframe thead th {\n",
              "        text-align: right;\n",
              "    }\n",
              "</style>\n",
              "<table border=\"1\" class=\"dataframe\">\n",
              "  <thead>\n",
              "    <tr style=\"text-align: right;\">\n",
              "      <th></th>\n",
              "      <th>label</th>\n",
              "      <th>tokenized_sentences</th>\n",
              "      <th>perfect_tokens</th>\n",
              "      <th>frequency</th>\n",
              "    </tr>\n",
              "  </thead>\n",
              "  <tbody>\n",
              "    <tr>\n",
              "      <th>0</th>\n",
              "      <td>1.0</td>\n",
              "      <td>[im, getting, on, borderlands, and, i, will, m...</td>\n",
              "      <td>[im, getting, on, borderlands, and, i, will, m...</td>\n",
              "      <td>{'im': 1, 'getting': 1, 'on': 1, 'borderlands'...</td>\n",
              "    </tr>\n",
              "    <tr>\n",
              "      <th>1</th>\n",
              "      <td>1.0</td>\n",
              "      <td>[I, am, coming, to, the, borders, and, I, will...</td>\n",
              "      <td>[i, am, coming, to, the, borders, and, i, will...</td>\n",
              "      <td>{'i': 2, 'am': 1, 'coming': 1, 'to': 1, 'the':...</td>\n",
              "    </tr>\n",
              "    <tr>\n",
              "      <th>2</th>\n",
              "      <td>1.0</td>\n",
              "      <td>[im, getting, on, borderlands, and, i, will, k...</td>\n",
              "      <td>[im, getting, on, borderlands, and, i, will, k...</td>\n",
              "      <td>{'im': 1, 'getting': 1, 'on': 1, 'borderlands'...</td>\n",
              "    </tr>\n",
              "  </tbody>\n",
              "</table>\n",
              "</div>\n",
              "      <button class=\"colab-df-convert\" onclick=\"convertToInteractive('df-9181ee82-9e7a-4627-8378-ba5209dbcb75')\"\n",
              "              title=\"Convert this dataframe to an interactive table.\"\n",
              "              style=\"display:none;\">\n",
              "\n",
              "  <svg xmlns=\"http://www.w3.org/2000/svg\" height=\"24px\"viewBox=\"0 0 24 24\"\n",
              "       width=\"24px\">\n",
              "    <path d=\"M0 0h24v24H0V0z\" fill=\"none\"/>\n",
              "    <path d=\"M18.56 5.44l.94 2.06.94-2.06 2.06-.94-2.06-.94-.94-2.06-.94 2.06-2.06.94zm-11 1L8.5 8.5l.94-2.06 2.06-.94-2.06-.94L8.5 2.5l-.94 2.06-2.06.94zm10 10l.94 2.06.94-2.06 2.06-.94-2.06-.94-.94-2.06-.94 2.06-2.06.94z\"/><path d=\"M17.41 7.96l-1.37-1.37c-.4-.4-.92-.59-1.43-.59-.52 0-1.04.2-1.43.59L10.3 9.45l-7.72 7.72c-.78.78-.78 2.05 0 2.83L4 21.41c.39.39.9.59 1.41.59.51 0 1.02-.2 1.41-.59l7.78-7.78 2.81-2.81c.8-.78.8-2.07 0-2.86zM5.41 20L4 18.59l7.72-7.72 1.47 1.35L5.41 20z\"/>\n",
              "  </svg>\n",
              "      </button>\n",
              "\n",
              "\n",
              "\n",
              "    <div id=\"df-b6897c64-62f3-4612-a1ed-e218b108c69e\">\n",
              "      <button class=\"colab-df-quickchart\" onclick=\"quickchart('df-b6897c64-62f3-4612-a1ed-e218b108c69e')\"\n",
              "              title=\"Suggest charts.\"\n",
              "              style=\"display:none;\">\n",
              "\n",
              "<svg xmlns=\"http://www.w3.org/2000/svg\" height=\"24px\"viewBox=\"0 0 24 24\"\n",
              "     width=\"24px\">\n",
              "    <g>\n",
              "        <path d=\"M19 3H5c-1.1 0-2 .9-2 2v14c0 1.1.9 2 2 2h14c1.1 0 2-.9 2-2V5c0-1.1-.9-2-2-2zM9 17H7v-7h2v7zm4 0h-2V7h2v10zm4 0h-2v-4h2v4z\"/>\n",
              "    </g>\n",
              "</svg>\n",
              "      </button>\n",
              "    </div>\n",
              "\n",
              "<style>\n",
              "  .colab-df-quickchart {\n",
              "    background-color: #E8F0FE;\n",
              "    border: none;\n",
              "    border-radius: 50%;\n",
              "    cursor: pointer;\n",
              "    display: none;\n",
              "    fill: #1967D2;\n",
              "    height: 32px;\n",
              "    padding: 0 0 0 0;\n",
              "    width: 32px;\n",
              "  }\n",
              "\n",
              "  .colab-df-quickchart:hover {\n",
              "    background-color: #E2EBFA;\n",
              "    box-shadow: 0px 1px 2px rgba(60, 64, 67, 0.3), 0px 1px 3px 1px rgba(60, 64, 67, 0.15);\n",
              "    fill: #174EA6;\n",
              "  }\n",
              "\n",
              "  [theme=dark] .colab-df-quickchart {\n",
              "    background-color: #3B4455;\n",
              "    fill: #D2E3FC;\n",
              "  }\n",
              "\n",
              "  [theme=dark] .colab-df-quickchart:hover {\n",
              "    background-color: #434B5C;\n",
              "    box-shadow: 0px 1px 3px 1px rgba(0, 0, 0, 0.15);\n",
              "    filter: drop-shadow(0px 1px 2px rgba(0, 0, 0, 0.3));\n",
              "    fill: #FFFFFF;\n",
              "  }\n",
              "</style>\n",
              "\n",
              "    <script>\n",
              "      async function quickchart(key) {\n",
              "        const containerElement = document.querySelector('#' + key);\n",
              "        const charts = await google.colab.kernel.invokeFunction(\n",
              "            'suggestCharts', [key], {});\n",
              "      }\n",
              "    </script>\n",
              "\n",
              "      <script>\n",
              "\n",
              "function displayQuickchartButton(domScope) {\n",
              "  let quickchartButtonEl =\n",
              "    domScope.querySelector('#df-b6897c64-62f3-4612-a1ed-e218b108c69e button.colab-df-quickchart');\n",
              "  quickchartButtonEl.style.display =\n",
              "    google.colab.kernel.accessAllowed ? 'block' : 'none';\n",
              "}\n",
              "\n",
              "        displayQuickchartButton(document);\n",
              "      </script>\n",
              "      <style>\n",
              "    .colab-df-container {\n",
              "      display:flex;\n",
              "      flex-wrap:wrap;\n",
              "      gap: 12px;\n",
              "    }\n",
              "\n",
              "    .colab-df-convert {\n",
              "      background-color: #E8F0FE;\n",
              "      border: none;\n",
              "      border-radius: 50%;\n",
              "      cursor: pointer;\n",
              "      display: none;\n",
              "      fill: #1967D2;\n",
              "      height: 32px;\n",
              "      padding: 0 0 0 0;\n",
              "      width: 32px;\n",
              "    }\n",
              "\n",
              "    .colab-df-convert:hover {\n",
              "      background-color: #E2EBFA;\n",
              "      box-shadow: 0px 1px 2px rgba(60, 64, 67, 0.3), 0px 1px 3px 1px rgba(60, 64, 67, 0.15);\n",
              "      fill: #174EA6;\n",
              "    }\n",
              "\n",
              "    [theme=dark] .colab-df-convert {\n",
              "      background-color: #3B4455;\n",
              "      fill: #D2E3FC;\n",
              "    }\n",
              "\n",
              "    [theme=dark] .colab-df-convert:hover {\n",
              "      background-color: #434B5C;\n",
              "      box-shadow: 0px 1px 3px 1px rgba(0, 0, 0, 0.15);\n",
              "      filter: drop-shadow(0px 1px 2px rgba(0, 0, 0, 0.3));\n",
              "      fill: #FFFFFF;\n",
              "    }\n",
              "  </style>\n",
              "\n",
              "      <script>\n",
              "        const buttonEl =\n",
              "          document.querySelector('#df-9181ee82-9e7a-4627-8378-ba5209dbcb75 button.colab-df-convert');\n",
              "        buttonEl.style.display =\n",
              "          google.colab.kernel.accessAllowed ? 'block' : 'none';\n",
              "\n",
              "        async function convertToInteractive(key) {\n",
              "          const element = document.querySelector('#df-9181ee82-9e7a-4627-8378-ba5209dbcb75');\n",
              "          const dataTable =\n",
              "            await google.colab.kernel.invokeFunction('convertToInteractive',\n",
              "                                                     [key], {});\n",
              "          if (!dataTable) return;\n",
              "\n",
              "          const docLinkHtml = 'Like what you see? Visit the ' +\n",
              "            '<a target=\"_blank\" href=https://colab.research.google.com/notebooks/data_table.ipynb>data table notebook</a>'\n",
              "            + ' to learn more about interactive tables.';\n",
              "          element.innerHTML = '';\n",
              "          dataTable['output_type'] = 'display_data';\n",
              "          await google.colab.output.renderOutput(dataTable, element);\n",
              "          const docLink = document.createElement('div');\n",
              "          docLink.innerHTML = docLinkHtml;\n",
              "          element.appendChild(docLink);\n",
              "        }\n",
              "      </script>\n",
              "    </div>\n",
              "  </div>\n"
            ],
            "text/plain": [
              "   label                                tokenized_sentences  \\\n",
              "0    1.0  [im, getting, on, borderlands, and, i, will, m...   \n",
              "1    1.0  [I, am, coming, to, the, borders, and, I, will...   \n",
              "2    1.0  [im, getting, on, borderlands, and, i, will, k...   \n",
              "\n",
              "                                      perfect_tokens  \\\n",
              "0  [im, getting, on, borderlands, and, i, will, m...   \n",
              "1  [i, am, coming, to, the, borders, and, i, will...   \n",
              "2  [im, getting, on, borderlands, and, i, will, k...   \n",
              "\n",
              "                                           frequency  \n",
              "0  {'im': 1, 'getting': 1, 'on': 1, 'borderlands'...  \n",
              "1  {'i': 2, 'am': 1, 'coming': 1, 'to': 1, 'the':...  \n",
              "2  {'im': 1, 'getting': 1, 'on': 1, 'borderlands'...  "
            ]
          },
          "execution_count": 16,
          "metadata": {},
          "output_type": "execute_result"
        }
      ],
      "source": [
        "# In order to create a loop up table\n",
        "# Create an empty list to store the frequency dictionaries\n",
        "frequency_list = []\n",
        "\n",
        "# Iterate over each row in the DataFrame\n",
        "for index, row in subdf.iterrows():\n",
        "    # Get the tokenized sentence from 'perfect_tokens' column\n",
        "    tokens = row['perfect_tokens']\n",
        "    # Count the occurrences of each token in the sentence\n",
        "    token_counts = Counter(tokens)\n",
        "    # Add the frequency dictionary\n",
        "    frequency_list.append(token_counts)\n",
        "\n",
        "# Assign the frequency dictionary to the 'frequency' column\n",
        "subdf['frequency'] = frequency_list\n",
        "subdf[:3]"
      ]
    },
    {
      "cell_type": "code",
      "execution_count": null,
      "metadata": {
        "colab": {
          "base_uri": "https://localhost:8080/",
          "height": 143
        },
        "id": "0lLPS3u8q1bv",
        "outputId": "9ac0befc-7dc9-449e-8b0b-6f0c1630fa45"
      },
      "outputs": [
        {
          "data": {
            "text/html": [
              "\n",
              "\n",
              "  <div id=\"df-2ce7bb5b-64a3-4871-973b-e637509ea7ec\">\n",
              "    <div class=\"colab-df-container\">\n",
              "      <div>\n",
              "<style scoped>\n",
              "    .dataframe tbody tr th:only-of-type {\n",
              "        vertical-align: middle;\n",
              "    }\n",
              "\n",
              "    .dataframe tbody tr th {\n",
              "        vertical-align: top;\n",
              "    }\n",
              "\n",
              "    .dataframe thead th {\n",
              "        text-align: right;\n",
              "    }\n",
              "</style>\n",
              "<table border=\"1\" class=\"dataframe\">\n",
              "  <thead>\n",
              "    <tr style=\"text-align: right;\">\n",
              "      <th></th>\n",
              "      <th>label</th>\n",
              "      <th>perfect_tokens</th>\n",
              "      <th>frequency</th>\n",
              "      <th>index_token</th>\n",
              "    </tr>\n",
              "  </thead>\n",
              "  <tbody>\n",
              "    <tr>\n",
              "      <th>0</th>\n",
              "      <td>1.0</td>\n",
              "      <td>[im, getting, on, borderlands, and, i, will, m...</td>\n",
              "      <td>{'im': 1, 'getting': 1, 'on': 1, 'borderlands'...</td>\n",
              "      <td>{0: 'im', 1: 'getting', 2: 'on', 3: 'borderlan...</td>\n",
              "    </tr>\n",
              "    <tr>\n",
              "      <th>1</th>\n",
              "      <td>1.0</td>\n",
              "      <td>[i, am, coming, to, the, borders, and, i, will...</td>\n",
              "      <td>{'i': 2, 'am': 1, 'coming': 1, 'to': 1, 'the':...</td>\n",
              "      <td>{0: 'i', 1: 'am', 2: 'coming', 3: 'to', 4: 'th...</td>\n",
              "    </tr>\n",
              "    <tr>\n",
              "      <th>2</th>\n",
              "      <td>1.0</td>\n",
              "      <td>[im, getting, on, borderlands, and, i, will, k...</td>\n",
              "      <td>{'im': 1, 'getting': 1, 'on': 1, 'borderlands'...</td>\n",
              "      <td>{0: 'im', 1: 'getting', 2: 'on', 3: 'borderlan...</td>\n",
              "    </tr>\n",
              "  </tbody>\n",
              "</table>\n",
              "</div>\n",
              "      <button class=\"colab-df-convert\" onclick=\"convertToInteractive('df-2ce7bb5b-64a3-4871-973b-e637509ea7ec')\"\n",
              "              title=\"Convert this dataframe to an interactive table.\"\n",
              "              style=\"display:none;\">\n",
              "\n",
              "  <svg xmlns=\"http://www.w3.org/2000/svg\" height=\"24px\"viewBox=\"0 0 24 24\"\n",
              "       width=\"24px\">\n",
              "    <path d=\"M0 0h24v24H0V0z\" fill=\"none\"/>\n",
              "    <path d=\"M18.56 5.44l.94 2.06.94-2.06 2.06-.94-2.06-.94-.94-2.06-.94 2.06-2.06.94zm-11 1L8.5 8.5l.94-2.06 2.06-.94-2.06-.94L8.5 2.5l-.94 2.06-2.06.94zm10 10l.94 2.06.94-2.06 2.06-.94-2.06-.94-.94-2.06-.94 2.06-2.06.94z\"/><path d=\"M17.41 7.96l-1.37-1.37c-.4-.4-.92-.59-1.43-.59-.52 0-1.04.2-1.43.59L10.3 9.45l-7.72 7.72c-.78.78-.78 2.05 0 2.83L4 21.41c.39.39.9.59 1.41.59.51 0 1.02-.2 1.41-.59l7.78-7.78 2.81-2.81c.8-.78.8-2.07 0-2.86zM5.41 20L4 18.59l7.72-7.72 1.47 1.35L5.41 20z\"/>\n",
              "  </svg>\n",
              "      </button>\n",
              "\n",
              "\n",
              "\n",
              "    <div id=\"df-63ea95e5-501b-44f6-b703-04b2e5984fd5\">\n",
              "      <button class=\"colab-df-quickchart\" onclick=\"quickchart('df-63ea95e5-501b-44f6-b703-04b2e5984fd5')\"\n",
              "              title=\"Suggest charts.\"\n",
              "              style=\"display:none;\">\n",
              "\n",
              "<svg xmlns=\"http://www.w3.org/2000/svg\" height=\"24px\"viewBox=\"0 0 24 24\"\n",
              "     width=\"24px\">\n",
              "    <g>\n",
              "        <path d=\"M19 3H5c-1.1 0-2 .9-2 2v14c0 1.1.9 2 2 2h14c1.1 0 2-.9 2-2V5c0-1.1-.9-2-2-2zM9 17H7v-7h2v7zm4 0h-2V7h2v10zm4 0h-2v-4h2v4z\"/>\n",
              "    </g>\n",
              "</svg>\n",
              "      </button>\n",
              "    </div>\n",
              "\n",
              "<style>\n",
              "  .colab-df-quickchart {\n",
              "    background-color: #E8F0FE;\n",
              "    border: none;\n",
              "    border-radius: 50%;\n",
              "    cursor: pointer;\n",
              "    display: none;\n",
              "    fill: #1967D2;\n",
              "    height: 32px;\n",
              "    padding: 0 0 0 0;\n",
              "    width: 32px;\n",
              "  }\n",
              "\n",
              "  .colab-df-quickchart:hover {\n",
              "    background-color: #E2EBFA;\n",
              "    box-shadow: 0px 1px 2px rgba(60, 64, 67, 0.3), 0px 1px 3px 1px rgba(60, 64, 67, 0.15);\n",
              "    fill: #174EA6;\n",
              "  }\n",
              "\n",
              "  [theme=dark] .colab-df-quickchart {\n",
              "    background-color: #3B4455;\n",
              "    fill: #D2E3FC;\n",
              "  }\n",
              "\n",
              "  [theme=dark] .colab-df-quickchart:hover {\n",
              "    background-color: #434B5C;\n",
              "    box-shadow: 0px 1px 3px 1px rgba(0, 0, 0, 0.15);\n",
              "    filter: drop-shadow(0px 1px 2px rgba(0, 0, 0, 0.3));\n",
              "    fill: #FFFFFF;\n",
              "  }\n",
              "</style>\n",
              "\n",
              "    <script>\n",
              "      async function quickchart(key) {\n",
              "        const containerElement = document.querySelector('#' + key);\n",
              "        const charts = await google.colab.kernel.invokeFunction(\n",
              "            'suggestCharts', [key], {});\n",
              "      }\n",
              "    </script>\n",
              "\n",
              "      <script>\n",
              "\n",
              "function displayQuickchartButton(domScope) {\n",
              "  let quickchartButtonEl =\n",
              "    domScope.querySelector('#df-63ea95e5-501b-44f6-b703-04b2e5984fd5 button.colab-df-quickchart');\n",
              "  quickchartButtonEl.style.display =\n",
              "    google.colab.kernel.accessAllowed ? 'block' : 'none';\n",
              "}\n",
              "\n",
              "        displayQuickchartButton(document);\n",
              "      </script>\n",
              "      <style>\n",
              "    .colab-df-container {\n",
              "      display:flex;\n",
              "      flex-wrap:wrap;\n",
              "      gap: 12px;\n",
              "    }\n",
              "\n",
              "    .colab-df-convert {\n",
              "      background-color: #E8F0FE;\n",
              "      border: none;\n",
              "      border-radius: 50%;\n",
              "      cursor: pointer;\n",
              "      display: none;\n",
              "      fill: #1967D2;\n",
              "      height: 32px;\n",
              "      padding: 0 0 0 0;\n",
              "      width: 32px;\n",
              "    }\n",
              "\n",
              "    .colab-df-convert:hover {\n",
              "      background-color: #E2EBFA;\n",
              "      box-shadow: 0px 1px 2px rgba(60, 64, 67, 0.3), 0px 1px 3px 1px rgba(60, 64, 67, 0.15);\n",
              "      fill: #174EA6;\n",
              "    }\n",
              "\n",
              "    [theme=dark] .colab-df-convert {\n",
              "      background-color: #3B4455;\n",
              "      fill: #D2E3FC;\n",
              "    }\n",
              "\n",
              "    [theme=dark] .colab-df-convert:hover {\n",
              "      background-color: #434B5C;\n",
              "      box-shadow: 0px 1px 3px 1px rgba(0, 0, 0, 0.15);\n",
              "      filter: drop-shadow(0px 1px 2px rgba(0, 0, 0, 0.3));\n",
              "      fill: #FFFFFF;\n",
              "    }\n",
              "  </style>\n",
              "\n",
              "      <script>\n",
              "        const buttonEl =\n",
              "          document.querySelector('#df-2ce7bb5b-64a3-4871-973b-e637509ea7ec button.colab-df-convert');\n",
              "        buttonEl.style.display =\n",
              "          google.colab.kernel.accessAllowed ? 'block' : 'none';\n",
              "\n",
              "        async function convertToInteractive(key) {\n",
              "          const element = document.querySelector('#df-2ce7bb5b-64a3-4871-973b-e637509ea7ec');\n",
              "          const dataTable =\n",
              "            await google.colab.kernel.invokeFunction('convertToInteractive',\n",
              "                                                     [key], {});\n",
              "          if (!dataTable) return;\n",
              "\n",
              "          const docLinkHtml = 'Like what you see? Visit the ' +\n",
              "            '<a target=\"_blank\" href=https://colab.research.google.com/notebooks/data_table.ipynb>data table notebook</a>'\n",
              "            + ' to learn more about interactive tables.';\n",
              "          element.innerHTML = '';\n",
              "          dataTable['output_type'] = 'display_data';\n",
              "          await google.colab.output.renderOutput(dataTable, element);\n",
              "          const docLink = document.createElement('div');\n",
              "          docLink.innerHTML = docLinkHtml;\n",
              "          element.appendChild(docLink);\n",
              "        }\n",
              "      </script>\n",
              "    </div>\n",
              "  </div>\n"
            ],
            "text/plain": [
              "   label                                     perfect_tokens  \\\n",
              "0    1.0  [im, getting, on, borderlands, and, i, will, m...   \n",
              "1    1.0  [i, am, coming, to, the, borders, and, i, will...   \n",
              "2    1.0  [im, getting, on, borderlands, and, i, will, k...   \n",
              "\n",
              "                                           frequency  \\\n",
              "0  {'im': 1, 'getting': 1, 'on': 1, 'borderlands'...   \n",
              "1  {'i': 2, 'am': 1, 'coming': 1, 'to': 1, 'the':...   \n",
              "2  {'im': 1, 'getting': 1, 'on': 1, 'borderlands'...   \n",
              "\n",
              "                                         index_token  \n",
              "0  {0: 'im', 1: 'getting', 2: 'on', 3: 'borderlan...  \n",
              "1  {0: 'i', 1: 'am', 2: 'coming', 3: 'to', 4: 'th...  \n",
              "2  {0: 'im', 1: 'getting', 2: 'on', 3: 'borderlan...  "
            ]
          },
          "execution_count": 17,
          "metadata": {},
          "output_type": "execute_result"
        }
      ],
      "source": [
        "subdf['index_token'] = subdf['perfect_tokens'].apply(lambda tokens: {i: token for i, token in enumerate(tokens)})\n",
        "subdf = subdf[['label', 'perfect_tokens', 'frequency', 'index_token']]\n",
        "subdf[:3]"
      ]
    },
    {
      "cell_type": "markdown",
      "metadata": {
        "id": "WsR_yG46Mjz5"
      },
      "source": [
        "Shuffle the subdf dataframe (randomlize it):"
      ]
    },
    {
      "cell_type": "code",
      "execution_count": null,
      "metadata": {
        "colab": {
          "base_uri": "https://localhost:8080/",
          "height": 423
        },
        "id": "RV35fAXBMVO1",
        "outputId": "6751dd82-436b-4956-e8f6-133f10d7edae"
      },
      "outputs": [
        {
          "output_type": "execute_result",
          "data": {
            "text/plain": [
              "       label                                tokenized_sentences  \\\n",
              "32823      3                                    [Good, Morning]   \n",
              "16298      0  [I, just, put, my, computer, up, on, craigslis...   \n",
              "28505      6  [in, ten, minutes, shopping, demi, lovato-back...   \n",
              "6689       3  [From, twitterberry, moved, to, ubertwitter, -...   \n",
              "26893      1                           [@, thriftymom, TEAR, *]   \n",
              "...      ...                                                ...   \n",
              "6265       3                                         [Cleaning]   \n",
              "11284      8  [ooo, my, goddddd, ;, vodafone, trouble, ., no...   \n",
              "38158      7  [watching, run, fat, boy, run, ..., haha, its,...   \n",
              "860        8  [@, calvinharris, make, the, most, of, pork, p...   \n",
              "15795      6  [@, BillFanning, Bill, ,, likewise, it, was, a...   \n",
              "\n",
              "                                          perfect_tokens  \n",
              "32823                                    [good, morning]  \n",
              "16298  [i, just, put, my, computer, up, on, craigslis...  \n",
              "28505  [in, ten, minutes, shopping, demi, lovatoback,...  \n",
              "6689   [from, twitterberry, moved, to, ubertwitter, s...  \n",
              "26893                                 [thriftymom, tear]  \n",
              "...                                                  ...  \n",
              "6265                                          [cleaning]  \n",
              "11284  [ooo, my, goddddd, vodafone, trouble, no, netw...  \n",
              "38158  [watching, run, fat, boy, run, haha, its, soo,...  \n",
              "860    [calvinharris, make, the, most, of, pork, prod...  \n",
              "15795  [billfanning, bill, likewise, it, was, a, plea...  \n",
              "\n",
              "[40000 rows x 3 columns]"
            ],
            "text/html": [
              "\n",
              "\n",
              "  <div id=\"df-fea726aa-fd8b-4b04-bb6b-c9657bba84b8\">\n",
              "    <div class=\"colab-df-container\">\n",
              "      <div>\n",
              "<style scoped>\n",
              "    .dataframe tbody tr th:only-of-type {\n",
              "        vertical-align: middle;\n",
              "    }\n",
              "\n",
              "    .dataframe tbody tr th {\n",
              "        vertical-align: top;\n",
              "    }\n",
              "\n",
              "    .dataframe thead th {\n",
              "        text-align: right;\n",
              "    }\n",
              "</style>\n",
              "<table border=\"1\" class=\"dataframe\">\n",
              "  <thead>\n",
              "    <tr style=\"text-align: right;\">\n",
              "      <th></th>\n",
              "      <th>label</th>\n",
              "      <th>tokenized_sentences</th>\n",
              "      <th>perfect_tokens</th>\n",
              "    </tr>\n",
              "  </thead>\n",
              "  <tbody>\n",
              "    <tr>\n",
              "      <th>32823</th>\n",
              "      <td>3</td>\n",
              "      <td>[Good, Morning]</td>\n",
              "      <td>[good, morning]</td>\n",
              "    </tr>\n",
              "    <tr>\n",
              "      <th>16298</th>\n",
              "      <td>0</td>\n",
              "      <td>[I, just, put, my, computer, up, on, craigslis...</td>\n",
              "      <td>[i, just, put, my, computer, up, on, craigslis...</td>\n",
              "    </tr>\n",
              "    <tr>\n",
              "      <th>28505</th>\n",
              "      <td>6</td>\n",
              "      <td>[in, ten, minutes, shopping, demi, lovato-back...</td>\n",
              "      <td>[in, ten, minutes, shopping, demi, lovatoback,...</td>\n",
              "    </tr>\n",
              "    <tr>\n",
              "      <th>6689</th>\n",
              "      <td>3</td>\n",
              "      <td>[From, twitterberry, moved, to, ubertwitter, -...</td>\n",
              "      <td>[from, twitterberry, moved, to, ubertwitter, s...</td>\n",
              "    </tr>\n",
              "    <tr>\n",
              "      <th>26893</th>\n",
              "      <td>1</td>\n",
              "      <td>[@, thriftymom, TEAR, *]</td>\n",
              "      <td>[thriftymom, tear]</td>\n",
              "    </tr>\n",
              "    <tr>\n",
              "      <th>...</th>\n",
              "      <td>...</td>\n",
              "      <td>...</td>\n",
              "      <td>...</td>\n",
              "    </tr>\n",
              "    <tr>\n",
              "      <th>6265</th>\n",
              "      <td>3</td>\n",
              "      <td>[Cleaning]</td>\n",
              "      <td>[cleaning]</td>\n",
              "    </tr>\n",
              "    <tr>\n",
              "      <th>11284</th>\n",
              "      <td>8</td>\n",
              "      <td>[ooo, my, goddddd, ;, vodafone, trouble, ., no...</td>\n",
              "      <td>[ooo, my, goddddd, vodafone, trouble, no, netw...</td>\n",
              "    </tr>\n",
              "    <tr>\n",
              "      <th>38158</th>\n",
              "      <td>7</td>\n",
              "      <td>[watching, run, fat, boy, run, ..., haha, its,...</td>\n",
              "      <td>[watching, run, fat, boy, run, haha, its, soo,...</td>\n",
              "    </tr>\n",
              "    <tr>\n",
              "      <th>860</th>\n",
              "      <td>8</td>\n",
              "      <td>[@, calvinharris, make, the, most, of, pork, p...</td>\n",
              "      <td>[calvinharris, make, the, most, of, pork, prod...</td>\n",
              "    </tr>\n",
              "    <tr>\n",
              "      <th>15795</th>\n",
              "      <td>6</td>\n",
              "      <td>[@, BillFanning, Bill, ,, likewise, it, was, a...</td>\n",
              "      <td>[billfanning, bill, likewise, it, was, a, plea...</td>\n",
              "    </tr>\n",
              "  </tbody>\n",
              "</table>\n",
              "<p>40000 rows × 3 columns</p>\n",
              "</div>\n",
              "      <button class=\"colab-df-convert\" onclick=\"convertToInteractive('df-fea726aa-fd8b-4b04-bb6b-c9657bba84b8')\"\n",
              "              title=\"Convert this dataframe to an interactive table.\"\n",
              "              style=\"display:none;\">\n",
              "\n",
              "  <svg xmlns=\"http://www.w3.org/2000/svg\" height=\"24px\"viewBox=\"0 0 24 24\"\n",
              "       width=\"24px\">\n",
              "    <path d=\"M0 0h24v24H0V0z\" fill=\"none\"/>\n",
              "    <path d=\"M18.56 5.44l.94 2.06.94-2.06 2.06-.94-2.06-.94-.94-2.06-.94 2.06-2.06.94zm-11 1L8.5 8.5l.94-2.06 2.06-.94-2.06-.94L8.5 2.5l-.94 2.06-2.06.94zm10 10l.94 2.06.94-2.06 2.06-.94-2.06-.94-.94-2.06-.94 2.06-2.06.94z\"/><path d=\"M17.41 7.96l-1.37-1.37c-.4-.4-.92-.59-1.43-.59-.52 0-1.04.2-1.43.59L10.3 9.45l-7.72 7.72c-.78.78-.78 2.05 0 2.83L4 21.41c.39.39.9.59 1.41.59.51 0 1.02-.2 1.41-.59l7.78-7.78 2.81-2.81c.8-.78.8-2.07 0-2.86zM5.41 20L4 18.59l7.72-7.72 1.47 1.35L5.41 20z\"/>\n",
              "  </svg>\n",
              "      </button>\n",
              "\n",
              "\n",
              "\n",
              "    <div id=\"df-4c426f15-70ef-4f97-bc8c-042e04001b9f\">\n",
              "      <button class=\"colab-df-quickchart\" onclick=\"quickchart('df-4c426f15-70ef-4f97-bc8c-042e04001b9f')\"\n",
              "              title=\"Suggest charts.\"\n",
              "              style=\"display:none;\">\n",
              "\n",
              "<svg xmlns=\"http://www.w3.org/2000/svg\" height=\"24px\"viewBox=\"0 0 24 24\"\n",
              "     width=\"24px\">\n",
              "    <g>\n",
              "        <path d=\"M19 3H5c-1.1 0-2 .9-2 2v14c0 1.1.9 2 2 2h14c1.1 0 2-.9 2-2V5c0-1.1-.9-2-2-2zM9 17H7v-7h2v7zm4 0h-2V7h2v10zm4 0h-2v-4h2v4z\"/>\n",
              "    </g>\n",
              "</svg>\n",
              "      </button>\n",
              "    </div>\n",
              "\n",
              "<style>\n",
              "  .colab-df-quickchart {\n",
              "    background-color: #E8F0FE;\n",
              "    border: none;\n",
              "    border-radius: 50%;\n",
              "    cursor: pointer;\n",
              "    display: none;\n",
              "    fill: #1967D2;\n",
              "    height: 32px;\n",
              "    padding: 0 0 0 0;\n",
              "    width: 32px;\n",
              "  }\n",
              "\n",
              "  .colab-df-quickchart:hover {\n",
              "    background-color: #E2EBFA;\n",
              "    box-shadow: 0px 1px 2px rgba(60, 64, 67, 0.3), 0px 1px 3px 1px rgba(60, 64, 67, 0.15);\n",
              "    fill: #174EA6;\n",
              "  }\n",
              "\n",
              "  [theme=dark] .colab-df-quickchart {\n",
              "    background-color: #3B4455;\n",
              "    fill: #D2E3FC;\n",
              "  }\n",
              "\n",
              "  [theme=dark] .colab-df-quickchart:hover {\n",
              "    background-color: #434B5C;\n",
              "    box-shadow: 0px 1px 3px 1px rgba(0, 0, 0, 0.15);\n",
              "    filter: drop-shadow(0px 1px 2px rgba(0, 0, 0, 0.3));\n",
              "    fill: #FFFFFF;\n",
              "  }\n",
              "</style>\n",
              "\n",
              "    <script>\n",
              "      async function quickchart(key) {\n",
              "        const containerElement = document.querySelector('#' + key);\n",
              "        const charts = await google.colab.kernel.invokeFunction(\n",
              "            'suggestCharts', [key], {});\n",
              "      }\n",
              "    </script>\n",
              "\n",
              "      <script>\n",
              "\n",
              "function displayQuickchartButton(domScope) {\n",
              "  let quickchartButtonEl =\n",
              "    domScope.querySelector('#df-4c426f15-70ef-4f97-bc8c-042e04001b9f button.colab-df-quickchart');\n",
              "  quickchartButtonEl.style.display =\n",
              "    google.colab.kernel.accessAllowed ? 'block' : 'none';\n",
              "}\n",
              "\n",
              "        displayQuickchartButton(document);\n",
              "      </script>\n",
              "      <style>\n",
              "    .colab-df-container {\n",
              "      display:flex;\n",
              "      flex-wrap:wrap;\n",
              "      gap: 12px;\n",
              "    }\n",
              "\n",
              "    .colab-df-convert {\n",
              "      background-color: #E8F0FE;\n",
              "      border: none;\n",
              "      border-radius: 50%;\n",
              "      cursor: pointer;\n",
              "      display: none;\n",
              "      fill: #1967D2;\n",
              "      height: 32px;\n",
              "      padding: 0 0 0 0;\n",
              "      width: 32px;\n",
              "    }\n",
              "\n",
              "    .colab-df-convert:hover {\n",
              "      background-color: #E2EBFA;\n",
              "      box-shadow: 0px 1px 2px rgba(60, 64, 67, 0.3), 0px 1px 3px 1px rgba(60, 64, 67, 0.15);\n",
              "      fill: #174EA6;\n",
              "    }\n",
              "\n",
              "    [theme=dark] .colab-df-convert {\n",
              "      background-color: #3B4455;\n",
              "      fill: #D2E3FC;\n",
              "    }\n",
              "\n",
              "    [theme=dark] .colab-df-convert:hover {\n",
              "      background-color: #434B5C;\n",
              "      box-shadow: 0px 1px 3px 1px rgba(0, 0, 0, 0.15);\n",
              "      filter: drop-shadow(0px 1px 2px rgba(0, 0, 0, 0.3));\n",
              "      fill: #FFFFFF;\n",
              "    }\n",
              "  </style>\n",
              "\n",
              "      <script>\n",
              "        const buttonEl =\n",
              "          document.querySelector('#df-fea726aa-fd8b-4b04-bb6b-c9657bba84b8 button.colab-df-convert');\n",
              "        buttonEl.style.display =\n",
              "          google.colab.kernel.accessAllowed ? 'block' : 'none';\n",
              "\n",
              "        async function convertToInteractive(key) {\n",
              "          const element = document.querySelector('#df-fea726aa-fd8b-4b04-bb6b-c9657bba84b8');\n",
              "          const dataTable =\n",
              "            await google.colab.kernel.invokeFunction('convertToInteractive',\n",
              "                                                     [key], {});\n",
              "          if (!dataTable) return;\n",
              "\n",
              "          const docLinkHtml = 'Like what you see? Visit the ' +\n",
              "            '<a target=\"_blank\" href=https://colab.research.google.com/notebooks/data_table.ipynb>data table notebook</a>'\n",
              "            + ' to learn more about interactive tables.';\n",
              "          element.innerHTML = '';\n",
              "          dataTable['output_type'] = 'display_data';\n",
              "          await google.colab.output.renderOutput(dataTable, element);\n",
              "          const docLink = document.createElement('div');\n",
              "          docLink.innerHTML = docLinkHtml;\n",
              "          element.appendChild(docLink);\n",
              "        }\n",
              "      </script>\n",
              "    </div>\n",
              "  </div>\n"
            ]
          },
          "metadata": {},
          "execution_count": 18
        }
      ],
      "source": [
        "subdf = subdf.sample(frac=1, random_state=42)\n",
        "subdf"
      ]
    },
    {
      "cell_type": "markdown",
      "metadata": {
        "id": "CUyGc_EXK7mG"
      },
      "source": [
        "Summary:\n",
        "\n",
        "Section 2.1 take in the combined csv file, convert the sentence column from a sentence into word tokens, the final output is the tokens without punctuations and also no empty tokens. Output variable type is a list of strings for the whole column named **perfect_tokens** inside the combined csv file **project.csv**."
      ]
    },
    {
      "cell_type": "markdown",
      "metadata": {
        "id": "OPbPi834hFqi"
      },
      "source": [
        "2.2 Encode words using GloVe 跑模型，存数据"
      ]
    },
    {
      "cell_type": "markdown",
      "metadata": {
        "id": "c7R1a-oLXuCv"
      },
      "source": [
        "Load a pre-trained GloVe Model 将找到的模型存入，以便使用"
      ]
    },
    {
      "cell_type": "markdown",
      "metadata": {
        "id": "95zxe59iVeoo"
      },
      "source": [
        "Split each sentence and sequences the vectors:"
      ]
    },
    {
      "cell_type": "code",
      "execution_count": null,
      "metadata": {
        "colab": {
          "base_uri": "https://localhost:8080/"
        },
        "id": "lovBgvqGVvR1",
        "outputId": "75decb77-558f-42ab-d534-be18d36f0925"
      },
      "outputs": [
        {
          "output_type": "stream",
          "name": "stdout",
          "text": [
            "Maximum length: 37\n"
          ]
        }
      ],
      "source": [
        "# find the length of each list of tokens and the maximum length of them\n",
        "import pandas as pd\n",
        "\n",
        "# Calculate the maximum length of the lists and store the lengths in a new column\n",
        "subdf['list_lengths'] = subdf['perfect_tokens'].apply(len)\n",
        "\n",
        "# Find the maximum length among all lists\n",
        "max_length = subdf['list_lengths'].max()\n",
        "\n",
        "# Print the maximum length and the lengths of each list\n",
        "print(\"Maximum length:\", max_length)\n",
        "#print(\"Lengths of each list:\\n\", subdf['list_lengths'])"
      ]
    },
    {
      "cell_type": "markdown",
      "metadata": {
        "id": "vdCHV4sdpnsx"
      },
      "source": [
        "2.3 Dataset Splitting:"
      ]
    },
    {
      "cell_type": "code",
      "execution_count": null,
      "metadata": {
        "id": "gy6BmBcSfAEs",
        "colab": {
          "base_uri": "https://localhost:8080/"
        },
        "outputId": "d700e51d-e162-4249-d631-9d2fd1d26e2c"
      },
      "outputs": [
        {
          "output_type": "stream",
          "name": "stderr",
          "text": [
            ".vector_cache/glove.6B.zip: 862MB [03:40, 3.91MB/s]                           \n",
            "100%|█████████▉| 399999/400000 [00:18<00:00, 21999.18it/s]\n"
          ]
        }
      ],
      "source": [
        "# Import needed libraries and packages\n",
        "import torch\n",
        "from torch import nn\n",
        "from torchtext.vocab import GloVe\n",
        "\n",
        "glove = GloVe(name='6B', dim = 50)"
      ]
    },
    {
      "cell_type": "code",
      "execution_count": null,
      "metadata": {
        "id": "RYsNPGLOfAoI"
      },
      "outputs": [],
      "source": [
        "vectors = glove.vectors\n",
        "vocab = glove.stoi\n",
        "itos = glove.itos"
      ]
    },
    {
      "cell_type": "code",
      "execution_count": null,
      "metadata": {
        "colab": {
          "base_uri": "https://localhost:8080/"
        },
        "id": "20piVf7SpmVA",
        "outputId": "a9de7a06-9708-4eb2-f07a-7a55fd053d45"
      },
      "outputs": [
        {
          "output_type": "stream",
          "name": "stdout",
          "text": [
            "31\n",
            "31\n"
          ]
        }
      ],
      "source": [
        "# Import library\n",
        "from torch.utils.data.dataset import TensorDataset\n",
        "from torch.utils.data import Dataset\n",
        "\n",
        "# Choose the training and validation data\n",
        "train_file = subdf[0:25000]\n",
        "val_file = subdf[25000:30000]\n",
        "train_dic = []\n",
        "val_dic = []\n",
        "\n",
        "length_number = 31\n",
        "\n",
        "for i in range(length_number):\n",
        "  specific_length_sentence = train_file[train_file['list_lengths'] == i + 2]\n",
        "  if(len(specific_length_sentence) != 0 & len(specific_length_sentence) != 1):\n",
        "    train_dic.append(specific_length_sentence)\n",
        "\n",
        "print(len(train_dic))\n",
        "\n",
        "\n",
        "for i in range(length_number):\n",
        "  specific_length_sentence = val_file[val_file['list_lengths'] == i + 2]\n",
        "  if(len(specific_length_sentence) != 0 & len(specific_length_sentence) != 1):\n",
        "    val_dic.append(specific_length_sentence)\n",
        "\n",
        "print(len(val_dic))\n",
        "\n",
        "train_data = []\n",
        "val_data = []\n",
        "train_label = []\n",
        "val_label = []\n",
        "\n",
        "for i in range(length_number):\n",
        "  train_data.append(train_dic[i]['perfect_tokens'])\n",
        "  train_label.append(train_dic[i]['label'])\n",
        "  val_data.append(val_dic[i]['perfect_tokens'])\n",
        "  val_label.append(val_dic[i]['label'])\n",
        "\n",
        "default_index = 0\n",
        "for i in range(length_number):\n",
        "  train_data[i] = [torch.tensor([vocab.get(token, default_index) for token in sentence], dtype=torch.long) for sentence in train_data[i]]\n",
        "  val_data[i] = [torch.tensor([vocab.get(token, default_index) for token in sentence], dtype=torch.long) for sentence in val_data[i]]\n",
        "  train_label[i] = torch.tensor(train_label[i].values, dtype=torch.long)\n",
        "  val_label[i] = torch.tensor(val_label[i].values, dtype=torch.long)\n",
        "\n",
        "############# NEWLY CREATED CLASS #############\n",
        "class SentenceLabelDataset(Dataset):\n",
        "    def __init__(self, sentences, labels):\n",
        "        self.sentences = sentences\n",
        "        self.labels = labels\n",
        "\n",
        "    def __len__(self):\n",
        "        return len(self.sentences)\n",
        "\n",
        "    def __getitem__(self, index):\n",
        "        sentence = self.sentences[index]\n",
        "        label = self.labels[index]\n",
        "        return sentence, label\n",
        "####################################################\n",
        "\n",
        "train_dataset = []\n",
        "val_dataset = []\n",
        "for i in range(length_number):\n",
        "  train_dataset.append(SentenceLabelDataset(train_data[i], train_label[i]))\n",
        "  val_dataset.append(SentenceLabelDataset(val_data[i], val_label[i]))\n",
        "\n",
        "batch_size = 64\n",
        "train_loaders = []\n",
        "val_loaders = []\n",
        "\n",
        "for i in range(length_number):\n",
        "  train_loader = torch.utils.data.DataLoader(train_dataset[i], batch_size=batch_size, shuffle=True)\n",
        "  val_loader = torch.utils.data.DataLoader(val_dataset[i], batch_size=batch_size, shuffle=True)\n",
        "  train_loaders.append(train_loader)\n",
        "  val_loaders.append(val_loader)\n"
      ]
    },
    {
      "cell_type": "markdown",
      "metadata": {
        "id": "DvE60r137aZL"
      },
      "source": [
        "## 3. Architecture:"
      ]
    },
    {
      "cell_type": "markdown",
      "metadata": {
        "id": "Gd_XcK3w73sE"
      },
      "source": [
        "3.1 **Recurrent Neural Network(RNN)**:"
      ]
    },
    {
      "cell_type": "code",
      "execution_count": null,
      "metadata": {
        "id": "FygWxIcS8Xgb"
      },
      "outputs": [],
      "source": [
        "# Import needed librar\n",
        "import torch.nn.functional as F\n",
        "class RNN(nn.Module):\n",
        "    def __init__(self, input_size, hidden_size, num_class, name, vectors):\n",
        "        super(RNN, self).__init__()\n",
        "        self.emb = nn.Embedding.from_pretrained(vectors, freeze=True)\n",
        "        self.hidden_size = hidden_size\n",
        "        self.rnn = nn.RNN(input_size, hidden_size, batch_first=True)\n",
        "        self.fc = nn.Linear(hidden_size, num_class)\n",
        "        self.name = name\n",
        "    def forward(self, x):\n",
        "        # Convert list of strings to tensor of indices\n",
        "        x_emb = self.emb(x)\n",
        "        h0 = torch.zeros(1, x_emb.size(0), self.hidden_size)\n",
        "        out, _ = self.rnn(x_emb, h0)\n",
        "        out = self.fc(out[:, -1, :])\n",
        "        return out"
      ]
    },
    {
      "cell_type": "code",
      "execution_count": null,
      "metadata": {
        "id": "Xe3zuafB6H9a"
      },
      "outputs": [],
      "source": [
        "import torch.nn as nn\n",
        "import torch\n",
        "\n",
        "class SentimentRNN(nn.Module):\n",
        "    def __init__(self, embedding_dim, hidden_size, num_classes, embeddings, name, dropout_prob=0.5):\n",
        "        super(SentimentRNN, self).__init__()\n",
        "        self.name = name\n",
        "        self.embedding = nn.Embedding.from_pretrained(embeddings, freeze=True)\n",
        "        self.rnn = nn.LSTM(embedding_dim, hidden_size, batch_first=True)\n",
        "        self.dropout = nn.Dropout(dropout_prob)  # Add a dropout layer\n",
        "        self.fc = nn.Linear(hidden_size, num_classes)\n",
        "\n",
        "    def forward(self, x):\n",
        "        embedded = self.embedding(x)\n",
        "        out, (h_n, c_n) = self.rnn(embedded)\n",
        "        last_hidden_state = h_n[-1, :, :]\n",
        "        output = self.dropout(last_hidden_state)  # Apply dropout before the fully connected layer\n",
        "        output = self.fc(output)\n",
        "        return output"
      ]
    },
    {
      "cell_type": "markdown",
      "metadata": {
        "id": "4yK3eWFX8fco"
      },
      "source": [
        "3.2 **Long-Short Term Memory(LSTM):**"
      ]
    },
    {
      "cell_type": "code",
      "execution_count": null,
      "metadata": {
        "id": "N5QMURN89HRd"
      },
      "outputs": [],
      "source": [
        "class LSTM(nn.Module):\n",
        "  def __init__(self, input_size, hidden_size, num_class, name, vectors):\n",
        "    super(LSTM, self).__init__()\n",
        "    self.emb = nn.Embedding.from_pretrained(vectors, freeze=True)\n",
        "    self.hidden_size = hidden_size\n",
        "    self.rnn = nn.LSTM(input_size, hidden_size, batch_first=True)\n",
        "    self.fc = nn.Linear(hidden_size, num_class)\n",
        "    self.name = 'LSTM'\n",
        "  def forward(self, x):\n",
        "    x = self.emb(x)\n",
        "    h0 = torch.zeros(1, x.size(0), self.hidden_size)\n",
        "    c0 = torch.zeros(1, x.size(0), self.hidden_size)\n",
        "    out, __ = self.rnn(x, (h0,c0))\n",
        "    return self.fc(out[:,-1,:])\n",
        "\n"
      ]
    },
    {
      "cell_type": "markdown",
      "metadata": {
        "id": "Rf86ZRv79H43"
      },
      "source": [
        "3.3 **Deep LSTM (Based on LSTM):**"
      ]
    },
    {
      "cell_type": "code",
      "execution_count": null,
      "metadata": {
        "id": "2gksQcQY9h56"
      },
      "outputs": [],
      "source": [
        "class Deep_LSTM(nn.Module):\n",
        "  def __init__(self, input_size, hidden_size, num_class, num_layers, name, vectors):\n",
        "    super(Deep_LSTM, self).__init__()\n",
        "    self.emb = nn.Embedding.from_pretrained(vectors, freeze=True)\n",
        "    self.hidden_size = hidden_size\n",
        "    self.num_layers = num_layers\n",
        "    self.name = 'Deep_LSTM'\n",
        "    #define the deep LSTM layers\n",
        "\n",
        "    self.layers = nn.ModuleList()\n",
        "\n",
        "    #the first lstm layer witch takes in input\n",
        "    self.layers.append(nn.LSTM(input_size, hidden_size, batch_first = True, bidirectional = True))\n",
        "\n",
        "    #deeper lstm layers with input hidden_size*2 due to bidirectional\n",
        "    for i in range(num_layers - 1):\n",
        "      self.layers.append(nn.LSTM(hidden_size * 2, hidden_size, batch_first = True, bidirectional = True))\n",
        "\n",
        "    #fully connected network for classification\n",
        "    self.fc = nn.Linear(hidden_size * 2, num_class)\n",
        "\n",
        "  def forward(self, x):\n",
        "\n",
        "    #word embedding\n",
        "    x = self.emb(x)\n",
        "\n",
        "    #initialize hidden and cell states for each lstm layer with torch.zeros\n",
        "    hidden_states = []\n",
        "    cell_states = []\n",
        "    for i in range(self.num_layers):\n",
        "      hidden_states.append(torch.zeros(2, x.size(0), self.hidden_size))\n",
        "      cell_states.append(torch.zeros(2, x.size(0), self.hidden_size))\n",
        "\n",
        "    #pass the input into lstm layers\n",
        "    for i, lstm_layer in enumerate(self.layers):\n",
        "      x,__ = lstm_layer(x, (hidden_states[i], cell_states[i]))\n",
        "\n",
        "    #extract the output from the last lstm layer\n",
        "    output = x[:, -1, :]\n",
        "\n",
        "    #concatenate outputs from forward direction and backward direction\n",
        "    output = torch.cat((output[:, :self.hidden_size], output[:, self.hidden_size:]), dim=-1)\n",
        "\n",
        "    #pass the input into fully connected network\n",
        "    output = self.fc(output)\n",
        "\n",
        "    return output\n"
      ]
    },
    {
      "cell_type": "markdown",
      "metadata": {
        "id": "dypD6sJu9oK9"
      },
      "source": [
        "3.4 **Training Dataset:** hyperparameter selection, loss function, gradient"
      ]
    },
    {
      "cell_type": "code",
      "execution_count": null,
      "metadata": {
        "colab": {
          "base_uri": "https://localhost:8080/"
        },
        "id": "MfFc055F6qXZ",
        "outputId": "f66ebd34-522d-4f11-f931-bbd2d9b7dc78"
      },
      "outputs": [
        {
          "output_type": "stream",
          "name": "stdout",
          "text": [
            "tensor([[1., 0., 0., 0., 0., 0., 0., 0., 0., 0., 0., 0., 0.],\n",
            "        [0., 1., 0., 0., 0., 0., 0., 0., 0., 0., 0., 0., 0.],\n",
            "        [0., 0., 1., 0., 0., 0., 0., 0., 0., 0., 0., 0., 0.],\n",
            "        [0., 0., 0., 1., 0., 0., 0., 0., 0., 0., 0., 0., 0.],\n",
            "        [0., 0., 0., 0., 1., 0., 0., 0., 0., 0., 0., 0., 0.],\n",
            "        [0., 0., 0., 0., 0., 1., 0., 0., 0., 0., 0., 0., 0.],\n",
            "        [0., 0., 0., 0., 0., 0., 1., 0., 0., 0., 0., 0., 0.],\n",
            "        [0., 0., 0., 0., 0., 0., 0., 1., 0., 0., 0., 0., 0.],\n",
            "        [0., 0., 0., 0., 0., 0., 0., 0., 1., 0., 0., 0., 0.],\n",
            "        [0., 0., 0., 0., 0., 0., 0., 0., 0., 1., 0., 0., 0.],\n",
            "        [0., 0., 0., 0., 0., 0., 0., 0., 0., 0., 1., 0., 0.],\n",
            "        [0., 0., 0., 0., 0., 0., 0., 0., 0., 0., 0., 1., 0.],\n",
            "        [0., 0., 0., 0., 0., 0., 0., 0., 0., 0., 0., 0., 1.]])\n"
          ]
        }
      ],
      "source": [
        "def one_hot_encode(tensor, num_classes):\n",
        "    # Create an identity matrix of size (num_classes, num_classes)\n",
        "    identity_matrix = torch.eye(num_classes)\n",
        "\n",
        "    # Apply one-hot encoding to the tensor\n",
        "    one_hot_tensor = identity_matrix[tensor]\n",
        "\n",
        "    return one_hot_tensor\n",
        "\n",
        "# Example tensor\n",
        "tensor = torch.tensor([0, 1, 2, 3, 4, 5, 6, 7, 8, 9, 10, 11, 12])\n",
        "\n",
        "# Perform one-hot encoding\n",
        "one_hot_encoded_tensor = one_hot_encode(tensor, num_classes=13)\n",
        "\n",
        "print(one_hot_encoded_tensor)"
      ]
    },
    {
      "cell_type": "code",
      "execution_count": null,
      "metadata": {
        "id": "F3PH9UGfG6Xv"
      },
      "outputs": [],
      "source": [
        "def get_accuracy(model, data_loaders):\n",
        "    correct, total = 0, 0\n",
        "    for data_loader in data_loaders:\n",
        "      for sentences, labels in data_loader:\n",
        "          output = model(sentences)\n",
        "          labels = one_hot_encode(labels, 13)\n",
        "          for i in range(len(output)):\n",
        "            output_index = torch.argmax(output[i])\n",
        "            labels_index = torch.argmax(labels[i])\n",
        "            if output_index == labels_index:\n",
        "              correct += 1\n",
        "            total += 1\n",
        "    return correct / total"
      ]
    },
    {
      "cell_type": "code",
      "execution_count": null,
      "metadata": {
        "id": "VnhO9icDK6Nt"
      },
      "outputs": [],
      "source": [
        "def get_model_name(name, batch_size, learning_rate, epoch):\n",
        "    \"\"\" Generate a name for the model consisting of all the hyperparameter values\n",
        "\n",
        "    Args:\n",
        "        config: Configuration object containing the hyperparameters\n",
        "    Returns:\n",
        "        path: A string with the hyperparameter name and value concatenated\n",
        "    \"\"\"\n",
        "    path = \"model_{0}_bs{1}_lr{2}_epoch{3}\".format(name, batch_size, learning_rate, epoch)\n",
        "    return path"
      ]
    },
    {
      "cell_type": "code",
      "execution_count": null,
      "metadata": {
        "id": "PYgpCjhl-HTx"
      },
      "outputs": [],
      "source": [
        "import torch.optim as optim\n",
        "def train(model, train_loader, valid_loader, batch_size=64 ,num_epochs=5, learning_rate=1e-4):\n",
        "    torch.manual_seed(10)\n",
        "    criterion = nn.CrossEntropyLoss()\n",
        "    optimizer = optim.SGD(model.parameters(), lr=learning_rate, momentum=0.9)\n",
        "    iters,train_losses, vaild_losses, train_acc, val_acc = [], [], [], [], []\n",
        "    n = 0\n",
        "    for epoch in range(num_epochs):\n",
        "      for train_loader in train_loaders:\n",
        "        for sentences, labels in train_loader:\n",
        "            output = model(sentences)\n",
        "            train_loss = criterion(output, one_hot_encode(labels, 13))\n",
        "            train_loss.backward()\n",
        "            optimizer.step()\n",
        "            optimizer.zero_grad()\n",
        "        for val_loader in val_loaders:\n",
        "          for sentences,labels in val_loader:\n",
        "              output = model(sentences)\n",
        "              vaild_loss = criterion(output, one_hot_encode(labels, 13))\n",
        "      iters.append(n)\n",
        "      train_losses.append(float(train_loss)/batch_size)\n",
        "      vaild_losses.append(float(vaild_loss)/batch_size)             # compute *average* loss\n",
        "      train_acc.append(get_accuracy(model, train_loaders)) # compute training accuracy\n",
        "      val_acc.append(get_accuracy(model, val_loaders))  # compute validation accuracy\n",
        "      n += 1\n",
        "      model_path = get_model_name(model.name, batch_size, learning_rate,epoch)\n",
        "      torch.save(model.state_dict(), model_path)\n",
        "      print(\"Epoch Number:\", epoch)\n",
        "\n",
        "    # plotting\n",
        "    plt.title(\"Training Curve\")\n",
        "    plt.plot(iters, train_losses, label=\"Train\")\n",
        "    plt.plot(iters, vaild_losses, label= \"Validation\" )\n",
        "    plt.xlabel(\"Epoch\")\n",
        "    plt.ylabel(\"Loss\")\n",
        "    plt.legend(loc='best')\n",
        "    plt.show()\n",
        "\n",
        "    plt.title(\"Training Curve\")\n",
        "    plt.plot(iters, train_acc, label=\"Train\")\n",
        "    plt.plot(iters, val_acc, label=\"Validation\")\n",
        "    plt.xlabel(\"Epoch\")\n",
        "    plt.ylabel(\"Training Accuracy\")\n",
        "    plt.legend(loc='best')\n",
        "    plt.show()\n",
        "\n",
        "    print(\"Final Training Accuracy: {}\".format(train_acc[-1]))\n",
        "    print(\"Final Validation Accuracy: {}\".format(val_acc[-1]))"
      ]
    },
    {
      "cell_type": "markdown",
      "metadata": {
        "id": "uDycPpgW-XyN"
      },
      "source": [
        "3.5 **Visualize** the training result (Training dataset and Validation dataset)"
      ]
    },
    {
      "cell_type": "code",
      "execution_count": null,
      "metadata": {
        "colab": {
          "base_uri": "https://localhost:8080/"
        },
        "id": "0SH9hO1f-3TG",
        "outputId": "c41a671f-4eba-48e5-baa0-5fd70520a10d"
      },
      "outputs": [
        {
          "output_type": "stream",
          "name": "stdout",
          "text": [
            "Epoch Number: 0\n",
            "Epoch Number: 1\n",
            "Epoch Number: 2\n",
            "Epoch Number: 3\n",
            "Epoch Number: 4\n",
            "Epoch Number: 5\n",
            "Epoch Number: 6\n",
            "Epoch Number: 7\n",
            "Epoch Number: 8\n",
            "Epoch Number: 9\n",
            "Epoch Number: 10\n",
            "Epoch Number: 11\n",
            "Epoch Number: 12\n",
            "Epoch Number: 13\n",
            "Epoch Number: 14\n",
            "Epoch Number: 15\n",
            "Epoch Number: 16\n",
            "Epoch Number: 17\n",
            "Epoch Number: 18\n",
            "Epoch Number: 19\n",
            "Epoch Number: 20\n",
            "Epoch Number: 21\n",
            "Epoch Number: 22\n",
            "Epoch Number: 23\n",
            "Epoch Number: 24\n",
            "Epoch Number: 25\n",
            "Epoch Number: 26\n",
            "Epoch Number: 27\n",
            "Epoch Number: 28\n",
            "Epoch Number: 29\n",
            "Epoch Number: 30\n",
            "Epoch Number: 31\n",
            "Epoch Number: 32\n",
            "Epoch Number: 33\n",
            "Epoch Number: 34\n",
            "Epoch Number: 35\n",
            "Epoch Number: 36\n",
            "Epoch Number: 37\n",
            "Epoch Number: 38\n",
            "Epoch Number: 39\n",
            "Epoch Number: 40\n",
            "Epoch Number: 41\n",
            "Epoch Number: 42\n",
            "Epoch Number: 43\n",
            "Epoch Number: 44\n",
            "Epoch Number: 45\n",
            "Epoch Number: 46\n",
            "Epoch Number: 47\n",
            "Epoch Number: 48\n",
            "Epoch Number: 49\n",
            "Epoch Number: 50\n",
            "Epoch Number: 51\n",
            "Epoch Number: 52\n",
            "Epoch Number: 53\n",
            "Epoch Number: 54\n",
            "Epoch Number: 55\n",
            "Epoch Number: 56\n",
            "Epoch Number: 57\n",
            "Epoch Number: 58\n",
            "Epoch Number: 59\n",
            "Epoch Number: 60\n",
            "Epoch Number: 61\n",
            "Epoch Number: 62\n",
            "Epoch Number: 63\n",
            "Epoch Number: 64\n",
            "Epoch Number: 65\n",
            "Epoch Number: 66\n",
            "Epoch Number: 67\n",
            "Epoch Number: 68\n",
            "Epoch Number: 69\n",
            "Epoch Number: 70\n",
            "Epoch Number: 71\n",
            "Epoch Number: 72\n",
            "Epoch Number: 73\n",
            "Epoch Number: 74\n",
            "Epoch Number: 75\n",
            "Epoch Number: 76\n",
            "Epoch Number: 77\n",
            "Epoch Number: 78\n",
            "Epoch Number: 79\n",
            "Epoch Number: 80\n",
            "Epoch Number: 81\n",
            "Epoch Number: 82\n",
            "Epoch Number: 83\n",
            "Epoch Number: 84\n",
            "Epoch Number: 85\n",
            "Epoch Number: 86\n",
            "Epoch Number: 87\n",
            "Epoch Number: 88\n",
            "Epoch Number: 89\n",
            "Epoch Number: 90\n",
            "Epoch Number: 91\n",
            "Epoch Number: 92\n",
            "Epoch Number: 93\n",
            "Epoch Number: 94\n",
            "Epoch Number: 95\n",
            "Epoch Number: 96\n",
            "Epoch Number: 97\n",
            "Epoch Number: 98\n",
            "Epoch Number: 99\n",
            "Epoch Number: 100\n",
            "Epoch Number: 101\n",
            "Epoch Number: 102\n",
            "Epoch Number: 103\n",
            "Epoch Number: 104\n",
            "Epoch Number: 105\n",
            "Epoch Number: 106\n",
            "Epoch Number: 107\n",
            "Epoch Number: 108\n",
            "Epoch Number: 109\n",
            "Epoch Number: 110\n",
            "Epoch Number: 111\n",
            "Epoch Number: 112\n",
            "Epoch Number: 113\n",
            "Epoch Number: 114\n",
            "Epoch Number: 115\n",
            "Epoch Number: 116\n",
            "Epoch Number: 117\n",
            "Epoch Number: 118\n",
            "Epoch Number: 119\n",
            "Epoch Number: 120\n",
            "Epoch Number: 121\n",
            "Epoch Number: 122\n",
            "Epoch Number: 123\n",
            "Epoch Number: 124\n",
            "Epoch Number: 125\n",
            "Epoch Number: 126\n",
            "Epoch Number: 127\n",
            "Epoch Number: 128\n",
            "Epoch Number: 129\n",
            "Epoch Number: 130\n",
            "Epoch Number: 131\n",
            "Epoch Number: 132\n",
            "Epoch Number: 133\n",
            "Epoch Number: 134\n",
            "Epoch Number: 135\n",
            "Epoch Number: 136\n",
            "Epoch Number: 137\n",
            "Epoch Number: 138\n",
            "Epoch Number: 139\n",
            "Epoch Number: 140\n",
            "Epoch Number: 141\n",
            "Epoch Number: 142\n",
            "Epoch Number: 143\n",
            "Epoch Number: 144\n",
            "Epoch Number: 145\n",
            "Epoch Number: 146\n",
            "Epoch Number: 147\n",
            "Epoch Number: 148\n",
            "Epoch Number: 149\n",
            "Epoch Number: 150\n",
            "Epoch Number: 151\n",
            "Epoch Number: 152\n",
            "Epoch Number: 153\n",
            "Epoch Number: 154\n",
            "Epoch Number: 155\n",
            "Epoch Number: 156\n",
            "Epoch Number: 157\n",
            "Epoch Number: 158\n",
            "Epoch Number: 159\n",
            "Epoch Number: 160\n",
            "Epoch Number: 161\n",
            "Epoch Number: 162\n",
            "Epoch Number: 163\n",
            "Epoch Number: 164\n",
            "Epoch Number: 165\n",
            "Epoch Number: 166\n",
            "Epoch Number: 167\n",
            "Epoch Number: 168\n",
            "Epoch Number: 169\n",
            "Epoch Number: 170\n",
            "Epoch Number: 171\n",
            "Epoch Number: 172\n",
            "Epoch Number: 173\n",
            "Epoch Number: 174\n",
            "Epoch Number: 175\n",
            "Epoch Number: 176\n",
            "Epoch Number: 177\n",
            "Epoch Number: 178\n",
            "Epoch Number: 179\n",
            "Epoch Number: 180\n",
            "Epoch Number: 181\n",
            "Epoch Number: 182\n",
            "Epoch Number: 183\n",
            "Epoch Number: 184\n",
            "Epoch Number: 185\n",
            "Epoch Number: 186\n",
            "Epoch Number: 187\n",
            "Epoch Number: 188\n",
            "Epoch Number: 189\n",
            "Epoch Number: 190\n",
            "Epoch Number: 191\n",
            "Epoch Number: 192\n",
            "Epoch Number: 193\n",
            "Epoch Number: 194\n",
            "Epoch Number: 195\n",
            "Epoch Number: 196\n",
            "Epoch Number: 197\n",
            "Epoch Number: 198\n",
            "Epoch Number: 199\n",
            "Epoch Number: 200\n",
            "Epoch Number: 201\n",
            "Epoch Number: 202\n",
            "Epoch Number: 203\n",
            "Epoch Number: 204\n",
            "Epoch Number: 205\n",
            "Epoch Number: 206\n",
            "Epoch Number: 207\n",
            "Epoch Number: 208\n",
            "Epoch Number: 209\n",
            "Epoch Number: 210\n",
            "Epoch Number: 211\n",
            "Epoch Number: 212\n",
            "Epoch Number: 213\n",
            "Epoch Number: 214\n",
            "Epoch Number: 215\n",
            "Epoch Number: 216\n",
            "Epoch Number: 217\n",
            "Epoch Number: 218\n",
            "Epoch Number: 219\n",
            "Epoch Number: 220\n",
            "Epoch Number: 221\n",
            "Epoch Number: 222\n",
            "Epoch Number: 223\n",
            "Epoch Number: 224\n",
            "Epoch Number: 225\n",
            "Epoch Number: 226\n",
            "Epoch Number: 227\n",
            "Epoch Number: 228\n",
            "Epoch Number: 229\n",
            "Epoch Number: 230\n",
            "Epoch Number: 231\n",
            "Epoch Number: 232\n",
            "Epoch Number: 233\n",
            "Epoch Number: 234\n",
            "Epoch Number: 235\n",
            "Epoch Number: 236\n"
          ]
        }
      ],
      "source": [
        "# self, vocab_size, embedding_dim, hidden_size, num_classes, embeddings, name\n",
        "model1 = SentimentRNN(50, 128, 13, vectors, 'SentimentRNN')\n",
        "train(model1, train_loaders, val_loaders, batch_size = batch_size, num_epochs = 500, learning_rate = 0.01)"
      ]
    },
    {
      "cell_type": "code",
      "execution_count": null,
      "metadata": {
        "colab": {
          "base_uri": "https://localhost:8080/",
          "height": 1000
        },
        "id": "YFYcfnevALAH",
        "outputId": "94787717-e904-4531-c317-f261d1ba16d8"
      },
      "outputs": [
        {
          "name": "stdout",
          "output_type": "stream",
          "text": [
            "Epoch Number: 0\n",
            "Epoch Number: 1\n",
            "Epoch Number: 2\n",
            "Epoch Number: 3\n",
            "Epoch Number: 4\n",
            "Epoch Number: 5\n",
            "Epoch Number: 6\n",
            "Epoch Number: 7\n",
            "Epoch Number: 8\n",
            "Epoch Number: 9\n",
            "Epoch Number: 10\n",
            "Epoch Number: 11\n",
            "Epoch Number: 12\n",
            "Epoch Number: 13\n",
            "Epoch Number: 14\n",
            "Epoch Number: 15\n",
            "Epoch Number: 16\n",
            "Epoch Number: 17\n",
            "Epoch Number: 18\n",
            "Epoch Number: 19\n",
            "Epoch Number: 20\n",
            "Epoch Number: 21\n",
            "Epoch Number: 22\n",
            "Epoch Number: 23\n",
            "Epoch Number: 24\n",
            "Epoch Number: 25\n",
            "Epoch Number: 26\n",
            "Epoch Number: 27\n",
            "Epoch Number: 28\n",
            "Epoch Number: 29\n",
            "Epoch Number: 30\n",
            "Epoch Number: 31\n",
            "Epoch Number: 32\n",
            "Epoch Number: 33\n",
            "Epoch Number: 34\n",
            "Epoch Number: 35\n",
            "Epoch Number: 36\n",
            "Epoch Number: 37\n",
            "Epoch Number: 38\n",
            "Epoch Number: 39\n",
            "Epoch Number: 40\n",
            "Epoch Number: 41\n",
            "Epoch Number: 42\n",
            "Epoch Number: 43\n",
            "Epoch Number: 44\n",
            "Epoch Number: 45\n",
            "Epoch Number: 46\n",
            "Epoch Number: 47\n",
            "Epoch Number: 48\n",
            "Epoch Number: 49\n"
          ]
        },
        {
          "data": {
            "image/png": "[encoded data removed]",
            "text/plain": [
              "<Figure size 640x480 with 1 Axes>"
            ]
          },
          "metadata": {},
          "output_type": "display_data"
        },
        {
          "data": {
            "image/png": "[encoded data removed]",
            "text/plain": [
              "<Figure size 640x480 with 1 Axes>"
            ]
          },
          "metadata": {},
          "output_type": "display_data"
        },
        {
          "name": "stdout",
          "output_type": "stream",
          "text": [
            "Final Training Accuracy: 0.25622360748039413\n",
            "Final Validation Accuracy: 0.23061470470068302\n"
          ]
        }
      ],
      "source": [
        "model = RNN(50, 128, 13, 'RNN', vectors)\n",
        "train(model, train_loaders, val_loaders, batch_size = batch_size, num_epochs = 50, learning_rate = 0.01)"
      ]
    },
    {
      "cell_type": "code",
      "execution_count": null,
      "metadata": {
        "colab": {
          "base_uri": "https://localhost:8080/",
          "height": 981
        },
        "id": "OkueXNt1_CyG",
        "outputId": "a71d60d8-f642-4cd3-83bb-461ddca68e4b"
      },
      "outputs": [
        {
          "name": "stdout",
          "output_type": "stream",
          "text": [
            "Epoch Number: 0\n"
          ]
        },
        {
          "data": {
            "image/png": "[encoded data removed]",
            "text/plain": [
              "<Figure size 640x480 with 1 Axes>"
            ]
          },
          "metadata": {},
          "output_type": "display_data"
        },
        {
          "data": {
            "image/png": "[encoded data removed]",
            "text/plain": [
              "<Figure size 640x480 with 1 Axes>"
            ]
          },
          "metadata": {},
          "output_type": "display_data"
        },
        {
          "name": "stdout",
          "output_type": "stream",
          "text": [
            "Final Training Accuracy: 0.4707129872752979\n",
            "Final Validation Accuracy: 0.4779959377115775\n"
          ]
        }
      ],
      "source": [
        "##### Deep LSTM #####\n",
        "deep_lstm = Deep_LSTM(input_size = 50, hidden_size = 256, num_class = 3, num_layers = 3, name = 'Deep_LSTM', vectors = vectors)\n",
        "train(deep_lstm, train_loaders, val_loaders, batch_size = batch_size, num_epochs = 1, learning_rate = 0.01)"
      ]
    },
    {
      "cell_type": "code",
      "execution_count": null,
      "metadata": {
        "id": "ALZECiKLLerR"
      },
      "outputs": [],
      "source": [
        "deep_lstm = Deep_LSTM(input_size = 50, hidden_size = 128, num_class = 3, num_layers = 3, name = 'Deep_LSTM', vectors = vectors)\n",
        "train(deep_lstm, train_loaders, val_loaders, batch_size = batch_size, num_epochs = 200, learning_rate = 0.01)"
      ]
    },
    {
      "cell_type": "markdown",
      "metadata": {
        "id": "vC53Q-vO_DxJ"
      },
      "source": [
        "## Baseline Model:"
      ]
    },
    {
      "cell_type": "markdown",
      "metadata": {
        "id": "pfPRgHX-_ZCX"
      },
      "source": [
        "**Support Vector Machine (SVM):** (`Pandas` library)"
      ]
    },
    {
      "cell_type": "code",
      "execution_count": null,
      "metadata": {
        "id": "Qsoj49-y_2Ox"
      },
      "outputs": [],
      "source": [
        "import matplotlib.pyplot as plt\n",
        "from sklearn import svm\n",
        "from sklearn.metrics import accuracy_score\n",
        "\n",
        "def train_svm_model(train_data, train_label, val_data, val_label, num_epochs, dataset):\n",
        "  #create an SVM model\n",
        "  svm_model = svm.SVC(kernel = 'linear', C = 0.001)\n",
        "\n",
        "  # decide whether the dataset is train/val\n",
        "  if(dataset == 'val'):\n",
        "    train_data = val_data\n",
        "    train_label = val_label\n",
        "\n",
        "  # Lists to store training curve data\n",
        "  epochs = []\n",
        "  train_accuracy = []\n",
        "\n",
        "  # Train the model and track the training curve\n",
        "  for epoch in range(num_epochs):\n",
        "    #train the bsaeline model (x_train, y_train)\n",
        "    svm_model.fit(train_data, train_label)\n",
        "\n",
        "    # Make predictions on the training data\n",
        "    train_predictions = svm_model.predict(train_data)\n",
        "\n",
        "    # Calculate accuracy on the training data\n",
        "    train_acc = accuracy_score(train_label, train_predictions)\n",
        "\n",
        "    # Append epoch number and accuracy to the lists\n",
        "    epochs.append(epoch + 1)\n",
        "    train_accuracy.append(train_acc)\n",
        "\n",
        "    # Print training progress\n",
        "    print(f\"Epoch [{epoch+1}/{num_epochs}], Train Accuracy: {train_acc:.4f}\")\n",
        "\n",
        "  # Plot the training curve\n",
        "  plt.plot(epochs, train_accuracy)\n",
        "  plt.title('Validation Curve')\n",
        "  plt.xlabel('Epochs')\n",
        "  plt.ylabel('Accuracy')\n",
        "  plt.show()\n",
        "\n",
        "  return svm_model"
      ]
    },
    {
      "cell_type": "code",
      "execution_count": null,
      "metadata": {
        "colab": {
          "base_uri": "https://localhost:8080/"
        },
        "id": "oFlGRE8cBe1e",
        "outputId": "95f93c16-c768-4cf5-998a-5ca28d9416ee"
      },
      "outputs": [
        {
          "name": "stdout",
          "output_type": "stream",
          "text": [
            "9902\n",
            "1477\n",
            "9902\n",
            "1477\n",
            "9902\n",
            "9902\n"
          ]
        }
      ],
      "source": [
        "train_embedding_list = []\n",
        "val_embedding_list = []\n",
        "train_label_list = []\n",
        "val_label_list = []\n",
        "\n",
        "for group in train_data:  # list of tensors\n",
        "  for tensor in group:  # each tensor within the group\n",
        "    zero_tensor = torch.zeros(1, 50)\n",
        "    for i in range(len(tensor)):  # iterate through each page number\n",
        "      word_embedding = vectors[tensor[i]]  # get corresponding word embedding\n",
        "      zero_tensor += word_embedding  # get the combined word embedding\n",
        "    zero_tensor = zero_tensor / len(tensor)\n",
        "    train_embedding_list.append(zero_tensor)\n",
        "print(len(train_embedding_list))\n",
        "\n",
        "for group in val_data:  # list of tensors\n",
        "  for tensor in group:  # each tensor within the group\n",
        "    zero_tensor = torch.zeros(1, 50)\n",
        "    for i in range(len(tensor)):  # iterate through each page number\n",
        "      word_embedding = vectors[tensor[i]]  # get corresponding word embedding\n",
        "      zero_tensor += word_embedding  # get the combined word embedding\n",
        "    zero_tensor = zero_tensor / len(tensor)\n",
        "    val_embedding_list.append(zero_tensor)\n",
        "print(len(val_embedding_list))\n",
        "\n",
        "for group in train_label:  # iterate through every group of label\n",
        "  for label in group:  # iterate every label\n",
        "    train_label_list.append(label)\n",
        "print(len(train_label_list))\n",
        "\n",
        "for group in val_label:  # iterate through every group of label\n",
        "  for label in group:  # iterate every label\n",
        "    val_label_list.append(label)\n",
        "print(len(val_label_list))\n",
        "\n",
        "train_label_array = np.vstack(train_label_list)\n",
        "val_label_array = np.vstack(val_label_list)\n",
        "print(len(train_label_array))\n",
        "\n",
        "train_embedding_array = np.vstack(train_embedding_list)\n",
        "val_embedding_array = np.vstack(val_embedding_list)\n",
        "print(len(train_embedding_array))"
      ]
    },
    {
      "cell_type": "code",
      "execution_count": null,
      "metadata": {
        "colab": {
          "base_uri": "https://localhost:8080/",
          "height": 1000
        },
        "id": "kHIp9I8Kouae",
        "outputId": "0fd5d351-34f0-423d-e731-165154c54c9f"
      },
      "outputs": [
        {
          "name": "stderr",
          "output_type": "stream",
          "text": [
            "/usr/local/lib/python3.10/dist-packages/sklearn/utils/validation.py:1143: DataConversionWarning: A column-vector y was passed when a 1d array was expected. Please change the shape of y to (n_samples, ), for example using ravel().\n",
            "  y = column_or_1d(y, warn=True)\n"
          ]
        },
        {
          "name": "stdout",
          "output_type": "stream",
          "text": [
            "Epoch [1/20], Train Accuracy: 0.5344\n"
          ]
        },
        {
          "name": "stderr",
          "output_type": "stream",
          "text": [
            "/usr/local/lib/python3.10/dist-packages/sklearn/utils/validation.py:1143: DataConversionWarning: A column-vector y was passed when a 1d array was expected. Please change the shape of y to (n_samples, ), for example using ravel().\n",
            "  y = column_or_1d(y, warn=True)\n"
          ]
        },
        {
          "name": "stdout",
          "output_type": "stream",
          "text": [
            "Epoch [2/20], Train Accuracy: 0.5344\n"
          ]
        },
        {
          "name": "stderr",
          "output_type": "stream",
          "text": [
            "/usr/local/lib/python3.10/dist-packages/sklearn/utils/validation.py:1143: DataConversionWarning: A column-vector y was passed when a 1d array was expected. Please change the shape of y to (n_samples, ), for example using ravel().\n",
            "  y = column_or_1d(y, warn=True)\n"
          ]
        },
        {
          "name": "stdout",
          "output_type": "stream",
          "text": [
            "Epoch [3/20], Train Accuracy: 0.5344\n"
          ]
        },
        {
          "name": "stderr",
          "output_type": "stream",
          "text": [
            "/usr/local/lib/python3.10/dist-packages/sklearn/utils/validation.py:1143: DataConversionWarning: A column-vector y was passed when a 1d array was expected. Please change the shape of y to (n_samples, ), for example using ravel().\n",
            "  y = column_or_1d(y, warn=True)\n"
          ]
        },
        {
          "name": "stdout",
          "output_type": "stream",
          "text": [
            "Epoch [4/20], Train Accuracy: 0.5344\n"
          ]
        },
        {
          "name": "stderr",
          "output_type": "stream",
          "text": [
            "/usr/local/lib/python3.10/dist-packages/sklearn/utils/validation.py:1143: DataConversionWarning: A column-vector y was passed when a 1d array was expected. Please change the shape of y to (n_samples, ), for example using ravel().\n",
            "  y = column_or_1d(y, warn=True)\n"
          ]
        },
        {
          "name": "stdout",
          "output_type": "stream",
          "text": [
            "Epoch [5/20], Train Accuracy: 0.5344\n"
          ]
        },
        {
          "name": "stderr",
          "output_type": "stream",
          "text": [
            "/usr/local/lib/python3.10/dist-packages/sklearn/utils/validation.py:1143: DataConversionWarning: A column-vector y was passed when a 1d array was expected. Please change the shape of y to (n_samples, ), for example using ravel().\n",
            "  y = column_or_1d(y, warn=True)\n"
          ]
        },
        {
          "name": "stdout",
          "output_type": "stream",
          "text": [
            "Epoch [6/20], Train Accuracy: 0.5344\n"
          ]
        },
        {
          "name": "stderr",
          "output_type": "stream",
          "text": [
            "/usr/local/lib/python3.10/dist-packages/sklearn/utils/validation.py:1143: DataConversionWarning: A column-vector y was passed when a 1d array was expected. Please change the shape of y to (n_samples, ), for example using ravel().\n",
            "  y = column_or_1d(y, warn=True)\n"
          ]
        },
        {
          "name": "stdout",
          "output_type": "stream",
          "text": [
            "Epoch [7/20], Train Accuracy: 0.5344\n"
          ]
        },
        {
          "name": "stderr",
          "output_type": "stream",
          "text": [
            "/usr/local/lib/python3.10/dist-packages/sklearn/utils/validation.py:1143: DataConversionWarning: A column-vector y was passed when a 1d array was expected. Please change the shape of y to (n_samples, ), for example using ravel().\n",
            "  y = column_or_1d(y, warn=True)\n"
          ]
        },
        {
          "name": "stdout",
          "output_type": "stream",
          "text": [
            "Epoch [8/20], Train Accuracy: 0.5344\n"
          ]
        },
        {
          "name": "stderr",
          "output_type": "stream",
          "text": [
            "/usr/local/lib/python3.10/dist-packages/sklearn/utils/validation.py:1143: DataConversionWarning: A column-vector y was passed when a 1d array was expected. Please change the shape of y to (n_samples, ), for example using ravel().\n",
            "  y = column_or_1d(y, warn=True)\n"
          ]
        },
        {
          "name": "stdout",
          "output_type": "stream",
          "text": [
            "Epoch [9/20], Train Accuracy: 0.5344\n"
          ]
        },
        {
          "name": "stderr",
          "output_type": "stream",
          "text": [
            "/usr/local/lib/python3.10/dist-packages/sklearn/utils/validation.py:1143: DataConversionWarning: A column-vector y was passed when a 1d array was expected. Please change the shape of y to (n_samples, ), for example using ravel().\n",
            "  y = column_or_1d(y, warn=True)\n"
          ]
        },
        {
          "name": "stdout",
          "output_type": "stream",
          "text": [
            "Epoch [10/20], Train Accuracy: 0.5344\n"
          ]
        },
        {
          "name": "stderr",
          "output_type": "stream",
          "text": [
            "/usr/local/lib/python3.10/dist-packages/sklearn/utils/validation.py:1143: DataConversionWarning: A column-vector y was passed when a 1d array was expected. Please change the shape of y to (n_samples, ), for example using ravel().\n",
            "  y = column_or_1d(y, warn=True)\n"
          ]
        },
        {
          "name": "stdout",
          "output_type": "stream",
          "text": [
            "Epoch [11/20], Train Accuracy: 0.5344\n"
          ]
        },
        {
          "name": "stderr",
          "output_type": "stream",
          "text": [
            "/usr/local/lib/python3.10/dist-packages/sklearn/utils/validation.py:1143: DataConversionWarning: A column-vector y was passed when a 1d array was expected. Please change the shape of y to (n_samples, ), for example using ravel().\n",
            "  y = column_or_1d(y, warn=True)\n"
          ]
        },
        {
          "name": "stdout",
          "output_type": "stream",
          "text": [
            "Epoch [12/20], Train Accuracy: 0.5344\n"
          ]
        },
        {
          "name": "stderr",
          "output_type": "stream",
          "text": [
            "/usr/local/lib/python3.10/dist-packages/sklearn/utils/validation.py:1143: DataConversionWarning: A column-vector y was passed when a 1d array was expected. Please change the shape of y to (n_samples, ), for example using ravel().\n",
            "  y = column_or_1d(y, warn=True)\n"
          ]
        },
        {
          "name": "stdout",
          "output_type": "stream",
          "text": [
            "Epoch [13/20], Train Accuracy: 0.5344\n"
          ]
        },
        {
          "name": "stderr",
          "output_type": "stream",
          "text": [
            "/usr/local/lib/python3.10/dist-packages/sklearn/utils/validation.py:1143: DataConversionWarning: A column-vector y was passed when a 1d array was expected. Please change the shape of y to (n_samples, ), for example using ravel().\n",
            "  y = column_or_1d(y, warn=True)\n"
          ]
        },
        {
          "name": "stdout",
          "output_type": "stream",
          "text": [
            "Epoch [14/20], Train Accuracy: 0.5344\n"
          ]
        },
        {
          "name": "stderr",
          "output_type": "stream",
          "text": [
            "/usr/local/lib/python3.10/dist-packages/sklearn/utils/validation.py:1143: DataConversionWarning: A column-vector y was passed when a 1d array was expected. Please change the shape of y to (n_samples, ), for example using ravel().\n",
            "  y = column_or_1d(y, warn=True)\n"
          ]
        },
        {
          "name": "stdout",
          "output_type": "stream",
          "text": [
            "Epoch [15/20], Train Accuracy: 0.5344\n"
          ]
        },
        {
          "name": "stderr",
          "output_type": "stream",
          "text": [
            "/usr/local/lib/python3.10/dist-packages/sklearn/utils/validation.py:1143: DataConversionWarning: A column-vector y was passed when a 1d array was expected. Please change the shape of y to (n_samples, ), for example using ravel().\n",
            "  y = column_or_1d(y, warn=True)\n"
          ]
        },
        {
          "name": "stdout",
          "output_type": "stream",
          "text": [
            "Epoch [16/20], Train Accuracy: 0.5344\n"
          ]
        },
        {
          "name": "stderr",
          "output_type": "stream",
          "text": [
            "/usr/local/lib/python3.10/dist-packages/sklearn/utils/validation.py:1143: DataConversionWarning: A column-vector y was passed when a 1d array was expected. Please change the shape of y to (n_samples, ), for example using ravel().\n",
            "  y = column_or_1d(y, warn=True)\n"
          ]
        },
        {
          "name": "stdout",
          "output_type": "stream",
          "text": [
            "Epoch [17/20], Train Accuracy: 0.5344\n"
          ]
        },
        {
          "name": "stderr",
          "output_type": "stream",
          "text": [
            "/usr/local/lib/python3.10/dist-packages/sklearn/utils/validation.py:1143: DataConversionWarning: A column-vector y was passed when a 1d array was expected. Please change the shape of y to (n_samples, ), for example using ravel().\n",
            "  y = column_or_1d(y, warn=True)\n"
          ]
        },
        {
          "name": "stdout",
          "output_type": "stream",
          "text": [
            "Epoch [18/20], Train Accuracy: 0.5344\n"
          ]
        },
        {
          "name": "stderr",
          "output_type": "stream",
          "text": [
            "/usr/local/lib/python3.10/dist-packages/sklearn/utils/validation.py:1143: DataConversionWarning: A column-vector y was passed when a 1d array was expected. Please change the shape of y to (n_samples, ), for example using ravel().\n",
            "  y = column_or_1d(y, warn=True)\n"
          ]
        },
        {
          "name": "stdout",
          "output_type": "stream",
          "text": [
            "Epoch [19/20], Train Accuracy: 0.5344\n"
          ]
        },
        {
          "name": "stderr",
          "output_type": "stream",
          "text": [
            "/usr/local/lib/python3.10/dist-packages/sklearn/utils/validation.py:1143: DataConversionWarning: A column-vector y was passed when a 1d array was expected. Please change the shape of y to (n_samples, ), for example using ravel().\n",
            "  y = column_or_1d(y, warn=True)\n"
          ]
        },
        {
          "name": "stdout",
          "output_type": "stream",
          "text": [
            "Epoch [20/20], Train Accuracy: 0.5344\n"
          ]
        },
        {
          "data": {
            "image/png": "[encoded data removed]",
            "text/plain": [
              "<Figure size 640x480 with 1 Axes>"
            ]
          },
          "metadata": {},
          "output_type": "display_data"
        }
      ],
      "source": [
        "svm_model = train_svm_model(train_embedding_array, train_label_array, val_embedding_array, val_label_array, num_epochs = 20, dataset='train')"
      ]
    },
    {
      "cell_type": "code",
      "execution_count": null,
      "metadata": {
        "colab": {
          "base_uri": "https://localhost:8080/",
          "height": 1000
        },
        "id": "8Fv5JM0drmG0",
        "outputId": "ff5db5ca-e6c6-4895-cdeb-de6488ee1bee"
      },
      "outputs": [
        {
          "name": "stderr",
          "output_type": "stream",
          "text": [
            "/usr/local/lib/python3.10/dist-packages/sklearn/utils/validation.py:1143: DataConversionWarning: A column-vector y was passed when a 1d array was expected. Please change the shape of y to (n_samples, ), for example using ravel().\n",
            "  y = column_or_1d(y, warn=True)\n",
            "/usr/local/lib/python3.10/dist-packages/sklearn/utils/validation.py:1143: DataConversionWarning: A column-vector y was passed when a 1d array was expected. Please change the shape of y to (n_samples, ), for example using ravel().\n",
            "  y = column_or_1d(y, warn=True)\n"
          ]
        },
        {
          "name": "stdout",
          "output_type": "stream",
          "text": [
            "Epoch [1/20], Train Accuracy: 0.4868\n",
            "Epoch [2/20], Train Accuracy: 0.4868\n"
          ]
        },
        {
          "name": "stderr",
          "output_type": "stream",
          "text": [
            "/usr/local/lib/python3.10/dist-packages/sklearn/utils/validation.py:1143: DataConversionWarning: A column-vector y was passed when a 1d array was expected. Please change the shape of y to (n_samples, ), for example using ravel().\n",
            "  y = column_or_1d(y, warn=True)\n",
            "/usr/local/lib/python3.10/dist-packages/sklearn/utils/validation.py:1143: DataConversionWarning: A column-vector y was passed when a 1d array was expected. Please change the shape of y to (n_samples, ), for example using ravel().\n",
            "  y = column_or_1d(y, warn=True)\n"
          ]
        },
        {
          "name": "stdout",
          "output_type": "stream",
          "text": [
            "Epoch [3/20], Train Accuracy: 0.4868\n",
            "Epoch [4/20], Train Accuracy: 0.4868\n"
          ]
        },
        {
          "name": "stderr",
          "output_type": "stream",
          "text": [
            "/usr/local/lib/python3.10/dist-packages/sklearn/utils/validation.py:1143: DataConversionWarning: A column-vector y was passed when a 1d array was expected. Please change the shape of y to (n_samples, ), for example using ravel().\n",
            "  y = column_or_1d(y, warn=True)\n",
            "/usr/local/lib/python3.10/dist-packages/sklearn/utils/validation.py:1143: DataConversionWarning: A column-vector y was passed when a 1d array was expected. Please change the shape of y to (n_samples, ), for example using ravel().\n",
            "  y = column_or_1d(y, warn=True)\n"
          ]
        },
        {
          "name": "stdout",
          "output_type": "stream",
          "text": [
            "Epoch [5/20], Train Accuracy: 0.4868\n",
            "Epoch [6/20], Train Accuracy: 0.4868\n"
          ]
        },
        {
          "name": "stderr",
          "output_type": "stream",
          "text": [
            "/usr/local/lib/python3.10/dist-packages/sklearn/utils/validation.py:1143: DataConversionWarning: A column-vector y was passed when a 1d array was expected. Please change the shape of y to (n_samples, ), for example using ravel().\n",
            "  y = column_or_1d(y, warn=True)\n",
            "/usr/local/lib/python3.10/dist-packages/sklearn/utils/validation.py:1143: DataConversionWarning: A column-vector y was passed when a 1d array was expected. Please change the shape of y to (n_samples, ), for example using ravel().\n",
            "  y = column_or_1d(y, warn=True)\n"
          ]
        },
        {
          "name": "stdout",
          "output_type": "stream",
          "text": [
            "Epoch [7/20], Train Accuracy: 0.4868\n",
            "Epoch [8/20], Train Accuracy: 0.4868\n"
          ]
        },
        {
          "name": "stderr",
          "output_type": "stream",
          "text": [
            "/usr/local/lib/python3.10/dist-packages/sklearn/utils/validation.py:1143: DataConversionWarning: A column-vector y was passed when a 1d array was expected. Please change the shape of y to (n_samples, ), for example using ravel().\n",
            "  y = column_or_1d(y, warn=True)\n",
            "/usr/local/lib/python3.10/dist-packages/sklearn/utils/validation.py:1143: DataConversionWarning: A column-vector y was passed when a 1d array was expected. Please change the shape of y to (n_samples, ), for example using ravel().\n",
            "  y = column_or_1d(y, warn=True)\n"
          ]
        },
        {
          "name": "stdout",
          "output_type": "stream",
          "text": [
            "Epoch [9/20], Train Accuracy: 0.4868\n",
            "Epoch [10/20], Train Accuracy: 0.4868\n"
          ]
        },
        {
          "name": "stderr",
          "output_type": "stream",
          "text": [
            "/usr/local/lib/python3.10/dist-packages/sklearn/utils/validation.py:1143: DataConversionWarning: A column-vector y was passed when a 1d array was expected. Please change the shape of y to (n_samples, ), for example using ravel().\n",
            "  y = column_or_1d(y, warn=True)\n",
            "/usr/local/lib/python3.10/dist-packages/sklearn/utils/validation.py:1143: DataConversionWarning: A column-vector y was passed when a 1d array was expected. Please change the shape of y to (n_samples, ), for example using ravel().\n",
            "  y = column_or_1d(y, warn=True)\n"
          ]
        },
        {
          "name": "stdout",
          "output_type": "stream",
          "text": [
            "Epoch [11/20], Train Accuracy: 0.4868\n",
            "Epoch [12/20], Train Accuracy: 0.4868\n"
          ]
        },
        {
          "name": "stderr",
          "output_type": "stream",
          "text": [
            "/usr/local/lib/python3.10/dist-packages/sklearn/utils/validation.py:1143: DataConversionWarning: A column-vector y was passed when a 1d array was expected. Please change the shape of y to (n_samples, ), for example using ravel().\n",
            "  y = column_or_1d(y, warn=True)\n",
            "/usr/local/lib/python3.10/dist-packages/sklearn/utils/validation.py:1143: DataConversionWarning: A column-vector y was passed when a 1d array was expected. Please change the shape of y to (n_samples, ), for example using ravel().\n",
            "  y = column_or_1d(y, warn=True)\n"
          ]
        },
        {
          "name": "stdout",
          "output_type": "stream",
          "text": [
            "Epoch [13/20], Train Accuracy: 0.4868\n",
            "Epoch [14/20], Train Accuracy: 0.4868\n"
          ]
        },
        {
          "name": "stderr",
          "output_type": "stream",
          "text": [
            "/usr/local/lib/python3.10/dist-packages/sklearn/utils/validation.py:1143: DataConversionWarning: A column-vector y was passed when a 1d array was expected. Please change the shape of y to (n_samples, ), for example using ravel().\n",
            "  y = column_or_1d(y, warn=True)\n",
            "/usr/local/lib/python3.10/dist-packages/sklearn/utils/validation.py:1143: DataConversionWarning: A column-vector y was passed when a 1d array was expected. Please change the shape of y to (n_samples, ), for example using ravel().\n",
            "  y = column_or_1d(y, warn=True)\n"
          ]
        },
        {
          "name": "stdout",
          "output_type": "stream",
          "text": [
            "Epoch [15/20], Train Accuracy: 0.4868\n",
            "Epoch [16/20], Train Accuracy: 0.4868\n"
          ]
        },
        {
          "name": "stderr",
          "output_type": "stream",
          "text": [
            "/usr/local/lib/python3.10/dist-packages/sklearn/utils/validation.py:1143: DataConversionWarning: A column-vector y was passed when a 1d array was expected. Please change the shape of y to (n_samples, ), for example using ravel().\n",
            "  y = column_or_1d(y, warn=True)\n",
            "/usr/local/lib/python3.10/dist-packages/sklearn/utils/validation.py:1143: DataConversionWarning: A column-vector y was passed when a 1d array was expected. Please change the shape of y to (n_samples, ), for example using ravel().\n",
            "  y = column_or_1d(y, warn=True)\n"
          ]
        },
        {
          "name": "stdout",
          "output_type": "stream",
          "text": [
            "Epoch [17/20], Train Accuracy: 0.4868\n",
            "Epoch [18/20], Train Accuracy: 0.4868\n"
          ]
        },
        {
          "name": "stderr",
          "output_type": "stream",
          "text": [
            "/usr/local/lib/python3.10/dist-packages/sklearn/utils/validation.py:1143: DataConversionWarning: A column-vector y was passed when a 1d array was expected. Please change the shape of y to (n_samples, ), for example using ravel().\n",
            "  y = column_or_1d(y, warn=True)\n",
            "/usr/local/lib/python3.10/dist-packages/sklearn/utils/validation.py:1143: DataConversionWarning: A column-vector y was passed when a 1d array was expected. Please change the shape of y to (n_samples, ), for example using ravel().\n",
            "  y = column_or_1d(y, warn=True)\n"
          ]
        },
        {
          "name": "stdout",
          "output_type": "stream",
          "text": [
            "Epoch [19/20], Train Accuracy: 0.4868\n",
            "Epoch [20/20], Train Accuracy: 0.4868\n"
          ]
        },
        {
          "data": {
            "image/png": "[encoded data removed]",
            "text/plain": [
              "<Figure size 640x480 with 1 Axes>"
            ]
          },
          "metadata": {},
          "output_type": "display_data"
        }
      ],
      "source": [
        "svm_model = train_svm_model(train_embedding_array, train_label_array, val_embedding_array, val_label_array, num_epochs = 20, dataset='val')"
      ]
    },
    {
      "cell_type": "markdown",
      "metadata": {
        "id": "JcQMF6O0AOJZ"
      },
      "source": [
        "## Final Testing:"
      ]
    },
    {
      "cell_type": "markdown",
      "metadata": {
        "id": "9D7YJwKjAc7w"
      },
      "source": [
        "Test with Baseline model (SVM):"
      ]
    },
    {
      "cell_type": "code",
      "execution_count": null,
      "metadata": {
        "id": "ZIdMA4dYAcX_"
      },
      "outputs": [],
      "source": []
    },
    {
      "cell_type": "markdown",
      "metadata": {
        "id": "cb15X6kHASoW"
      },
      "source": [
        "Test with Deep learning model and get accuracy:"
      ]
    },
    {
      "cell_type": "code",
      "execution_count": null,
      "metadata": {
        "id": "UT9jM1WeAZRf"
      },
      "outputs": [],
      "source": []
    },
    {
      "cell_type": "markdown",
      "metadata": {
        "id": "kH4JK3kkK9sQ"
      },
      "source": [
        "Promote user input:"
      ]
    },
    {
      "cell_type": "code",
      "execution_count": null,
      "metadata": {
        "id": "MztkXRX5S3yN"
      },
      "outputs": [],
      "source": [
        "# Combine convertion for one line statement\n",
        "def convert(msg):\n",
        "  # put into a dataframe\n",
        "  df_sentence = pd.DataFrame([msg], columns=[\"sentence\"])\n",
        "\n",
        "  # Tokenize\n",
        "  df_sentence['sentence'] = df_sentence['sentence'].astype(str)  # Convert 'sentence' column to string\n",
        "  df_sentence['tokenized_sentences'] = df_sentence['sentence'].apply(lambda x: word_tokenize(x))  # New column 'tokenized_sentences' containing tokenized sentences\n",
        "  subdf_sentence = df_sentence[[\"tokenized_sentences\"]]  # extract the labels and tokenized sentences into a new dataframe, subdf\n",
        "\n",
        "  # Remove punctuations\n",
        "  subdf_sentence['perfect_tokens'] = subdf_sentence['tokenized_sentences'].apply(lambda tokens: [remove_punctuation(token) for token in tokens])\n",
        "\n",
        "  # Remove empty strings from the tokenized sentences\n",
        "  subdf_sentence['perfect_tokens'] = subdf_sentence['perfect_tokens'].apply(lambda tokens: [token for token in tokens if token])\n",
        "\n",
        "  # convert to lowercase\n",
        "  subdf_sentence['perfect_tokens'] = subdf_sentence['perfect_tokens'].apply(lambda tokens: [token.lower() for token in tokens])\n",
        "\n",
        "  return subdf_sentence"
      ]
    },
    {
      "cell_type": "code",
      "execution_count": null,
      "metadata": {
        "id": "zGWdZnfoUv3U"
      },
      "outputs": [],
      "source": [
        "def process_step(dataframe):\n",
        "   print(\"Processing the next step...\")\n",
        "\n",
        "   # match the keys\n",
        "   model_path = get_model_name(\"Deep_LSTM\", batch_size = 256, learning_rate = 0.01, epoch = 0)\n",
        "   state = torch.load(model_path)\n",
        "   deep_lstm.load_state_dict(state)\n",
        "\n",
        "   # create the list\n",
        "   tokens_ = []\n",
        "   tokens = []\n",
        "\n",
        "   # Extract the first row from the DataFrame as a list of tokens\n",
        "   first_row_tokens = dataframe['perfect_tokens'].iloc[0]\n",
        "\n",
        "   cnt = 0\n",
        "   # Append each token from the first row to the result_list one by one from the start\n",
        "   for token in first_row_tokens:\n",
        "      tokens_.append(token)\n",
        "      cnt += 1\n",
        "\n",
        "   # pair the tokens with the vocab list and return the number\n",
        "   for idx in range(cnt):\n",
        "    tokens.append(vocab[tokens_[idx]])\n",
        "\n",
        "   # convert into tensor\n",
        "   tokens_tensor = torch.LongTensor([tokens])  # create a tensor\n",
        "   with torch.no_grad():  # since not training, we ensure there is no gradient computed\n",
        "       pred = deep_lstm(tokens_tensor)  # contains the output of the model\n",
        "\n",
        "   # calc the prediction\n",
        "   sentiment = torch.softmax(pred, dim=1)[0][1].item()  # applying the softmax function along the tensor's dimension 1\n",
        "   if(sentiment > 0.3):\n",
        "    result = \"Positive\"\n",
        "   elif(sentiment < -0.3):\n",
        "    result = \"Negative\"\n",
        "   else:\n",
        "    result = \"Neutral\"\n",
        "   print(\"the sentiment predicted for this message is: \", result, sentiment)"
      ]
    },
    {
      "cell_type": "code",
      "execution_count": null,
      "metadata": {
        "id": "KeKFCKE3VwFV"
      },
      "outputs": [],
      "source": [
        "# Choose to proceed\n",
        "def choose(dataframe):\n",
        "  user_choice = input(\"Do you want to proceed? (Yes/No): \").lower()\n",
        "\n",
        "  if user_choice == 'yes':\n",
        "    print(\"You chose 'Yes'.\")\n",
        "    process_step(dataframe)  # Call the function for the next step\n",
        "  elif user_choice == 'no':\n",
        "    print(\"You chose 'No'. Exiting.\")\n",
        "  else:\n",
        "    print(\"Invalid choice. Please enter 'Yes' or 'No'.\")\n",
        "    choose(dataframe)  # promote again"
      ]
    },
    {
      "cell_type": "code",
      "execution_count": null,
      "metadata": {
        "colab": {
          "base_uri": "https://localhost:8080/"
        },
        "id": "R1WAttJVK_wx",
        "outputId": "f8852fb8-2e35-4bd7-a047-48dd6e8b2b43"
      },
      "outputs": [
        {
          "name": "stdout",
          "output_type": "stream",
          "text": [
            "Enter a string-type sentence: i love\n",
            "Your entered sentence is:  i love\n",
            "Do you want to proceed? (Yes/No): yes\n",
            "You chose 'Yes'.\n",
            "Processing the next step...\n",
            "the sentiment predicted for this message is:  Positive 0.4513462781906128\n"
          ]
        }
      ],
      "source": [
        "# get the user input\n",
        "user_input = input(\"Enter a string-type sentence: \")\n",
        "\n",
        "# convert to suitable type store back into a dataframe\n",
        "dataframe = convert(user_input)\n",
        "\n",
        "#print(dataframe)  # testing\n",
        "print(\"Your entered sentence is: \", user_input)\n",
        "\n",
        "# choose to proceed or not\n",
        "choose(dataframe)"
      ]
    },
    {
      "cell_type": "code",
      "execution_count": null,
      "metadata": {
        "id": "T-ApMqaCUiGn"
      },
      "outputs": [],
      "source": []
    },
    {
      "cell_type": "code",
      "execution_count": null,
      "metadata": {
        "id": "JdYR0PbNWQnn"
      },
      "outputs": [],
      "source": []
    },
    {
      "cell_type": "code",
      "execution_count": null,
      "metadata": {
        "id": "M9_LuWtmWQqS"
      },
      "outputs": [],
      "source": []
    },
    {
      "cell_type": "code",
      "execution_count": null,
      "metadata": {
        "colab": {
          "base_uri": "https://localhost:8080/"
        },
        "id": "LtoRQo9UQf4I",
        "outputId": "a0f73109-faba-4362-d36d-28d849291431"
      },
      "outputs": [
        {
          "data": {
            "text/plain": [
              "<All keys matched successfully>"
            ]
          },
          "execution_count": 23,
          "metadata": {},
          "output_type": "execute_result"
        }
      ],
      "source": [
        "# given msg\n",
        "msg = user_input\n",
        "# match the keys\n",
        "model_path = get_model_name(\"RNN\", batch_size = 256, learning_rate = 5e-4, epoch = 19)\n",
        "state = torch.load(model_path)\n",
        "model.load_state_dict(state)"
      ]
    },
    {
      "cell_type": "code",
      "execution_count": null,
      "metadata": {
        "colab": {
          "base_uri": "https://localhost:8080/",
          "height": 81
        },
        "id": "2H5MjUd4RTmh",
        "outputId": "9f28b232-ffd2-4da8-8db0-b6d626f40412"
      },
      "outputs": [
        {
          "data": {
            "text/html": [
              "\n",
              "\n",
              "  <div id=\"df-d4d2c51e-e828-4759-83e7-ae70b3d19420\">\n",
              "    <div class=\"colab-df-container\">\n",
              "      <div>\n",
              "<style scoped>\n",
              "    .dataframe tbody tr th:only-of-type {\n",
              "        vertical-align: middle;\n",
              "    }\n",
              "\n",
              "    .dataframe tbody tr th {\n",
              "        vertical-align: top;\n",
              "    }\n",
              "\n",
              "    .dataframe thead th {\n",
              "        text-align: right;\n",
              "    }\n",
              "</style>\n",
              "<table border=\"1\" class=\"dataframe\">\n",
              "  <thead>\n",
              "    <tr style=\"text-align: right;\">\n",
              "      <th></th>\n",
              "      <th>sentence</th>\n",
              "    </tr>\n",
              "  </thead>\n",
              "  <tbody>\n",
              "    <tr>\n",
              "      <th>0</th>\n",
              "      <td>Machine Learning is Cool!</td>\n",
              "    </tr>\n",
              "  </tbody>\n",
              "</table>\n",
              "</div>\n",
              "      <button class=\"colab-df-convert\" onclick=\"convertToInteractive('df-d4d2c51e-e828-4759-83e7-ae70b3d19420')\"\n",
              "              title=\"Convert this dataframe to an interactive table.\"\n",
              "              style=\"display:none;\">\n",
              "\n",
              "  <svg xmlns=\"http://www.w3.org/2000/svg\" height=\"24px\"viewBox=\"0 0 24 24\"\n",
              "       width=\"24px\">\n",
              "    <path d=\"M0 0h24v24H0V0z\" fill=\"none\"/>\n",
              "    <path d=\"M18.56 5.44l.94 2.06.94-2.06 2.06-.94-2.06-.94-.94-2.06-.94 2.06-2.06.94zm-11 1L8.5 8.5l.94-2.06 2.06-.94-2.06-.94L8.5 2.5l-.94 2.06-2.06.94zm10 10l.94 2.06.94-2.06 2.06-.94-2.06-.94-.94-2.06-.94 2.06-2.06.94z\"/><path d=\"M17.41 7.96l-1.37-1.37c-.4-.4-.92-.59-1.43-.59-.52 0-1.04.2-1.43.59L10.3 9.45l-7.72 7.72c-.78.78-.78 2.05 0 2.83L4 21.41c.39.39.9.59 1.41.59.51 0 1.02-.2 1.41-.59l7.78-7.78 2.81-2.81c.8-.78.8-2.07 0-2.86zM5.41 20L4 18.59l7.72-7.72 1.47 1.35L5.41 20z\"/>\n",
              "  </svg>\n",
              "      </button>\n",
              "\n",
              "\n",
              "\n",
              "    <div id=\"df-f4f7bb99-0e16-4202-9a07-16da46893079\">\n",
              "      <button class=\"colab-df-quickchart\" onclick=\"quickchart('df-f4f7bb99-0e16-4202-9a07-16da46893079')\"\n",
              "              title=\"Suggest charts.\"\n",
              "              style=\"display:none;\">\n",
              "\n",
              "<svg xmlns=\"http://www.w3.org/2000/svg\" height=\"24px\"viewBox=\"0 0 24 24\"\n",
              "     width=\"24px\">\n",
              "    <g>\n",
              "        <path d=\"M19 3H5c-1.1 0-2 .9-2 2v14c0 1.1.9 2 2 2h14c1.1 0 2-.9 2-2V5c0-1.1-.9-2-2-2zM9 17H7v-7h2v7zm4 0h-2V7h2v10zm4 0h-2v-4h2v4z\"/>\n",
              "    </g>\n",
              "</svg>\n",
              "      </button>\n",
              "    </div>\n",
              "\n",
              "<style>\n",
              "  .colab-df-quickchart {\n",
              "    background-color: #E8F0FE;\n",
              "    border: none;\n",
              "    border-radius: 50%;\n",
              "    cursor: pointer;\n",
              "    display: none;\n",
              "    fill: #1967D2;\n",
              "    height: 32px;\n",
              "    padding: 0 0 0 0;\n",
              "    width: 32px;\n",
              "  }\n",
              "\n",
              "  .colab-df-quickchart:hover {\n",
              "    background-color: #E2EBFA;\n",
              "    box-shadow: 0px 1px 2px rgba(60, 64, 67, 0.3), 0px 1px 3px 1px rgba(60, 64, 67, 0.15);\n",
              "    fill: #174EA6;\n",
              "  }\n",
              "\n",
              "  [theme=dark] .colab-df-quickchart {\n",
              "    background-color: #3B4455;\n",
              "    fill: #D2E3FC;\n",
              "  }\n",
              "\n",
              "  [theme=dark] .colab-df-quickchart:hover {\n",
              "    background-color: #434B5C;\n",
              "    box-shadow: 0px 1px 3px 1px rgba(0, 0, 0, 0.15);\n",
              "    filter: drop-shadow(0px 1px 2px rgba(0, 0, 0, 0.3));\n",
              "    fill: #FFFFFF;\n",
              "  }\n",
              "</style>\n",
              "\n",
              "    <script>\n",
              "      async function quickchart(key) {\n",
              "        const containerElement = document.querySelector('#' + key);\n",
              "        const charts = await google.colab.kernel.invokeFunction(\n",
              "            'suggestCharts', [key], {});\n",
              "      }\n",
              "    </script>\n",
              "\n",
              "      <script>\n",
              "\n",
              "function displayQuickchartButton(domScope) {\n",
              "  let quickchartButtonEl =\n",
              "    domScope.querySelector('#df-f4f7bb99-0e16-4202-9a07-16da46893079 button.colab-df-quickchart');\n",
              "  quickchartButtonEl.style.display =\n",
              "    google.colab.kernel.accessAllowed ? 'block' : 'none';\n",
              "}\n",
              "\n",
              "        displayQuickchartButton(document);\n",
              "      </script>\n",
              "      <style>\n",
              "    .colab-df-container {\n",
              "      display:flex;\n",
              "      flex-wrap:wrap;\n",
              "      gap: 12px;\n",
              "    }\n",
              "\n",
              "    .colab-df-convert {\n",
              "      background-color: #E8F0FE;\n",
              "      border: none;\n",
              "      border-radius: 50%;\n",
              "      cursor: pointer;\n",
              "      display: none;\n",
              "      fill: #1967D2;\n",
              "      height: 32px;\n",
              "      padding: 0 0 0 0;\n",
              "      width: 32px;\n",
              "    }\n",
              "\n",
              "    .colab-df-convert:hover {\n",
              "      background-color: #E2EBFA;\n",
              "      box-shadow: 0px 1px 2px rgba(60, 64, 67, 0.3), 0px 1px 3px 1px rgba(60, 64, 67, 0.15);\n",
              "      fill: #174EA6;\n",
              "    }\n",
              "\n",
              "    [theme=dark] .colab-df-convert {\n",
              "      background-color: #3B4455;\n",
              "      fill: #D2E3FC;\n",
              "    }\n",
              "\n",
              "    [theme=dark] .colab-df-convert:hover {\n",
              "      background-color: #434B5C;\n",
              "      box-shadow: 0px 1px 3px 1px rgba(0, 0, 0, 0.15);\n",
              "      filter: drop-shadow(0px 1px 2px rgba(0, 0, 0, 0.3));\n",
              "      fill: #FFFFFF;\n",
              "    }\n",
              "  </style>\n",
              "\n",
              "      <script>\n",
              "        const buttonEl =\n",
              "          document.querySelector('#df-d4d2c51e-e828-4759-83e7-ae70b3d19420 button.colab-df-convert');\n",
              "        buttonEl.style.display =\n",
              "          google.colab.kernel.accessAllowed ? 'block' : 'none';\n",
              "\n",
              "        async function convertToInteractive(key) {\n",
              "          const element = document.querySelector('#df-d4d2c51e-e828-4759-83e7-ae70b3d19420');\n",
              "          const dataTable =\n",
              "            await google.colab.kernel.invokeFunction('convertToInteractive',\n",
              "                                                     [key], {});\n",
              "          if (!dataTable) return;\n",
              "\n",
              "          const docLinkHtml = 'Like what you see? Visit the ' +\n",
              "            '<a target=\"_blank\" href=https://colab.research.google.com/notebooks/data_table.ipynb>data table notebook</a>'\n",
              "            + ' to learn more about interactive tables.';\n",
              "          element.innerHTML = '';\n",
              "          dataTable['output_type'] = 'display_data';\n",
              "          await google.colab.output.renderOutput(dataTable, element);\n",
              "          const docLink = document.createElement('div');\n",
              "          docLink.innerHTML = docLinkHtml;\n",
              "          element.appendChild(docLink);\n",
              "        }\n",
              "      </script>\n",
              "    </div>\n",
              "  </div>\n"
            ],
            "text/plain": [
              "                    sentence\n",
              "0  Machine Learning is Cool!"
            ]
          },
          "execution_count": 26,
          "metadata": {},
          "output_type": "execute_result"
        }
      ],
      "source": [
        "# store into dataframe\n",
        "# Create a DataFrame with the input sentence in one column\n",
        "df_sentence = pd.DataFrame([msg], columns=[\"sentence\"])\n",
        "df_sentence"
      ]
    },
    {
      "cell_type": "code",
      "execution_count": null,
      "metadata": {
        "colab": {
          "base_uri": "https://localhost:8080/",
          "height": 81
        },
        "id": "OUtMFGseQkWr",
        "outputId": "f2de7705-f67d-410c-fabb-ff7b00ec9821"
      },
      "outputs": [
        {
          "data": {
            "text/html": [
              "\n",
              "\n",
              "  <div id=\"df-c4864e9b-046f-47cc-81e6-5bf05b4ae8a0\">\n",
              "    <div class=\"colab-df-container\">\n",
              "      <div>\n",
              "<style scoped>\n",
              "    .dataframe tbody tr th:only-of-type {\n",
              "        vertical-align: middle;\n",
              "    }\n",
              "\n",
              "    .dataframe tbody tr th {\n",
              "        vertical-align: top;\n",
              "    }\n",
              "\n",
              "    .dataframe thead th {\n",
              "        text-align: right;\n",
              "    }\n",
              "</style>\n",
              "<table border=\"1\" class=\"dataframe\">\n",
              "  <thead>\n",
              "    <tr style=\"text-align: right;\">\n",
              "      <th></th>\n",
              "      <th>tokenized_sentences</th>\n",
              "    </tr>\n",
              "  </thead>\n",
              "  <tbody>\n",
              "    <tr>\n",
              "      <th>0</th>\n",
              "      <td>[Machine, Learning, is, Cool, !]</td>\n",
              "    </tr>\n",
              "  </tbody>\n",
              "</table>\n",
              "</div>\n",
              "      <button class=\"colab-df-convert\" onclick=\"convertToInteractive('df-c4864e9b-046f-47cc-81e6-5bf05b4ae8a0')\"\n",
              "              title=\"Convert this dataframe to an interactive table.\"\n",
              "              style=\"display:none;\">\n",
              "\n",
              "  <svg xmlns=\"http://www.w3.org/2000/svg\" height=\"24px\"viewBox=\"0 0 24 24\"\n",
              "       width=\"24px\">\n",
              "    <path d=\"M0 0h24v24H0V0z\" fill=\"none\"/>\n",
              "    <path d=\"M18.56 5.44l.94 2.06.94-2.06 2.06-.94-2.06-.94-.94-2.06-.94 2.06-2.06.94zm-11 1L8.5 8.5l.94-2.06 2.06-.94-2.06-.94L8.5 2.5l-.94 2.06-2.06.94zm10 10l.94 2.06.94-2.06 2.06-.94-2.06-.94-.94-2.06-.94 2.06-2.06.94z\"/><path d=\"M17.41 7.96l-1.37-1.37c-.4-.4-.92-.59-1.43-.59-.52 0-1.04.2-1.43.59L10.3 9.45l-7.72 7.72c-.78.78-.78 2.05 0 2.83L4 21.41c.39.39.9.59 1.41.59.51 0 1.02-.2 1.41-.59l7.78-7.78 2.81-2.81c.8-.78.8-2.07 0-2.86zM5.41 20L4 18.59l7.72-7.72 1.47 1.35L5.41 20z\"/>\n",
              "  </svg>\n",
              "      </button>\n",
              "\n",
              "\n",
              "\n",
              "    <div id=\"df-bb43c546-87ba-4994-a749-99c52c3e7ed5\">\n",
              "      <button class=\"colab-df-quickchart\" onclick=\"quickchart('df-bb43c546-87ba-4994-a749-99c52c3e7ed5')\"\n",
              "              title=\"Suggest charts.\"\n",
              "              style=\"display:none;\">\n",
              "\n",
              "<svg xmlns=\"http://www.w3.org/2000/svg\" height=\"24px\"viewBox=\"0 0 24 24\"\n",
              "     width=\"24px\">\n",
              "    <g>\n",
              "        <path d=\"M19 3H5c-1.1 0-2 .9-2 2v14c0 1.1.9 2 2 2h14c1.1 0 2-.9 2-2V5c0-1.1-.9-2-2-2zM9 17H7v-7h2v7zm4 0h-2V7h2v10zm4 0h-2v-4h2v4z\"/>\n",
              "    </g>\n",
              "</svg>\n",
              "      </button>\n",
              "    </div>\n",
              "\n",
              "<style>\n",
              "  .colab-df-quickchart {\n",
              "    background-color: #E8F0FE;\n",
              "    border: none;\n",
              "    border-radius: 50%;\n",
              "    cursor: pointer;\n",
              "    display: none;\n",
              "    fill: #1967D2;\n",
              "    height: 32px;\n",
              "    padding: 0 0 0 0;\n",
              "    width: 32px;\n",
              "  }\n",
              "\n",
              "  .colab-df-quickchart:hover {\n",
              "    background-color: #E2EBFA;\n",
              "    box-shadow: 0px 1px 2px rgba(60, 64, 67, 0.3), 0px 1px 3px 1px rgba(60, 64, 67, 0.15);\n",
              "    fill: #174EA6;\n",
              "  }\n",
              "\n",
              "  [theme=dark] .colab-df-quickchart {\n",
              "    background-color: #3B4455;\n",
              "    fill: #D2E3FC;\n",
              "  }\n",
              "\n",
              "  [theme=dark] .colab-df-quickchart:hover {\n",
              "    background-color: #434B5C;\n",
              "    box-shadow: 0px 1px 3px 1px rgba(0, 0, 0, 0.15);\n",
              "    filter: drop-shadow(0px 1px 2px rgba(0, 0, 0, 0.3));\n",
              "    fill: #FFFFFF;\n",
              "  }\n",
              "</style>\n",
              "\n",
              "    <script>\n",
              "      async function quickchart(key) {\n",
              "        const containerElement = document.querySelector('#' + key);\n",
              "        const charts = await google.colab.kernel.invokeFunction(\n",
              "            'suggestCharts', [key], {});\n",
              "      }\n",
              "    </script>\n",
              "\n",
              "      <script>\n",
              "\n",
              "function displayQuickchartButton(domScope) {\n",
              "  let quickchartButtonEl =\n",
              "    domScope.querySelector('#df-bb43c546-87ba-4994-a749-99c52c3e7ed5 button.colab-df-quickchart');\n",
              "  quickchartButtonEl.style.display =\n",
              "    google.colab.kernel.accessAllowed ? 'block' : 'none';\n",
              "}\n",
              "\n",
              "        displayQuickchartButton(document);\n",
              "      </script>\n",
              "      <style>\n",
              "    .colab-df-container {\n",
              "      display:flex;\n",
              "      flex-wrap:wrap;\n",
              "      gap: 12px;\n",
              "    }\n",
              "\n",
              "    .colab-df-convert {\n",
              "      background-color: #E8F0FE;\n",
              "      border: none;\n",
              "      border-radius: 50%;\n",
              "      cursor: pointer;\n",
              "      display: none;\n",
              "      fill: #1967D2;\n",
              "      height: 32px;\n",
              "      padding: 0 0 0 0;\n",
              "      width: 32px;\n",
              "    }\n",
              "\n",
              "    .colab-df-convert:hover {\n",
              "      background-color: #E2EBFA;\n",
              "      box-shadow: 0px 1px 2px rgba(60, 64, 67, 0.3), 0px 1px 3px 1px rgba(60, 64, 67, 0.15);\n",
              "      fill: #174EA6;\n",
              "    }\n",
              "\n",
              "    [theme=dark] .colab-df-convert {\n",
              "      background-color: #3B4455;\n",
              "      fill: #D2E3FC;\n",
              "    }\n",
              "\n",
              "    [theme=dark] .colab-df-convert:hover {\n",
              "      background-color: #434B5C;\n",
              "      box-shadow: 0px 1px 3px 1px rgba(0, 0, 0, 0.15);\n",
              "      filter: drop-shadow(0px 1px 2px rgba(0, 0, 0, 0.3));\n",
              "      fill: #FFFFFF;\n",
              "    }\n",
              "  </style>\n",
              "\n",
              "      <script>\n",
              "        const buttonEl =\n",
              "          document.querySelector('#df-c4864e9b-046f-47cc-81e6-5bf05b4ae8a0 button.colab-df-convert');\n",
              "        buttonEl.style.display =\n",
              "          google.colab.kernel.accessAllowed ? 'block' : 'none';\n",
              "\n",
              "        async function convertToInteractive(key) {\n",
              "          const element = document.querySelector('#df-c4864e9b-046f-47cc-81e6-5bf05b4ae8a0');\n",
              "          const dataTable =\n",
              "            await google.colab.kernel.invokeFunction('convertToInteractive',\n",
              "                                                     [key], {});\n",
              "          if (!dataTable) return;\n",
              "\n",
              "          const docLinkHtml = 'Like what you see? Visit the ' +\n",
              "            '<a target=\"_blank\" href=https://colab.research.google.com/notebooks/data_table.ipynb>data table notebook</a>'\n",
              "            + ' to learn more about interactive tables.';\n",
              "          element.innerHTML = '';\n",
              "          dataTable['output_type'] = 'display_data';\n",
              "          await google.colab.output.renderOutput(dataTable, element);\n",
              "          const docLink = document.createElement('div');\n",
              "          docLink.innerHTML = docLinkHtml;\n",
              "          element.appendChild(docLink);\n",
              "        }\n",
              "      </script>\n",
              "    </div>\n",
              "  </div>\n"
            ],
            "text/plain": [
              "                tokenized_sentences\n",
              "0  [Machine, Learning, is, Cool, !]"
            ]
          },
          "execution_count": 29,
          "metadata": {},
          "output_type": "execute_result"
        }
      ],
      "source": [
        "# Tokenize\n",
        "df_sentence['sentence'] = df_sentence['sentence'].astype(str)  # Convert 'sentence' column to string\n",
        "df_sentence['tokenized_sentences'] = df_sentence['sentence'].apply(lambda x: word_tokenize(x))  # New column 'tokenized_sentences' containing tokenized sentences\n",
        "subdf_sentence = df_sentence[[\"tokenized_sentences\"]]  # extract the labels and tokenized sentences into a new dataframe, subdf\n",
        "subdf_sentence  # visualize first three lines of subdf dataframe"
      ]
    },
    {
      "cell_type": "code",
      "execution_count": null,
      "metadata": {
        "colab": {
          "base_uri": "https://localhost:8080/",
          "height": 81
        },
        "id": "JSs4PubERxHJ",
        "outputId": "8195950f-63be-484f-ec7e-6a04332e90b1"
      },
      "outputs": [
        {
          "data": {
            "text/html": [
              "\n",
              "\n",
              "  <div id=\"df-37473b4a-6699-4f30-91f6-4bedebdb19f6\">\n",
              "    <div class=\"colab-df-container\">\n",
              "      <div>\n",
              "<style scoped>\n",
              "    .dataframe tbody tr th:only-of-type {\n",
              "        vertical-align: middle;\n",
              "    }\n",
              "\n",
              "    .dataframe tbody tr th {\n",
              "        vertical-align: top;\n",
              "    }\n",
              "\n",
              "    .dataframe thead th {\n",
              "        text-align: right;\n",
              "    }\n",
              "</style>\n",
              "<table border=\"1\" class=\"dataframe\">\n",
              "  <thead>\n",
              "    <tr style=\"text-align: right;\">\n",
              "      <th></th>\n",
              "      <th>tokenized_sentences</th>\n",
              "      <th>perfect_tokens</th>\n",
              "    </tr>\n",
              "  </thead>\n",
              "  <tbody>\n",
              "    <tr>\n",
              "      <th>0</th>\n",
              "      <td>[Machine, Learning, is, Cool, !]</td>\n",
              "      <td>[Machine, Learning, is, Cool, ]</td>\n",
              "    </tr>\n",
              "  </tbody>\n",
              "</table>\n",
              "</div>\n",
              "      <button class=\"colab-df-convert\" onclick=\"convertToInteractive('df-37473b4a-6699-4f30-91f6-4bedebdb19f6')\"\n",
              "              title=\"Convert this dataframe to an interactive table.\"\n",
              "              style=\"display:none;\">\n",
              "\n",
              "  <svg xmlns=\"http://www.w3.org/2000/svg\" height=\"24px\"viewBox=\"0 0 24 24\"\n",
              "       width=\"24px\">\n",
              "    <path d=\"M0 0h24v24H0V0z\" fill=\"none\"/>\n",
              "    <path d=\"M18.56 5.44l.94 2.06.94-2.06 2.06-.94-2.06-.94-.94-2.06-.94 2.06-2.06.94zm-11 1L8.5 8.5l.94-2.06 2.06-.94-2.06-.94L8.5 2.5l-.94 2.06-2.06.94zm10 10l.94 2.06.94-2.06 2.06-.94-2.06-.94-.94-2.06-.94 2.06-2.06.94z\"/><path d=\"M17.41 7.96l-1.37-1.37c-.4-.4-.92-.59-1.43-.59-.52 0-1.04.2-1.43.59L10.3 9.45l-7.72 7.72c-.78.78-.78 2.05 0 2.83L4 21.41c.39.39.9.59 1.41.59.51 0 1.02-.2 1.41-.59l7.78-7.78 2.81-2.81c.8-.78.8-2.07 0-2.86zM5.41 20L4 18.59l7.72-7.72 1.47 1.35L5.41 20z\"/>\n",
              "  </svg>\n",
              "      </button>\n",
              "\n",
              "\n",
              "\n",
              "    <div id=\"df-5d93a359-bccb-4d25-9d25-b844fa6aa172\">\n",
              "      <button class=\"colab-df-quickchart\" onclick=\"quickchart('df-5d93a359-bccb-4d25-9d25-b844fa6aa172')\"\n",
              "              title=\"Suggest charts.\"\n",
              "              style=\"display:none;\">\n",
              "\n",
              "<svg xmlns=\"http://www.w3.org/2000/svg\" height=\"24px\"viewBox=\"0 0 24 24\"\n",
              "     width=\"24px\">\n",
              "    <g>\n",
              "        <path d=\"M19 3H5c-1.1 0-2 .9-2 2v14c0 1.1.9 2 2 2h14c1.1 0 2-.9 2-2V5c0-1.1-.9-2-2-2zM9 17H7v-7h2v7zm4 0h-2V7h2v10zm4 0h-2v-4h2v4z\"/>\n",
              "    </g>\n",
              "</svg>\n",
              "      </button>\n",
              "    </div>\n",
              "\n",
              "<style>\n",
              "  .colab-df-quickchart {\n",
              "    background-color: #E8F0FE;\n",
              "    border: none;\n",
              "    border-radius: 50%;\n",
              "    cursor: pointer;\n",
              "    display: none;\n",
              "    fill: #1967D2;\n",
              "    height: 32px;\n",
              "    padding: 0 0 0 0;\n",
              "    width: 32px;\n",
              "  }\n",
              "\n",
              "  .colab-df-quickchart:hover {\n",
              "    background-color: #E2EBFA;\n",
              "    box-shadow: 0px 1px 2px rgba(60, 64, 67, 0.3), 0px 1px 3px 1px rgba(60, 64, 67, 0.15);\n",
              "    fill: #174EA6;\n",
              "  }\n",
              "\n",
              "  [theme=dark] .colab-df-quickchart {\n",
              "    background-color: #3B4455;\n",
              "    fill: #D2E3FC;\n",
              "  }\n",
              "\n",
              "  [theme=dark] .colab-df-quickchart:hover {\n",
              "    background-color: #434B5C;\n",
              "    box-shadow: 0px 1px 3px 1px rgba(0, 0, 0, 0.15);\n",
              "    filter: drop-shadow(0px 1px 2px rgba(0, 0, 0, 0.3));\n",
              "    fill: #FFFFFF;\n",
              "  }\n",
              "</style>\n",
              "\n",
              "    <script>\n",
              "      async function quickchart(key) {\n",
              "        const containerElement = document.querySelector('#' + key);\n",
              "        const charts = await google.colab.kernel.invokeFunction(\n",
              "            'suggestCharts', [key], {});\n",
              "      }\n",
              "    </script>\n",
              "\n",
              "      <script>\n",
              "\n",
              "function displayQuickchartButton(domScope) {\n",
              "  let quickchartButtonEl =\n",
              "    domScope.querySelector('#df-5d93a359-bccb-4d25-9d25-b844fa6aa172 button.colab-df-quickchart');\n",
              "  quickchartButtonEl.style.display =\n",
              "    google.colab.kernel.accessAllowed ? 'block' : 'none';\n",
              "}\n",
              "\n",
              "        displayQuickchartButton(document);\n",
              "      </script>\n",
              "      <style>\n",
              "    .colab-df-container {\n",
              "      display:flex;\n",
              "      flex-wrap:wrap;\n",
              "      gap: 12px;\n",
              "    }\n",
              "\n",
              "    .colab-df-convert {\n",
              "      background-color: #E8F0FE;\n",
              "      border: none;\n",
              "      border-radius: 50%;\n",
              "      cursor: pointer;\n",
              "      display: none;\n",
              "      fill: #1967D2;\n",
              "      height: 32px;\n",
              "      padding: 0 0 0 0;\n",
              "      width: 32px;\n",
              "    }\n",
              "\n",
              "    .colab-df-convert:hover {\n",
              "      background-color: #E2EBFA;\n",
              "      box-shadow: 0px 1px 2px rgba(60, 64, 67, 0.3), 0px 1px 3px 1px rgba(60, 64, 67, 0.15);\n",
              "      fill: #174EA6;\n",
              "    }\n",
              "\n",
              "    [theme=dark] .colab-df-convert {\n",
              "      background-color: #3B4455;\n",
              "      fill: #D2E3FC;\n",
              "    }\n",
              "\n",
              "    [theme=dark] .colab-df-convert:hover {\n",
              "      background-color: #434B5C;\n",
              "      box-shadow: 0px 1px 3px 1px rgba(0, 0, 0, 0.15);\n",
              "      filter: drop-shadow(0px 1px 2px rgba(0, 0, 0, 0.3));\n",
              "      fill: #FFFFFF;\n",
              "    }\n",
              "  </style>\n",
              "\n",
              "      <script>\n",
              "        const buttonEl =\n",
              "          document.querySelector('#df-37473b4a-6699-4f30-91f6-4bedebdb19f6 button.colab-df-convert');\n",
              "        buttonEl.style.display =\n",
              "          google.colab.kernel.accessAllowed ? 'block' : 'none';\n",
              "\n",
              "        async function convertToInteractive(key) {\n",
              "          const element = document.querySelector('#df-37473b4a-6699-4f30-91f6-4bedebdb19f6');\n",
              "          const dataTable =\n",
              "            await google.colab.kernel.invokeFunction('convertToInteractive',\n",
              "                                                     [key], {});\n",
              "          if (!dataTable) return;\n",
              "\n",
              "          const docLinkHtml = 'Like what you see? Visit the ' +\n",
              "            '<a target=\"_blank\" href=https://colab.research.google.com/notebooks/data_table.ipynb>data table notebook</a>'\n",
              "            + ' to learn more about interactive tables.';\n",
              "          element.innerHTML = '';\n",
              "          dataTable['output_type'] = 'display_data';\n",
              "          await google.colab.output.renderOutput(dataTable, element);\n",
              "          const docLink = document.createElement('div');\n",
              "          docLink.innerHTML = docLinkHtml;\n",
              "          element.appendChild(docLink);\n",
              "        }\n",
              "      </script>\n",
              "    </div>\n",
              "  </div>\n"
            ],
            "text/plain": [
              "                tokenized_sentences                   perfect_tokens\n",
              "0  [Machine, Learning, is, Cool, !]  [Machine, Learning, is, Cool, ]"
            ]
          },
          "execution_count": 30,
          "metadata": {},
          "output_type": "execute_result"
        }
      ],
      "source": [
        "# Remove punctuations\n",
        "subdf_sentence['perfect_tokens'] = subdf_sentence['tokenized_sentences'].apply(lambda tokens: [remove_punctuation(token) for token in tokens])\n",
        "subdf_sentence"
      ]
    },
    {
      "cell_type": "code",
      "execution_count": null,
      "metadata": {
        "colab": {
          "base_uri": "https://localhost:8080/",
          "height": 81
        },
        "id": "GoxGkxDeSJ1P",
        "outputId": "cc12e7eb-b0f6-486f-d3d9-6d6a64d41636"
      },
      "outputs": [
        {
          "data": {
            "text/html": [
              "\n",
              "\n",
              "  <div id=\"df-ba3ba967-9155-4537-8061-ed251dc5e6eb\">\n",
              "    <div class=\"colab-df-container\">\n",
              "      <div>\n",
              "<style scoped>\n",
              "    .dataframe tbody tr th:only-of-type {\n",
              "        vertical-align: middle;\n",
              "    }\n",
              "\n",
              "    .dataframe tbody tr th {\n",
              "        vertical-align: top;\n",
              "    }\n",
              "\n",
              "    .dataframe thead th {\n",
              "        text-align: right;\n",
              "    }\n",
              "</style>\n",
              "<table border=\"1\" class=\"dataframe\">\n",
              "  <thead>\n",
              "    <tr style=\"text-align: right;\">\n",
              "      <th></th>\n",
              "      <th>tokenized_sentences</th>\n",
              "      <th>perfect_tokens</th>\n",
              "    </tr>\n",
              "  </thead>\n",
              "  <tbody>\n",
              "    <tr>\n",
              "      <th>0</th>\n",
              "      <td>[Machine, Learning, is, Cool, !]</td>\n",
              "      <td>[Machine, Learning, is, Cool]</td>\n",
              "    </tr>\n",
              "  </tbody>\n",
              "</table>\n",
              "</div>\n",
              "      <button class=\"colab-df-convert\" onclick=\"convertToInteractive('df-ba3ba967-9155-4537-8061-ed251dc5e6eb')\"\n",
              "              title=\"Convert this dataframe to an interactive table.\"\n",
              "              style=\"display:none;\">\n",
              "\n",
              "  <svg xmlns=\"http://www.w3.org/2000/svg\" height=\"24px\"viewBox=\"0 0 24 24\"\n",
              "       width=\"24px\">\n",
              "    <path d=\"M0 0h24v24H0V0z\" fill=\"none\"/>\n",
              "    <path d=\"M18.56 5.44l.94 2.06.94-2.06 2.06-.94-2.06-.94-.94-2.06-.94 2.06-2.06.94zm-11 1L8.5 8.5l.94-2.06 2.06-.94-2.06-.94L8.5 2.5l-.94 2.06-2.06.94zm10 10l.94 2.06.94-2.06 2.06-.94-2.06-.94-.94-2.06-.94 2.06-2.06.94z\"/><path d=\"M17.41 7.96l-1.37-1.37c-.4-.4-.92-.59-1.43-.59-.52 0-1.04.2-1.43.59L10.3 9.45l-7.72 7.72c-.78.78-.78 2.05 0 2.83L4 21.41c.39.39.9.59 1.41.59.51 0 1.02-.2 1.41-.59l7.78-7.78 2.81-2.81c.8-.78.8-2.07 0-2.86zM5.41 20L4 18.59l7.72-7.72 1.47 1.35L5.41 20z\"/>\n",
              "  </svg>\n",
              "      </button>\n",
              "\n",
              "\n",
              "\n",
              "    <div id=\"df-dc93e1fc-ec9b-40ce-a543-f25dccd00063\">\n",
              "      <button class=\"colab-df-quickchart\" onclick=\"quickchart('df-dc93e1fc-ec9b-40ce-a543-f25dccd00063')\"\n",
              "              title=\"Suggest charts.\"\n",
              "              style=\"display:none;\">\n",
              "\n",
              "<svg xmlns=\"http://www.w3.org/2000/svg\" height=\"24px\"viewBox=\"0 0 24 24\"\n",
              "     width=\"24px\">\n",
              "    <g>\n",
              "        <path d=\"M19 3H5c-1.1 0-2 .9-2 2v14c0 1.1.9 2 2 2h14c1.1 0 2-.9 2-2V5c0-1.1-.9-2-2-2zM9 17H7v-7h2v7zm4 0h-2V7h2v10zm4 0h-2v-4h2v4z\"/>\n",
              "    </g>\n",
              "</svg>\n",
              "      </button>\n",
              "    </div>\n",
              "\n",
              "<style>\n",
              "  .colab-df-quickchart {\n",
              "    background-color: #E8F0FE;\n",
              "    border: none;\n",
              "    border-radius: 50%;\n",
              "    cursor: pointer;\n",
              "    display: none;\n",
              "    fill: #1967D2;\n",
              "    height: 32px;\n",
              "    padding: 0 0 0 0;\n",
              "    width: 32px;\n",
              "  }\n",
              "\n",
              "  .colab-df-quickchart:hover {\n",
              "    background-color: #E2EBFA;\n",
              "    box-shadow: 0px 1px 2px rgba(60, 64, 67, 0.3), 0px 1px 3px 1px rgba(60, 64, 67, 0.15);\n",
              "    fill: #174EA6;\n",
              "  }\n",
              "\n",
              "  [theme=dark] .colab-df-quickchart {\n",
              "    background-color: #3B4455;\n",
              "    fill: #D2E3FC;\n",
              "  }\n",
              "\n",
              "  [theme=dark] .colab-df-quickchart:hover {\n",
              "    background-color: #434B5C;\n",
              "    box-shadow: 0px 1px 3px 1px rgba(0, 0, 0, 0.15);\n",
              "    filter: drop-shadow(0px 1px 2px rgba(0, 0, 0, 0.3));\n",
              "    fill: #FFFFFF;\n",
              "  }\n",
              "</style>\n",
              "\n",
              "    <script>\n",
              "      async function quickchart(key) {\n",
              "        const containerElement = document.querySelector('#' + key);\n",
              "        const charts = await google.colab.kernel.invokeFunction(\n",
              "            'suggestCharts', [key], {});\n",
              "      }\n",
              "    </script>\n",
              "\n",
              "      <script>\n",
              "\n",
              "function displayQuickchartButton(domScope) {\n",
              "  let quickchartButtonEl =\n",
              "    domScope.querySelector('#df-dc93e1fc-ec9b-40ce-a543-f25dccd00063 button.colab-df-quickchart');\n",
              "  quickchartButtonEl.style.display =\n",
              "    google.colab.kernel.accessAllowed ? 'block' : 'none';\n",
              "}\n",
              "\n",
              "        displayQuickchartButton(document);\n",
              "      </script>\n",
              "      <style>\n",
              "    .colab-df-container {\n",
              "      display:flex;\n",
              "      flex-wrap:wrap;\n",
              "      gap: 12px;\n",
              "    }\n",
              "\n",
              "    .colab-df-convert {\n",
              "      background-color: #E8F0FE;\n",
              "      border: none;\n",
              "      border-radius: 50%;\n",
              "      cursor: pointer;\n",
              "      display: none;\n",
              "      fill: #1967D2;\n",
              "      height: 32px;\n",
              "      padding: 0 0 0 0;\n",
              "      width: 32px;\n",
              "    }\n",
              "\n",
              "    .colab-df-convert:hover {\n",
              "      background-color: #E2EBFA;\n",
              "      box-shadow: 0px 1px 2px rgba(60, 64, 67, 0.3), 0px 1px 3px 1px rgba(60, 64, 67, 0.15);\n",
              "      fill: #174EA6;\n",
              "    }\n",
              "\n",
              "    [theme=dark] .colab-df-convert {\n",
              "      background-color: #3B4455;\n",
              "      fill: #D2E3FC;\n",
              "    }\n",
              "\n",
              "    [theme=dark] .colab-df-convert:hover {\n",
              "      background-color: #434B5C;\n",
              "      box-shadow: 0px 1px 3px 1px rgba(0, 0, 0, 0.15);\n",
              "      filter: drop-shadow(0px 1px 2px rgba(0, 0, 0, 0.3));\n",
              "      fill: #FFFFFF;\n",
              "    }\n",
              "  </style>\n",
              "\n",
              "      <script>\n",
              "        const buttonEl =\n",
              "          document.querySelector('#df-ba3ba967-9155-4537-8061-ed251dc5e6eb button.colab-df-convert');\n",
              "        buttonEl.style.display =\n",
              "          google.colab.kernel.accessAllowed ? 'block' : 'none';\n",
              "\n",
              "        async function convertToInteractive(key) {\n",
              "          const element = document.querySelector('#df-ba3ba967-9155-4537-8061-ed251dc5e6eb');\n",
              "          const dataTable =\n",
              "            await google.colab.kernel.invokeFunction('convertToInteractive',\n",
              "                                                     [key], {});\n",
              "          if (!dataTable) return;\n",
              "\n",
              "          const docLinkHtml = 'Like what you see? Visit the ' +\n",
              "            '<a target=\"_blank\" href=https://colab.research.google.com/notebooks/data_table.ipynb>data table notebook</a>'\n",
              "            + ' to learn more about interactive tables.';\n",
              "          element.innerHTML = '';\n",
              "          dataTable['output_type'] = 'display_data';\n",
              "          await google.colab.output.renderOutput(dataTable, element);\n",
              "          const docLink = document.createElement('div');\n",
              "          docLink.innerHTML = docLinkHtml;\n",
              "          element.appendChild(docLink);\n",
              "        }\n",
              "      </script>\n",
              "    </div>\n",
              "  </div>\n"
            ],
            "text/plain": [
              "                tokenized_sentences                 perfect_tokens\n",
              "0  [Machine, Learning, is, Cool, !]  [Machine, Learning, is, Cool]"
            ]
          },
          "execution_count": 32,
          "metadata": {},
          "output_type": "execute_result"
        }
      ],
      "source": [
        "# Remove empty strings from the tokenized sentences\n",
        "subdf_sentence['perfect_tokens'] = subdf_sentence['perfect_tokens'].apply(lambda tokens: [token for token in tokens if token])\n",
        "subdf_sentence"
      ]
    },
    {
      "cell_type": "code",
      "execution_count": null,
      "metadata": {
        "colab": {
          "base_uri": "https://localhost:8080/"
        },
        "id": "nG9FD9c7Qkdf",
        "outputId": "701f2c6e-92c4-4e48-9766-ae7e026b193f"
      },
      "outputs": [
        {
          "data": {
            "text/plain": [
              "0    [machine, learning, is, cool]\n",
              "Name: perfect_tokens, dtype: object"
            ]
          },
          "execution_count": 33,
          "metadata": {},
          "output_type": "execute_result"
        }
      ],
      "source": [
        "# convert to lowercase\n",
        "subdf_sentence['perfect_tokens'] = subdf_sentence['perfect_tokens'].apply(lambda tokens: [token.lower() for token in tokens])\n",
        "subdf_sentence = subdf_sentence['perfect_tokens']\n",
        "subdf_sentence"
      ]
    },
    {
      "cell_type": "code",
      "execution_count": null,
      "metadata": {
        "id": "A4B3OguKScNf"
      },
      "outputs": [],
      "source": []
    }
  ],
  "metadata": {
    "colab": {
      "provenance": []
    },
    "kernelspec": {
      "display_name": "Python 3",
      "name": "python3"
    },
    "language_info": {
      "name": "python"
    }
  },
  "nbformat": 4,
  "nbformat_minor": 0
}